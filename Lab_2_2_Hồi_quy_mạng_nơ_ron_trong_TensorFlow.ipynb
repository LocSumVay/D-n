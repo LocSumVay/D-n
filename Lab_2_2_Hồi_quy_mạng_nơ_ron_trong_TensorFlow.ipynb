{
  "nbformat": 4,
  "nbformat_minor": 0,
  "metadata": {
    "colab": {
      "provenance": []
    },
    "kernelspec": {
      "display_name": "Python 3",
      "language": "python",
      "name": "python3"
    },
    "language_info": {
      "codemirror_mode": {
        "name": "ipython",
        "version": 3
      },
      "file_extension": ".py",
      "mimetype": "text/x-python",
      "name": "python",
      "nbconvert_exporter": "python",
      "pygments_lexer": "ipython3",
      "version": "3.7.6"
    }
  },
  "cells": [
    {
      "cell_type": "markdown",
      "metadata": {
        "id": "view-in-github"
      },
      "source": [
        "<a href=\"https://colab.research.google.com/github/mrdbourke/tensorflow-deep-learning/blob/main/01_neural_network_regression_in_tensorflow.ipynb\" target=\"_parent\"><img src=\"https://colab.research.google.com/assets/colab-badge.svg\" alt=\"Open In Colab\"/></a>"
      ]
    },
    {
      "cell_type": "markdown",
      "metadata": {
        "id": "UPgo18-N1gSi"
      },
      "source": [
        "# 01. Hồi quy mạng nơ-ron với TensorFlow\n",
        "\n",
        "Có nhiều định nghĩa cho [bài toán hồi quy](https://en.wikipedia.org/wiki/Regression_analysis), nhưng trong trường hợp này, chúng ta sẽ đơn giản hóa nó: dự đoán một số.\n",
        "\n",
        "Ví dụ, chúng ta có thể:\n",
        "- Dự đoán giá bán nhà khi biết các thông tin nhất định (số lượng phòng, kích thước, số phòng tắm).\n",
        "- Dự đoán tọa độ của bounding box (hình chữ nhật bao quanh đối tượng) của một phần tử trong hình.\n",
        "- Dự đoán giá bảo hiểm cho cá nhân dựa trên nhân khẩu học (tuổi, giới tính, chủng tộc).\n",
        "\n",
        "Trong notebook này, chúng ta sẽ đặt nền tảng cho cách lấy mẫu đầu vào (dữ liệu của bạn), xây dựng mạng nơ-ron để khám phá các mẫu (pattern) trong các đầu vào đó rồi đưa ra dự đoán (ở dạng số) dựa trên các đầu vào đó.\n",
        "\n",
        "## Những điều chúng ta sẽ tìm hiểu\n",
        "\n",
        "Chúng ta sẽ xem xét thực hiện những điều sau với TensorFlow:\n",
        "- Kiến trúc của mô hình hồi quy\n",
        "- Shape của đầu vào và đầu ra\n",
        "  - `X`: đặc trưng/dữ liệu (đầu vào)\n",
        "  - `y`: nhãn (đầu ra)\n",
        "- Tạo dữ liệu tùy chỉnh để xem và điều chỉnh\n",
        "- Các bước mô hình hóa\n",
        "  - Tạo mô hình\n",
        "  - Biên dịch mô hình\n",
        "    - Định nghĩa hàm mất mát\n",
        "    - Thiết lập optimizer\n",
        "    - Tạo các phép đo đánh giá\n",
        "  - Khớp mô hình (để tìm pattern trong dữ liệu)\n",
        "- Đánh giá mô hình\n",
        "  - Hiển thị mô hình (\"visualize, visualize, visualize\")\n",
        "  - Xem xét đồ thị huấn luyện\n",
        "  - So sánh các dự đoán với nhãn gốc (sử dụng các phép đo đánh giá)\n",
        "- Save mô hình (để dùng sau)\n",
        "- Load mô hình\n",
        "\n",
        "Đừng lo lắng nếu chưa hiểu những điều này, chúng ta sẽ lần lượt đi qua từng thứ.\n",
        "\n",
        "## Cách sử dụng notebook này\n",
        "\n",
        "Các bạn có thể đọc qua các mô tả và code (tất cả sẽ chạy), nhưng có một lựa chọn tốt hơn.\n",
        "\n",
        "Tự viết toàn bộ code.\n",
        "\n",
        "Nghiêm túc đấy. Hãy tạo notebook mới và tự viết lại từng dòng. Kiểm tra xem bạn có thể thay đổi nó không và lý do cho điều đó.\n",
        "\n",
        "Bạn không cần viết mô tả văn bản nhưng tự viết lại code là một cách tuyệt vời để có trải nghiệm thực tiễn.\n",
        "\n",
        "Đừng lo lắng nếu mắc sai sót, ai cũng đều mắc lỗi cả. Cách thực hiện tốt hơn và mắc ít lỗi hơn là **viết nhiều code hơn**."
      ]
    },
    {
      "cell_type": "markdown",
      "metadata": {
        "id": "etAu7oCZ8r_G"
      },
      "source": [
        "## Kiến trúc điển hình của mạng nơ-ron hồi quy\n",
        "\n",
        "Từ *điển hình* ở đây được sử dụng có chủ đích.\n",
        "\n",
        "Tại sao?\n",
        "\n",
        "Vì có nhiều cách khác nhau (thực ra có vô số cách) để viết mạng nơ-ron.\n",
        "\n",
        "Nhưng dưới đây là một thiết lập chung để nhập tập hợp các số, tìm các mẫu trong đó rồi xuất một vài loại số mục tiêu.\n",
        "\n",
        "Câu trước còn mơ hồ nhưng chúng ta sẽ hiểu rõ hơn ngay sau đây.\n",
        "\n",
        "| **Siêu tham số** | **Giá trị điển hình** |\n",
        "| --- | --- |\n",
        "| Shape của layer đầu vào | Có shape tương đương với số đặc trưng (ví dụ: 3 cho # bedrooms, # bathrooms, # car spaces trong dự đoán giá nhà) |\n",
        "| (Các) layer ẩn | Bài toán cụ thể, min = 1, max = unlimited (không giới hạn) |\n",
        "| Nơ-ron mỗi layer ẩn | Bài toán cụ thể,, thường từ 10 tới 100 |\n",
        "| Shape của layer đầu ra | Có shape tương tự với shape của dự đoán mong muốn (ví dụ: 1 cho giá nhà) |\n",
        "| Kích hoạt ẩn | Thường là [ReLU](https://www.kaggle.com/dansbecker/rectified-linear-units-relu-in-deep-learning) (rectified linear unit) |\n",
        "| Kích hoạt đầu ra | None, ReLU, logistic/tanh |\n",
        "| Hàm mất mát | [MSE](https://en.wikipedia.org/wiki/Mean_squared_error) (mean square error) or [MAE](https://en.wikipedia.org/wiki/Mean_absolute_error) (mean absolute error)/Huber (combination of MAE/MSE) nếu có outlier |\n",
        "| Optimizer | [SGD](https://www.tensorflow.org/api_docs/python/tf/keras/optimizers/SGD) (stochastic gradient descent), [Adam](https://www.tensorflow.org/api_docs/python/tf/keras/optimizers/Adam) |\n",
        "\n",
        "***Bảng 1:*** *Kiến trúc đặc trưng của mạng nơ-ron hồi quy.*  ***Nguồn:*** *trích từ [Aurélien Géron. \"Hands-On Machine Learning with Scikit-Learn\", Keras & TensorFlow, trang 293](https://www.oreilly.com/library/view/hands-on-machine-learning/9781492032632/).*\n",
        "\n",
        "Nếu chưa quen với mạng nơ-ron và học sâu nói chung thì bạn sẽ không hiểu phần lớn bảng trên. Nhưng đừng lo, chúng ta sẽ sớm nắm rõ.\n",
        "\n",
        "> 🔑 **Lưu ý:** **Hyperparameter (Siêu tham số)** trong ML là thứ mà nhà phân tích dữ liệu hay nhà phát triển có thể tự thiết lập, trong khi **parameter (tham số)** thường mô tả thứ mà mô hình tự tìm hiểu được (giá trị không được nhà phân tích thiết lập rõ ràng)\n",
        "\n",
        "Hãy bắt đầu viết code thôi.\n",
        "\n",
        "Chúng ta sẽ import alias thường gặp là `tf` (viết tắt của TensorFlow) để sử dụng TensorFlow."
      ]
    },
    {
      "cell_type": "code",
      "metadata": {
        "colab": {
          "base_uri": "https://localhost:8080/"
        },
        "id": "FMqsqKpk7TrH",
        "outputId": "6da43491-def7-454c-895a-19564368972b"
      },
      "source": [
        "import tensorflow as tf\n",
        "print(tf.__version__) # kiểm tra phiên bản (nên là 2.x+)"
      ],
      "execution_count": null,
      "outputs": [
        {
          "name": "stdout",
          "output_type": "stream",
          "text": [
            "2.3.0\n"
          ]
        }
      ]
    },
    {
      "cell_type": "markdown",
      "metadata": {
        "id": "8clMYxrF6Mzv"
      },
      "source": [
        "## Tạo dữ liệu để xem và điều chỉnh\n",
        "\n",
        "Chúng ta đang làm việc với **bài toán hồi quy** (dự đoán một số) nên hãy tạo một vài dữ liệu tuyến tính (đường thẳng) cho mô hình."
      ]
    },
    {
      "cell_type": "code",
      "metadata": {
        "colab": {
          "base_uri": "https://localhost:8080/",
          "height": 269
        },
        "id": "G43tWFof6i7T",
        "outputId": "b9a41b5e-1007-406d-801a-eeb9902e2526"
      },
      "source": [
        "import numpy as np\n",
        "import matplotlib.pyplot as plt\n",
        "\n",
        "# Tạo đặc trưng\n",
        "X = np.array([-7.0, -4.0, -1.0, 2.0, 5.0, 8.0, 11.0, 14.0])\n",
        "\n",
        "# Tạo nhãn\n",
        "y = np.array([3.0, 6.0, 9.0, 12.0, 15.0, 18.0, 21.0, 24.0])\n",
        "\n",
        "# Hiển thị\n",
        "plt.scatter(X, y);"
      ],
      "execution_count": null,
      "outputs": [
        {
          "data": {
            "image/png": "[encoded data removed]",
            "text/plain": [
              "<Figure size 432x288 with 1 Axes>"
            ]
          },
          "metadata": {
            "needs_background": "light",
            "tags": []
          },
          "output_type": "display_data"
        }
      ]
    },
    {
      "cell_type": "markdown",
      "metadata": {
        "id": "9ONZF8un7_xy"
      },
      "source": [
        "Trước khi thực hiện mô hình hóa, chúng ta cần tính toán pattern giữa `X` và `y`.\n",
        "\n",
        "Chẳng hạn: giả sử dựa trên dữ liệu này, giá trị `y` sẽ là bao nhiêu nếu `X` là 17.0?\n",
        "\n",
        "Hoặc nếu `X` là -10.0?\n",
        "\n",
        "Kiểu pattern này về bản chất là những gì chúng ta xây dựng mạng nơ-ron để thực hiện mọi việc."
      ]
    },
    {
      "cell_type": "markdown",
      "metadata": {
        "id": "zNCXxHnF6jjZ"
      },
      "source": [
        "## Shape của đầu vào và đầu ra trong hồi quy\n",
        "\n",
        "\n",
        "Một trong những khái niệm quan trọng nhất khi làm việc với mạng nơ-ron là input / output shape.\n",
        "\n",
        "**Input shape** là kích thước của dữ liệu đi vào mô hình.\n",
        "\n",
        "**Output shape** là kích thước của dữ liệu xuất ra khỏi mô hình.\n",
        "\n",
        "Chúng khác nhau tùy thuộc vào bài toán mà chúng ta đang xem xét.\n",
        "\n",
        "Mạng nơ-ron chấp nhận các số và số đầu ra. Chúng thường được biểu diễn là tensor (hoặc mảng).\n",
        "\n",
        "Trước đây chúng ta đã tạo dữ liệu với mảng Numpy, tuy nhiên chúng ta cũng có thể thực hiện tương tự với tensor."
      ]
    },
    {
      "cell_type": "code",
      "metadata": {
        "colab": {
          "base_uri": "https://localhost:8080/"
        },
        "id": "XrXQ3m0prWXa",
        "outputId": "ca414725-d901-4bce-9444-933ec127092a"
      },
      "source": [
        "# Ví dụ về input / output shape của mô hình hồi quy\n",
        "house_info = tf.constant([\"bedroom\", \"bathroom\", \"garage\"])\n",
        "house_price = tf.constant([939700])\n",
        "house_info, house_price"
      ],
      "execution_count": null,
      "outputs": [
        {
          "data": {
            "text/plain": [
              "(<tf.Tensor: shape=(3,), dtype=string, numpy=array([b'bedroom', b'bathroom', b'garage'], dtype=object)>,\n",
              " <tf.Tensor: shape=(1,), dtype=int32, numpy=array([939700], dtype=int32)>)"
            ]
          },
          "execution_count": 3,
          "metadata": {
            "tags": []
          },
          "output_type": "execute_result"
        }
      ]
    },
    {
      "cell_type": "code",
      "metadata": {
        "colab": {
          "base_uri": "https://localhost:8080/"
        },
        "id": "Yi3VWKH6sRrZ",
        "outputId": "59dd3d1f-e6df-43e7-b692-b3ec69d634e1"
      },
      "source": [
        "house_info.shape"
      ],
      "execution_count": null,
      "outputs": [
        {
          "data": {
            "text/plain": [
              "TensorShape([3])"
            ]
          },
          "execution_count": 4,
          "metadata": {
            "tags": []
          },
          "output_type": "execute_result"
        }
      ]
    },
    {
      "cell_type": "code",
      "metadata": {
        "colab": {
          "base_uri": "https://localhost:8080/",
          "height": 269
        },
        "id": "kOxyr9sR6m9X",
        "outputId": "51c54bda-4e0f-41db-c9e9-d03d32cd89b4"
      },
      "source": [
        "import numpy as np\n",
        "import matplotlib.pyplot as plt\n",
        "\n",
        "# Tạo đặc trưng (sử dụng tensor)\n",
        "X = tf.constant([-7.0, -4.0, -1.0, 2.0, 5.0, 8.0, 11.0, 14.0])\n",
        "\n",
        "# Tạo nhãn (sử dụng tensor)\n",
        "y = tf.constant([3.0, 6.0, 9.0, 12.0, 15.0, 18.0, 21.0, 24.0])\n",
        "\n",
        "# Hiển thị\n",
        "plt.scatter(X, y);"
      ],
      "execution_count": null,
      "outputs": [
        {
          "data": {
            "image/png": "[encoded data removed]",
            "text/plain": [
              "<Figure size 432x288 with 1 Axes>"
            ]
          },
          "metadata": {
            "needs_background": "light",
            "tags": []
          },
          "output_type": "display_data"
        }
      ]
    },
    {
      "cell_type": "markdown",
      "metadata": {
        "id": "zaPxco6E9i1_"
      },
      "source": [
        "Mục tiêu của chúng ta là dùng `X` để đoán `y`.\n",
        "\n",
        "Như vậy **đầu vào** sẽ là `X` còn **đầu ra** sẽ là `y`.\n",
        "\n",
        "Biết được điều này, bạn nghĩ shape của đầu vào/đầu ra sẽ là gì?\n",
        "\n",
        "Hãy xem."
      ]
    },
    {
      "cell_type": "code",
      "metadata": {
        "colab": {
          "base_uri": "https://localhost:8080/"
        },
        "id": "j1oT1gmB9iX-",
        "outputId": "1760be72-f1d4-43b1-c7a2-7eeac1009b93"
      },
      "source": [
        "# Lấy một ví dụ đơn lẻ của X\n",
        "input_shape = X[0].shape\n",
        "\n",
        "# Lấy một ví dụ đơn lẻ của y\n",
        "output_shape = y[0].shape\n",
        "\n",
        "input_shape, output_shape # chúng đều là số vô hướng (không có shape)"
      ],
      "execution_count": null,
      "outputs": [
        {
          "data": {
            "text/plain": [
              "(TensorShape([]), TensorShape([]))"
            ]
          },
          "execution_count": 6,
          "metadata": {
            "tags": []
          },
          "output_type": "execute_result"
        }
      ]
    },
    {
      "cell_type": "markdown",
      "metadata": {
        "id": "m4txxFTL_EEX"
      },
      "source": [
        "Có vẻ như đầu vào và đầu ra không có shape.\n",
        "\n",
        "Tại sao?\n",
        "\n",
        "Do dù chúng ta truyền bất kỳ dữ liệu nào vào mô hình thì nó cũng luôn lấy đầu vào và trả về đầu ra là một số kiểu tensor.\n",
        "\n",
        "Nhưng trong trường hợp này, do tập dữ liệu (chỉ 2 danh sách nhỏ có các số) nên chúng ta sẽ xem xét các kiểu tensor đặc biệt, cụ thể là tensor bậc 0 hoặc một số vô hướng."
      ]
    },
    {
      "cell_type": "code",
      "metadata": {
        "colab": {
          "base_uri": "https://localhost:8080/"
        },
        "id": "Dag5y4MPaTmc",
        "outputId": "e3d6e467-f045-448c-a4ef-89f8abf0f299"
      },
      "source": [
        "# Hãy xem xét riêng từng ví dụ\n",
        "X[0], y[0]"
      ],
      "execution_count": null,
      "outputs": [
        {
          "data": {
            "text/plain": [
              "(<tf.Tensor: shape=(), dtype=float32, numpy=-7.0>,\n",
              " <tf.Tensor: shape=(), dtype=float32, numpy=3.0>)"
            ]
          },
          "execution_count": 7,
          "metadata": {
            "tags": []
          },
          "output_type": "execute_result"
        }
      ]
    },
    {
      "cell_type": "markdown",
      "metadata": {
        "id": "fKtihU57_cOY"
      },
      "source": [
        "Trong trường hợp này, chúng ta sẽ xây dựng mô hình để dự đoán patterm giữa `X[0]` = `-7.0` và `y[0]` = `3.0`.\n",
        "\n",
        "Chúng ta đã có đáp án, hãy thử dùng 1 giá trị `X` để dự đoán 1 giá trị `y`.\n",
        "\n",
        "Có thể các bạn đang nghĩ \"điều này khá phức tạp khi chỉ dự đoán một đường thẳng...\"\n",
        "\n",
        "Bạn đúng đấy.\n",
        "\n",
        "Nhưng những khái niệm mà chúng ta đang tìm hiểu ở đây, khái niệm về shape của đầu vào/đầu ra là những khái niệm cơ bản của một mô hình.\n",
        "\n",
        "Thực tế, đây là hai trong số những điều mà chúng ta sẽ dành phần lớn thời gian khi làm việc với mạng nơ-ron: **đảm bảo đầu vào và đầu ra ở đúng shape**.\n",
        "\n",
        "Nếu giờ bạn vẫn chưa rõ, hãy xem thêm nhiều ví dụ khác sau này (chúng ta sẽ thấy shape của đầu vào và đầu ra có thể là bất cứ thứ gì mà chúng ta nghĩ ra).\n",
        "\n",
        "![example of input and output shapes for a housing price prediction problem](https://raw.githubusercontent.com/mrdbourke/tensorflow-deep-learning/main/images/01-input-and-output-shapes-housing-prices.png)\n",
        "*Nếu bạn đang xây dựng một thuật toán học máy để dự đoán giá nhà, đầu vào sẽ là số phòng ngủ, số phòng tắm và số ga-ra; cho đầu vào có shape là 3 (3 đặc trưng khác nhau). Và do bạn đang cố dự đoán giá nhà nên shape của đầu ra sẽ là 1.*"
      ]
    },
    {
      "cell_type": "markdown",
      "metadata": {
        "id": "PhAIqjrn6olF"
      },
      "source": [
        "## Các bước mô hình hóa với TensorFlow\n",
        "\n",
        "Bây giờ chúng ta biết chúng ta có dữ liệu gì cũng như các input/output shape, hãy xem cách xây dựng một mạng nơ-ron để mô hình hóa nó.\n",
        "\n",
        "Trong TensorFlow, có 3 bước chính để tạo và huấn luyện một mô hình:\n",
        "\n",
        "1. **Tạo mô hình** - tự ghép các layer của mô hình nơ-ron (sử dụng [Functional](https://www.tensorflow.org/guide/keras/functional) hoặc [Sequential API](https://www.tensorflow.org/api_docs/python/tf/keras/Sequential)) hoặc import mô hình đã xây trước đó (học truyền tải).\n",
        "2. **Biên dịch mô hình** - xác định cách đo chất lượng một mô hình (loss/phép đo) cũng như cách cải thiện nó (optimizer).\n",
        "3. **Khớp mô hình** - hãy để mô hình thử tìm pattern trong dữ liệu (cách để `X` thành `y`).\n",
        "\n",
        "Hãy xem cách triển khai những điều này với [Keras Sequential API](https://www.tensorflow.org/api_docs/python/tf/keras/Sequential) để xây mô hình cho dữ liệu hồi quy.\n"
      ]
    },
    {
      "cell_type": "code",
      "metadata": {
        "colab": {
          "base_uri": "https://localhost:8080/"
        },
        "id": "P9jj-OE16yCn",
        "outputId": "bc204319-5970-475c-cde0-bb589898e4d6"
      },
      "source": [
        "# Thiết lập random seed\n",
        "tf.random.set_seed(42)\n",
        "\n",
        "# Tạo mô hình sử dụng Sequential API\n",
        "model = tf.keras.Sequential([\n",
        "  tf.keras.layers.Dense(1)\n",
        "])\n",
        "\n",
        "# Biên dịch mô hình\n",
        "model.compile(loss=tf.keras.losses.mae, # mae là viết tắt của mean absolute error\n",
        "              optimizer=tf.keras.optimizers.SGD(), # SGD là viết tắt của stochastic gradient descent\n",
        "              metrics=[\"mae\"])\n",
        "\n",
        "# Khớp mô hình\n",
        "model.fit(X, y, epochs=5)"
      ],
      "execution_count": null,
      "outputs": [
        {
          "name": "stdout",
          "output_type": "stream",
          "text": [
            "Epoch 1/5\n",
            "1/1 [==============================] - 0s 1ms/step - loss: 11.5048 - mae: 11.5048\n",
            "Epoch 2/5\n",
            "1/1 [==============================] - 0s 1ms/step - loss: 11.3723 - mae: 11.3723\n",
            "Epoch 3/5\n",
            "1/1 [==============================] - 0s 887us/step - loss: 11.2398 - mae: 11.2398\n",
            "Epoch 4/5\n",
            "1/1 [==============================] - 0s 3ms/step - loss: 11.1073 - mae: 11.1073\n",
            "Epoch 5/5\n",
            "1/1 [==============================] - 0s 2ms/step - loss: 10.9748 - mae: 10.9748\n"
          ]
        },
        {
          "data": {
            "text/plain": [
              "<tensorflow.python.keras.callbacks.History at 0x7fa239e64be0>"
            ]
          },
          "execution_count": 8,
          "metadata": {
            "tags": []
          },
          "output_type": "execute_result"
        }
      ]
    },
    {
      "cell_type": "markdown",
      "metadata": {
        "id": "bbjCwkEtetB9"
      },
      "source": [
        "Chúng ta vừa huấn luyện một mô hình để tìm các pattern giữa `X` và `y`.\n",
        "\n",
        "Bạn nghĩ nó diễn ra thế nào?"
      ]
    },
    {
      "cell_type": "code",
      "metadata": {
        "colab": {
          "base_uri": "https://localhost:8080/"
        },
        "id": "VWLpG2U3erWo",
        "outputId": "2f838c3b-35b1-43d4-d9fa-d82008e4bf6d"
      },
      "source": [
        "# Kiểm tra X và y\n",
        "X, y"
      ],
      "execution_count": null,
      "outputs": [
        {
          "data": {
            "text/plain": [
              "(<tf.Tensor: shape=(8,), dtype=float32, numpy=array([-7., -4., -1.,  2.,  5.,  8., 11., 14.], dtype=float32)>,\n",
              " <tf.Tensor: shape=(8,), dtype=float32, numpy=array([ 3.,  6.,  9., 12., 15., 18., 21., 24.], dtype=float32)>)"
            ]
          },
          "execution_count": 9,
          "metadata": {
            "tags": []
          },
          "output_type": "execute_result"
        }
      ]
    },
    {
      "cell_type": "markdown",
      "metadata": {
        "id": "0ZpkaI_Oe6no"
      },
      "source": [
        "Các bạn nghĩ kết quả là gì nếu chúng ta truyền cho mô hình giá trị `X` bằng 17.0?"
      ]
    },
    {
      "cell_type": "code",
      "metadata": {
        "colab": {
          "base_uri": "https://localhost:8080/"
        },
        "id": "X86cD66Qeo-8",
        "outputId": "653a5904-2ebe-4f63-fca6-12b3a9abc0d7"
      },
      "source": [
        "# Dự đoán theo mô hình\n",
        "model.predict([17.0])"
      ],
      "execution_count": null,
      "outputs": [
        {
          "data": {
            "text/plain": [
              "array([[12.716021]], dtype=float32)"
            ]
          },
          "execution_count": 10,
          "metadata": {
            "tags": []
          },
          "output_type": "execute_result"
        }
      ]
    },
    {
      "cell_type": "markdown",
      "metadata": {
        "id": "2YoKIqhffq33"
      },
      "source": [
        "Có vẻ không ổn lắm...lẽ ra nó nên xuất ra kết quả gần 27.0.\n",
        "\n",
        "> 🤔 **Câu hỏi:** Keras là gì? Tôi nghĩ chúng ta đang làm việc với TensorFlow nhưng mỗi lần viết code TensorFlow, `keras` đều xuất hiện sau `tf` (chẳng hạn: `tf.keras.layers.Dense()`).\n",
        "\n",
        "Trước TensorFlow 2.0+, [Keras](https://keras.io/) là một API được thiết kế để dễ dàng xây dựng mô hình học sâu . Từ TensorFlow 2.0+, chức năng của nó được tích hợp trong thư viện TensorFlow."
      ]
    },
    {
      "cell_type": "markdown",
      "metadata": {
        "id": "qAPk1T3xgOm4"
      },
      "source": [
        "## Cải thiện mô hình\n",
        "\n",
        "Các bạn nghĩ sao về việc cải thiện mô hình hiện tại?\n",
        "\n",
        "Nếu bạn đoán là bằng cách điều chỉnh một số thứ mà chúng ta đã thực hiện ở trên thì bạn đoán đúng rồi.\n",
        "\n",
        "Để cải thiện mô hình, chúng ta sẽ thay đổi hầu hết mọi phần của 3 bước mà chúng ta đã xét trước đó.\n",
        "\n",
        "1. **Tạo mô hình** - ở đây có thể chúng ta muốn thêm nhiều layer, tăng số đơn vị ẩn (hay còn gọi là nơ-ron) ở từng layer, thay đổi hàm kích hoạt của từng layer.\n",
        "2. **Biên dịch mô hình** - chúng ta có thể chọn hàm tối ưu hoặc thay đổi **tốc độ học** của hàm tối ưu.\n",
        "3. **Khớp mô hình** - chúng ta có thể khớp mô hình cho nhiều **epoch** hơn (để huấn luyện lâu hơn) hoặc trên nhiều dữ liệu hơn (cho mô hình các mẫu để học).\n",
        "\n",
        "![various options you can use to improve a neural network model](https://raw.githubusercontent.com/mrdbourke/tensorflow-deep-learning/main/images/02-improving-a-model-from-model-perspective.png)\n",
        "*Có nhiều cách khác nhau để cải thiện mạng nơ-ron. Một số cách phổ biến nhất gồm: tăng số layer (làm cho mạng sâu hơn), tăng số đơn vị ẩn (làm cho mạng rộng hơn) và thay đổi tốc độ học. Do các giá trị này đều có thể thay đổi nên chúng là các [hyperparameter (siêu tham số)](https://en.wikipedia.org/wiki/Hyperparameter_(machine_learning)) và việc cố gắng tìm ra siêu tham số tốt nhất được gọi là [điều chỉnh siêu tham số](https://en.wikipedia.org/wiki/Hyperparameter_optimization).*\n",
        "\n",
        "Chúng ta đã đề xuất rất nhiều bước khả thi. Cần nhớ rằng cách mà chúng ta thay đổi từng bước sẽ phụ thuộc vào bài toán mà chúng ta đang giải.\n",
        "\n",
        "Chúng ta sẽ giải quyết chúng qua vài bài toán tiếp theo.\n",
        "\n",
        "Bây giờ để đơn giản, chúng ta sẽ chỉ huấn luyện mô hình lâu hơn (mọi thứ vẫn giữ nguyên)."
      ]
    },
    {
      "cell_type": "code",
      "metadata": {
        "colab": {
          "base_uri": "https://localhost:8080/"
        },
        "id": "MI0LammMgWcN",
        "outputId": "682b68ee-b2fb-4c02-bc72-e7ce033b8b31"
      },
      "source": [
        "# Thiết lập random seed\n",
        "tf.random.set_seed(42)\n",
        "\n",
        "# Tạo mô hình (như trên)\n",
        "model = tf.keras.Sequential([\n",
        "  tf.keras.layers.Dense(1)\n",
        "])\n",
        "\n",
        "# Biên dịch mô hình (như trên)\n",
        "model.compile(loss=tf.keras.losses.mae,\n",
        "              optimizer=tf.keras.optimizers.SGD(),\n",
        "              metrics=[\"mae\"])\n",
        "\n",
        "# Khớp mô hình (lần này chúng ta sẽ huấn luyện lâu hơn)\n",
        "model.fit(X, y, epochs=100) # huấn luyện cho 100 epoch, không phải 10"
      ],
      "execution_count": null,
      "outputs": [
        {
          "name": "stdout",
          "output_type": "stream",
          "text": [
            "Epoch 1/100\n",
            "1/1 [==============================] - 0s 2ms/step - loss: 11.5048 - mae: 11.5048\n",
            "Epoch 2/100\n",
            "1/1 [==============================] - 0s 2ms/step - loss: 11.3723 - mae: 11.3723\n",
            "Epoch 3/100\n",
            "1/1 [==============================] - 0s 2ms/step - loss: 11.2398 - mae: 11.2398\n",
            "Epoch 4/100\n",
            "1/1 [==============================] - 0s 2ms/step - loss: 11.1073 - mae: 11.1073\n",
            "Epoch 5/100\n",
            "1/1 [==============================] - 0s 2ms/step - loss: 10.9748 - mae: 10.9748\n",
            "Epoch 6/100\n",
            "1/1 [==============================] - 0s 2ms/step - loss: 10.8423 - mae: 10.8423\n",
            "Epoch 7/100\n",
            "1/1 [==============================] - 0s 2ms/step - loss: 10.7098 - mae: 10.7098\n",
            "Epoch 8/100\n",
            "1/1 [==============================] - 0s 2ms/step - loss: 10.5773 - mae: 10.5773\n",
            "Epoch 9/100\n",
            "1/1 [==============================] - 0s 2ms/step - loss: 10.4448 - mae: 10.4448\n",
            "Epoch 10/100\n",
            "1/1 [==============================] - 0s 2ms/step - loss: 10.3123 - mae: 10.3123\n",
            "Epoch 11/100\n",
            "1/1 [==============================] - 0s 2ms/step - loss: 10.1798 - mae: 10.1798\n",
            "Epoch 12/100\n",
            "1/1 [==============================] - 0s 2ms/step - loss: 10.0473 - mae: 10.0473\n",
            "Epoch 13/100\n",
            "1/1 [==============================] - 0s 2ms/step - loss: 9.9148 - mae: 9.9148\n",
            "Epoch 14/100\n",
            "1/1 [==============================] - 0s 2ms/step - loss: 9.7823 - mae: 9.7823\n",
            "Epoch 15/100\n",
            "1/1 [==============================] - 0s 2ms/step - loss: 9.6498 - mae: 9.6498\n",
            "Epoch 16/100\n",
            "1/1 [==============================] - 0s 2ms/step - loss: 9.5173 - mae: 9.5173\n",
            "Epoch 17/100\n",
            "1/1 [==============================] - 0s 2ms/step - loss: 9.3848 - mae: 9.3848\n",
            "Epoch 18/100\n",
            "1/1 [==============================] - 0s 2ms/step - loss: 9.2523 - mae: 9.2523\n",
            "Epoch 19/100\n",
            "1/1 [==============================] - 0s 2ms/step - loss: 9.1198 - mae: 9.1198\n",
            "Epoch 20/100\n",
            "1/1 [==============================] - 0s 2ms/step - loss: 8.9873 - mae: 8.9873\n",
            "Epoch 21/100\n",
            "1/1 [==============================] - 0s 2ms/step - loss: 8.8548 - mae: 8.8548\n",
            "Epoch 22/100\n",
            "1/1 [==============================] - 0s 2ms/step - loss: 8.7223 - mae: 8.7223\n",
            "Epoch 23/100\n",
            "1/1 [==============================] - 0s 2ms/step - loss: 8.5898 - mae: 8.5898\n",
            "Epoch 24/100\n",
            "1/1 [==============================] - 0s 2ms/step - loss: 8.4573 - mae: 8.4573\n",
            "Epoch 25/100\n",
            "1/1 [==============================] - 0s 2ms/step - loss: 8.3248 - mae: 8.3248\n",
            "Epoch 26/100\n",
            "1/1 [==============================] - 0s 2ms/step - loss: 8.1923 - mae: 8.1923\n",
            "Epoch 27/100\n",
            "1/1 [==============================] - 0s 2ms/step - loss: 8.0598 - mae: 8.0598\n",
            "Epoch 28/100\n",
            "1/1 [==============================] - 0s 2ms/step - loss: 7.9273 - mae: 7.9273\n",
            "Epoch 29/100\n",
            "1/1 [==============================] - 0s 2ms/step - loss: 7.7948 - mae: 7.7948\n",
            "Epoch 30/100\n",
            "1/1 [==============================] - 0s 2ms/step - loss: 7.6623 - mae: 7.6623\n",
            "Epoch 31/100\n",
            "1/1 [==============================] - 0s 3ms/step - loss: 7.5298 - mae: 7.5298\n",
            "Epoch 32/100\n",
            "1/1 [==============================] - 0s 3ms/step - loss: 7.3973 - mae: 7.3973\n",
            "Epoch 33/100\n",
            "1/1 [==============================] - 0s 2ms/step - loss: 7.2648 - mae: 7.2648\n",
            "Epoch 34/100\n",
            "1/1 [==============================] - 0s 2ms/step - loss: 7.2525 - mae: 7.2525\n",
            "Epoch 35/100\n",
            "1/1 [==============================] - 0s 3ms/step - loss: 7.2469 - mae: 7.2469\n",
            "Epoch 36/100\n",
            "1/1 [==============================] - 0s 2ms/step - loss: 7.2413 - mae: 7.2413\n",
            "Epoch 37/100\n",
            "1/1 [==============================] - 0s 2ms/step - loss: 7.2356 - mae: 7.2356\n",
            "Epoch 38/100\n",
            "1/1 [==============================] - 0s 2ms/step - loss: 7.2300 - mae: 7.2300\n",
            "Epoch 39/100\n",
            "1/1 [==============================] - 0s 2ms/step - loss: 7.2244 - mae: 7.2244\n",
            "Epoch 40/100\n",
            "1/1 [==============================] - 0s 3ms/step - loss: 7.2188 - mae: 7.2188\n",
            "Epoch 41/100\n",
            "1/1 [==============================] - 0s 3ms/step - loss: 7.2131 - mae: 7.2131\n",
            "Epoch 42/100\n",
            "1/1 [==============================] - 0s 3ms/step - loss: 7.2075 - mae: 7.2075\n",
            "Epoch 43/100\n",
            "1/1 [==============================] - 0s 5ms/step - loss: 7.2019 - mae: 7.2019\n",
            "Epoch 44/100\n",
            "1/1 [==============================] - 0s 2ms/step - loss: 7.1963 - mae: 7.1963\n",
            "Epoch 45/100\n",
            "1/1 [==============================] - 0s 5ms/step - loss: 7.1906 - mae: 7.1906\n",
            "Epoch 46/100\n",
            "1/1 [==============================] - 0s 3ms/step - loss: 7.1850 - mae: 7.1850\n",
            "Epoch 47/100\n",
            "1/1 [==============================] - 0s 3ms/step - loss: 7.1794 - mae: 7.1794\n",
            "Epoch 48/100\n",
            "1/1 [==============================] - 0s 5ms/step - loss: 7.1738 - mae: 7.1738\n",
            "Epoch 49/100\n",
            "1/1 [==============================] - 0s 2ms/step - loss: 7.1681 - mae: 7.1681\n",
            "Epoch 50/100\n",
            "1/1 [==============================] - 0s 3ms/step - loss: 7.1625 - mae: 7.1625\n",
            "Epoch 51/100\n",
            "1/1 [==============================] - 0s 5ms/step - loss: 7.1569 - mae: 7.1569\n",
            "Epoch 52/100\n",
            "1/1 [==============================] - 0s 2ms/step - loss: 7.1512 - mae: 7.1512\n",
            "Epoch 53/100\n",
            "1/1 [==============================] - 0s 2ms/step - loss: 7.1456 - mae: 7.1456\n",
            "Epoch 54/100\n",
            "1/1 [==============================] - 0s 3ms/step - loss: 7.1400 - mae: 7.1400\n",
            "Epoch 55/100\n",
            "1/1 [==============================] - 0s 8ms/step - loss: 7.1344 - mae: 7.1344\n",
            "Epoch 56/100\n",
            "1/1 [==============================] - 0s 2ms/step - loss: 7.1287 - mae: 7.1287\n",
            "Epoch 57/100\n",
            "1/1 [==============================] - 0s 6ms/step - loss: 7.1231 - mae: 7.1231\n",
            "Epoch 58/100\n",
            "1/1 [==============================] - 0s 1ms/step - loss: 7.1175 - mae: 7.1175\n",
            "Epoch 59/100\n",
            "1/1 [==============================] - 0s 3ms/step - loss: 7.1119 - mae: 7.1119\n",
            "Epoch 60/100\n",
            "1/1 [==============================] - 0s 1ms/step - loss: 7.1063 - mae: 7.1063\n",
            "Epoch 61/100\n",
            "1/1 [==============================] - 0s 1ms/step - loss: 7.1006 - mae: 7.1006\n",
            "Epoch 62/100\n",
            "1/1 [==============================] - 0s 1ms/step - loss: 7.0950 - mae: 7.0950\n",
            "Epoch 63/100\n",
            "1/1 [==============================] - 0s 1ms/step - loss: 7.0894 - mae: 7.0894\n",
            "Epoch 64/100\n",
            "1/1 [==============================] - 0s 4ms/step - loss: 7.0838 - mae: 7.0838\n",
            "Epoch 65/100\n",
            "1/1 [==============================] - 0s 1ms/step - loss: 7.0781 - mae: 7.0781\n",
            "Epoch 66/100\n",
            "1/1 [==============================] - 0s 2ms/step - loss: 7.0725 - mae: 7.0725\n",
            "Epoch 67/100\n",
            "1/1 [==============================] - 0s 4ms/step - loss: 7.0669 - mae: 7.0669\n",
            "Epoch 68/100\n",
            "1/1 [==============================] - 0s 2ms/step - loss: 7.0613 - mae: 7.0613\n",
            "Epoch 69/100\n",
            "1/1 [==============================] - 0s 3ms/step - loss: 7.0556 - mae: 7.0556\n",
            "Epoch 70/100\n",
            "1/1 [==============================] - 0s 1ms/step - loss: 7.0500 - mae: 7.0500\n",
            "Epoch 71/100\n",
            "1/1 [==============================] - 0s 985us/step - loss: 7.0444 - mae: 7.0444\n",
            "Epoch 72/100\n",
            "1/1 [==============================] - 0s 1ms/step - loss: 7.0388 - mae: 7.0388\n",
            "Epoch 73/100\n",
            "1/1 [==============================] - 0s 1ms/step - loss: 7.0331 - mae: 7.0331\n",
            "Epoch 74/100\n",
            "1/1 [==============================] - 0s 1ms/step - loss: 7.0275 - mae: 7.0275\n",
            "Epoch 75/100\n",
            "1/1 [==============================] - 0s 4ms/step - loss: 7.0219 - mae: 7.0219\n",
            "Epoch 76/100\n",
            "1/1 [==============================] - 0s 4ms/step - loss: 7.0163 - mae: 7.0163\n",
            "Epoch 77/100\n",
            "1/1 [==============================] - 0s 4ms/step - loss: 7.0106 - mae: 7.0106\n",
            "Epoch 78/100\n",
            "1/1 [==============================] - 0s 3ms/step - loss: 7.0050 - mae: 7.0050\n",
            "Epoch 79/100\n",
            "1/1 [==============================] - 0s 3ms/step - loss: 6.9994 - mae: 6.9994\n",
            "Epoch 80/100\n",
            "1/1 [==============================] - 0s 1ms/step - loss: 6.9938 - mae: 6.9938\n",
            "Epoch 81/100\n",
            "1/1 [==============================] - 0s 2ms/step - loss: 6.9881 - mae: 6.9881\n",
            "Epoch 82/100\n",
            "1/1 [==============================] - 0s 3ms/step - loss: 6.9825 - mae: 6.9825\n",
            "Epoch 83/100\n",
            "1/1 [==============================] - 0s 2ms/step - loss: 6.9769 - mae: 6.9769\n",
            "Epoch 84/100\n",
            "1/1 [==============================] - 0s 9ms/step - loss: 6.9713 - mae: 6.9713\n",
            "Epoch 85/100\n",
            "1/1 [==============================] - 0s 2ms/step - loss: 6.9656 - mae: 6.9656\n",
            "Epoch 86/100\n",
            "1/1 [==============================] - 0s 1ms/step - loss: 6.9600 - mae: 6.9600\n",
            "Epoch 87/100\n",
            "1/1 [==============================] - 0s 2ms/step - loss: 6.9544 - mae: 6.9544\n",
            "Epoch 88/100\n",
            "1/1 [==============================] - 0s 2ms/step - loss: 6.9488 - mae: 6.9488\n",
            "Epoch 89/100\n",
            "1/1 [==============================] - 0s 3ms/step - loss: 6.9431 - mae: 6.9431\n",
            "Epoch 90/100\n",
            "1/1 [==============================] - 0s 3ms/step - loss: 6.9375 - mae: 6.9375\n",
            "Epoch 91/100\n",
            "1/1 [==============================] - 0s 2ms/step - loss: 6.9319 - mae: 6.9319\n",
            "Epoch 92/100\n",
            "1/1 [==============================] - 0s 2ms/step - loss: 6.9263 - mae: 6.9263\n",
            "Epoch 93/100\n",
            "1/1 [==============================] - 0s 2ms/step - loss: 6.9206 - mae: 6.9206\n",
            "Epoch 94/100\n",
            "1/1 [==============================] - 0s 2ms/step - loss: 6.9150 - mae: 6.9150\n",
            "Epoch 95/100\n",
            "1/1 [==============================] - 0s 3ms/step - loss: 6.9094 - mae: 6.9094\n",
            "Epoch 96/100\n",
            "1/1 [==============================] - 0s 3ms/step - loss: 6.9038 - mae: 6.9038\n",
            "Epoch 97/100\n",
            "1/1 [==============================] - 0s 5ms/step - loss: 6.8981 - mae: 6.8981\n",
            "Epoch 98/100\n",
            "1/1 [==============================] - 0s 3ms/step - loss: 6.8925 - mae: 6.8925\n",
            "Epoch 99/100\n",
            "1/1 [==============================] - 0s 2ms/step - loss: 6.8869 - mae: 6.8869\n",
            "Epoch 100/100\n",
            "1/1 [==============================] - 0s 2ms/step - loss: 6.8813 - mae: 6.8813\n"
          ]
        },
        {
          "data": {
            "text/plain": [
              "<tensorflow.python.keras.callbacks.History at 0x7fa24314c6d8>"
            ]
          },
          "execution_count": 11,
          "metadata": {
            "tags": []
          },
          "output_type": "execute_result"
        }
      ]
    },
    {
      "cell_type": "markdown",
      "metadata": {
        "id": "1CIKSm7filgj"
      },
      "source": [
        "Chúng ta nhận ra rằng giá trị loss giảm từ trước (và tiếp tục giảm khi số epoch tăng).\n",
        "\n",
        "Các bạn nghĩ điều này có nghĩa gì khi chúng ta đưa ra dự đoán với mô hình?\n",
        "\n",
        "Sao không thử dự đoán trên 17.0 một lần nữa?"
      ]
    },
    {
      "cell_type": "code",
      "metadata": {
        "colab": {
          "base_uri": "https://localhost:8080/"
        },
        "id": "_YcacZsfi4zZ",
        "outputId": "75cf2818-b564-4b4a-ffb0-3aa2ba5022bf"
      },
      "source": [
        "# Nhắc lại X và y là gì\n",
        "X, y"
      ],
      "execution_count": null,
      "outputs": [
        {
          "data": {
            "text/plain": [
              "(<tf.Tensor: shape=(8,), dtype=float32, numpy=array([-7., -4., -1.,  2.,  5.,  8., 11., 14.], dtype=float32)>,\n",
              " <tf.Tensor: shape=(8,), dtype=float32, numpy=array([ 3.,  6.,  9., 12., 15., 18., 21., 24.], dtype=float32)>)"
            ]
          },
          "execution_count": 12,
          "metadata": {
            "tags": []
          },
          "output_type": "execute_result"
        }
      ]
    },
    {
      "cell_type": "code",
      "metadata": {
        "colab": {
          "base_uri": "https://localhost:8080/"
        },
        "id": "e6k5V08ZivNO",
        "outputId": "9809e4b0-a1de-4969-da75-23d48064f0f9"
      },
      "source": [
        "# Thử đoán y là gì nếu X bằng 17.0\n",
        "model.predict([17.0]) # đáp án đúng là 27.0 (y = X + 10)"
      ],
      "execution_count": null,
      "outputs": [
        {
          "data": {
            "text/plain": [
              "array([[30.158512]], dtype=float32)"
            ]
          },
          "execution_count": 13,
          "metadata": {
            "tags": []
          },
          "output_type": "execute_result"
        }
      ]
    },
    {
      "cell_type": "markdown",
      "metadata": {
        "id": "sYi5V8ZYi_dy"
      },
      "source": [
        "Tốt hơn rồi!\n",
        "\n",
        "Lần này chúng ta đã đoán gần đúng. Nhưng cần cải thiện hơn.\n",
        "\n",
        "Chúng ta đã huấn luyện mô hình rồi, đánh giá nó thế nào?"
      ]
    },
    {
      "cell_type": "markdown",
      "metadata": {
        "id": "HvC98q_h6zvG"
      },
      "source": [
        "## Đánh giá mô hình\n",
        "\n",
        "Quy trình điển hình mà chúng ta sẽ xem xét khi xây dựng mạng nơ-ron như sau:\n",
        "\n",
        "```\n",
        "Xây dựng một mô hình -> đánh giá mô hình -> xây dựng (cải tiến) mô hình -> đánh giá mô hình -> xây dựng (cải tiến) mô hình -> đánh giá mô hình...\n",
        "```\n",
        "\n",
        "Việc cải tiến có thể không đến từ việc xây dựng mô hình từ đầu mà là điều chỉnh một mô hình có sẵn.\n",
        "\n",
        "### Trực quan hóa\n",
        "\n",
        "Khi tới bước đánh giá, hãy nhớ tới từ \"visualize, visualize, visualize\" (trực quan hóa).\n",
        "\n",
        "Tức là các bạn nên quan sát (việc thực hiện) điều gì đó hơn là chỉ suy nghĩ.\n",
        "\n",
        "Hãy trực quan hóa:\n",
        "* **Dữ liệu** - chúng ta đang làm việc với dữ liệu nào? Nó trông thế nào?\n",
        "* **Chính mô hình** - Kiến trúc trông như thế nào? Các hình dạng khác nhau là gì?\n",
        "* **Huấn luyện của mô hình** - Mô hình thực hiện thế nào trong khi nó đang học?\n",
        "* **Dự đoán của mô hình** -  Làm thế nào để các dự đoán khớp với nhãn gốc (nhãn ban đầu)?\n",
        "\n",
        "Hãy bắt đầu trực quan hóa mô hình.\n",
        "\n",
        "Nhưng trước tiên, hãy tạo tập dữ liệu lớn hơn một chút và một mô hình mới mà chúng ta có thể sử dụng (giống như trước, nhưng càng thực hành nhiều càng tốt).\n"
      ]
    },
    {
      "cell_type": "code",
      "metadata": {
        "colab": {
          "base_uri": "https://localhost:8080/"
        },
        "id": "srxuqbeYopns",
        "outputId": "2a243d17-4fbd-489a-b861-bd7a56511437"
      },
      "source": [
        "# Tạo tập dữ liệu lớn hơn\n",
        "X = np.arange(-100, 100, 4)\n",
        "X"
      ],
      "execution_count": null,
      "outputs": [
        {
          "data": {
            "text/plain": [
              "array([-100,  -96,  -92,  -88,  -84,  -80,  -76,  -72,  -68,  -64,  -60,\n",
              "        -56,  -52,  -48,  -44,  -40,  -36,  -32,  -28,  -24,  -20,  -16,\n",
              "        -12,   -8,   -4,    0,    4,    8,   12,   16,   20,   24,   28,\n",
              "         32,   36,   40,   44,   48,   52,   56,   60,   64,   68,   72,\n",
              "         76,   80,   84,   88,   92,   96])"
            ]
          },
          "execution_count": 14,
          "metadata": {
            "tags": []
          },
          "output_type": "execute_result"
        }
      ]
    },
    {
      "cell_type": "code",
      "metadata": {
        "colab": {
          "base_uri": "https://localhost:8080/"
        },
        "id": "pQcC0nSko3kJ",
        "outputId": "ef472020-6e83-45da-986f-eb4072f94b35"
      },
      "source": [
        "# Tạo các nhãn cho tập dữ liệu (bám theo pattern trước đây)\n",
        "y = np.arange(-90, 110, 4)\n",
        "y"
      ],
      "execution_count": null,
      "outputs": [
        {
          "data": {
            "text/plain": [
              "array([-90, -86, -82, -78, -74, -70, -66, -62, -58, -54, -50, -46, -42,\n",
              "       -38, -34, -30, -26, -22, -18, -14, -10,  -6,  -2,   2,   6,  10,\n",
              "        14,  18,  22,  26,  30,  34,  38,  42,  46,  50,  54,  58,  62,\n",
              "        66,  70,  74,  78,  82,  86,  90,  94,  98, 102, 106])"
            ]
          },
          "execution_count": 15,
          "metadata": {
            "tags": []
          },
          "output_type": "execute_result"
        }
      ]
    },
    {
      "cell_type": "markdown",
      "metadata": {
        "id": "KNIw5tgGpKjb"
      },
      "source": [
        "Vì $y=X+10$, chúng ta có thể tạo các nhãn như sau:"
      ]
    },
    {
      "cell_type": "code",
      "metadata": {
        "colab": {
          "base_uri": "https://localhost:8080/"
        },
        "id": "ACgbmrAOpJwW",
        "outputId": "bb561d4d-1bb1-479e-ae3e-a82cc96e95a3"
      },
      "source": [
        "# Cùng kết quả như trên\n",
        "y = X + 10\n",
        "y"
      ],
      "execution_count": null,
      "outputs": [
        {
          "data": {
            "text/plain": [
              "array([-90, -86, -82, -78, -74, -70, -66, -62, -58, -54, -50, -46, -42,\n",
              "       -38, -34, -30, -26, -22, -18, -14, -10,  -6,  -2,   2,   6,  10,\n",
              "        14,  18,  22,  26,  30,  34,  38,  42,  46,  50,  54,  58,  62,\n",
              "        66,  70,  74,  78,  82,  86,  90,  94,  98, 102, 106])"
            ]
          },
          "execution_count": 16,
          "metadata": {
            "tags": []
          },
          "output_type": "execute_result"
        }
      ]
    },
    {
      "cell_type": "markdown",
      "metadata": {
        "id": "ax3MnQDupeBp"
      },
      "source": [
        "## Chia dữ liệu thành tập huấn luyện/kiểm tra\n",
        "\n",
        "Một trong những bước phổ biến và quan trọng khác trong dự án học máy là tạo tập huấn luyện và kiểm tra (và tập kiểm định khi cần).\n",
        "\n",
        "Mỗi tập hợp lại phục vụ một mục đích cụ thể:\n",
        "* **Tập huấn luyện** - mô hình học từ dữ liệu này, thường chiếm 70-80% tổng số dữ liệu sẵn có (giống như tư liệu khóa học trong một học kỳ).\n",
        "* **Tập kiểm định** - mô hình được điều chỉnh dựa trên dữ liệu này, thường chiếm 10-15% tổng số dữ liệu sẵn có (giống như bài kiểm tra thực hành được thực hiện trước kỳ kiểm tra cuối môn).\n",
        "* **Tập kiểm tra** - mô hình được đánh giá dựa trên dữ liệu này để kiểm tra những gì nó đã học, thường chiếm 10-15% tổng số dữ liệu sẵn có (giống như bài kiểm tra cuối môn mà bạn thực hiện vào cuối học kỳ).\n",
        "\n",
        "Bây giờ, chúng ta sẽ chỉ sử dụng tập huấn luyện và tập kiểm tra, điều này có nghĩa là mô hình sẽ có một tập dữ liệu để học hỏi và đánh giá.\n",
        "\n",
        "Hãy tạo chúng bằng cách chia các mảng `X` và `y`.\n",
        "\n",
        "> 🔑 **Lưu ý:** Khi xử lý dữ liệu thực tế, bước này thường được thực hiện ngay khi bắt đầu dự án (tập kiểm tra phải luôn được giữ tách biệt với tất cả các dữ liệu khác). Chúng ta muốn mô hình của mình học trên dữ liệu huấn luyện rồi đánh giá nó trên dữ liệu kiểm tra để biết mức độ **khái quát hóa** của nó đối với các ví dụ chưa từng thấy."
      ]
    },
    {
      "cell_type": "code",
      "metadata": {
        "colab": {
          "base_uri": "https://localhost:8080/"
        },
        "id": "5G0RDMnZrgvK",
        "outputId": "1da59eba-48b5-4b8f-a925-9537e68621fb"
      },
      "source": [
        "# Kiểm tra xem chúng ta có bao nhiêu mẫu\n",
        "len(X)"
      ],
      "execution_count": null,
      "outputs": [
        {
          "data": {
            "text/plain": [
              "50"
            ]
          },
          "execution_count": 17,
          "metadata": {
            "tags": []
          },
          "output_type": "execute_result"
        }
      ]
    },
    {
      "cell_type": "code",
      "metadata": {
        "colab": {
          "base_uri": "https://localhost:8080/"
        },
        "id": "4Q9ptcQkrGfO",
        "outputId": "7eda8251-08ea-4ded-99fc-f7be6a3c4f24"
      },
      "source": [
        "# Chia dữ liệu thành các tập huấn luyện và tập kiểm tra\n",
        "X_train = X[:40] # 40 mẫu đầu tiên (40% dữ liệu)\n",
        "y_train = y[:40]\n",
        "\n",
        "X_test = X[40:] # 10 mẫu cuối (20% dữ liệu)\n",
        "y_test = y[40:]\n",
        "\n",
        "len(X_train), len(X_test)"
      ],
      "execution_count": null,
      "outputs": [
        {
          "data": {
            "text/plain": [
              "(40, 10)"
            ]
          },
          "execution_count": 18,
          "metadata": {
            "tags": []
          },
          "output_type": "execute_result"
        }
      ]
    },
    {
      "cell_type": "markdown",
      "metadata": {
        "id": "Rz2cIdECsLH5"
      },
      "source": [
        "## Trực quan hóa dữ liệu\n",
        "\n",
        "Bây giờ chúng ta đã có dữ liệu huấn luyện và kiểm tra, hãy trực quan hóa nó.\n",
        "\n",
        "Hãy vẽ nó bằng một số màu đẹp để phân biệt mọi thứ với nhau."
      ]
    },
    {
      "cell_type": "code",
      "metadata": {
        "colab": {
          "base_uri": "https://localhost:8080/",
          "height": 428
        },
        "id": "os30CXBHsOAH",
        "outputId": "94949999-9146-45c1-f721-d92315ba4cda"
      },
      "source": [
        "plt.figure(figsize=(10, 7))\n",
        "# Vẽ dữ liệu huấn luyện bằng màu xanh dương\n",
        "plt.scatter(X_train, y_train, c='b', label='Training data')\n",
        "# Vẽ dữ liệu kiểm tra bằng màu xanh lá\n",
        "plt.scatter(X_test, y_test, c='g', label='Testing data')\n",
        "# Hiển thị chú giải\n",
        "plt.legend();"
      ],
      "execution_count": null,
      "outputs": [
        {
          "data": {
            "image/png": "[encoded data removed]",
            "text/plain": [
              "<Figure size 720x504 with 1 Axes>"
            ]
          },
          "metadata": {
            "needs_background": "light",
            "tags": []
          },
          "output_type": "display_data"
        }
      ]
    },
    {
      "cell_type": "markdown",
      "metadata": {
        "id": "cxRcHZFgtS_B"
      },
      "source": [
        "Tuyệt! Bất cứ lúc nào chúng ta cũng nên hiển thị dữ liệu, mô hình hay bất cứ thứ gì.\n",
        "\n",
        "Với biểu đồ này, chúng ta sẽ cố gắng xây dựng một mô hình học pattern ở các chấm màu xanh dương (`X_train`) để vẽ các chấm màu xanh lá (`X_test`).\n",
        "\n",
        "Đã đến lúc xây dựng mô hình. Chúng ta sẽ tạo mô hình giống hệt mô hình trước đó (mô hình mà chúng ta đã huấn luyện lâu hơn)."
      ]
    },
    {
      "cell_type": "code",
      "metadata": {
        "id": "4qpe0eSStSm-"
      },
      "source": [
        "# Thiết lập random seed\n",
        "tf.random.set_seed(42)\n",
        "\n",
        "# Tạo mô hình (như trên)\n",
        "model = tf.keras.Sequential([\n",
        "  tf.keras.layers.Dense(1)\n",
        "])\n",
        "\n",
        "# Biên dịch mô hình (như trên)\n",
        "model.compile(loss=tf.keras.losses.mae,\n",
        "              optimizer=tf.keras.optimizers.SGD(),\n",
        "              metrics=[\"mae\"])\n",
        "\n",
        "# Khớp mô hình (tương tự như trên)\n",
        "#model.fit(X_train, y_train, epochs=100) # ghi chú có chủ đích (chưa khớp với nó)"
      ],
      "execution_count": null,
      "outputs": []
    },
    {
      "cell_type": "markdown",
      "metadata": {
        "id": "hc2RHCCfqlAc"
      },
      "source": [
        "## Trực quan hóa mô hình\n",
        "\n",
        "Sau khi xây xong mô hình, chúng ta cần quan sát nó (đặc biệt là nếu trước đây bạn chưa từng xây nhiều mô hình).\n",
        "\n",
        "Hãy xem các layer và shape của mô hình bằng cách gọi [`summary()`](https://www.tensorflow.org/api_docs/python/tf/keras/Model#summary).\n",
        "\n",
        "> 🔑 **Lưu ý:** Việc hiển thị mô hình vô cùng hữu ích khi chúng ta gặp sự cố không khớp shape đầu vào/đầu ra."
      ]
    },
    {
      "cell_type": "code",
      "metadata": {
        "colab": {
          "base_uri": "https://localhost:8080/",
          "height": 414
        },
        "id": "OlgJj0cFwChH",
        "outputId": "af3d8f0f-67ed-4b30-dc32-6083224ff847"
      },
      "source": [
        "# Không hoạt động (mô hình không khớp/không được xây)\n",
        "model.summary()"
      ],
      "execution_count": null,
      "outputs": [
        {
          "ename": "ValueError",
          "evalue": "ignored",
          "output_type": "error",
          "traceback": [
            "\u001b[0;31m---------------------------------------------------------------------------\u001b[0m",
            "\u001b[0;31mValueError\u001b[0m                                Traceback (most recent call last)",
            "\u001b[0;32m<ipython-input-21-7d09d31d4e66>\u001b[0m in \u001b[0;36m<module>\u001b[0;34m()\u001b[0m\n\u001b[1;32m      1\u001b[0m \u001b[0;31m# Doesn't work (model not fit/built)\u001b[0m\u001b[0;34m\u001b[0m\u001b[0;34m\u001b[0m\u001b[0;34m\u001b[0m\u001b[0m\n\u001b[0;32m----> 2\u001b[0;31m \u001b[0mmodel\u001b[0m\u001b[0;34m.\u001b[0m\u001b[0msummary\u001b[0m\u001b[0;34m(\u001b[0m\u001b[0;34m)\u001b[0m\u001b[0;34m\u001b[0m\u001b[0;34m\u001b[0m\u001b[0m\n\u001b[0m",
            "\u001b[0;32m/usr/local/lib/python3.6/dist-packages/tensorflow/python/keras/engine/training.py\u001b[0m in \u001b[0;36msummary\u001b[0;34m(self, line_length, positions, print_fn)\u001b[0m\n\u001b[1;32m   2349\u001b[0m     \"\"\"\n\u001b[1;32m   2350\u001b[0m     \u001b[0;32mif\u001b[0m \u001b[0;32mnot\u001b[0m \u001b[0mself\u001b[0m\u001b[0;34m.\u001b[0m\u001b[0mbuilt\u001b[0m\u001b[0;34m:\u001b[0m\u001b[0;34m\u001b[0m\u001b[0;34m\u001b[0m\u001b[0m\n\u001b[0;32m-> 2351\u001b[0;31m       raise ValueError('This model has not yet been built. '\n\u001b[0m\u001b[1;32m   2352\u001b[0m                        \u001b[0;34m'Build the model first by calling `build()` or calling '\u001b[0m\u001b[0;34m\u001b[0m\u001b[0;34m\u001b[0m\u001b[0m\n\u001b[1;32m   2353\u001b[0m                        \u001b[0;34m'`fit()` with some data, or specify '\u001b[0m\u001b[0;34m\u001b[0m\u001b[0;34m\u001b[0m\u001b[0m\n",
            "\u001b[0;31mValueError\u001b[0m: This model has not yet been built. Build the model first by calling `build()` or calling `fit()` with some data, or specify an `input_shape` argument in the first layer(s) for automatic build."
          ]
        }
      ]
    },
    {
      "cell_type": "markdown",
      "metadata": {
        "id": "SJj6KLe8xsyF"
      },
      "source": [
        "Cell ở trên bị lỗi vì chúng ta không khớp mô hình đã xây dựng.\n",
        "\n",
        "Chúng ta cũng chưa cho nó biết shape đầu vào mà nó sẽ dự kiến.\n",
        "\n",
        "Các bạn còn nhớ ở trên, chúng ta đã bàn rằng shape đầu vào chỉ là một số thế nào không?\n",
        "\n",
        "Chúng ta có thể cho mô hình biết shape đầu vào của dữ liệu bằng cách sử dụng tham số `input_shape` cho layer đầu tiên (thường nếu `input_shape` không xác định, Keras sẽ cố gắng tự động tìm ra nó)."
      ]
    },
    {
      "cell_type": "code",
      "metadata": {
        "id": "zMXKFtFBuWgJ"
      },
      "source": [
        "# Thiết lập random seed\n",
        "tf.random.set_seed(42)\n",
        "\n",
        "# Tạo mô hình (như trên)\n",
        "model = tf.keras.Sequential([\n",
        "  tf.keras.layers.Dense(1, input_shape=[1]) # định nghĩa input_shape cho mô hình\n",
        "])\n",
        "\n",
        "# Biên dịch mô hình (như trên)\n",
        "model.compile(loss=tf.keras.losses.mae,\n",
        "              optimizer=tf.keras.optimizers.SGD(),\n",
        "              metrics=[\"mae\"])"
      ],
      "execution_count": null,
      "outputs": []
    },
    {
      "cell_type": "code",
      "metadata": {
        "colab": {
          "base_uri": "https://localhost:8080/"
        },
        "id": "24Q325x2yCoi",
        "outputId": "004adec4-1f35-443a-fd9a-2dab44166849"
      },
      "source": [
        "# Điều này sẽ hoạt động sau khi chỉ định shape đầu vào\n",
        "model.summary()"
      ],
      "execution_count": null,
      "outputs": [
        {
          "name": "stdout",
          "output_type": "stream",
          "text": [
            "Model: \"sequential_7\"\n",
            "_________________________________________________________________\n",
            "Layer (type)                 Output Shape              Param #   \n",
            "=================================================================\n",
            "dense_7 (Dense)              (None, 1)                 2         \n",
            "=================================================================\n",
            "Total params: 2\n",
            "Trainable params: 2\n",
            "Non-trainable params: 0\n",
            "_________________________________________________________________\n"
          ]
        }
      ]
    },
    {
      "cell_type": "markdown",
      "metadata": {
        "id": "jdurWKlryl6b"
      },
      "source": [
        "Việc gọi `summary()` trên mô hình cho chúng ta thấy các layer mà nó chứa, shape đầu ra và số lượng tham số.\n",
        "* **Total params** - tổng số tham số trong mô hình.\n",
        "* **Trainable parameters** - đây là các tham số (pattern) mà mô hình có thể cập nhật khi nó huấn luyện.\n",
        "* **Non-trainable parameters** - các tham số này không được cập nhật trong quá trình huấn luyện (điều này thường xảy ra khi chúng ta lấy các pattern đã học được từ các mô hình khác trong suốt quá trình transfer learning).\n",
        "\n",
        "> 📖 **Tài liệu:** Để tìm hiểu sâu hơn về các tham số có thể huấn luyện trong một layer, hãy xem [video giới thiệu về deep learning của MIT](https://youtu.be/njKP3FqW3Sk).\n",
        "\n",
        "> 🛠 **Luyện tập:** Thử nghiệm với số lượng đơn vị ẩn trong `Dense` layer (ví dụ: `Dense(2)`, `Dense(3)`). Điều này thay đổi Total/Trainable params như thế nào? Kiểm tra xem điều gì gây ra thay đổi.\n",
        "\n",
        "Còn giờ, chúng ta cần nghĩ các tham số này là các pattern có thể học được trong dữ liệu.\n",
        "\n",
        "Hãy khớp mô hình với dữ liệu huấn luyện."
      ]
    },
    {
      "cell_type": "code",
      "metadata": {
        "colab": {
          "base_uri": "https://localhost:8080/"
        },
        "id": "-Kywg4q9u051",
        "outputId": "4189a7c7-d929-4a1f-cda2-ab29be6843e4"
      },
      "source": [
        "# Khớp mô hình với dữ liệu huấn luyện\n",
        "model.fit(X_train, y_train, epochs=100, verbose=0) # verbose kiểm soát số lượng đầu ra thu được"
      ],
      "execution_count": null,
      "outputs": [
        {
          "data": {
            "text/plain": [
              "<tensorflow.python.keras.callbacks.History at 0x7fa238b42ac8>"
            ]
          },
          "execution_count": 31,
          "metadata": {
            "tags": []
          },
          "output_type": "execute_result"
        }
      ]
    },
    {
      "cell_type": "code",
      "metadata": {
        "colab": {
          "base_uri": "https://localhost:8080/"
        },
        "id": "-jWuOwj961ri",
        "outputId": "72a950ec-fb60-400c-a711-138ea93b041a"
      },
      "source": [
        "# Kiểm tra model summary\n",
        "model.summary()"
      ],
      "execution_count": null,
      "outputs": [
        {
          "name": "stdout",
          "output_type": "stream",
          "text": [
            "Model: \"sequential_7\"\n",
            "_________________________________________________________________\n",
            "Layer (type)                 Output Shape              Param #   \n",
            "=================================================================\n",
            "dense_7 (Dense)              (None, 1)                 2         \n",
            "=================================================================\n",
            "Total params: 2\n",
            "Trainable params: 2\n",
            "Non-trainable params: 0\n",
            "_________________________________________________________________\n"
          ]
        }
      ]
    },
    {
      "cell_type": "markdown",
      "metadata": {
        "id": "RrrkHEkMYh5A"
      },
      "source": [
        "Cùng với summary, chúng ta cũng có thể xem biểu đồ 2D của mô hình bằng [`plot_model()`](https://www.tensorflow.org/api_docs/python/tf/keras/utils/plot_model)."
      ]
    },
    {
      "cell_type": "code",
      "metadata": {
        "colab": {
          "base_uri": "https://localhost:8080/",
          "height": 201
        },
        "id": "liIg5WqDfdK4",
        "outputId": "3d79c635-0cf8-4617-8a91-c79293c69933"
      },
      "source": [
        "from tensorflow.keras.utils import plot_model\n",
        "\n",
        "plot_model(model, show_shapes=True)"
      ],
      "execution_count": null,
      "outputs": [
        {
          "data": {
            "image/png": "[encoded data removed]",
            "text/plain": [
              "<IPython.core.display.Image object>"
            ]
          },
          "execution_count": 33,
          "metadata": {
            "tags": []
          },
          "output_type": "execute_result"
        }
      ]
    },
    {
      "cell_type": "markdown",
      "metadata": {
        "id": "ygw7V8OVYxQS"
      },
      "source": [
        "Trong trường hợp này, mô hình mà chúng ta đã dùng chỉ có đầu vào và đầu ra, nhưng việc hình dung các mô hình phức tạp hơn sẽ rất hữu ích cho việc gỡ lỗi."
      ]
    },
    {
      "cell_type": "markdown",
      "metadata": {
        "id": "gebj2eptqwg8"
      },
      "source": [
        "## Hiển thị dự đoán\n",
        "\n",
        "Chúng ta đã huấn luyện mô hình, hãy hiển thị một số dự đoán.\n",
        "\n",
        "Để hiển thị các dự đoán, hãy vẽ chúng dựa trên nhãn gốc.\n",
        "\n",
        "Chúng ta thường sẽ thấy điều này ở dạng `y_test` với `y_pred` (nhãn gốc với dự đoán).\n",
        "\n",
        "Đầu tiên, chúng ta sẽ đưa ra một số dự đoán về dữ liệu kiểm tra (`X_test`), hãy nhớ rằng mô hình chưa bao giờ thấy dữ liệu kiểm tra."
      ]
    },
    {
      "cell_type": "code",
      "metadata": {
        "id": "RRzj7LJMYftb"
      },
      "source": [
        "# Đưa ra dự đoán\n",
        "y_preds = model.predict(X_test)"
      ],
      "execution_count": null,
      "outputs": []
    },
    {
      "cell_type": "code",
      "metadata": {
        "colab": {
          "base_uri": "https://localhost:8080/"
        },
        "id": "_hKpW-KOZiAW",
        "outputId": "2d625913-c5ef-4f0d-b1d5-6bf60fdb3460"
      },
      "source": [
        "# Quan sát các dự đoán\n",
        "y_preds"
      ],
      "execution_count": null,
      "outputs": [
        {
          "data": {
            "text/plain": [
              "array([[53.57109 ],\n",
              "       [57.05633 ],\n",
              "       [60.541573],\n",
              "       [64.02681 ],\n",
              "       [67.512054],\n",
              "       [70.99729 ],\n",
              "       [74.48254 ],\n",
              "       [77.96777 ],\n",
              "       [81.45301 ],\n",
              "       [84.938255]], dtype=float32)"
            ]
          },
          "execution_count": 35,
          "metadata": {
            "tags": []
          },
          "output_type": "execute_result"
        }
      ]
    },
    {
      "cell_type": "markdown",
      "metadata": {
        "id": "aPRaFncaZnT-"
      },
      "source": [
        "Chúng ta có một danh sách các số nhưng làm thế nào để so sánh chúng với nhãn đúng?\n",
        "\n",
        "Hãy tạo một hàm vẽ biểu đồ để tìm hiểu.\n",
        "\n",
        "> 🔑 **Lưu ý:** Nếu bạn nghĩ sẽ hiển thị nhiều, hãy hàm hóa nó để chúng ta có thể sử dụng sau này."
      ]
    },
    {
      "cell_type": "code",
      "metadata": {
        "id": "56euC69rZvNJ"
      },
      "source": [
        "def plot_predictions(train_data=X_train,\n",
        "                     train_labels=y_train,\n",
        "                     test_data=X_test,\n",
        "                     test_labels=y_test,\n",
        "                     predictions=y_preds):\n",
        "  \"\"\"\n",
        "  Vẽ dữ liệu huấn luyện, dữ liệu kiểm tra và so sánh các dự đoán.\n",
        "  \"\"\"\n",
        "  plt.figure(figsize=(10, 7))\n",
        "  # Vẽ dữ liệu huấn luyện bằng màu xanh dương\n",
        "  plt.scatter(train_data, train_labels, c=\"b\", label=\"Training data\")\n",
        "  # Vẽ dữ liệu kiểm tra bằng màu xanh lá\n",
        "  plt.scatter(test_data, test_labels, c=\"g\", label=\"Testing data\")\n",
        "  # Vẽ các dự đoán bằng màu đỏ (những dự đoán được đưa ra trên dữ liệu kiểm tra)\n",
        "  plt.scatter(test_data, predictions, c=\"r\", label=\"Predictions\")\n",
        "  # Hiển thị chú giải\n",
        "  plt.legend();"
      ],
      "execution_count": null,
      "outputs": []
    },
    {
      "cell_type": "code",
      "metadata": {
        "colab": {
          "base_uri": "https://localhost:8080/",
          "height": 428
        },
        "id": "Fug5_B6Ab7Ah",
        "outputId": "4d672d63-80b7-420a-bcc0-7e9d5b901c7e"
      },
      "source": [
        "plot_predictions(train_data=X_train,\n",
        "                 train_labels=y_train,\n",
        "                 test_data=X_test,\n",
        "                 test_labels=y_test,\n",
        "                 predictions=y_preds)"
      ],
      "execution_count": null,
      "outputs": [
        {
          "data": {
            "image/png": "[encoded data removed]",
            "text/plain": [
              "<Figure size 720x504 with 1 Axes>"
            ]
          },
          "metadata": {
            "needs_background": "light",
            "tags": []
          },
          "output_type": "display_data"
        }
      ]
    },
    {
      "cell_type": "markdown",
      "metadata": {
        "id": "H63NPcgPcwZV"
      },
      "source": [
        "Từ biểu đồ, chúng ta thấy các dự đoán không hoàn toàn kỳ lạ nhưng chúng chắc chắn cũng không có gì đặc biệt."
      ]
    },
    {
      "cell_type": "markdown",
      "metadata": {
        "id": "orAfIWOrgRDA"
      },
      "source": [
        "## Đánh giá dự đoán\n",
        "\n",
        "Cùng với trực quan hóa, các phép đo đánh giá là lựa chọn thay thế tốt nhất để đánh giá mô hình.\n",
        "\n",
        "Các mô hình khác nhau có các phép đo đánh giá khác nhau tùy thuộc vào bài toán mà chúng ta đang xử lý.\n",
        "\n",
        "Hai trong số các phép đo chính được sử dụng cho bài toán hồi quy là:\n",
        "* **Mean absolute error (MAE)** - sai số trung bình giữa mỗi dự đoán.\n",
        "* **Mean squared error (MSE)** - sai số trung bình bình phương giữa các dự đoán (sử dụng nếu sai số lớn hơn bất lợi hơn so với sai số nhỏ hơn).\n",
        "\n",
        "Mỗi giá trị này càng thấp thì càng tốt.\n",
        "\n",
        "Chúng ta cũng có thể sử dụng [`model.evaluate()`](https://www.tensorflow.org/api_docs/python/tf/keras/Model#evaluate) để trả về loss của mô hình cũng như bất kỳ thiết lập số liệu nào trong bước biên dịch."
      ]
    },
    {
      "cell_type": "code",
      "metadata": {
        "colab": {
          "base_uri": "https://localhost:8080/"
        },
        "id": "DPgTdF3ddxiY",
        "outputId": "be305e32-46c6-46b7-ec56-868d4ef17a6b"
      },
      "source": [
        "# Đánh giá mô hình trên dữ liệu kiểm tra\n",
        "model.evaluate(X_test, y_test)"
      ],
      "execution_count": null,
      "outputs": [
        {
          "name": "stdout",
          "output_type": "stream",
          "text": [
            "1/1 [==============================] - 0s 1ms/step - loss: 18.7453 - mae: 18.7453\n"
          ]
        },
        {
          "data": {
            "text/plain": [
              "[18.74532699584961, 18.74532699584961]"
            ]
          },
          "execution_count": 38,
          "metadata": {
            "tags": []
          },
          "output_type": "execute_result"
        }
      ]
    },
    {
      "cell_type": "markdown",
      "metadata": {
        "id": "DAXIRyVzegFd"
      },
      "source": [
        "Trong trường hợp này, do chúng ta sử dụng MAE cho hàm mất mát cũng như MAE cho metrics nên `model.evaulate()` trả về cả hai.\n",
        "\n",
        "TensorFlow cũng có hàm tích hợp sẵn cho MSE và MAE.\n",
        "\n",
        "Tiền đề là giống nhau với nhiều hàm đánh giá: so sánh các dự đoán với nhãn gốc."
      ]
    },
    {
      "cell_type": "code",
      "metadata": {
        "colab": {
          "base_uri": "https://localhost:8080/"
        },
        "id": "gqoMQ0dJeD2S",
        "outputId": "d18078fe-6a35-4465-d77d-68151a2134c5"
      },
      "source": [
        "# Tính mae\n",
        "mae = tf.metrics.mean_absolute_error(y_true=y_test,\n",
        "                                     y_pred=y_preds)\n",
        "mae"
      ],
      "execution_count": null,
      "outputs": [
        {
          "data": {
            "text/plain": [
              "<tf.Tensor: shape=(10,), dtype=float32, numpy=\n",
              "array([34.42891 , 30.943668, 27.45843 , 23.97319 , 20.487946, 17.202168,\n",
              "       14.510478, 12.419336, 11.018796, 10.212349], dtype=float32)>"
            ]
          },
          "execution_count": 39,
          "metadata": {
            "tags": []
          },
          "output_type": "execute_result"
        }
      ]
    },
    {
      "cell_type": "markdown",
      "metadata": {
        "id": "7pYp3XNYfkyC"
      },
      "source": [
        "Thật kỳ lạ, MAE đáng lẽ phải là đầu ra duy nhất.\n",
        "\n",
        "Vậy mà chúng ta thu được 10 giá trị.\n",
        "\n",
        "Điều này là do các tensor `y_test` và `y_preds` có shape khác nhau."
      ]
    },
    {
      "cell_type": "code",
      "metadata": {
        "colab": {
          "base_uri": "https://localhost:8080/"
        },
        "id": "zeUHwOc2gIV4",
        "outputId": "2c83e0f4-4ba0-4f8c-ba44-4a9effe82743"
      },
      "source": [
        "# Kiểm tra các giá trị test label tensor\n",
        "y_test"
      ],
      "execution_count": null,
      "outputs": [
        {
          "data": {
            "text/plain": [
              "array([ 70,  74,  78,  82,  86,  90,  94,  98, 102, 106])"
            ]
          },
          "execution_count": 40,
          "metadata": {
            "tags": []
          },
          "output_type": "execute_result"
        }
      ]
    },
    {
      "cell_type": "code",
      "metadata": {
        "colab": {
          "base_uri": "https://localhost:8080/"
        },
        "id": "3aJwlTxugPyc",
        "outputId": "8db8cd49-d1b8-49b4-b48c-ac56e0ec8a5a"
      },
      "source": [
        "# Kiểm tra các giá trị predictions tensor (chú ý thêm dấu ngoặc vuông)\n",
        "y_preds"
      ],
      "execution_count": null,
      "outputs": [
        {
          "data": {
            "text/plain": [
              "array([[53.57109 ],\n",
              "       [57.05633 ],\n",
              "       [60.541573],\n",
              "       [64.02681 ],\n",
              "       [67.512054],\n",
              "       [70.99729 ],\n",
              "       [74.48254 ],\n",
              "       [77.96777 ],\n",
              "       [81.45301 ],\n",
              "       [84.938255]], dtype=float32)"
            ]
          },
          "execution_count": 41,
          "metadata": {
            "tags": []
          },
          "output_type": "execute_result"
        }
      ]
    },
    {
      "cell_type": "code",
      "metadata": {
        "colab": {
          "base_uri": "https://localhost:8080/"
        },
        "id": "xolZ-lmge_ES",
        "outputId": "c4658cbf-5176-4499-8fae-1c2f3baee7c5"
      },
      "source": [
        "# Kiểm tra shape của tensor\n",
        "y_test.shape, y_preds.shape"
      ],
      "execution_count": null,
      "outputs": [
        {
          "data": {
            "text/plain": [
              "((10,), (10, 1))"
            ]
          },
          "execution_count": 42,
          "metadata": {
            "tags": []
          },
          "output_type": "execute_result"
        }
      ]
    },
    {
      "cell_type": "markdown",
      "metadata": {
        "id": "eW1qleu5gHyZ"
      },
      "source": [
        "Một trong những vấn đề phổ biến nhất mà chúng ta sẽ gặp phải là làm thế nào để xử lý các shape đầu vào và đầu ra khác nhau, đây cũng là vấn đề mà lần này chúng ta phải đối mặt.\n",
        "\n",
        "Nhưng đừng lo.\n",
        "\n",
        "Chúng ta có thể khắc phục bằng cách sử dụng [`squeeze()`](https://www.tensorflow.org/api_docs/python/tf/squeeze), nó sẽ loại bỏ dimension `1` khỏi tensor `y_preds`, khiến nó có shape tương tự `y_test`.\n",
        "\n",
        "> 🔑 **Lưu ý:** Nếu so sánh hai tensor thì cần đảm bảo chúng có shape phù hợp (chúng ta không phải lúc nào cũng thao tác với các shape, nhưng hãy lưu ý rằng khi các tensor không khớp, đặc biệt là shape đầu vào và đầu ra không khớp, sẽ gây ra *nhiều* lỗi)."
      ]
    },
    {
      "cell_type": "code",
      "metadata": {
        "colab": {
          "base_uri": "https://localhost:8080/"
        },
        "id": "tVtMyw70g4aF",
        "outputId": "29dc2bac-aaba-4330-a07e-0806a312ee57"
      },
      "source": [
        "# Shape trước squeeze()\n",
        "y_preds.shape"
      ],
      "execution_count": null,
      "outputs": [
        {
          "data": {
            "text/plain": [
              "(10, 1)"
            ]
          },
          "execution_count": 45,
          "metadata": {
            "tags": []
          },
          "output_type": "execute_result"
        }
      ]
    },
    {
      "cell_type": "code",
      "metadata": {
        "colab": {
          "base_uri": "https://localhost:8080/"
        },
        "id": "qnYaBnCng-Nq",
        "outputId": "04e26605-2304-4596-ada3-01a2199f2575"
      },
      "source": [
        "# Shape sau squeeze()\n",
        "y_preds.squeeze().shape"
      ],
      "execution_count": null,
      "outputs": [
        {
          "data": {
            "text/plain": [
              "(10,)"
            ]
          },
          "execution_count": 46,
          "metadata": {
            "tags": []
          },
          "output_type": "execute_result"
        }
      ]
    },
    {
      "cell_type": "code",
      "metadata": {
        "colab": {
          "base_uri": "https://localhost:8080/"
        },
        "id": "HxvVeD64hEX8",
        "outputId": "25168925-e44f-4bbc-f6d3-c90495f7898a"
      },
      "source": [
        "# Chúng trông như thế nào?\n",
        "y_test, y_preds.squeeze()"
      ],
      "execution_count": null,
      "outputs": [
        {
          "data": {
            "text/plain": [
              "(array([ 70,  74,  78,  82,  86,  90,  94,  98, 102, 106]),\n",
              " array([53.57109 , 57.05633 , 60.541573, 64.02681 , 67.512054, 70.99729 ,\n",
              "        74.48254 , 77.96777 , 81.45301 , 84.938255], dtype=float32))"
            ]
          },
          "execution_count": 47,
          "metadata": {
            "tags": []
          },
          "output_type": "execute_result"
        }
      ]
    },
    {
      "cell_type": "markdown",
      "metadata": {
        "id": "mfUCIeHyhLk7"
      },
      "source": [
        "Chúng ta đã biết cách làm cho các tensor `y_test` và `y_preds` có cùng shape, hãy sử dụng các phép đo đánh giá."
      ]
    },
    {
      "cell_type": "code",
      "metadata": {
        "colab": {
          "base_uri": "https://localhost:8080/"
        },
        "id": "TvjY6GIJvXBO",
        "outputId": "00569a5a-3fea-4f28-d433-ca625e0b3c48"
      },
      "source": [
        "# Tính MAE\n",
        "mae = tf.metrics.mean_absolute_error(y_true=y_test,\n",
        "                                     y_pred=y_preds.squeeze()) # use squeeze() to make same shape\n",
        "mae"
      ],
      "execution_count": null,
      "outputs": [
        {
          "data": {
            "text/plain": [
              "<tf.Tensor: shape=(), dtype=float32, numpy=18.745327>"
            ]
          },
          "execution_count": 48,
          "metadata": {
            "tags": []
          },
          "output_type": "execute_result"
        }
      ]
    },
    {
      "cell_type": "code",
      "metadata": {
        "colab": {
          "base_uri": "https://localhost:8080/"
        },
        "id": "EwA9nGJzvbMT",
        "outputId": "562af788-a539-442c-86a5-d5753c252705"
      },
      "source": [
        "# Tính MSE\n",
        "mse = tf.metrics.mean_squared_error(y_true=y_test,\n",
        "                                    y_pred=y_preds.squeeze())\n",
        "mse"
      ],
      "execution_count": null,
      "outputs": [
        {
          "data": {
            "text/plain": [
              "<tf.Tensor: shape=(), dtype=float32, numpy=353.57336>"
            ]
          },
          "execution_count": 49,
          "metadata": {
            "tags": []
          },
          "output_type": "execute_result"
        }
      ]
    },
    {
      "cell_type": "markdown",
      "metadata": {
        "id": "X06oo_CIjPbL"
      },
      "source": [
        "Chúng ta cũng có thể tính toán MAE bằng cách sử dụng các hàm TensorFlow thuần túy."
      ]
    },
    {
      "cell_type": "code",
      "metadata": {
        "colab": {
          "base_uri": "https://localhost:8080/"
        },
        "id": "YxiD6-QBYSzd",
        "outputId": "02f83e09-754b-4244-ce49-bb896dbcf5b1"
      },
      "source": [
        "# Trả về kết quả tương tự tf.metrics.mean_absolute_error()\n",
        "tf.reduce_mean(tf.abs(y_test-y_preds.squeeze()))"
      ],
      "execution_count": null,
      "outputs": [
        {
          "data": {
            "text/plain": [
              "<tf.Tensor: shape=(), dtype=float64, numpy=18.745327377319335>"
            ]
          },
          "execution_count": 50,
          "metadata": {
            "tags": []
          },
          "output_type": "execute_result"
        }
      ]
    },
    {
      "cell_type": "markdown",
      "metadata": {
        "id": "rmEho4lYofOa"
      },
      "source": [
        "Chúng ta nên hàm hóa lại bất cứ thứ gì có thể sử dụng lại (hoặc tìm những thử có thể sử dụng đi sử dụng lại nhiều lần).\n",
        "\n",
        "Hãy tạo hàm cho các phép đo đánh giá của chúng ta."
      ]
    },
    {
      "cell_type": "code",
      "metadata": {
        "id": "bs1Z2jgNol5f"
      },
      "source": [
        "def mae(y_test, y_pred):\n",
        "  \"\"\"\n",
        "  Tính MAE giữa y_test và y_preds.\n",
        "  \"\"\"\n",
        "  return tf.metrics.mean_absolute_error(y_test,\n",
        "                                        y_pred)\n",
        "\n",
        "def mse(y_test, y_pred):\n",
        "  \"\"\"\n",
        "  Tính MSE giữa y_test và y_preds.\n",
        "  \"\"\"\n",
        "  return tf.metrics.mean_squared_error(y_test,\n",
        "                                       y_pred)"
      ],
      "execution_count": null,
      "outputs": []
    },
    {
      "cell_type": "markdown",
      "metadata": {
        "id": "zub5zK7bcl40"
      },
      "source": [
        "## Chạy thử nghiệm để cải thiện mô hình\n",
        "\n",
        "Sau khi xem các phép đo đánh giá và dự đoán mà mô hình đưa ra, có thể chúng ta sẽ cần cải thiện nó.\n",
        "\n",
        "Có nhiều cách thực hiện khác nhau, trong đó có 3 cách chính là:\n",
        "1. **Lấy nhiều dữ liệu hơn** - lấy thêm mẫu để mô hình huấn luyện (có thêm nhiều cơ hội để học các pattern).\n",
        "2. **Khiến mô hình lớn hơn (sử dụng mô hình phức tạp hơn)** - điều này có thể ở dạng nhiều layer hơn hoặc nhiều đơn vị ẩn hơn ở mỗi layer.\n",
        "3. **Huấn luyện lâu hơn** - tăng khả năng mô hình tìm thấy pattern trong dữ liệu.\n",
        "\n",
        "Do chúng ta đã tạo ra tập dữ liệu nên chúng ta có thể dễ dàng tạo thêm dữ liệu, tuy nhiên điều này không phải lúc nào cũng xảy ra khi chúng ta làm việc với tập dữ liệu thực tế.\n",
        "\n",
        "Hãy xem làm thế nào để cải thiện mô hình bằng cách sử dụng 2 và 3.\n",
        "\n",
        "Để thực hiện, chúng ta sẽ xây dựng 3 mô hình và so sánh kết quả của chúng:\n",
        "1. `model_1` - tương tự mô hình ban đầu, 1 layer, huấn luyện cho 100 epoch.\n",
        "2. `model_2` - 2 layer, huấn luyện cho 100 epoch.\n",
        "3. `model_3` - 2 layer, huấn luyện cho 500 epoch.\n",
        "\n",
        "**Xây dựng `model_1`**"
      ]
    },
    {
      "cell_type": "code",
      "metadata": {
        "colab": {
          "base_uri": "https://localhost:8080/"
        },
        "id": "StVHIIM9csyS",
        "outputId": "43adbb02-32c7-45a0-d8e0-f40a26bca4f9"
      },
      "source": [
        "# Thiết lập random seed\n",
        "tf.random.set_seed(42)\n",
        "\n",
        "# Sao chép mô hình ban đầu\n",
        "model_1 = tf.keras.Sequential([\n",
        "  tf.keras.layers.Dense(1)\n",
        "])\n",
        "\n",
        "# Biên dịch mô hình\n",
        "model_1.compile(loss=tf.keras.losses.mae,\n",
        "                optimizer=tf.keras.optimizers.SGD(),\n",
        "                metrics=['mae'])\n",
        "\n",
        "# Khớp mô hình\n",
        "model_1.fit(X_train, y_train, epochs=100)"
      ],
      "execution_count": null,
      "outputs": [
        {
          "name": "stdout",
          "output_type": "stream",
          "text": [
            "Epoch 1/100\n",
            "2/2 [==============================] - 0s 2ms/step - loss: 15.9024 - mae: 15.9024\n",
            "Epoch 2/100\n",
            "2/2 [==============================] - 0s 2ms/step - loss: 11.2837 - mae: 11.2837\n",
            "Epoch 3/100\n",
            "2/2 [==============================] - 0s 2ms/step - loss: 11.1074 - mae: 11.1074\n",
            "Epoch 4/100\n",
            "2/2 [==============================] - 0s 2ms/step - loss: 9.2991 - mae: 9.2991\n",
            "Epoch 5/100\n",
            "2/2 [==============================] - 0s 2ms/step - loss: 10.1677 - mae: 10.1677\n",
            "Epoch 6/100\n",
            "2/2 [==============================] - 0s 1ms/step - loss: 9.4303 - mae: 9.4303\n",
            "Epoch 7/100\n",
            "2/2 [==============================] - 0s 1ms/step - loss: 8.5704 - mae: 8.5704\n",
            "Epoch 8/100\n",
            "2/2 [==============================] - 0s 2ms/step - loss: 9.0442 - mae: 9.0442\n",
            "Epoch 9/100\n",
            "2/2 [==============================] - 0s 2ms/step - loss: 18.7517 - mae: 18.7517\n",
            "Epoch 10/100\n",
            "2/2 [==============================] - 0s 1ms/step - loss: 10.1142 - mae: 10.1142\n",
            "Epoch 11/100\n",
            "2/2 [==============================] - 0s 2ms/step - loss: 8.3980 - mae: 8.3980\n",
            "Epoch 12/100\n",
            "2/2 [==============================] - 0s 2ms/step - loss: 10.6639 - mae: 10.6639\n",
            "Epoch 13/100\n",
            "2/2 [==============================] - 0s 1ms/step - loss: 9.7977 - mae: 9.7977\n",
            "Epoch 14/100\n",
            "2/2 [==============================] - 0s 2ms/step - loss: 16.0103 - mae: 16.0103\n",
            "Epoch 15/100\n",
            "2/2 [==============================] - 0s 2ms/step - loss: 11.4068 - mae: 11.4068\n",
            "Epoch 16/100\n",
            "2/2 [==============================] - 0s 2ms/step - loss: 8.5393 - mae: 8.5393\n",
            "Epoch 17/100\n",
            "2/2 [==============================] - 0s 2ms/step - loss: 13.6348 - mae: 13.6348\n",
            "Epoch 18/100\n",
            "2/2 [==============================] - 0s 2ms/step - loss: 11.4629 - mae: 11.4629\n",
            "Epoch 19/100\n",
            "2/2 [==============================] - 0s 2ms/step - loss: 17.9148 - mae: 17.9148\n",
            "Epoch 20/100\n",
            "2/2 [==============================] - 0s 2ms/step - loss: 15.0494 - mae: 15.0494\n",
            "Epoch 21/100\n",
            "2/2 [==============================] - 0s 2ms/step - loss: 11.0216 - mae: 11.0216\n",
            "Epoch 22/100\n",
            "2/2 [==============================] - 0s 2ms/step - loss: 8.1558 - mae: 8.1558\n",
            "Epoch 23/100\n",
            "2/2 [==============================] - 0s 2ms/step - loss: 9.5138 - mae: 9.5138\n",
            "Epoch 24/100\n",
            "2/2 [==============================] - 0s 2ms/step - loss: 7.6617 - mae: 7.6617\n",
            "Epoch 25/100\n",
            "2/2 [==============================] - 0s 3ms/step - loss: 13.1859 - mae: 13.1859\n",
            "Epoch 26/100\n",
            "2/2 [==============================] - 0s 3ms/step - loss: 16.4211 - mae: 16.4211\n",
            "Epoch 27/100\n",
            "2/2 [==============================] - 0s 2ms/step - loss: 13.1660 - mae: 13.1660\n",
            "Epoch 28/100\n",
            "2/2 [==============================] - 0s 2ms/step - loss: 14.2559 - mae: 14.2559\n",
            "Epoch 29/100\n",
            "2/2 [==============================] - 0s 2ms/step - loss: 10.0670 - mae: 10.0670\n",
            "Epoch 30/100\n",
            "2/2 [==============================] - 0s 2ms/step - loss: 16.3409 - mae: 16.3409\n",
            "Epoch 31/100\n",
            "2/2 [==============================] - 0s 1ms/step - loss: 23.6444 - mae: 23.6444\n",
            "Epoch 32/100\n",
            "2/2 [==============================] - 0s 2ms/step - loss: 7.6215 - mae: 7.6215\n",
            "Epoch 33/100\n",
            "2/2 [==============================] - 0s 2ms/step - loss: 9.3221 - mae: 9.3221\n",
            "Epoch 34/100\n",
            "2/2 [==============================] - 0s 2ms/step - loss: 13.7313 - mae: 13.7313\n",
            "Epoch 35/100\n",
            "2/2 [==============================] - 0s 2ms/step - loss: 11.1276 - mae: 11.1276\n",
            "Epoch 36/100\n",
            "2/2 [==============================] - 0s 2ms/step - loss: 13.3222 - mae: 13.3222\n",
            "Epoch 37/100\n",
            "2/2 [==============================] - 0s 1ms/step - loss: 9.4763 - mae: 9.4763\n",
            "Epoch 38/100\n",
            "2/2 [==============================] - 0s 2ms/step - loss: 10.1381 - mae: 10.1381\n",
            "Epoch 39/100\n",
            "2/2 [==============================] - 0s 2ms/step - loss: 10.1793 - mae: 10.1793\n",
            "Epoch 40/100\n",
            "2/2 [==============================] - 0s 2ms/step - loss: 10.9137 - mae: 10.9137\n",
            "Epoch 41/100\n",
            "2/2 [==============================] - 0s 2ms/step - loss: 7.9063 - mae: 7.9063\n",
            "Epoch 42/100\n",
            "2/2 [==============================] - 0s 2ms/step - loss: 10.0914 - mae: 10.0914\n",
            "Epoch 43/100\n",
            "2/2 [==============================] - 0s 2ms/step - loss: 8.7006 - mae: 8.7006\n",
            "Epoch 44/100\n",
            "2/2 [==============================] - 0s 2ms/step - loss: 12.2047 - mae: 12.2047\n",
            "Epoch 45/100\n",
            "2/2 [==============================] - 0s 2ms/step - loss: 13.7970 - mae: 13.7970\n",
            "Epoch 46/100\n",
            "2/2 [==============================] - 0s 2ms/step - loss: 8.4687 - mae: 8.4687\n",
            "Epoch 47/100\n",
            "2/2 [==============================] - 0s 2ms/step - loss: 9.1330 - mae: 9.1330\n",
            "Epoch 48/100\n",
            "2/2 [==============================] - 0s 2ms/step - loss: 10.6190 - mae: 10.6190\n",
            "Epoch 49/100\n",
            "2/2 [==============================] - 0s 2ms/step - loss: 7.7503 - mae: 7.7503\n",
            "Epoch 50/100\n",
            "2/2 [==============================] - 0s 2ms/step - loss: 9.5407 - mae: 9.5407\n",
            "Epoch 51/100\n",
            "2/2 [==============================] - 0s 2ms/step - loss: 9.1584 - mae: 9.1584\n",
            "Epoch 52/100\n",
            "2/2 [==============================] - 0s 2ms/step - loss: 16.3630 - mae: 16.3630\n",
            "Epoch 53/100\n",
            "2/2 [==============================] - 0s 2ms/step - loss: 14.1299 - mae: 14.1299\n",
            "Epoch 54/100\n",
            "2/2 [==============================] - 0s 2ms/step - loss: 21.1247 - mae: 21.1247\n",
            "Epoch 55/100\n",
            "2/2 [==============================] - 0s 2ms/step - loss: 16.3961 - mae: 16.3961\n",
            "Epoch 56/100\n",
            "2/2 [==============================] - 0s 2ms/step - loss: 9.9806 - mae: 9.9806\n",
            "Epoch 57/100\n",
            "2/2 [==============================] - 0s 2ms/step - loss: 9.9606 - mae: 9.9606\n",
            "Epoch 58/100\n",
            "2/2 [==============================] - 0s 8ms/step - loss: 9.2209 - mae: 9.2209\n",
            "Epoch 59/100\n",
            "2/2 [==============================] - 0s 2ms/step - loss: 8.4239 - mae: 8.4239\n",
            "Epoch 60/100\n",
            "2/2 [==============================] - 0s 2ms/step - loss: 9.4869 - mae: 9.4869\n",
            "Epoch 61/100\n",
            "2/2 [==============================] - 0s 2ms/step - loss: 11.4355 - mae: 11.4355\n",
            "Epoch 62/100\n",
            "2/2 [==============================] - 0s 2ms/step - loss: 11.6887 - mae: 11.6887\n",
            "Epoch 63/100\n",
            "2/2 [==============================] - 0s 2ms/step - loss: 7.0838 - mae: 7.0838\n",
            "Epoch 64/100\n",
            "2/2 [==============================] - 0s 2ms/step - loss: 16.9675 - mae: 16.9675\n",
            "Epoch 65/100\n",
            "2/2 [==============================] - 0s 1ms/step - loss: 12.4599 - mae: 12.4599\n",
            "Epoch 66/100\n",
            "2/2 [==============================] - 0s 2ms/step - loss: 13.0184 - mae: 13.0184\n",
            "Epoch 67/100\n",
            "2/2 [==============================] - 0s 2ms/step - loss: 8.0600 - mae: 8.0600\n",
            "Epoch 68/100\n",
            "2/2 [==============================] - 0s 2ms/step - loss: 10.1888 - mae: 10.1888\n",
            "Epoch 69/100\n",
            "2/2 [==============================] - 0s 2ms/step - loss: 12.3633 - mae: 12.3633\n",
            "Epoch 70/100\n",
            "2/2 [==============================] - 0s 2ms/step - loss: 9.0516 - mae: 9.0516\n",
            "Epoch 71/100\n",
            "2/2 [==============================] - 0s 2ms/step - loss: 10.0378 - mae: 10.0378\n",
            "Epoch 72/100\n",
            "2/2 [==============================] - 0s 1ms/step - loss: 10.0516 - mae: 10.0516\n",
            "Epoch 73/100\n",
            "2/2 [==============================] - 0s 1ms/step - loss: 12.6151 - mae: 12.6151\n",
            "Epoch 74/100\n",
            "2/2 [==============================] - 0s 1ms/step - loss: 10.3819 - mae: 10.3819\n",
            "Epoch 75/100\n",
            "2/2 [==============================] - 0s 1ms/step - loss: 9.7229 - mae: 9.7229\n",
            "Epoch 76/100\n",
            "2/2 [==============================] - 0s 2ms/step - loss: 11.2252 - mae: 11.2252\n",
            "Epoch 77/100\n",
            "2/2 [==============================] - 0s 2ms/step - loss: 8.3642 - mae: 8.3642\n",
            "Epoch 78/100\n",
            "2/2 [==============================] - 0s 2ms/step - loss: 9.1274 - mae: 9.1274\n",
            "Epoch 79/100\n",
            "2/2 [==============================] - 0s 2ms/step - loss: 19.5039 - mae: 19.5039\n",
            "Epoch 80/100\n",
            "2/2 [==============================] - 0s 1ms/step - loss: 14.8945 - mae: 14.8945\n",
            "Epoch 81/100\n",
            "2/2 [==============================] - 0s 1ms/step - loss: 9.0034 - mae: 9.0034\n",
            "Epoch 82/100\n",
            "2/2 [==============================] - 0s 2ms/step - loss: 13.0206 - mae: 13.0206\n",
            "Epoch 83/100\n",
            "2/2 [==============================] - 0s 2ms/step - loss: 7.9299 - mae: 7.9299\n",
            "Epoch 84/100\n",
            "2/2 [==============================] - 0s 2ms/step - loss: 7.6872 - mae: 7.6872\n",
            "Epoch 85/100\n",
            "2/2 [==============================] - 0s 2ms/step - loss: 10.0328 - mae: 10.0328\n",
            "Epoch 86/100\n",
            "2/2 [==============================] - 0s 2ms/step - loss: 9.2433 - mae: 9.2433\n",
            "Epoch 87/100\n",
            "2/2 [==============================] - 0s 2ms/step - loss: 12.0209 - mae: 12.0209\n",
            "Epoch 88/100\n",
            "2/2 [==============================] - 0s 1ms/step - loss: 10.6389 - mae: 10.6389\n",
            "Epoch 89/100\n",
            "2/2 [==============================] - 0s 2ms/step - loss: 7.2667 - mae: 7.2667\n",
            "Epoch 90/100\n",
            "2/2 [==============================] - 0s 2ms/step - loss: 12.7786 - mae: 12.7786\n",
            "Epoch 91/100\n",
            "2/2 [==============================] - 0s 1ms/step - loss: 7.3481 - mae: 7.3481\n",
            "Epoch 92/100\n",
            "2/2 [==============================] - 0s 2ms/step - loss: 7.7175 - mae: 7.7175\n",
            "Epoch 93/100\n",
            "2/2 [==============================] - 0s 1ms/step - loss: 7.1263 - mae: 7.1263\n",
            "Epoch 94/100\n",
            "2/2 [==============================] - 0s 3ms/step - loss: 12.6190 - mae: 12.6190\n",
            "Epoch 95/100\n",
            "2/2 [==============================] - 0s 2ms/step - loss: 10.0912 - mae: 10.0912\n",
            "Epoch 96/100\n",
            "2/2 [==============================] - 0s 1ms/step - loss: 9.3558 - mae: 9.3558\n",
            "Epoch 97/100\n",
            "2/2 [==============================] - 0s 1ms/step - loss: 12.6834 - mae: 12.6834\n",
            "Epoch 98/100\n",
            "2/2 [==============================] - 0s 1ms/step - loss: 8.6762 - mae: 8.6762\n",
            "Epoch 99/100\n",
            "2/2 [==============================] - 0s 2ms/step - loss: 9.4693 - mae: 9.4693\n",
            "Epoch 100/100\n",
            "2/2 [==============================] - 0s 1ms/step - loss: 8.7067 - mae: 8.7067\n"
          ]
        },
        {
          "data": {
            "text/plain": [
              "<tensorflow.python.keras.callbacks.History at 0x7fa2388fec50>"
            ]
          },
          "execution_count": 52,
          "metadata": {
            "tags": []
          },
          "output_type": "execute_result"
        }
      ]
    },
    {
      "cell_type": "code",
      "metadata": {
        "colab": {
          "base_uri": "https://localhost:8080/",
          "height": 428
        },
        "id": "A-Da56xspOrY",
        "outputId": "c3d54795-1607-474f-a2ca-065cd3eb8d5c"
      },
      "source": [
        "# Đưa ra và vẽ biểu đồ dự đoán cho model_1\n",
        "y_preds_1 = model_1.predict(X_test)\n",
        "plot_predictions(predictions=y_preds_1)"
      ],
      "execution_count": null,
      "outputs": [
        {
          "data": {
            "image/png": "[encoded data removed]",
            "text/plain": [
              "<Figure size 720x504 with 1 Axes>"
            ]
          },
          "metadata": {
            "needs_background": "light",
            "tags": []
          },
          "output_type": "display_data"
        }
      ]
    },
    {
      "cell_type": "code",
      "metadata": {
        "colab": {
          "base_uri": "https://localhost:8080/"
        },
        "id": "EXxHBAtHoSh2",
        "outputId": "374608b9-155f-4252-c9ad-c32e0ac1306b"
      },
      "source": [
        "# Tính các phép đo model_1\n",
        "mae_1 = mae(y_test, y_preds_1.squeeze()).numpy()\n",
        "mse_1 = mse(y_test, y_preds_1.squeeze()).numpy()\n",
        "mae_1, mse_1"
      ],
      "execution_count": null,
      "outputs": [
        {
          "data": {
            "text/plain": [
              "(18.745327, 353.57336)"
            ]
          },
          "execution_count": 55,
          "metadata": {
            "tags": []
          },
          "output_type": "execute_result"
        }
      ]
    },
    {
      "cell_type": "markdown",
      "metadata": {
        "id": "XXELOpdBrE9_"
      },
      "source": [
        "**Xây dựng `model_2`**\n",
        "\n",
        "Lần này chúng ta sẽ thêm một dense layer (như vậy chúng ta sẽ có 2 layer) còn những thứ khác vẫn giữ nguyên."
      ]
    },
    {
      "cell_type": "code",
      "metadata": {
        "colab": {
          "base_uri": "https://localhost:8080/"
        },
        "id": "05vcgEP3rEFi",
        "outputId": "efcfdc73-7e52-4f92-c9be-f0a9705bb8b4"
      },
      "source": [
        "# Thiết lập random seed\n",
        "tf.random.set_seed(42)\n",
        "\n",
        "# Sao chép model_1 và thêm một layer bổ sung\n",
        "model_2 = tf.keras.Sequential([\n",
        "  tf.keras.layers.Dense(1),\n",
        "  tf.keras.layers.Dense(1) # thêm layer thứ hai\n",
        "])\n",
        "\n",
        "# Biên dịch mô hình\n",
        "model_2.compile(loss=tf.keras.losses.mae,\n",
        "                optimizer=tf.keras.optimizers.SGD(),\n",
        "                metrics=['mae'])\n",
        "\n",
        "# Khớp mô hình\n",
        "model_2.fit(X_train, y_train, epochs=100, verbose=0) # đặt verbose bằng 0 cho ít đầu ra hơn"
      ],
      "execution_count": null,
      "outputs": [
        {
          "data": {
            "text/plain": [
              "<tensorflow.python.keras.callbacks.History at 0x7fa23800bf98>"
            ]
          },
          "execution_count": 56,
          "metadata": {
            "tags": []
          },
          "output_type": "execute_result"
        }
      ]
    },
    {
      "cell_type": "code",
      "metadata": {
        "colab": {
          "base_uri": "https://localhost:8080/",
          "height": 465
        },
        "id": "9xCbDcoDraux",
        "outputId": "ab90da58-ae1e-4639-b210-9dfee04d8426"
      },
      "source": [
        "# Đưa ra và vẽ biểu đồ dự đoán cho model_2\n",
        "y_preds_2 = model_2.predict(X_test)\n",
        "plot_predictions(predictions=y_preds_2)"
      ],
      "execution_count": null,
      "outputs": [
        {
          "name": "stdout",
          "output_type": "stream",
          "text": [
            "WARNING:tensorflow:5 out of the last 5 calls to <function Model.make_predict_function.<locals>.predict_function at 0x7fa239dc71e0> triggered tf.function retracing. Tracing is expensive and the excessive number of tracings could be due to (1) creating @tf.function repeatedly in a loop, (2) passing tensors with different shapes, (3) passing Python objects instead of tensors. For (1), please define your @tf.function outside of the loop. For (2), @tf.function has experimental_relax_shapes=True option that relaxes argument shapes that can avoid unnecessary retracing. For (3), please refer to https://www.tensorflow.org/tutorials/customization/performance#python_or_tensor_args and https://www.tensorflow.org/api_docs/python/tf/function for  more details.\n"
          ]
        },
        {
          "data": {
            "image/png": "[encoded data removed]",
            "text/plain": [
              "<Figure size 720x504 with 1 Axes>"
            ]
          },
          "metadata": {
            "needs_background": "light",
            "tags": []
          },
          "output_type": "display_data"
        }
      ]
    },
    {
      "cell_type": "markdown",
      "metadata": {
        "id": "GxMYu5Frri6o"
      },
      "source": [
        "Trông tốt hơn rồi đấy! Tất cả những gì nó cần là thêm một lớp."
      ]
    },
    {
      "cell_type": "code",
      "metadata": {
        "colab": {
          "base_uri": "https://localhost:8080/"
        },
        "id": "9LnPuGaBrcrP",
        "outputId": "2d2f9761-fca9-4da2-a470-d2194d3edf35"
      },
      "source": [
        "# Tính các phép đo model_2\n",
        "mae_2 = mae(y_test, y_preds_2.squeeze()).numpy()\n",
        "mse_2 = mse(y_test, y_preds_2.squeeze()).numpy()\n",
        "mae_2, mse_2"
      ],
      "execution_count": null,
      "outputs": [
        {
          "data": {
            "text/plain": [
              "(1.9098114, 5.459232)"
            ]
          },
          "execution_count": 58,
          "metadata": {
            "tags": []
          },
          "output_type": "execute_result"
        }
      ]
    },
    {
      "cell_type": "markdown",
      "metadata": {
        "id": "R8i9yfQGrwHx"
      },
      "source": [
        "**Xây dựng `model_3`**\n",
        "\n",
        "Với mô hình thứ 3, chúng ta sẽ giữ nguyên mọi thứ như `model_2`, trừ việc lần này chúng ta sẽ huấn luyện lâu hơn (500 epoch chứ không phải 100).\n",
        "\n",
        "Điều này sẽ giúp mô hình có nhiều cơ hội hơn để tìm hiểu các pattern trong dữ liệu."
      ]
    },
    {
      "cell_type": "code",
      "metadata": {
        "colab": {
          "base_uri": "https://localhost:8080/"
        },
        "id": "ABGwQFsbrvUS",
        "outputId": "8b839e0e-df92-4308-da5a-2e65984b99c6"
      },
      "source": [
        "# Thiết lập random seed\n",
        "tf.random.set_seed(42)\n",
        "\n",
        "# Sao chép model_2\n",
        "model_3 = tf.keras.Sequential([\n",
        "  tf.keras.layers.Dense(1),\n",
        "  tf.keras.layers.Dense(1)\n",
        "])\n",
        "\n",
        "# Biên dịch mô hình\n",
        "model_3.compile(loss=tf.keras.losses.mae,\n",
        "                optimizer=tf.keras.optimizers.SGD(),\n",
        "                metrics=['mae'])\n",
        "\n",
        "# Khớp mô hình (lần này là cho 500 epoch, không phải 100)\n",
        "model_3.fit(X_train, y_train, epochs=500, verbose=0) # đặt verbose bằng 0 cho ít đầu ra hơn"
      ],
      "execution_count": null,
      "outputs": [
        {
          "data": {
            "text/plain": [
              "<tensorflow.python.keras.callbacks.History at 0x7fa239ce6cf8>"
            ]
          },
          "execution_count": 59,
          "metadata": {
            "tags": []
          },
          "output_type": "execute_result"
        }
      ]
    },
    {
      "cell_type": "code",
      "metadata": {
        "colab": {
          "base_uri": "https://localhost:8080/",
          "height": 465
        },
        "id": "jEz4bVmasbFk",
        "outputId": "37b79c36-ae29-494a-a90a-95300857ad7a"
      },
      "source": [
        "# Đưa ra và vẽ biểu đồ dự đoán cho  model_3\n",
        "y_preds_3 = model_3.predict(X_test)\n",
        "plot_predictions(predictions=y_preds_3)"
      ],
      "execution_count": null,
      "outputs": [
        {
          "name": "stdout",
          "output_type": "stream",
          "text": [
            "WARNING:tensorflow:6 out of the last 6 calls to <function Model.make_predict_function.<locals>.predict_function at 0x7fa239c411e0> triggered tf.function retracing. Tracing is expensive and the excessive number of tracings could be due to (1) creating @tf.function repeatedly in a loop, (2) passing tensors with different shapes, (3) passing Python objects instead of tensors. For (1), please define your @tf.function outside of the loop. For (2), @tf.function has experimental_relax_shapes=True option that relaxes argument shapes that can avoid unnecessary retracing. For (3), please refer to https://www.tensorflow.org/tutorials/customization/performance#python_or_tensor_args and https://www.tensorflow.org/api_docs/python/tf/function for  more details.\n"
          ]
        },
        {
          "data": {
            "image/png": "[encoded data removed]",
            "text/plain": [
              "<Figure size 720x504 with 1 Axes>"
            ]
          },
          "metadata": {
            "needs_background": "light",
            "tags": []
          },
          "output_type": "display_data"
        }
      ]
    },
    {
      "cell_type": "markdown",
      "metadata": {
        "id": "38Ki8ZHcsztG"
      },
      "source": [
        "Thật kỳ lạ, chúng ta đã huấn luyện lâu hơn nhưng mô hình lại hoạt động kém hơn.\n",
        "\n",
        "Hóa ra mô hình có thể đã huấn luyện quá lâu, do đó dẫn đến kết quả tồi tệ hơn (chúng ta sẽ tìm hiểu các cách ngăn chặn việc huấn luyện quá lâu sau)."
      ]
    },
    {
      "cell_type": "code",
      "metadata": {
        "colab": {
          "base_uri": "https://localhost:8080/"
        },
        "id": "BPTUcFe4sbfk",
        "outputId": "fac9412b-1c17-4def-bac4-9098ba9d409d"
      },
      "source": [
        "# Tính các phép đo model_3\n",
        "mae_3 = mae(y_test, y_preds_3.squeeze()).numpy()\n",
        "mse_3 = mse(y_test, y_preds_3.squeeze()).numpy()\n",
        "mae_3, mse_3"
      ],
      "execution_count": null,
      "outputs": [
        {
          "data": {
            "text/plain": [
              "(68.68786, 4804.4717)"
            ]
          },
          "execution_count": 61,
          "metadata": {
            "tags": []
          },
          "output_type": "execute_result"
        }
      ]
    },
    {
      "cell_type": "markdown",
      "metadata": {
        "id": "UPEeM3UsrxGB"
      },
      "source": [
        "## So sánh kết quả\n",
        "\n",
        "Chúng ta thu được 3 kết quả tương tự, chỉ hơi khác nhau một chút, hãy so sánh chúng."
      ]
    },
    {
      "cell_type": "code",
      "metadata": {
        "id": "mw5RZk-BqLZd"
      },
      "source": [
        "model_results = [[\"model_1\", mae_1, mse_1],\n",
        "                 [\"model_2\", mae_2, mse_2],\n",
        "                 [\"model_3\", mae_3, mae_3]]"
      ],
      "execution_count": null,
      "outputs": []
    },
    {
      "cell_type": "code",
      "metadata": {
        "colab": {
          "base_uri": "https://localhost:8080/",
          "height": 136
        },
        "id": "Ip7bKH83p5X0",
        "outputId": "0ca9c01f-d6f7-4a15-b0be-a7c497e076eb"
      },
      "source": [
        "import pandas as pd\n",
        "all_results = pd.DataFrame(model_results, columns=[\"model\", \"mae\", \"mse\"])\n",
        "all_results"
      ],
      "execution_count": null,
      "outputs": [
        {
          "data": {
            "text/html": [
              "<div>\n",
              "<style scoped>\n",
              "    .dataframe tbody tr th:only-of-type {\n",
              "        vertical-align: middle;\n",
              "    }\n",
              "\n",
              "    .dataframe tbody tr th {\n",
              "        vertical-align: top;\n",
              "    }\n",
              "\n",
              "    .dataframe thead th {\n",
              "        text-align: right;\n",
              "    }\n",
              "</style>\n",
              "<table border=\"1\" class=\"dataframe\">\n",
              "  <thead>\n",
              "    <tr style=\"text-align: right;\">\n",
              "      <th></th>\n",
              "      <th>model</th>\n",
              "      <th>mae</th>\n",
              "      <th>mse</th>\n",
              "    </tr>\n",
              "  </thead>\n",
              "  <tbody>\n",
              "    <tr>\n",
              "      <th>0</th>\n",
              "      <td>model_1</td>\n",
              "      <td>18.745327</td>\n",
              "      <td>353.573364</td>\n",
              "    </tr>\n",
              "    <tr>\n",
              "      <th>1</th>\n",
              "      <td>model_2</td>\n",
              "      <td>1.909811</td>\n",
              "      <td>5.459232</td>\n",
              "    </tr>\n",
              "    <tr>\n",
              "      <th>2</th>\n",
              "      <td>model_3</td>\n",
              "      <td>68.687859</td>\n",
              "      <td>68.687859</td>\n",
              "    </tr>\n",
              "  </tbody>\n",
              "</table>\n",
              "</div>"
            ],
            "text/plain": [
              "     model        mae         mse\n",
              "0  model_1  18.745327  353.573364\n",
              "1  model_2   1.909811    5.459232\n",
              "2  model_3  68.687859   68.687859"
            ]
          },
          "execution_count": 64,
          "metadata": {
            "tags": []
          },
          "output_type": "execute_result"
        }
      ]
    },
    {
      "cell_type": "markdown",
      "metadata": {
        "id": "o_AtUiwuuLGo"
      },
      "source": [
        "Từ các thử nghiệm, có vẻ `model_2` hoạt động tốt nhất.\n",
        "\n",
        "Và giờ, bạn có thể nghĩ, \"việc so sánh các mô hình thật tẻ nhạt ...\" và chắc chắn là vậy, chúng ta chỉ so sánh 3 mô hình ở đây.\n",
        "\n",
        "Nhưng đây là một phần của mô hình học máy: thử nhiều tổ hợp mô hình khác nhau và xem mô hình nào hoạt động tốt nhất.\n",
        "\n",
        "Mỗi mô hình mà chúng ta xây dựng là một thử nghiệm nhỏ.\n",
        "\n",
        "> 🔑 **Lưu ý:** Một trong những mục tiêu chính của chúng ta là giảm thiểu thời gian giữa các thử nghiệm. Càng thử nghiệm nhiều thì chúng ta sẽ càng biết điều gì hiệu quả và không hiệu quả. Hãy nhớ phương châm khi học machine learning: \"thử nghiệm, thử nghiệm, thử nghiệm\".\n",
        "\n",
        "Các bạn cũng sẽ thấy là những gì bạn nghĩ có thể hoạt động (chẳng hạn như huấn luyện mô hình lâu hơn) không phải lúc nào cũng hiệu quả và điều ngược lại cũng thường xảy ra.\n",
        "\n",
        "## Theo dõi các thử nghiệm\n",
        "\n",
        "Chúng ta cần rèn thói quen theo dõi các thử nghiệm lập mô hình để xem thử nghiệm nào hoạt động tốt hơn so với những thử nghiệm khác.\n",
        "\n",
        "Chúng ta đã thực hiện một phiên bản đơn giản của điều này ở trên (giữ nguyên kết quả ở các biến khác nhau).\n",
        "\n",
        "> 📖 **Tài liệu:** Nhưng khi xây dựng nhiều mô hình hơn, chúng ta sẽ cần xem xét sử dụng các công cụ như:\n",
        "* [**TensorBoard**](https://tensorboard.dev/) - thành phần của thư viện TensorFlow, giúp theo dõi các thử nghiệm lập mô hình (sẽ tìm hiểu sau).\n",
        "* [**Weights & Biases**](https://www.wandb.com/) - công cụ theo dõi tất cả các loại thử nghiệm học máy (tin tốt là Weights & Biases đã được đưa vào TensorBoard)."
      ]
    },
    {
      "cell_type": "markdown",
      "metadata": {
        "id": "Fe5DgNbX6192"
      },
      "source": [
        "## Lưu mô hình\n",
        "\n",
        "Sau khi đã huấn luyện mô hình và tìm ra mô hình hoạt động như mong muốn, có thể bạn sẽ muốn lưu nó để sử dụng ở nơi khác (như ứng dụng web hoặc thiết bị di động).\n",
        "\n",
        "Chúng ta có thể lưu mô hình TensorFlow/Keras bằng [`model.save()`](https://www.tensorflow.org/tutorials/keras/save_and_load#save_the_entire_model).\n",
        "\n",
        "Có hai cách để lưu một mô hình trong TensorFlow:\n",
        "1. [SavedModel format](https://www.tensorflow.org/tutorials/keras/save_and_load#savedmodel_format) (mặc định).\n",
        "2. [HDF5 format](https://www.tensorflow.org/tutorials/keras/save_and_load#hdf5_format).\n",
        "\n",
        "Khác biệt chính giữa hai cách này là SavedModel có thể tự động lưu các đối tượng tùy chỉnh (chẳng hạn như các layer đặc biệt) mà không cần sửa đổi thêm khi load mô hình trở lại.\n",
        "\n",
        "Chúng ta nên sử dụng cái nào?\n",
        "\n",
        "Điều này tùy thuộc vào tình huống của bạn nhưng hầu như SavedModel format sẽ đáp ứng.\n",
        "\n",
        "Cả hai phương pháp đều sử dụng cùng một phép gọi phương thức."
      ]
    },
    {
      "cell_type": "code",
      "metadata": {
        "colab": {
          "base_uri": "https://localhost:8080/"
        },
        "id": "gg0jD2cUoPsg",
        "outputId": "302b7457-0b55-4418-a2e5-e1e448d3e050"
      },
      "source": [
        "# Lưu mô hình với SavedModel format\n",
        "model_2.save('best_model_SavedModel_format')"
      ],
      "execution_count": null,
      "outputs": [
        {
          "name": "stdout",
          "output_type": "stream",
          "text": [
            "WARNING:tensorflow:From /usr/local/lib/python3.6/dist-packages/tensorflow/python/training/tracking/tracking.py:111: Model.state_updates (from tensorflow.python.keras.engine.training) is deprecated and will be removed in a future version.\n",
            "Instructions for updating:\n",
            "This property should not be used in TensorFlow 2.0, as updates are applied automatically.\n",
            "WARNING:tensorflow:From /usr/local/lib/python3.6/dist-packages/tensorflow/python/training/tracking/tracking.py:111: Layer.updates (from tensorflow.python.keras.engine.base_layer) is deprecated and will be removed in a future version.\n",
            "Instructions for updating:\n",
            "This property should not be used in TensorFlow 2.0, as updates are applied automatically.\n",
            "INFO:tensorflow:Assets written to: best_model_SavedModel_format/assets\n"
          ]
        }
      ]
    },
    {
      "cell_type": "code",
      "metadata": {
        "colab": {
          "base_uri": "https://localhost:8080/"
        },
        "id": "dsCpDYrU7D1j",
        "outputId": "b111ce11-a64a-40f3-8901-4273713447db"
      },
      "source": [
        "# Hãy kiểm tra - xuất ra file nhị phân protobuf (.pb) cũng như các file khác\n",
        "!ls best_model_SavedModel_format"
      ],
      "execution_count": null,
      "outputs": [
        {
          "name": "stdout",
          "output_type": "stream",
          "text": [
            "assets\tsaved_model.pb\tvariables\n"
          ]
        }
      ]
    },
    {
      "cell_type": "markdown",
      "metadata": {
        "id": "NGKmWco_SOEU"
      },
      "source": [
        "Bây giờ hãy lưu mô hình ở định dạng HDF5, chúng ta sẽ sử dụng cùng một phương pháp nhưng với tên file khác."
      ]
    },
    {
      "cell_type": "code",
      "metadata": {
        "id": "97J6GJMBSM2j"
      },
      "source": [
        "# Lưu mô hình với HDF5 format\n",
        "model_2.save(\"best_model_HDF5_format.h5\") # lưu ý '.h5' ở cuối"
      ],
      "execution_count": null,
      "outputs": []
    },
    {
      "cell_type": "code",
      "metadata": {
        "colab": {
          "base_uri": "https://localhost:8080/"
        },
        "id": "vB7TmsSGSjdv",
        "outputId": "47447b90-93cf-430f-b338-9549a4c7a80e"
      },
      "source": [
        "# Hãy kiểm tra\n",
        "!ls best_model_HDF5_format.h5"
      ],
      "execution_count": null,
      "outputs": [
        {
          "name": "stdout",
          "output_type": "stream",
          "text": [
            "best_model_HDF5_format.h5\n"
          ]
        }
      ]
    },
    {
      "cell_type": "markdown",
      "metadata": {
        "id": "OGA02tY97EUI"
      },
      "source": [
        "## Load mô hình\n",
        "\n",
        "Chúng ta có thể load một mô hình đã lưu bằng phương thức [`load_model()`](https://www.tensorflow.org/api_docs/python/tf/keras/models/load_model).\n",
        "\n",
        "Việc load mô hình cho các định dạng khác nhau (SavedModel và HDF5) là giống nhau (miễn là tên đường dẫn đến các định dạng cụ thể là chính xác)."
      ]
    },
    {
      "cell_type": "code",
      "metadata": {
        "colab": {
          "base_uri": "https://localhost:8080/"
        },
        "id": "FzyLIWfs7Fvh",
        "outputId": "e75e4be0-9031-492a-82b1-df9813dbfa9e"
      },
      "source": [
        "# Load mô hình từ SavedModel format\n",
        "loaded_saved_model = tf.keras.models.load_model(\"best_model_SavedModel_format\")\n",
        "loaded_saved_model.summary()"
      ],
      "execution_count": null,
      "outputs": [
        {
          "name": "stdout",
          "output_type": "stream",
          "text": [
            "Model: \"sequential_9\"\n",
            "_________________________________________________________________\n",
            "Layer (type)                 Output Shape              Param #   \n",
            "=================================================================\n",
            "dense_9 (Dense)              (None, 1)                 2         \n",
            "_________________________________________________________________\n",
            "dense_10 (Dense)             (None, 1)                 2         \n",
            "=================================================================\n",
            "Total params: 4\n",
            "Trainable params: 4\n",
            "Non-trainable params: 0\n",
            "_________________________________________________________________\n"
          ]
        }
      ]
    },
    {
      "cell_type": "markdown",
      "metadata": {
        "id": "MfGO0dCQTeQh"
      },
      "source": [
        "Hãy kiểm tra."
      ]
    },
    {
      "cell_type": "code",
      "metadata": {
        "colab": {
          "base_uri": "https://localhost:8080/"
        },
        "id": "7rehN8ZxTy43",
        "outputId": "21f5abf1-d4d0-4724-f0c4-af6b36adab66"
      },
      "source": [
        "# So sánh model_2 với phiên bản SavedModel (nên trả về True)\n",
        "model_2_preds = model_2.predict(X_test)\n",
        "saved_model_preds = loaded_saved_model.predict(X_test)\n",
        "mae(y_test, saved_model_preds.squeeze()).numpy() == mae(y_test, model_2_preds.squeeze()).numpy()"
      ],
      "execution_count": null,
      "outputs": [
        {
          "name": "stdout",
          "output_type": "stream",
          "text": [
            "WARNING:tensorflow:7 out of the last 8 calls to <function Model.make_predict_function.<locals>.predict_function at 0x7fa239a2df28> triggered tf.function retracing. Tracing is expensive and the excessive number of tracings could be due to (1) creating @tf.function repeatedly in a loop, (2) passing tensors with different shapes, (3) passing Python objects instead of tensors. For (1), please define your @tf.function outside of the loop. For (2), @tf.function has experimental_relax_shapes=True option that relaxes argument shapes that can avoid unnecessary retracing. For (3), please refer to https://www.tensorflow.org/tutorials/customization/performance#python_or_tensor_args and https://www.tensorflow.org/api_docs/python/tf/function for  more details.\n"
          ]
        },
        {
          "data": {
            "text/plain": [
              "True"
            ]
          },
          "execution_count": 70,
          "metadata": {
            "tags": []
          },
          "output_type": "execute_result"
        }
      ]
    },
    {
      "cell_type": "markdown",
      "metadata": {
        "id": "prjkfX6rUZ6a"
      },
      "source": [
        "Load từ HDF5 cũng khá tương tự."
      ]
    },
    {
      "cell_type": "code",
      "metadata": {
        "colab": {
          "base_uri": "https://localhost:8080/"
        },
        "id": "dQfx-bWKUfRQ",
        "outputId": "4ed850bd-6f03-4278-c1ec-e81c5ea2c3c3"
      },
      "source": [
        "# Load mô hình từ HDF5 format\n",
        "loaded_h5_model = tf.keras.models.load_model(\"best_model_HDF5_format.h5\")\n",
        "loaded_h5_model.summary()"
      ],
      "execution_count": null,
      "outputs": [
        {
          "name": "stdout",
          "output_type": "stream",
          "text": [
            "Model: \"sequential_9\"\n",
            "_________________________________________________________________\n",
            "Layer (type)                 Output Shape              Param #   \n",
            "=================================================================\n",
            "dense_9 (Dense)              (None, 1)                 2         \n",
            "_________________________________________________________________\n",
            "dense_10 (Dense)             (None, 1)                 2         \n",
            "=================================================================\n",
            "Total params: 4\n",
            "Trainable params: 4\n",
            "Non-trainable params: 0\n",
            "_________________________________________________________________\n"
          ]
        }
      ]
    },
    {
      "cell_type": "code",
      "metadata": {
        "colab": {
          "base_uri": "https://localhost:8080/"
        },
        "id": "L0kT91h-Uru-",
        "outputId": "5968cbb9-26f3-436d-9f05-70d5f00f6a7f"
      },
      "source": [
        "# So sánh model_2 với phiên bản HDF5 đã load (nên trả về True)\n",
        "h5_model_preds = loaded_h5_model.predict(X_test)\n",
        "mae(y_test, h5_model_preds.squeeze()).numpy() == mae(y_test, model_2_preds.squeeze()).numpy()"
      ],
      "execution_count": null,
      "outputs": [
        {
          "name": "stdout",
          "output_type": "stream",
          "text": [
            "WARNING:tensorflow:8 out of the last 9 calls to <function Model.make_predict_function.<locals>.predict_function at 0x7fa239732e18> triggered tf.function retracing. Tracing is expensive and the excessive number of tracings could be due to (1) creating @tf.function repeatedly in a loop, (2) passing tensors with different shapes, (3) passing Python objects instead of tensors. For (1), please define your @tf.function outside of the loop. For (2), @tf.function has experimental_relax_shapes=True option that relaxes argument shapes that can avoid unnecessary retracing. For (3), please refer to https://www.tensorflow.org/tutorials/customization/performance#python_or_tensor_args and https://www.tensorflow.org/api_docs/python/tf/function for  more details.\n"
          ]
        },
        {
          "data": {
            "text/plain": [
              "True"
            ]
          },
          "execution_count": 72,
          "metadata": {
            "tags": []
          },
          "output_type": "execute_result"
        }
      ]
    },
    {
      "cell_type": "markdown",
      "metadata": {
        "id": "ABtsYBDtr5Zz"
      },
      "source": [
        "## Download mô hình (từ Google Colab)\n",
        "\n",
        "Giả sử bạn muốn đưa mô hình của mình từ Google Colab vào loacal machine, có thể thực hiện một trong những điều sau:\n",
        "* Nhấp chuột phải vào file trong file panel và click vào 'download'.\n",
        "* Sử dụng code bên dưới."
      ]
    },
    {
      "cell_type": "code",
      "metadata": {
        "colab": {
          "base_uri": "https://localhost:8080/",
          "height": 17
        },
        "id": "JV0onjIIr9XC",
        "outputId": "4e668bb6-298d-429c-f250-5f8bf7c69e03"
      },
      "source": [
        "# Download mô hình (hoặc file bất kỳ) từ Google Colab\n",
        "from google.colab import files\n",
        "files.download(\"best_model_HDF5_format.h5\")"
      ],
      "execution_count": null,
      "outputs": [
        {
          "data": {
            "application/javascript": [
              "\n",
              "    async function download(id, filename, size) {\n",
              "      if (!google.colab.kernel.accessAllowed) {\n",
              "        return;\n",
              "      }\n",
              "      const div = document.createElement('div');\n",
              "      const label = document.createElement('label');\n",
              "      label.textContent = `Downloading \"${filename}\": `;\n",
              "      div.appendChild(label);\n",
              "      const progress = document.createElement('progress');\n",
              "      progress.max = size;\n",
              "      div.appendChild(progress);\n",
              "      document.body.appendChild(div);\n",
              "\n",
              "      const buffers = [];\n",
              "      let downloaded = 0;\n",
              "\n",
              "      const channel = await google.colab.kernel.comms.open(id);\n",
              "      // Send a message to notify the kernel that we're ready.\n",
              "      channel.send({})\n",
              "\n",
              "      for await (const message of channel.messages) {\n",
              "        // Send a message to notify the kernel that we're ready.\n",
              "        channel.send({})\n",
              "        if (message.buffers) {\n",
              "          for (const buffer of message.buffers) {\n",
              "            buffers.push(buffer);\n",
              "            downloaded += buffer.byteLength;\n",
              "            progress.value = downloaded;\n",
              "          }\n",
              "        }\n",
              "      }\n",
              "      const blob = new Blob(buffers, {type: 'application/binary'});\n",
              "      const a = document.createElement('a');\n",
              "      a.href = window.URL.createObjectURL(blob);\n",
              "      a.download = filename;\n",
              "      div.appendChild(a);\n",
              "      a.click();\n",
              "      div.remove();\n",
              "    }\n",
              "  "
            ],
            "text/plain": [
              "<IPython.core.display.Javascript object>"
            ]
          },
          "metadata": {
            "tags": []
          },
          "output_type": "display_data"
        },
        {
          "data": {
            "application/javascript": [
              "download(\"download_7f8c246d-bbe4-41e2-bdbe-3f77d19d21c5\", \"best_model_HDF5_format.h5\", 16960)"
            ],
            "text/plain": [
              "<IPython.core.display.Javascript object>"
            ]
          },
          "metadata": {
            "tags": []
          },
          "output_type": "display_data"
        }
      ]
    },
    {
      "cell_type": "markdown",
      "metadata": {
        "id": "7xpVdMtKw6X4"
      },
      "source": [
        "## Ví dụ lớn hơn\n",
        "\n",
        "Chúng ta đã thấy các yếu tố cơ bản khi xây dựng mô hình hồi quy mạng nơ-ron trong TensorFlow.\n",
        "\n",
        "Hãy nâng nó lên một tầm cao mới và xây dựng mô hình cho cơ sở dữ liệu có nhiều đặc trưng hơn.\n",
        "\n",
        "Cụ thể hơn, chúng ta sẽ thử dự đoán chi phí bảo hiểm y tế cho các cá nhân dựa trên một số tham số khác nhau như: `age`, `sex`, `bmi`, `children`, `smoking_status` và `residential_region`.\n",
        "\n",
        "Để thực hiện, chúng ta sẽ tận dụng [tập dữ liệu Medical Cost](https://www.kaggle.com/mirichoi0218/insurance) sẵn có từ Kaggle và [được lưu trữ trên GitHub](https://github.com/stedy/Machine-Learning-with-R-datasets/blob/master/insurance.csv).\n",
        "\n",
        "> 🔑 **Lưu ý:** Khi tìm hiểu các mô hình học máy, chúng ta thường sẽ trải qua một loạt các kỹ thuật nền tảng rồi thực hành bằng cách làm việc với các mẫu và tập dữ liệu mã nguồn mở. Cũng giống như chúng ta đang làm bây giờ, tìm hiểu các kiến thức nền tảng, vận dụng chúng để giải quyết các bài toán khác nhau. Mỗi khi làm việc với vấn đề mới, hãy tìm kiếm kiểu như \"ví dụ về bài toán X với Python/TensorFlow\", thay thế X bằng bài toán của mình."
      ]
    },
    {
      "cell_type": "code",
      "metadata": {
        "id": "WWK1LBxapgc2"
      },
      "source": [
        "# Import các thư viện cần thiết\n",
        "import tensorflow as tf\n",
        "import pandas as pd\n",
        "import matplotlib.pyplot as plt"
      ],
      "execution_count": null,
      "outputs": []
    },
    {
      "cell_type": "code",
      "metadata": {
        "id": "JrnTr5N9blFo"
      },
      "source": [
        "# Đọc tập dữ liệu insurance\n",
        "insurance = pd.read_csv(\"https://raw.githubusercontent.com/stedy/Machine-Learning-with-R-datasets/master/insurance.csv\")"
      ],
      "execution_count": null,
      "outputs": []
    },
    {
      "cell_type": "code",
      "metadata": {
        "colab": {
          "base_uri": "https://localhost:8080/",
          "height": 195
        },
        "id": "QtXPN7cfb4Nm",
        "outputId": "39cf3114-3a57-4ad3-cab9-4d55728064c9"
      },
      "source": [
        "# Kiểm tra tập dữ liệu insurance\n",
        "insurance.head()"
      ],
      "execution_count": null,
      "outputs": [
        {
          "data": {
            "text/html": [
              "<div>\n",
              "<style scoped>\n",
              "    .dataframe tbody tr th:only-of-type {\n",
              "        vertical-align: middle;\n",
              "    }\n",
              "\n",
              "    .dataframe tbody tr th {\n",
              "        vertical-align: top;\n",
              "    }\n",
              "\n",
              "    .dataframe thead th {\n",
              "        text-align: right;\n",
              "    }\n",
              "</style>\n",
              "<table border=\"1\" class=\"dataframe\">\n",
              "  <thead>\n",
              "    <tr style=\"text-align: right;\">\n",
              "      <th></th>\n",
              "      <th>age</th>\n",
              "      <th>sex</th>\n",
              "      <th>bmi</th>\n",
              "      <th>children</th>\n",
              "      <th>smoker</th>\n",
              "      <th>region</th>\n",
              "      <th>charges</th>\n",
              "    </tr>\n",
              "  </thead>\n",
              "  <tbody>\n",
              "    <tr>\n",
              "      <th>0</th>\n",
              "      <td>19</td>\n",
              "      <td>female</td>\n",
              "      <td>27.900</td>\n",
              "      <td>0</td>\n",
              "      <td>yes</td>\n",
              "      <td>southwest</td>\n",
              "      <td>16884.92400</td>\n",
              "    </tr>\n",
              "    <tr>\n",
              "      <th>1</th>\n",
              "      <td>18</td>\n",
              "      <td>male</td>\n",
              "      <td>33.770</td>\n",
              "      <td>1</td>\n",
              "      <td>no</td>\n",
              "      <td>southeast</td>\n",
              "      <td>1725.55230</td>\n",
              "    </tr>\n",
              "    <tr>\n",
              "      <th>2</th>\n",
              "      <td>28</td>\n",
              "      <td>male</td>\n",
              "      <td>33.000</td>\n",
              "      <td>3</td>\n",
              "      <td>no</td>\n",
              "      <td>southeast</td>\n",
              "      <td>4449.46200</td>\n",
              "    </tr>\n",
              "    <tr>\n",
              "      <th>3</th>\n",
              "      <td>33</td>\n",
              "      <td>male</td>\n",
              "      <td>22.705</td>\n",
              "      <td>0</td>\n",
              "      <td>no</td>\n",
              "      <td>northwest</td>\n",
              "      <td>21984.47061</td>\n",
              "    </tr>\n",
              "    <tr>\n",
              "      <th>4</th>\n",
              "      <td>32</td>\n",
              "      <td>male</td>\n",
              "      <td>28.880</td>\n",
              "      <td>0</td>\n",
              "      <td>no</td>\n",
              "      <td>northwest</td>\n",
              "      <td>3866.85520</td>\n",
              "    </tr>\n",
              "  </tbody>\n",
              "</table>\n",
              "</div>"
            ],
            "text/plain": [
              "   age     sex     bmi  children smoker     region      charges\n",
              "0   19  female  27.900         0    yes  southwest  16884.92400\n",
              "1   18    male  33.770         1     no  southeast   1725.55230\n",
              "2   28    male  33.000         3     no  southeast   4449.46200\n",
              "3   33    male  22.705         0     no  northwest  21984.47061\n",
              "4   32    male  28.880         0     no  northwest   3866.85520"
            ]
          },
          "execution_count": 140,
          "metadata": {
            "tags": []
          },
          "output_type": "execute_result"
        }
      ]
    },
    {
      "cell_type": "markdown",
      "metadata": {
        "id": "s55oIsYv0KkZ"
      },
      "source": [
        "Chúng ta sẽ cần biến các cột không phải dạng số thành các số (vì mạng nơ-ron không thể xử lý đầu vào không phải dạng số).\n",
        "\n",
        "Để thực hiện, chúng ta sẽ sử dụng phương thức [`get_dummies()`](https://pandas.pydata.org/pandas-docs/stable/reference/api/pandas.get_dummies.html) trong pandas.\n",
        "\n",
        "Nó chuyển đổi các biến hạng mục (như cột `sex`, `smoker` và `region`) thành các biến dạng số bằng mã hóa one-hot."
      ]
    },
    {
      "cell_type": "code",
      "metadata": {
        "colab": {
          "base_uri": "https://localhost:8080/",
          "height": 215
        },
        "id": "MqM_BmPkdon8",
        "outputId": "a1456aaa-4d07-4c24-bf9d-5b3a7777647f"
      },
      "source": [
        "# Biến tất cả các hạng mục thành số\n",
        "insurance_one_hot = pd.get_dummies(insurance)\n",
        "insurance_one_hot.head() # xem các cột đã chuyển đổi"
      ],
      "execution_count": null,
      "outputs": [
        {
          "data": {
            "text/html": [
              "<div>\n",
              "<style scoped>\n",
              "    .dataframe tbody tr th:only-of-type {\n",
              "        vertical-align: middle;\n",
              "    }\n",
              "\n",
              "    .dataframe tbody tr th {\n",
              "        vertical-align: top;\n",
              "    }\n",
              "\n",
              "    .dataframe thead th {\n",
              "        text-align: right;\n",
              "    }\n",
              "</style>\n",
              "<table border=\"1\" class=\"dataframe\">\n",
              "  <thead>\n",
              "    <tr style=\"text-align: right;\">\n",
              "      <th></th>\n",
              "      <th>age</th>\n",
              "      <th>bmi</th>\n",
              "      <th>children</th>\n",
              "      <th>charges</th>\n",
              "      <th>sex_female</th>\n",
              "      <th>sex_male</th>\n",
              "      <th>smoker_no</th>\n",
              "      <th>smoker_yes</th>\n",
              "      <th>region_northeast</th>\n",
              "      <th>region_northwest</th>\n",
              "      <th>region_southeast</th>\n",
              "      <th>region_southwest</th>\n",
              "    </tr>\n",
              "  </thead>\n",
              "  <tbody>\n",
              "    <tr>\n",
              "      <th>0</th>\n",
              "      <td>19</td>\n",
              "      <td>27.900</td>\n",
              "      <td>0</td>\n",
              "      <td>16884.92400</td>\n",
              "      <td>1</td>\n",
              "      <td>0</td>\n",
              "      <td>0</td>\n",
              "      <td>1</td>\n",
              "      <td>0</td>\n",
              "      <td>0</td>\n",
              "      <td>0</td>\n",
              "      <td>1</td>\n",
              "    </tr>\n",
              "    <tr>\n",
              "      <th>1</th>\n",
              "      <td>18</td>\n",
              "      <td>33.770</td>\n",
              "      <td>1</td>\n",
              "      <td>1725.55230</td>\n",
              "      <td>0</td>\n",
              "      <td>1</td>\n",
              "      <td>1</td>\n",
              "      <td>0</td>\n",
              "      <td>0</td>\n",
              "      <td>0</td>\n",
              "      <td>1</td>\n",
              "      <td>0</td>\n",
              "    </tr>\n",
              "    <tr>\n",
              "      <th>2</th>\n",
              "      <td>28</td>\n",
              "      <td>33.000</td>\n",
              "      <td>3</td>\n",
              "      <td>4449.46200</td>\n",
              "      <td>0</td>\n",
              "      <td>1</td>\n",
              "      <td>1</td>\n",
              "      <td>0</td>\n",
              "      <td>0</td>\n",
              "      <td>0</td>\n",
              "      <td>1</td>\n",
              "      <td>0</td>\n",
              "    </tr>\n",
              "    <tr>\n",
              "      <th>3</th>\n",
              "      <td>33</td>\n",
              "      <td>22.705</td>\n",
              "      <td>0</td>\n",
              "      <td>21984.47061</td>\n",
              "      <td>0</td>\n",
              "      <td>1</td>\n",
              "      <td>1</td>\n",
              "      <td>0</td>\n",
              "      <td>0</td>\n",
              "      <td>1</td>\n",
              "      <td>0</td>\n",
              "      <td>0</td>\n",
              "    </tr>\n",
              "    <tr>\n",
              "      <th>4</th>\n",
              "      <td>32</td>\n",
              "      <td>28.880</td>\n",
              "      <td>0</td>\n",
              "      <td>3866.85520</td>\n",
              "      <td>0</td>\n",
              "      <td>1</td>\n",
              "      <td>1</td>\n",
              "      <td>0</td>\n",
              "      <td>0</td>\n",
              "      <td>1</td>\n",
              "      <td>0</td>\n",
              "      <td>0</td>\n",
              "    </tr>\n",
              "  </tbody>\n",
              "</table>\n",
              "</div>"
            ],
            "text/plain": [
              "   age     bmi  children  ...  region_northwest  region_southeast  region_southwest\n",
              "0   19  27.900         0  ...                 0                 0                 1\n",
              "1   18  33.770         1  ...                 0                 1                 0\n",
              "2   28  33.000         3  ...                 0                 1                 0\n",
              "3   33  22.705         0  ...                 1                 0                 0\n",
              "4   32  28.880         0  ...                 1                 0                 0\n",
              "\n",
              "[5 rows x 12 columns]"
            ]
          },
          "execution_count": 141,
          "metadata": {
            "tags": []
          },
          "output_type": "execute_result"
        }
      ]
    },
    {
      "cell_type": "markdown",
      "metadata": {
        "id": "zOHoPzgqgZPq"
      },
      "source": [
        "Hãy chia dữ liệu thành các đặc trưng (`X`) và nhãn (`y`)."
      ]
    },
    {
      "cell_type": "code",
      "metadata": {
        "id": "W_EGj3FxhkAb"
      },
      "source": [
        "# Tạo các giá trị X & y\n",
        "X = insurance_one_hot.drop(\"charges\", axis=1)\n",
        "y = insurance_one_hot[\"charges\"]"
      ],
      "execution_count": null,
      "outputs": []
    },
    {
      "cell_type": "code",
      "metadata": {
        "colab": {
          "base_uri": "https://localhost:8080/",
          "height": 215
        },
        "id": "-QQFJmDn5ATV",
        "outputId": "b02a4f32-1be8-4983-8741-d3d90d078cf1"
      },
      "source": [
        "# Xem các đặc trưng\n",
        "X.head()"
      ],
      "execution_count": null,
      "outputs": [
        {
          "data": {
            "text/html": [
              "<div>\n",
              "<style scoped>\n",
              "    .dataframe tbody tr th:only-of-type {\n",
              "        vertical-align: middle;\n",
              "    }\n",
              "\n",
              "    .dataframe tbody tr th {\n",
              "        vertical-align: top;\n",
              "    }\n",
              "\n",
              "    .dataframe thead th {\n",
              "        text-align: right;\n",
              "    }\n",
              "</style>\n",
              "<table border=\"1\" class=\"dataframe\">\n",
              "  <thead>\n",
              "    <tr style=\"text-align: right;\">\n",
              "      <th></th>\n",
              "      <th>age</th>\n",
              "      <th>bmi</th>\n",
              "      <th>children</th>\n",
              "      <th>sex_female</th>\n",
              "      <th>sex_male</th>\n",
              "      <th>smoker_no</th>\n",
              "      <th>smoker_yes</th>\n",
              "      <th>region_northeast</th>\n",
              "      <th>region_northwest</th>\n",
              "      <th>region_southeast</th>\n",
              "      <th>region_southwest</th>\n",
              "    </tr>\n",
              "  </thead>\n",
              "  <tbody>\n",
              "    <tr>\n",
              "      <th>0</th>\n",
              "      <td>19</td>\n",
              "      <td>27.900</td>\n",
              "      <td>0</td>\n",
              "      <td>1</td>\n",
              "      <td>0</td>\n",
              "      <td>0</td>\n",
              "      <td>1</td>\n",
              "      <td>0</td>\n",
              "      <td>0</td>\n",
              "      <td>0</td>\n",
              "      <td>1</td>\n",
              "    </tr>\n",
              "    <tr>\n",
              "      <th>1</th>\n",
              "      <td>18</td>\n",
              "      <td>33.770</td>\n",
              "      <td>1</td>\n",
              "      <td>0</td>\n",
              "      <td>1</td>\n",
              "      <td>1</td>\n",
              "      <td>0</td>\n",
              "      <td>0</td>\n",
              "      <td>0</td>\n",
              "      <td>1</td>\n",
              "      <td>0</td>\n",
              "    </tr>\n",
              "    <tr>\n",
              "      <th>2</th>\n",
              "      <td>28</td>\n",
              "      <td>33.000</td>\n",
              "      <td>3</td>\n",
              "      <td>0</td>\n",
              "      <td>1</td>\n",
              "      <td>1</td>\n",
              "      <td>0</td>\n",
              "      <td>0</td>\n",
              "      <td>0</td>\n",
              "      <td>1</td>\n",
              "      <td>0</td>\n",
              "    </tr>\n",
              "    <tr>\n",
              "      <th>3</th>\n",
              "      <td>33</td>\n",
              "      <td>22.705</td>\n",
              "      <td>0</td>\n",
              "      <td>0</td>\n",
              "      <td>1</td>\n",
              "      <td>1</td>\n",
              "      <td>0</td>\n",
              "      <td>0</td>\n",
              "      <td>1</td>\n",
              "      <td>0</td>\n",
              "      <td>0</td>\n",
              "    </tr>\n",
              "    <tr>\n",
              "      <th>4</th>\n",
              "      <td>32</td>\n",
              "      <td>28.880</td>\n",
              "      <td>0</td>\n",
              "      <td>0</td>\n",
              "      <td>1</td>\n",
              "      <td>1</td>\n",
              "      <td>0</td>\n",
              "      <td>0</td>\n",
              "      <td>1</td>\n",
              "      <td>0</td>\n",
              "      <td>0</td>\n",
              "    </tr>\n",
              "  </tbody>\n",
              "</table>\n",
              "</div>"
            ],
            "text/plain": [
              "   age     bmi  children  ...  region_northwest  region_southeast  region_southwest\n",
              "0   19  27.900         0  ...                 0                 0                 1\n",
              "1   18  33.770         1  ...                 0                 1                 0\n",
              "2   28  33.000         3  ...                 0                 1                 0\n",
              "3   33  22.705         0  ...                 1                 0                 0\n",
              "4   32  28.880         0  ...                 1                 0                 0\n",
              "\n",
              "[5 rows x 11 columns]"
            ]
          },
          "execution_count": 143,
          "metadata": {
            "tags": []
          },
          "output_type": "execute_result"
        }
      ]
    },
    {
      "cell_type": "markdown",
      "metadata": {
        "id": "kudhkM-0giS1"
      },
      "source": [
        "Hãy tạo các tập huấn luyện và kiểm tra. Chúng ta có thể thực hiện việc này theo cách thủ công, nhưng để dễ dàng hơn, hãy tận dụng hàm [`train_test_split`](https://scikit-learn.org/stable/modules/generated/sklearn.model_selection.train_test_split.html) có sẵn từ Scikit-Learn."
      ]
    },
    {
      "cell_type": "code",
      "metadata": {
        "id": "WPGZGk0jhxCZ"
      },
      "source": [
        "# Tạo các tập huấn luyện và kiểm tra\n",
        "from sklearn.model_selection import train_test_split\n",
        "X_train, X_test, y_train, y_test = train_test_split(X,\n",
        "                                                    y,\n",
        "                                                    test_size=0.2,\n",
        "                                                    random_state=42) # thiết lập random state cho các phân chia có thể tái lặp"
      ],
      "execution_count": null,
      "outputs": []
    },
    {
      "cell_type": "markdown",
      "metadata": {
        "id": "W8wEC0FPglnN"
      },
      "source": [
        "Giờ chúng ta có thể xây dựng và khớp mô hình (tương tự `model_2`)."
      ]
    },
    {
      "cell_type": "code",
      "metadata": {
        "id": "OCXTmz6oh_T6"
      },
      "source": [
        "# Thiết lập random seed\n",
        "tf.random.set_seed(42)\n",
        "\n",
        "# Tạo mô hình mới (tương tự model_2)\n",
        "insurance_model = tf.keras.Sequential([\n",
        "  tf.keras.layers.Dense(1),\n",
        "  tf.keras.layers.Dense(1)\n",
        "])\n",
        "\n",
        "# Biên dịch mô hình\n",
        "insurance_model.compile(loss=tf.keras.losses.mae,\n",
        "                        optimizer=tf.keras.optimizers.SGD(),\n",
        "                        metrics=['mae'])\n",
        "\n",
        "# Khớp mô hình\n",
        "insurance_model.fit(X_train, y_train, epochs=100)"
      ],
      "execution_count": null,
      "outputs": []
    },
    {
      "cell_type": "code",
      "metadata": {
        "colab": {
          "base_uri": "https://localhost:8080/"
        },
        "id": "B1U7LqpKid0r",
        "outputId": "22ebc7ed-ca8e-4d0d-cc49-b061e6ef019c"
      },
      "source": [
        "# Kiểm tra kết quả của insurance model\n",
        "insurance_model.evaluate(X_test, y_test)"
      ],
      "execution_count": null,
      "outputs": [
        {
          "name": "stdout",
          "output_type": "stream",
          "text": [
            "9/9 [==============================] - 0s 1ms/step - loss: 8628.2363 - mae: 8628.2363\n"
          ]
        },
        {
          "data": {
            "text/plain": [
              "[8628.236328125, 8628.236328125]"
            ]
          },
          "execution_count": 146,
          "metadata": {
            "tags": []
          },
          "output_type": "execute_result"
        }
      ]
    },
    {
      "cell_type": "markdown",
      "metadata": {
        "id": "H9doNDToqDru"
      },
      "source": [
        "Mô hình của chúng ta hoạt động không tốt lắm, hãy thử mô hình lớn hơn.\n",
        "\n",
        "Chúng ta sẽ thử 3 điều:\n",
        "- Tăng số layer (2 -> 3).\n",
        "- Tăng số lượng đơn vị ở mỗi layer (ngoại trừ layer đầu ra).\n",
        "- Thay đổi optimizer (từ SGD thành Adam).\n",
        "\n",
        "Những khác sẽ giữ nguyên."
      ]
    },
    {
      "cell_type": "code",
      "metadata": {
        "colab": {
          "base_uri": "https://localhost:8080/"
        },
        "id": "W59EqfqYimnR",
        "outputId": "6887bbaa-2e32-40d9-a76c-f2377e95a29b"
      },
      "source": [
        "# Thiết lập random seed\n",
        "tf.random.set_seed(42)\n",
        "\n",
        "# Thêm một layer bổ sung và tăng số lượng đơn vị\n",
        "insurance_model_2 = tf.keras.Sequential([\n",
        "  tf.keras.layers.Dense(100), # 100 đơn vị\n",
        "  tf.keras.layers.Dense(10), # 10 đơn vị\n",
        "  tf.keras.layers.Dense(1) # 1 đơn vị (quan trọng với layer đầu ra)\n",
        "])\n",
        "\n",
        "# Biên dịch mô hình\n",
        "insurance_model_2.compile(loss=tf.keras.losses.mae,\n",
        "                          optimizer=tf.keras.optimizers.Adam(), # Adam hoạt động còn SGD thì không\n",
        "                          metrics=['mae'])\n",
        "\n",
        "# Khớp mô hình và lưu history (có thể vẽ biểu đồ điều này)\n",
        "history = insurance_model_2.fit(X_train, y_train, epochs=100, verbose=0)"
      ],
      "execution_count": null,
      "outputs": [
        {
          "name": "stdout",
          "output_type": "stream",
          "text": [
            "WARNING:tensorflow:Layer dense_37 is casting an input tensor from dtype float64 to the layer's dtype of float32, which is new behavior in TensorFlow 2.  The layer has dtype float32 because its dtype defaults to floatx.\n",
            "\n",
            "If you intended to run this layer in float32, you can safely ignore this warning. If in doubt, this warning is likely only an issue if you are porting a TensorFlow 1.X model to TensorFlow 2.\n",
            "\n",
            "To change all layers to have dtype float64 by default, call `tf.keras.backend.set_floatx('float64')`. To change just this layer, pass dtype='float64' to the layer constructor. If you are the author of this layer, you can disable autocasting by passing autocast=False to the base Layer constructor.\n",
            "\n"
          ]
        }
      ]
    },
    {
      "cell_type": "code",
      "metadata": {
        "colab": {
          "base_uri": "https://localhost:8080/"
        },
        "id": "k9IbYWnOqmoT",
        "outputId": "047ae48a-92bb-4bb6-d01f-893202f05dd2"
      },
      "source": [
        "# Đánh giá mô hình lớn hơn\n",
        "insurance_model_2.evaluate(X_test, y_test)"
      ],
      "execution_count": null,
      "outputs": [
        {
          "name": "stdout",
          "output_type": "stream",
          "text": [
            "9/9 [==============================] - 0s 1ms/step - loss: 4924.3477 - mae: 4924.3477\n"
          ]
        },
        {
          "data": {
            "text/plain": [
              "[4924.34765625, 4924.34765625]"
            ]
          },
          "execution_count": 148,
          "metadata": {
            "tags": []
          },
          "output_type": "execute_result"
        }
      ]
    },
    {
      "cell_type": "markdown",
      "metadata": {
        "id": "o9Rf3NosqriS"
      },
      "source": [
        "Tốt hơn nhiều rồi! Sử dụng mô hình lớn hơn và thuật toán tối ưu hóa Adam giúp sai sót chỉ gần một nửa so với mô hình trước đó.\n",
        "\n",
        "> 🔑 **Lưu ý:**  Đối với nhiều bài toán, [Adam optimizer](https://www.tensorflow.org/api_docs/python/tf/keras/optimizers/Adam) là lựa chọn khởi đầu tuyệt vời. Xem \"Adam is safe\" từ [*A Recipe for Training Neural Networks*](http://karpathy.github.io/2019/04/25/recipe/) của Andrei Karpathy để biết thêm.\n",
        "\n",
        "Hãy kiểm tra các loss curve của mô hình, chúng ta sẽ thấy nó có xu hướng giảm."
      ]
    },
    {
      "cell_type": "code",
      "metadata": {
        "colab": {
          "base_uri": "https://localhost:8080/",
          "height": 279
        },
        "id": "9SE55ANojcF_",
        "outputId": "52ac970a-5f56-4711-a561-329d3a802bbd"
      },
      "source": [
        "# Vẽ biểu đồ history (hay còn biết đến là loss curve)\n",
        "pd.DataFrame(history.history).plot()\n",
        "plt.ylabel(\"loss\")\n",
        "plt.xlabel(\"epochs\");"
      ],
      "execution_count": null,
      "outputs": [
        {
          "data": {
            "image/png": "[encoded data removed]",
            "text/plain": [
              "<Figure size 432x288 with 1 Axes>"
            ]
          },
          "metadata": {
            "needs_background": "light",
            "tags": []
          },
          "output_type": "display_data"
        }
      ]
    },
    {
      "cell_type": "markdown",
      "metadata": {
        "id": "ckHqtn0srQ5q"
      },
      "source": [
        "Từ biểu đồ này, có vẻ như loss của mô hình (và MAE) vẫn đang giảm (trong trường hợp này, MAE và loss là như nhau, do đó các đường trong biểu đồ trùng lặp với nhau).\n",
        "\n",
        "Điều này cho chúng ta biết loss có thể giảm xuống nếu chúng ta cố gắng huấn luyện nó lâu hơn.\n",
        "\n",
        "> 🤔 **Câu hỏi:** Nên huấn luyện trong bao lâu?\n",
        "\n",
        "> Điều này phụ thuộc vào bài toán chúng ta bạn đang xử lý. Đôi khi việc huấn luyện sẽ không mất nhiều thời gian, có lúc lại lâu hơn dự kiến. Một phương pháp phổ biến là huấn luyện mô hình trong thời gian rất dài (ví dụ: 1000 epoch), nhưng thiết lập nó bằng [EarlyStopping callback](https://www.tensorflow.org/api_docs/python/tf/keras/callbacks/EarlyStopping) để nó tự động dừng khi ngừng cải thiện. Chúng ta sẽ tìm hiểu điều này trong mô-đun khác.\n",
        "\n",
        "Hãy huấn luyện mô hình tương tự như trên trong thời gian dài hơn một chút. Chúng ta có thể làm điều này nhưng phải gọi lại fit."
      ]
    },
    {
      "cell_type": "code",
      "metadata": {
        "id": "Ucs62jV8jl6N"
      },
      "source": [
        "# Thử huấn luyện lâu hơn (hơn 100 epoch)\n",
        "history_2 = insurance_model_2.fit(X_train, y_train, epochs=100, verbose=0)"
      ],
      "execution_count": null,
      "outputs": []
    },
    {
      "cell_type": "markdown",
      "metadata": {
        "id": "L2FZA1z1sxxs"
      },
      "source": [
        "Việc huấn luyện thêm diễn ra thế nào?"
      ]
    },
    {
      "cell_type": "code",
      "metadata": {
        "colab": {
          "base_uri": "https://localhost:8080/"
        },
        "id": "cxtiYB3qs0PZ",
        "outputId": "8a110b4d-8d86-4345-99d3-aaad19d29830"
      },
      "source": [
        "# Đánh giá mô hình đã huấn luyện cho tổng cộng 200 epoch\n",
        "insurance_model_2_loss, insurance_model_2_mae = insurance_model_2.evaluate(X_test, y_test)\n",
        "insurance_model_2_loss, insurance_model_2_mae"
      ],
      "execution_count": null,
      "outputs": [
        {
          "name": "stdout",
          "output_type": "stream",
          "text": [
            "9/9 [==============================] - 0s 1ms/step - loss: 3494.7285 - mae: 3494.7285\n"
          ]
        },
        {
          "data": {
            "text/plain": [
              "(3494.728515625, 3494.728515625)"
            ]
          },
          "execution_count": 151,
          "metadata": {
            "tags": []
          },
          "output_type": "execute_result"
        }
      ]
    },
    {
      "cell_type": "markdown",
      "metadata": {
        "id": "MzUySYEOs-O_"
      },
      "source": [
        "Sau khi huấn luyện thêm 100 epoch, chúng ta thấy lỗi giảm khoảng 10%.\n",
        "\n",
        "Kết quả trực quan ra sao?"
      ]
    },
    {
      "cell_type": "code",
      "metadata": {
        "colab": {
          "base_uri": "https://localhost:8080/",
          "height": 279
        },
        "id": "BtYKSLeQjuzL",
        "outputId": "68e8d3c4-7252-40c4-e9e9-326a5a1df4cd"
      },
      "source": [
        "# Vẽ biểu đồ mô hình đã huấn luyện cho tổng cộng 200 epoch loss curve\n",
        "pd.DataFrame(history_2.history).plot()\n",
        "plt.ylabel(\"loss\")\n",
        "plt.xlabel(\"epochs\"); # note: lưu ý: epoch sẽ chỉ hiển thị 100 vì chúng ta đã ghi đè biến history"
      ],
      "execution_count": null,
      "outputs": [
        {
          "data": {
            "image/png": "[encoded data removed]",
            "text/plain": [
              "<Figure size 432x288 with 1 Axes>"
            ]
          },
          "metadata": {
            "needs_background": "light",
            "tags": []
          },
          "output_type": "display_data"
        }
      ]
    },
    {
      "cell_type": "markdown",
      "metadata": {
        "id": "HS8xYkvIuVZZ"
      },
      "source": [
        "## Tiền xử lý dữ liệu (normalization và standardization)\n",
        "\n",
        "Thường khi làm việc với mạng nơ-ron, cần đảm bảo tất cả dữ liệu chúng ta truyền cho chúng nằm trong phạm vi từ 0 đến 1.\n",
        "\n",
        "Phương pháp này được gọi là **normalization** (co giãn tất cả các giá trị từ phạm vi ban đầu của chúng, ví dụ: từ 0 đến 100.000 thành từ 0 đến 1).\n",
        "\n",
        "Một quá trình khác là **standardization**: chuyển đổi tất cả dữ liệu thành phương sai đơn vị và giá trị trung bình bằng 0.\n",
        "\n",
        "Hai phương pháp này thường là một phần của quy trình tiền xử lý (một loạt các hàm chuẩn bị dữ liệu để sử dụng cho mạng nơ-ron).\n",
        "\n",
        "Biết được điều này, chúng ta sẽ thực hiện một số bước tiền xử lý trước dữ liệu cho mạng nơ-ron, gồm:\n",
        "* Chuyển tất cả dữ liệu thành số (mạng nơ-ron không thể xử lý string).\n",
        "* Đảm bảo dữ liệu ở đúng shape (xác minh shape đầu vào và đầu ra).\n",
        "* [**Feature scaling (Co giãn đặc trưng)**](https://scikit-learn.org/stable/modules/preprocessing.html#preprocessing-scaler):\n",
        "    * Chuẩn hóa dữ liệu (đảm bảo tất cả các giá trị nằm trong khoảng từ 0-1), bằng cách trừ min rồi chia cho max trừ đi min. Đây cũng được gọi là min-max scaling.\n",
        "    * Chuẩn tắc hóa (đảm bảo tất cả các giá trị có giá trị trung bình là 0 và phương sai là 1). Điều này được thực hiện bằng cách lấy đặc trưng mục tiêu trừ đi giá trị trung bình rồi chia nó cho độ lệch chuẩn.\n",
        "    * Chúng ta nên dùng loại nào?\n",
        "      * **Với mạng nơ-ron, chúng ta thường có xu hướng chuẩn hóa** vì chúng ưu tiên các giá trị từ 0 đến 1 (sẽ thấy điều này đặc biệt với xử lý hình ảnh), tuy nhiên, chúng ta thường thấy mạng nơ-ron có thể hoạt động khá tốt với co giãn đặc trưng tối thiểu.\n",
        "\n",
        "> 📖 **Tài liệu:** Để tìm hiểu thêm về tiền xử lý dữ liệu, hãy đọc các tài liệu sau:\n",
        "* [Tài liệu về preprocessing data của Scikit-Learn](https://scikit-learn.org/stable/modules/preprocessing.html#preprocessing-data).\n",
        "* [Scale, Standardize hay Normalize với Scikit-Learn của Jeff Hale](https://towardsdatascience.com/scale-standardize-or-normalize-with-scikit-learn-6ccc7d176a02).\n",
        "\n",
        "Chúng ta đã chuyển dữ liệu thành số bằng `get_dummies()`, hãy xem làm cách nào để chuẩn hóa dữ liệu đó."
      ]
    },
    {
      "cell_type": "code",
      "metadata": {
        "id": "9v7P20A2d7H6"
      },
      "source": [
        "import pandas as pd\n",
        "import matplotlib.pyplot as plt\n",
        "import tensorflow as tf\n",
        "\n",
        "# Đọc tập dữ liệu insurance\n",
        "insurance = pd.read_csv(\"https://raw.githubusercontent.com/stedy/Machine-Learning-with-R-datasets/master/insurance.csv\")"
      ],
      "execution_count": 82,
      "outputs": []
    },
    {
      "cell_type": "code",
      "metadata": {
        "colab": {
          "base_uri": "https://localhost:8080/",
          "height": 206
        },
        "id": "vir8UAIwlUOo",
        "outputId": "404879f7-cf32-42cd-b703-da156c5cc092"
      },
      "source": [
        "# Kiểm tra dữ liệu\n",
        "insurance.head()"
      ],
      "execution_count": 83,
      "outputs": [
        {
          "output_type": "execute_result",
          "data": {
            "text/plain": [
              "   age     sex     bmi  children smoker     region      charges\n",
              "0   19  female  27.900         0    yes  southwest  16884.92400\n",
              "1   18    male  33.770         1     no  southeast   1725.55230\n",
              "2   28    male  33.000         3     no  southeast   4449.46200\n",
              "3   33    male  22.705         0     no  northwest  21984.47061\n",
              "4   32    male  28.880         0     no  northwest   3866.85520"
            ],
            "text/html": [
              "\n",
              "  <div id=\"df-4eebb72f-6cb8-42b4-a689-4c7b1f98eb0b\" class=\"colab-df-container\">\n",
              "    <div>\n",
              "<style scoped>\n",
              "    .dataframe tbody tr th:only-of-type {\n",
              "        vertical-align: middle;\n",
              "    }\n",
              "\n",
              "    .dataframe tbody tr th {\n",
              "        vertical-align: top;\n",
              "    }\n",
              "\n",
              "    .dataframe thead th {\n",
              "        text-align: right;\n",
              "    }\n",
              "</style>\n",
              "<table border=\"1\" class=\"dataframe\">\n",
              "  <thead>\n",
              "    <tr style=\"text-align: right;\">\n",
              "      <th></th>\n",
              "      <th>age</th>\n",
              "      <th>sex</th>\n",
              "      <th>bmi</th>\n",
              "      <th>children</th>\n",
              "      <th>smoker</th>\n",
              "      <th>region</th>\n",
              "      <th>charges</th>\n",
              "    </tr>\n",
              "  </thead>\n",
              "  <tbody>\n",
              "    <tr>\n",
              "      <th>0</th>\n",
              "      <td>19</td>\n",
              "      <td>female</td>\n",
              "      <td>27.900</td>\n",
              "      <td>0</td>\n",
              "      <td>yes</td>\n",
              "      <td>southwest</td>\n",
              "      <td>16884.92400</td>\n",
              "    </tr>\n",
              "    <tr>\n",
              "      <th>1</th>\n",
              "      <td>18</td>\n",
              "      <td>male</td>\n",
              "      <td>33.770</td>\n",
              "      <td>1</td>\n",
              "      <td>no</td>\n",
              "      <td>southeast</td>\n",
              "      <td>1725.55230</td>\n",
              "    </tr>\n",
              "    <tr>\n",
              "      <th>2</th>\n",
              "      <td>28</td>\n",
              "      <td>male</td>\n",
              "      <td>33.000</td>\n",
              "      <td>3</td>\n",
              "      <td>no</td>\n",
              "      <td>southeast</td>\n",
              "      <td>4449.46200</td>\n",
              "    </tr>\n",
              "    <tr>\n",
              "      <th>3</th>\n",
              "      <td>33</td>\n",
              "      <td>male</td>\n",
              "      <td>22.705</td>\n",
              "      <td>0</td>\n",
              "      <td>no</td>\n",
              "      <td>northwest</td>\n",
              "      <td>21984.47061</td>\n",
              "    </tr>\n",
              "    <tr>\n",
              "      <th>4</th>\n",
              "      <td>32</td>\n",
              "      <td>male</td>\n",
              "      <td>28.880</td>\n",
              "      <td>0</td>\n",
              "      <td>no</td>\n",
              "      <td>northwest</td>\n",
              "      <td>3866.85520</td>\n",
              "    </tr>\n",
              "  </tbody>\n",
              "</table>\n",
              "</div>\n",
              "    <div class=\"colab-df-buttons\">\n",
              "\n",
              "  <div class=\"colab-df-container\">\n",
              "    <button class=\"colab-df-convert\" onclick=\"convertToInteractive('df-4eebb72f-6cb8-42b4-a689-4c7b1f98eb0b')\"\n",
              "            title=\"Convert this dataframe to an interactive table.\"\n",
              "            style=\"display:none;\">\n",
              "\n",
              "  <svg xmlns=\"http://www.w3.org/2000/svg\" height=\"24px\" viewBox=\"0 -960 960 960\">\n",
              "    <path d=\"M120-120v-720h720v720H120Zm60-500h600v-160H180v160Zm220 220h160v-160H400v160Zm0 220h160v-160H400v160ZM180-400h160v-160H180v160Zm440 0h160v-160H620v160ZM180-180h160v-160H180v160Zm440 0h160v-160H620v160Z\"/>\n",
              "  </svg>\n",
              "    </button>\n",
              "\n",
              "  <style>\n",
              "    .colab-df-container {\n",
              "      display:flex;\n",
              "      gap: 12px;\n",
              "    }\n",
              "\n",
              "    .colab-df-convert {\n",
              "      background-color: #E8F0FE;\n",
              "      border: none;\n",
              "      border-radius: 50%;\n",
              "      cursor: pointer;\n",
              "      display: none;\n",
              "      fill: #1967D2;\n",
              "      height: 32px;\n",
              "      padding: 0 0 0 0;\n",
              "      width: 32px;\n",
              "    }\n",
              "\n",
              "    .colab-df-convert:hover {\n",
              "      background-color: #E2EBFA;\n",
              "      box-shadow: 0px 1px 2px rgba(60, 64, 67, 0.3), 0px 1px 3px 1px rgba(60, 64, 67, 0.15);\n",
              "      fill: #174EA6;\n",
              "    }\n",
              "\n",
              "    .colab-df-buttons div {\n",
              "      margin-bottom: 4px;\n",
              "    }\n",
              "\n",
              "    [theme=dark] .colab-df-convert {\n",
              "      background-color: #3B4455;\n",
              "      fill: #D2E3FC;\n",
              "    }\n",
              "\n",
              "    [theme=dark] .colab-df-convert:hover {\n",
              "      background-color: #434B5C;\n",
              "      box-shadow: 0px 1px 3px 1px rgba(0, 0, 0, 0.15);\n",
              "      filter: drop-shadow(0px 1px 2px rgba(0, 0, 0, 0.3));\n",
              "      fill: #FFFFFF;\n",
              "    }\n",
              "  </style>\n",
              "\n",
              "    <script>\n",
              "      const buttonEl =\n",
              "        document.querySelector('#df-4eebb72f-6cb8-42b4-a689-4c7b1f98eb0b button.colab-df-convert');\n",
              "      buttonEl.style.display =\n",
              "        google.colab.kernel.accessAllowed ? 'block' : 'none';\n",
              "\n",
              "      async function convertToInteractive(key) {\n",
              "        const element = document.querySelector('#df-4eebb72f-6cb8-42b4-a689-4c7b1f98eb0b');\n",
              "        const dataTable =\n",
              "          await google.colab.kernel.invokeFunction('convertToInteractive',\n",
              "                                                    [key], {});\n",
              "        if (!dataTable) return;\n",
              "\n",
              "        const docLinkHtml = 'Like what you see? Visit the ' +\n",
              "          '<a target=\"_blank\" href=https://colab.research.google.com/notebooks/data_table.ipynb>data table notebook</a>'\n",
              "          + ' to learn more about interactive tables.';\n",
              "        element.innerHTML = '';\n",
              "        dataTable['output_type'] = 'display_data';\n",
              "        await google.colab.output.renderOutput(dataTable, element);\n",
              "        const docLink = document.createElement('div');\n",
              "        docLink.innerHTML = docLinkHtml;\n",
              "        element.appendChild(docLink);\n",
              "      }\n",
              "    </script>\n",
              "  </div>\n",
              "\n",
              "\n",
              "<div id=\"df-f452b593-5662-4ebe-a7d9-e54fed56b90d\">\n",
              "  <button class=\"colab-df-quickchart\" onclick=\"quickchart('df-f452b593-5662-4ebe-a7d9-e54fed56b90d')\"\n",
              "            title=\"Suggest charts\"\n",
              "            style=\"display:none;\">\n",
              "\n",
              "<svg xmlns=\"http://www.w3.org/2000/svg\" height=\"24px\"viewBox=\"0 0 24 24\"\n",
              "     width=\"24px\">\n",
              "    <g>\n",
              "        <path d=\"M19 3H5c-1.1 0-2 .9-2 2v14c0 1.1.9 2 2 2h14c1.1 0 2-.9 2-2V5c0-1.1-.9-2-2-2zM9 17H7v-7h2v7zm4 0h-2V7h2v10zm4 0h-2v-4h2v4z\"/>\n",
              "    </g>\n",
              "</svg>\n",
              "  </button>\n",
              "\n",
              "<style>\n",
              "  .colab-df-quickchart {\n",
              "      --bg-color: #E8F0FE;\n",
              "      --fill-color: #1967D2;\n",
              "      --hover-bg-color: #E2EBFA;\n",
              "      --hover-fill-color: #174EA6;\n",
              "      --disabled-fill-color: #AAA;\n",
              "      --disabled-bg-color: #DDD;\n",
              "  }\n",
              "\n",
              "  [theme=dark] .colab-df-quickchart {\n",
              "      --bg-color: #3B4455;\n",
              "      --fill-color: #D2E3FC;\n",
              "      --hover-bg-color: #434B5C;\n",
              "      --hover-fill-color: #FFFFFF;\n",
              "      --disabled-bg-color: #3B4455;\n",
              "      --disabled-fill-color: #666;\n",
              "  }\n",
              "\n",
              "  .colab-df-quickchart {\n",
              "    background-color: var(--bg-color);\n",
              "    border: none;\n",
              "    border-radius: 50%;\n",
              "    cursor: pointer;\n",
              "    display: none;\n",
              "    fill: var(--fill-color);\n",
              "    height: 32px;\n",
              "    padding: 0;\n",
              "    width: 32px;\n",
              "  }\n",
              "\n",
              "  .colab-df-quickchart:hover {\n",
              "    background-color: var(--hover-bg-color);\n",
              "    box-shadow: 0 1px 2px rgba(60, 64, 67, 0.3), 0 1px 3px 1px rgba(60, 64, 67, 0.15);\n",
              "    fill: var(--button-hover-fill-color);\n",
              "  }\n",
              "\n",
              "  .colab-df-quickchart-complete:disabled,\n",
              "  .colab-df-quickchart-complete:disabled:hover {\n",
              "    background-color: var(--disabled-bg-color);\n",
              "    fill: var(--disabled-fill-color);\n",
              "    box-shadow: none;\n",
              "  }\n",
              "\n",
              "  .colab-df-spinner {\n",
              "    border: 2px solid var(--fill-color);\n",
              "    border-color: transparent;\n",
              "    border-bottom-color: var(--fill-color);\n",
              "    animation:\n",
              "      spin 1s steps(1) infinite;\n",
              "  }\n",
              "\n",
              "  @keyframes spin {\n",
              "    0% {\n",
              "      border-color: transparent;\n",
              "      border-bottom-color: var(--fill-color);\n",
              "      border-left-color: var(--fill-color);\n",
              "    }\n",
              "    20% {\n",
              "      border-color: transparent;\n",
              "      border-left-color: var(--fill-color);\n",
              "      border-top-color: var(--fill-color);\n",
              "    }\n",
              "    30% {\n",
              "      border-color: transparent;\n",
              "      border-left-color: var(--fill-color);\n",
              "      border-top-color: var(--fill-color);\n",
              "      border-right-color: var(--fill-color);\n",
              "    }\n",
              "    40% {\n",
              "      border-color: transparent;\n",
              "      border-right-color: var(--fill-color);\n",
              "      border-top-color: var(--fill-color);\n",
              "    }\n",
              "    60% {\n",
              "      border-color: transparent;\n",
              "      border-right-color: var(--fill-color);\n",
              "    }\n",
              "    80% {\n",
              "      border-color: transparent;\n",
              "      border-right-color: var(--fill-color);\n",
              "      border-bottom-color: var(--fill-color);\n",
              "    }\n",
              "    90% {\n",
              "      border-color: transparent;\n",
              "      border-bottom-color: var(--fill-color);\n",
              "    }\n",
              "  }\n",
              "</style>\n",
              "\n",
              "  <script>\n",
              "    async function quickchart(key) {\n",
              "      const quickchartButtonEl =\n",
              "        document.querySelector('#' + key + ' button');\n",
              "      quickchartButtonEl.disabled = true;  // To prevent multiple clicks.\n",
              "      quickchartButtonEl.classList.add('colab-df-spinner');\n",
              "      try {\n",
              "        const charts = await google.colab.kernel.invokeFunction(\n",
              "            'suggestCharts', [key], {});\n",
              "      } catch (error) {\n",
              "        console.error('Error during call to suggestCharts:', error);\n",
              "      }\n",
              "      quickchartButtonEl.classList.remove('colab-df-spinner');\n",
              "      quickchartButtonEl.classList.add('colab-df-quickchart-complete');\n",
              "    }\n",
              "    (() => {\n",
              "      let quickchartButtonEl =\n",
              "        document.querySelector('#df-f452b593-5662-4ebe-a7d9-e54fed56b90d button');\n",
              "      quickchartButtonEl.style.display =\n",
              "        google.colab.kernel.accessAllowed ? 'block' : 'none';\n",
              "    })();\n",
              "  </script>\n",
              "</div>\n",
              "    </div>\n",
              "  </div>\n"
            ],
            "application/vnd.google.colaboratory.intrinsic+json": {
              "type": "dataframe",
              "variable_name": "insurance",
              "summary": "{\n  \"name\": \"insurance\",\n  \"rows\": 1338,\n  \"fields\": [\n    {\n      \"column\": \"age\",\n      \"properties\": {\n        \"dtype\": \"number\",\n        \"std\": 14,\n        \"min\": 18,\n        \"max\": 64,\n        \"num_unique_values\": 47,\n        \"samples\": [\n          21,\n          45,\n          36\n        ],\n        \"semantic_type\": \"\",\n        \"description\": \"\"\n      }\n    },\n    {\n      \"column\": \"sex\",\n      \"properties\": {\n        \"dtype\": \"category\",\n        \"num_unique_values\": 2,\n        \"samples\": [\n          \"male\",\n          \"female\"\n        ],\n        \"semantic_type\": \"\",\n        \"description\": \"\"\n      }\n    },\n    {\n      \"column\": \"bmi\",\n      \"properties\": {\n        \"dtype\": \"number\",\n        \"std\": 6.098186911679014,\n        \"min\": 15.96,\n        \"max\": 53.13,\n        \"num_unique_values\": 548,\n        \"samples\": [\n          23.18,\n          26.885\n        ],\n        \"semantic_type\": \"\",\n        \"description\": \"\"\n      }\n    },\n    {\n      \"column\": \"children\",\n      \"properties\": {\n        \"dtype\": \"number\",\n        \"std\": 1,\n        \"min\": 0,\n        \"max\": 5,\n        \"num_unique_values\": 6,\n        \"samples\": [\n          0,\n          1\n        ],\n        \"semantic_type\": \"\",\n        \"description\": \"\"\n      }\n    },\n    {\n      \"column\": \"smoker\",\n      \"properties\": {\n        \"dtype\": \"category\",\n        \"num_unique_values\": 2,\n        \"samples\": [\n          \"no\",\n          \"yes\"\n        ],\n        \"semantic_type\": \"\",\n        \"description\": \"\"\n      }\n    },\n    {\n      \"column\": \"region\",\n      \"properties\": {\n        \"dtype\": \"category\",\n        \"num_unique_values\": 4,\n        \"samples\": [\n          \"southeast\",\n          \"northeast\"\n        ],\n        \"semantic_type\": \"\",\n        \"description\": \"\"\n      }\n    },\n    {\n      \"column\": \"charges\",\n      \"properties\": {\n        \"dtype\": \"number\",\n        \"std\": 12110.011236694001,\n        \"min\": 1121.8739,\n        \"max\": 63770.42801,\n        \"num_unique_values\": 1337,\n        \"samples\": [\n          8688.85885,\n          5708.867\n        ],\n        \"semantic_type\": \"\",\n        \"description\": \"\"\n      }\n    }\n  ]\n}"
            }
          },
          "metadata": {},
          "execution_count": 83
        }
      ]
    },
    {
      "cell_type": "markdown",
      "metadata": {
        "id": "SHMQiNosg3J3"
      },
      "source": [
        "Như trước, chúng ta cần chuyển đổi các cột không phải dạng số thành số; lần này chúng ta sẽ chuẩn hóa cột số với các phạm vi khác nhau (để đảm bảo chúng đều nằm trong khoảng từ 0 đến 1).\n",
        "\n",
        "Để thực hiện, chúng ta sẽ dùng một số class từ Scikit-Learn:\n",
        "* [`make_column_transformer`](https://scikit-learn.org/stable/modules/generated/sklearn.compose.make_column_transformer.html) - xây dựng một hàm tiền xử lý dữ liệu nhiều bước cho các phép biến đổi sau:\n",
        "  * [`MinMaxScaler`](https://scikit-learn.org/stable/modules/generated/sklearn.preprocessing.MinMaxScaler.html) - đảm bảo tất cả các cột số đều được chuẩn hóa (từ 0 đến 1).\n",
        "  * [`OneHotEncoder`](https://scikit-learn.org/stable/modules/generated/sklearn.preprocessing.OneHotEncoder.html) - mã hóa one-hot cho các cột không phải dạng số.\n",
        "\n",
        "Hãy xem chúng hoạt động thế nào."
      ]
    },
    {
      "cell_type": "code",
      "metadata": {
        "id": "-x9JwbV0hqWh"
      },
      "source": [
        "from sklearn.compose import make_column_transformer\n",
        "from sklearn.preprocessing import MinMaxScaler, OneHotEncoder\n",
        "from sklearn.model_selection import train_test_split\n",
        "\n",
        "# Tạo column transformer (điều này sẽ giúp chuẩn hóa/tiền xử lý dữ liệu)\n",
        "ct = make_column_transformer(\n",
        "    (MinMaxScaler(), [\"age\", \"bmi\", \"children\"]), # nhận tất cả các giá trị từ 0 đến 1\n",
        "    (OneHotEncoder(handle_unknown=\"ignore\"), [\"sex\", \"smoker\", \"region\"])\n",
        ")\n",
        "\n",
        "# Tạo X & y\n",
        "X = insurance.drop(\"charges\", axis=1)\n",
        "y = insurance[\"charges\"]\n",
        "\n",
        "# Xây dựng các tập huấn luyện và kiểm tra (sử dụng random state để đảm bảo phân chia như trước)\n",
        "X_train, X_test, y_train, y_test = train_test_split(X, y, test_size=0.2, random_state=42)\n",
        "\n",
        "# Khớp column transformer với dữ liệu huấn luyện (thực hiện như vậy trên dữ liệu kiểm tra sẽ làm rò rỉ dữ liệu)\n",
        "ct.fit(X_train)\n",
        "\n",
        "# Biến đổi dữ liệu huấn luyện và kiểm tra với chuẩn hóa (MinMaxScalar) và mã hóa one-hot (OneHotEncoder)\n",
        "X_train_normal = ct.transform(X_train)\n",
        "X_test_normal = ct.transform(X_test)"
      ],
      "execution_count": 88,
      "outputs": []
    },
    {
      "cell_type": "markdown",
      "metadata": {
        "id": "Tz58y3nPiBJ-"
      },
      "source": [
        "Chúng ta đã chuẩn hóa nó và mã hóa one-hot, dữ liệu bây giờ trông như thế nào?"
      ]
    },
    {
      "cell_type": "code",
      "metadata": {
        "colab": {
          "base_uri": "https://localhost:8080/"
        },
        "id": "VODt2YiziK45",
        "outputId": "09294c11-8fdd-4cc0-fe3d-b4a7f3dd9e77"
      },
      "source": [
        "# Ví dụ về dữ liệu không mã hóa one-hot và không chuẩn hóa\n",
        "X_train.loc[0]"
      ],
      "execution_count": 89,
      "outputs": [
        {
          "output_type": "execute_result",
          "data": {
            "text/plain": [
              "age                19\n",
              "sex            female\n",
              "bmi              27.9\n",
              "children            0\n",
              "smoker            yes\n",
              "region      southwest\n",
              "Name: 0, dtype: object"
            ]
          },
          "metadata": {},
          "execution_count": 89
        }
      ]
    },
    {
      "cell_type": "code",
      "metadata": {
        "colab": {
          "base_uri": "https://localhost:8080/"
        },
        "id": "mMYDXdwUnNVt",
        "outputId": "8ecfce1c-6ae1-4acd-ec66-b4185bfc57bc"
      },
      "source": [
        "# Ví dụ về dữ liệu mã hóa one-hot và chuẩn hóa\n",
        "X_train_normal[0]"
      ],
      "execution_count": 90,
      "outputs": [
        {
          "output_type": "execute_result",
          "data": {
            "text/plain": [
              "array([0.60869565, 0.10734463, 0.4       , 1.        , 0.        ,\n",
              "       1.        , 0.        , 0.        , 1.        , 0.        ,\n",
              "       0.        ])"
            ]
          },
          "metadata": {},
          "execution_count": 90
        }
      ]
    },
    {
      "cell_type": "markdown",
      "metadata": {
        "id": "9iI4KtfWib44"
      },
      "source": [
        "Vậy còn shape?"
      ]
    },
    {
      "cell_type": "code",
      "metadata": {
        "colab": {
          "base_uri": "https://localhost:8080/"
        },
        "id": "SFmxzqrWntj7",
        "outputId": "42fe77b1-4db6-402b-94bd-b2e244f131c6"
      },
      "source": [
        "# Lưu ý rằng shape được mã hóa one-hot/chuẩn hóa lớn sẽ hơn vì có thêm cột\n",
        "X_train_normal.shape, X_train.shape"
      ],
      "execution_count": 91,
      "outputs": [
        {
          "output_type": "execute_result",
          "data": {
            "text/plain": [
              "((1070, 11), (1070, 6))"
            ]
          },
          "metadata": {},
          "execution_count": 91
        }
      ]
    },
    {
      "cell_type": "markdown",
      "metadata": {
        "id": "MST951aYijTS"
      },
      "source": [
        "Dữ liệu đã được chuẩn hóa và ở dạng số, hãy lập mô hình.\n",
        "\n",
        "Chúng ta sẽ sử dụng mô hình tương tự như `insurance_model_2`."
      ]
    },
    {
      "cell_type": "code",
      "metadata": {
        "colab": {
          "base_uri": "https://localhost:8080/"
        },
        "id": "TdHnIQqll83Y",
        "outputId": "34e57471-098b-4c93-d525-c6a56aa060ec"
      },
      "source": [
        "# Thiết lập random seed\n",
        "tf.random.set_seed(42)\n",
        "\n",
        "# Xây dựng mô hình (3 layer, 100, 10, 1 đơn vị)\n",
        "insurance_model_3 = tf.keras.Sequential([\n",
        "  tf.keras.layers.Dense(100),\n",
        "  tf.keras.layers.Dense(10),\n",
        "  tf.keras.layers.Dense(1)\n",
        "])\n",
        "\n",
        "# Biên dịch mô hình\n",
        "insurance_model_3.compile(loss=tf.keras.losses.mae,\n",
        "                          optimizer=tf.keras.optimizers.Adam(),\n",
        "                          metrics=['mae'])\n",
        "\n",
        "# Khớp mô hình cho 200 epoch (tương tự insurance_model_2)\n",
        "insurance_model_3.fit(X_train_normal, y_train, epochs=200, verbose=0)"
      ],
      "execution_count": 97,
      "outputs": [
        {
          "output_type": "execute_result",
          "data": {
            "text/plain": [
              "<keras.src.callbacks.History at 0x7841e9e8ce80>"
            ]
          },
          "metadata": {},
          "execution_count": 97
        }
      ]
    },
    {
      "cell_type": "markdown",
      "metadata": {
        "id": "-DjwktO6jW41"
      },
      "source": [
        "Hãy đánh giá mô hình trên dữ liệu kiểm tra đã chuẩn hóa."
      ]
    },
    {
      "cell_type": "code",
      "metadata": {
        "colab": {
          "base_uri": "https://localhost:8080/"
        },
        "id": "sBcXZu9AnZfP",
        "outputId": "a88f6d97-35a1-4165-d606-2d4ff91197d3"
      },
      "source": [
        "# Đánh giá mô hình thứ ba\n",
        "insurance_model_3_loss, insurance_model_3_mae = insurance_model_3.evaluate(X_test_normal, y_test)"
      ],
      "execution_count": 98,
      "outputs": [
        {
          "output_type": "stream",
          "name": "stdout",
          "text": [
            "9/9 [==============================] - 0s 2ms/step - loss: 3169.1362 - mae: 3169.1362\n"
          ]
        }
      ]
    },
    {
      "cell_type": "markdown",
      "metadata": {
        "id": "ZlHro290jhtX"
      },
      "source": [
        "Cuối cùng, hãy so sánh kết quả từ `insurance_model_2` (được huấn luyện trên dữ liệu không chuẩn hóa) và `insurance_model_3` (được huấn luyện trên dữ liệu chuẩn hóa)."
      ]
    },
    {
      "cell_type": "code",
      "metadata": {
        "colab": {
          "base_uri": "https://localhost:8080/",
          "height": 158
        },
        "id": "ybZtnVlNjCJO",
        "outputId": "2311e834-ac45-4e3a-f0ce-58c89f253174"
      },
      "source": [
        "# Compare modelling results from non-normalized data and normalized data\n",
        "insurance_model_2_mae, insurance_model_3_mae"
      ],
      "execution_count": 94,
      "outputs": [
        {
          "output_type": "error",
          "ename": "NameError",
          "evalue": "name 'insurance_model_2_mae' is not defined",
          "traceback": [
            "\u001b[0;31m---------------------------------------------------------------------------\u001b[0m",
            "\u001b[0;31mNameError\u001b[0m                                 Traceback (most recent call last)",
            "\u001b[0;32m<ipython-input-94-53c3e0c6f8a5>\u001b[0m in \u001b[0;36m<cell line: 2>\u001b[0;34m()\u001b[0m\n\u001b[1;32m      1\u001b[0m \u001b[0;31m# Compare modelling results from non-normalized data and normalized data\u001b[0m\u001b[0;34m\u001b[0m\u001b[0;34m\u001b[0m\u001b[0m\n\u001b[0;32m----> 2\u001b[0;31m \u001b[0minsurance_model_2_mae\u001b[0m\u001b[0;34m,\u001b[0m \u001b[0minsurance_model_3_mae\u001b[0m\u001b[0;34m\u001b[0m\u001b[0;34m\u001b[0m\u001b[0m\n\u001b[0m",
            "\u001b[0;31mNameError\u001b[0m: name 'insurance_model_2_mae' is not defined"
          ]
        }
      ]
    },
    {
      "cell_type": "markdown",
      "metadata": {
        "id": "gUttViY4jzi8"
      },
      "source": [
        "Từ đó, có thể thấy với cùng một mô hình, việc chuẩn hóa dữ liệu dẫn sẽ dẫn đến lỗi ít hơn 10% so với không chuẩn hóa dữ liệu.\n",
        "\n",
        "Đây là **một trong những lợi ích chính của chuẩn hóa: thời gian hội tụ nhanh hơn** (một cách nói hoa mỹ, mô hình nhanh đạt được kết quả tốt hơn).\n",
        "\n",
        "`insurance_model_2` cuối cùng có thể đã đạt được kết quả tương tự như `insurance_model_3` nếu chúng ta huấn luyện lâu hơn.\n",
        "\n",
        "Ngoài ra, kết quả có thể thay đổi nếu chúng ta thay đổi kiến trúc của mô hình, ví dụ: nhiều đơn vị ẩn hơn ở mỗi layer hoặc nhiều layer hơn.\n",
        "\n",
        "Nhưng vì mục tiêu chính của chúng ta là giảm thời gian giữa các thử nghiệm, nên bất kỳ điều gì giúp chúng ta sớm đạt được kết quả tốt hơn đều là lợi thế."
      ]
    },
    {
      "cell_type": "markdown",
      "metadata": {
        "id": "NhIPO_KqocHP"
      },
      "source": [
        "## 🛠 Bài tập thực hành\n",
        "> **Lưu ý:** Các bạn cần làm phần bài tập này để chuẩn bị cho phiên review lab.\n",
        "\n",
        "Chúng ta đã nhanh chóng bao quát toàn bộ kiến thức.\n",
        "\n",
        "Giờ là lúc để **thử nghiệm** một vài thứ và bắt đầu vận dụng kiến thức mà các bạn đã học.\n",
        "\n",
        "Tôi nhấn mạnh việc **thử nghiệm** vì điều đó rất quan trọng. Hãy thử một vài thao tác, chạy code và xem điều gì sẽ xảy ra.\n",
        "\n",
        "1. Tạo tập dữ liệu hồi quy của riêng bạn (hoặc làm cho tập dữ liệu chúng ta đã tạo trong \"Tạo dữ liệu để xem và điều chỉnh\" lớn hơn) và xây dựng mô hình phù hợp với nó.\n",
        "2. Hãy thử xây dựng một mạng nơ-ron với 4 Dense layer và điều chỉnh nó với tập dữ liệu hồi quy, nó thực hiện thế nào?\n",
        "3. Hãy thử và cải thiện kết quả chúng ta nhận được trên tập dữ liệu insurance, hãy thử một số thứ:\n",
        "  * Xây dựng mô hình lớn hơn (làm thế nào để mô hình có 4 dense layer hoạt động?).\n",
        "  * Tăng số lượng đơn vị ở mỗi layer.\n",
        "  * Tra cứu tài liệu về [Adam](https://www.tensorflow.org/api_docs/python/tf/keras/optimizers/Adam) và tìm xem tham số đầu tiên là gì, điều gì sẽ xảy ra nếu bạn tăng nó lên 10 lần?\n",
        "  * Điều gì xảy ra nếu bạn huấn luyện lâu hơn (giả sử 300 epoch thay vì 200)?\n",
        "4. Import [tập dữ liệu Boston pricing](https://www.tensorflow.org/api_docs/python/tf/keras/datasets/boston_housing/load_data) từ TensorFlow [`tf.keras.datasets`](https://www.tensorflow.org/api_docs/python/tf/keras/datasets) và mô hình hóa nó.\n"
      ]
    },
    {
      "cell_type": "code",
      "source": [
        "import numpy as np\n",
        "import pandas as pd\n",
        "import matplotlib.pyplot as plt\n",
        "import tensorflow as tf\n"
      ],
      "metadata": {
        "id": "Gg44D8HOt8M-"
      },
      "execution_count": null,
      "outputs": []
    },
    {
      "cell_type": "code",
      "source": [
        "#Tao mau\n",
        "X = tf.range(50)[:, tf.newaxis]\n",
        "X = tf.random.shuffle(X)\n",
        "y = X+11\n",
        "#tao mo hinh\n",
        "\n",
        "model1 = tf.keras.Sequential([tf.keras.layers.Dense(100),\n",
        "                              tf.keras.layers.Dense(10),\n",
        "                              tf.keras.layers.Dense(1)])\n",
        "model1.compile(loss = tf.keras.losses.mae,optimizer=tf.keras.optimizers.Adam(),metrics=['mae'])\n",
        "model1 = model1.fit(X,y,epochs = 250, verbose=0)\n",
        "print(pd.DataFrame(model_1.history).min())\n",
        "pd.DataFrame(model_1.history).plot()"
      ],
      "metadata": {
        "id": "V9WcRUhyU3NJ"
      },
      "execution_count": null,
      "outputs": []
    },
    {
      "cell_type": "code",
      "source": [
        "#Thu mo hinh\n",
        "y_preds = model1.predict(X[-15:])\n",
        "plt.scatter(X,y)\n",
        "plt.scatter(X[-15:],y_preds)"
      ],
      "metadata": {
        "id": "mwwDhswscVhX"
      },
      "execution_count": null,
      "outputs": []
    },
    {
      "cell_type": "code",
      "source": [
        "#2.Thu tao 4 layes\n",
        "import tensorflow as tf\n",
        "model_2 = tf.keras.Sequential([tf.keras.layers.Dense(200),\n",
        "                               tf.keras.layers.Dense(100),\n",
        "                               tf.keras.layers.Dense(10),\n",
        "                               tf.keras.layers.Dense(1)])\n",
        "model_2.compile(loss = 'mae',optimizer = 'adam',metrics = 'mae')\n",
        "model_2 = model_2.fit(X,y,epochs = 250, verbose=0)\n",
        "print(pd.DataFrame(model_2.history).min())\n",
        "######### Mô Hình càng sâu thì thời gian sẽ lâu hơn nhưng sẽ có kêt quả tốt hơn.\n",
        "pd.DataFrame(model_2.history).plot()"
      ],
      "metadata": {
        "colab": {
          "base_uri": "https://localhost:8080/",
          "height": 499
        },
        "id": "Bl-c0CI_jpqM",
        "outputId": "19d47fe9-e6bb-406f-cadf-39106e065265"
      },
      "execution_count": 81,
      "outputs": [
        {
          "output_type": "stream",
          "name": "stdout",
          "text": [
            "loss    0.028086\n",
            "mae     0.028086\n",
            "dtype: float64\n"
          ]
        },
        {
          "output_type": "execute_result",
          "data": {
            "text/plain": [
              "<Axes: >"
            ]
          },
          "metadata": {},
          "execution_count": 81
        },
        {
          "output_type": "display_data",
          "data": {
            "text/plain": [
              "<Figure size 640x480 with 1 Axes>"
            ],
            "image/png": "[encoded data removed]"
          },
          "metadata": {}
        }
      ]
    },
    {
      "cell_type": "code",
      "source": [
        "##3.Hãy thử và cải thiện kết quả\n",
        "import tensorflow as tf\n",
        "model_3 = tf.keras.Sequential([tf.keras.layers.Dense(200),\n",
        "                               tf.keras.layers.Dense(100),\n",
        "                               tf.keras.layers.Dense(10),\n",
        "                               tf.keras.layers.Dense(1)])\n",
        "model_3.compile(loss = 'mae',optimizer = 'adam',metrics = 'mae')\n",
        "H = model_3.fit(X_train_normal, y_train, epochs=150, verbose=0)\n",
        "pd.DataFrame(H.history).plot()  # tăng epochs lên 300 chỉ làm mô hình chạy lâu hơn, hàm los thay đổi không đáng kể\n",
        "a,b = model_3.evaluate(X_test_normal, y_test)\n",
        "######## Mô hình đã cải thiện hơn từ ~3170 xuống còn ~3150, nhưng thời gian lâu hơn"
      ],
      "metadata": {
        "colab": {
          "base_uri": "https://localhost:8080/",
          "height": 447
        },
        "id": "syEFafl20aW-",
        "outputId": "c77538aa-c00b-44a3-87d5-9f77a10f3967"
      },
      "execution_count": 114,
      "outputs": [
        {
          "output_type": "stream",
          "name": "stdout",
          "text": [
            "9/9 [==============================] - 0s 4ms/step - loss: 3160.9163 - mae: 3160.9163\n"
          ]
        },
        {
          "output_type": "display_data",
          "data": {
            "text/plain": [
              "<Figure size 640x480 with 1 Axes>"
            ],
            "image/png": "[encoded data removed]"
          },
          "metadata": {}
        }
      ]
    },
    {
      "cell_type": "code",
      "source": [],
      "metadata": {
        "id": "cPsXyyNh3sGi"
      },
      "execution_count": null,
      "outputs": []
    },
    {
      "cell_type": "markdown",
      "metadata": {
        "id": "AyiHG2nubmu7"
      },
      "source": [
        "## 📖 Tài liệu đọc thêm\n",
        "\n",
        "Nếu bạn đang tìm kiếm thêm tài liệu liên quan đến notebok này, hãy xem:\n",
        "\n",
        "* Video [MIT introduction deep learning lecture 1](https://youtu.be/njKP3FqW3Sk) - cung cấp cái nhìn tổng quan về tất cả các code mà chúng ta đang chạy.\n",
        "* Dành 1 giờ đọc [Chapter 1 của Neural Networks and Deep Learning](http://neuralnetworksanddeeplearning.com/chap1.html) (Michael Nielson) - ví dụ kiến thức thực tế và chuyên sâu về mạng nơ-ron.\n",
        "\n",
        "Để luyện tập lập mô hình hồi quy với TensorFlow, tôi khuyến khích các bạn xem qua [tập hợp các tập dữ liệu của Lion Bridge](https://lionbridge.ai/datasets/) hoặc [các tạp dữ liệu của Kaggle](https://www.kaggle.com/data), sau đó tìm tập dữ liệu hồi quy mà bạn quan tâm và thử lập mô hình."
      ]
    }
  ]
}