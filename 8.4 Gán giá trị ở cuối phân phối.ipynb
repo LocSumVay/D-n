{
 "cells": [
  {
   "cell_type": "markdown",
   "metadata": {
    "id": "wbMm4EdgnXKG"
   },
   "source": [
    "## Gán giá trị ở cuối phân phối\n",
    "\n",
    "Trong notebook trước, chúng ta đã thay thế dữ liệu bị khuyết bằng một giá trị bất kỳ. Tuy nhiên, việc xác định giá trị bất kỳ tốn nhiều công sức và thường thực hiện thủ công. Chúng ta có thể tự động hóa quá trình này bằng cách tự động chọn các giá trị bất kỳ ở cuối phân phối của biến.\n",
    "\n",
    "#### Làm cách nào để chọn giá trị ở cuối?\n",
    "\n",
    "- Nếu biến được phân phối chuẩn, chúng ta có thể sử dụng mean +/- 3*std.\n",
    "- Nếu biến bị lệch, chúng ta có thể sử dụng quy tắc tiệm cận IQR.\n",
    "\n",
    "Chúng ta đã học các kỹ thuật này ở bài giảng về Outlier.\n",
    "\n",
    "- Chúng ta cũng có thể chọn giá trị min/max và nhân với một số lần nhất định, chẳng hạn như 2 hoặc 3.\n",
    "\n",
    "\n",
    "### Những biến nào có thể gán giá trị ở cuối phân phối?\n",
    "\n",
    "Phương pháp này phù hợp với cả biến dạng số và biến hạng mục.\n",
    "\n",
    "### Giả định\n",
    "\n",
    "- MNAR - các giá trị không khuyết ngẫu nhiên.\n",
    "\n",
    "Nếu giá trị không bị khuyết ngẫu nhiên thì chúng ta không thay thế nó cho mean/median, làm cho quan sát đó giống như phần lớn các quan sát khác. Thay vào đó, chúng ta gắn cờ quan sát đó là khác và gán một giá trị nằm ở cuối phân phối, nơi các quan sát hiếm khi được biểu diễn trong tập hợp.\n",
    "\n",
    "\n",
    "### Ưu điểm\n",
    "\n",
    "- Dễ thực hiện.\n",
    "- Cách nhanh chóng để có được tập dữ liệu hoàn chỉnh.\n",
    "- Có thể tích hợp trong sản xuất (trong quá trình triển khai mô hình).\n",
    "- Nắm bắt được tầm quan trọng của \"khuyết\" nếu có.\n",
    "\n",
    "### Hạn chế\n",
    "\n",
    "- Làm biến dạng phân phối biến ban đầu.\n",
    "- Làm biến dạng phương sai ban đầu.\n",
    "- Làm biến dạng hiệp phương sai với các biến còn lại của tập dữ liệu.\n",
    "- Kỹ thuật này có thể che giấu các outlier thực trong phân phối.\n",
    "\n",
    "\n",
    "### Lưu ý cuối cùng\n",
    "\n",
    "Phương pháp này được sử dụng trong các cuộc thi dữ liệu, tuy nhiên, nó lại được sử dụng ở các công ty tài chính. Khi nắm bắt lịch sử tài chính của khách hàng, dữ liệu bị khuyết được thay thế bằng một giá trị ở cuối phân phối để không cho rằng nó bị khuyết ngẫu nhiên.\n",
    "\n",
    "Xem [phát biểu tại PyData London năm 2017](https://www.youtube.com/watch?v=KHGGlozsRtA) là ví dụ về Feature Engineering trong lĩnh vực Tài chính.\n",
    "\n",
    "## Trong bản mô phỏng này:\n",
    "\n",
    "Chúng ta sẽ học cách thực hiện gán giá trị ở cuối phân phối sử dụng pandas trên tập dữ liệu Ames House Price và Titanic.\n"
   ]
  },
  {
   "cell_type": "code",
   "execution_count": 1,
   "metadata": {
    "id": "cnfcq6SUnXKM"
   },
   "outputs": [],
   "source": [
    "import pandas as pd\n",
    "import numpy as np\n",
    "\n",
    "import matplotlib.pyplot as plt\n",
    "import seaborn as sns\n",
    "\n",
    "# chia các tập dữ liệu\n",
    "from sklearn.model_selection import train_test_split"
   ]
  },
  {
   "cell_type": "code",
   "execution_count": 2,
   "metadata": {
    "id": "GaL2E4-RnXKO",
    "outputId": "5c8d142b-7b0f-4f7b-c92c-29300bb39f05"
   },
   "outputs": [
    {
     "data": {
      "text/html": [
       "<div>\n",
       "<style scoped>\n",
       "    .dataframe tbody tr th:only-of-type {\n",
       "        vertical-align: middle;\n",
       "    }\n",
       "\n",
       "    .dataframe tbody tr th {\n",
       "        vertical-align: top;\n",
       "    }\n",
       "\n",
       "    .dataframe thead th {\n",
       "        text-align: right;\n",
       "    }\n",
       "</style>\n",
       "<table border=\"1\" class=\"dataframe\">\n",
       "  <thead>\n",
       "    <tr style=\"text-align: right;\">\n",
       "      <th></th>\n",
       "      <th>survived</th>\n",
       "      <th>age</th>\n",
       "      <th>fare</th>\n",
       "    </tr>\n",
       "  </thead>\n",
       "  <tbody>\n",
       "    <tr>\n",
       "      <th>0</th>\n",
       "      <td>1</td>\n",
       "      <td>29.0000</td>\n",
       "      <td>211.3375</td>\n",
       "    </tr>\n",
       "    <tr>\n",
       "      <th>1</th>\n",
       "      <td>1</td>\n",
       "      <td>0.9167</td>\n",
       "      <td>151.5500</td>\n",
       "    </tr>\n",
       "    <tr>\n",
       "      <th>2</th>\n",
       "      <td>0</td>\n",
       "      <td>2.0000</td>\n",
       "      <td>151.5500</td>\n",
       "    </tr>\n",
       "    <tr>\n",
       "      <th>3</th>\n",
       "      <td>0</td>\n",
       "      <td>30.0000</td>\n",
       "      <td>151.5500</td>\n",
       "    </tr>\n",
       "    <tr>\n",
       "      <th>4</th>\n",
       "      <td>0</td>\n",
       "      <td>25.0000</td>\n",
       "      <td>151.5500</td>\n",
       "    </tr>\n",
       "  </tbody>\n",
       "</table>\n",
       "</div>"
      ],
      "text/plain": [
       "   survived      age      fare\n",
       "0         1  29.0000  211.3375\n",
       "1         1   0.9167  151.5500\n",
       "2         0   2.0000  151.5500\n",
       "3         0  30.0000  151.5500\n",
       "4         0  25.0000  151.5500"
      ]
     },
     "execution_count": 2,
     "metadata": {},
     "output_type": "execute_result"
    }
   ],
   "source": [
    "# load tập dữ liệu titanic với một số biến để trình bày\n",
    "\n",
    "data = pd.read_csv('titanic.csv', usecols=['age', 'fare', 'survived'])\n",
    "data.head()"
   ]
  },
  {
   "cell_type": "code",
   "execution_count": 3,
   "metadata": {
    "id": "s1blNkx6nXKR",
    "outputId": "b583af5c-d3cc-484d-ce75-e7440bee627f"
   },
   "outputs": [
    {
     "data": {
      "text/plain": [
       "survived    0.000000\n",
       "age         0.200917\n",
       "fare        0.000764\n",
       "dtype: float64"
      ]
     },
     "execution_count": 3,
     "metadata": {},
     "output_type": "execute_result"
    }
   ],
   "source": [
    "# xem phần trăm của NA\n",
    "\n",
    "data.isnull().mean()"
   ]
  },
  {
   "cell_type": "markdown",
   "metadata": {
    "id": "AJ5wVkI7nXKT"
   },
   "source": [
    "### Gán quan trọng\n",
    "\n",
    "Việc gán phải được thực hiện trong tập huấn luyện, sau đó được truyền sang tập kiểm tra. Với kỹ thuật gán này, chúng ta sẽ chọn giá trị mà khi thay thế NA, chỉ cần nhìn vào phân phối của các biến trong tập huấn luyện và kiểm tra, sau đó sử dụng các giá trị được chọn để thay NA trong cả tập huấn luyện và kiểm tra."
   ]
  },
  {
   "cell_type": "code",
   "execution_count": 4,
   "metadata": {
    "id": "GexMIq52nXKT",
    "outputId": "b35f66a5-f21f-44af-82cd-b1a0f67b98c2"
   },
   "outputs": [
    {
     "data": {
      "text/plain": [
       "((916, 2), (393, 2))"
      ]
     },
     "execution_count": 4,
     "metadata": {},
     "output_type": "execute_result"
    }
   ],
   "source": [
    "# hãy chia thành tập huấn luyện và tập kiểm tra\n",
    "\n",
    "X_train, X_test, y_train, y_test = train_test_split(\n",
    "    data[['age', 'fare']],  # các yếu tố dự báo\n",
    "    data['survived'],  # mục tiêu\n",
    "    test_size=0.3,  # phần trăm các quan sát trong tập kiểm tra\n",
    "    random_state=0)  # seed đảm bảo khả năng tái lặp\n",
    "\n",
    "X_train.shape, X_test.shape"
   ]
  },
  {
   "cell_type": "code",
   "execution_count": 5,
   "metadata": {
    "id": "VD2EVMavnXKW",
    "outputId": "d9524fe9-c6a9-42a2-b0f3-09da20342445"
   },
   "outputs": [
    {
     "data": {
      "text/plain": [
       "<AxesSubplot: >"
      ]
     },
     "execution_count": 5,
     "metadata": {},
     "output_type": "execute_result"
    },
    {
     "data": {
      "image/png": "[encoded data removed]",
      "text/plain": [
       "<Figure size 640x480 with 1 Axes>"
      ]
     },
     "metadata": {},
     "output_type": "display_data"
    }
   ],
   "source": [
    "# xem phân phối của Age\n",
    "X_train.age.hist(bins=50)"
   ]
  },
  {
   "cell_type": "code",
   "execution_count": 6,
   "metadata": {
    "id": "8n9r78SsnXKY"
   },
   "outputs": [],
   "source": [
    "## Yêu cầu 1\n",
    "# tạo một hàm điền các giá trị bị khuyết với giá trị cực trị:\n",
    "# các biến nhận dataframe, biến và giá trị để thay thế na\n",
    "# và trả về biến với na đã điền\n",
    "\n",
    "def impute_na(df, variable, value):\n",
    "    ## VIẾT CODE Ở ĐÂY:\n",
    "    df[variable].fillna(value,inplace=True)\n",
    "    return df"
   ]
  },
  {
   "cell_type": "markdown",
   "metadata": {
    "id": "x68cTAeToV0y"
   },
   "source": [
    "<details><summary> Gợi ý </summary>\n",
    "\n",
    "[fillna()](https://pandas.pydata.org/pandas-docs/stable/reference/api/pandas.DataFrame.fillna.html)\n",
    "\n",
    "</details>"
   ]
  },
  {
   "cell_type": "code",
   "execution_count": 7,
   "metadata": {
    "id": "gRG-jUKZnXKa",
    "outputId": "71d21189-1bd1-4ae9-82c6-8ac23aa38b61"
   },
   "outputs": [
    {
     "data": {
      "text/plain": [
       "72.03416424092518"
      ]
     },
     "execution_count": 7,
     "metadata": {},
     "output_type": "execute_result"
    }
   ],
   "source": [
    "## Yêu cầu 2: đầu của phân phối:\n",
    "\n",
    "# Do Age trông xấp xỉ Gauss, sử dụng\n",
    "# mean và std để tính giá trị thay thế\n",
    "\n",
    "## VIẾT CODE Ở ĐÂY:\n",
    "valu = X_train['age'].mean() + 3*X_train['age'].std()\n",
    "valu"
   ]
  },
  {
   "cell_type": "markdown",
   "metadata": {
    "id": "K7hrgig3osLM"
   },
   "source": [
    "<details><summary> Gợi ý </summary>\n",
    "\n",
    "sử dụng công thức: mean(X) + 3*std(X)\n",
    "\n",
    "[mean()](https://pandas.pydata.org/pandas-docs/stable/reference/api/pandas.DataFrame.mean.html)\n",
    "\n",
    "[std()](https://pandas.pydata.org/pandas-docs/stable/reference/api/pandas.DataFrame.std.html)\n",
    "\n",
    "</details>"
   ]
  },
  {
   "cell_type": "code",
   "execution_count": 8,
   "metadata": {
    "id": "zJKAqyYInXKb",
    "outputId": "b8444d5b-3402-49c4-aca6-4af191b84973"
   },
   "outputs": [
    {
     "data": {
      "text/html": [
       "<div>\n",
       "<style scoped>\n",
       "    .dataframe tbody tr th:only-of-type {\n",
       "        vertical-align: middle;\n",
       "    }\n",
       "\n",
       "    .dataframe tbody tr th {\n",
       "        vertical-align: top;\n",
       "    }\n",
       "\n",
       "    .dataframe thead th {\n",
       "        text-align: right;\n",
       "    }\n",
       "</style>\n",
       "<table border=\"1\" class=\"dataframe\">\n",
       "  <thead>\n",
       "    <tr style=\"text-align: right;\">\n",
       "      <th></th>\n",
       "      <th>age</th>\n",
       "      <th>fare</th>\n",
       "      <th>Age_imputed</th>\n",
       "    </tr>\n",
       "  </thead>\n",
       "  <tbody>\n",
       "    <tr>\n",
       "      <th>501</th>\n",
       "      <td>13.0</td>\n",
       "      <td>19.5000</td>\n",
       "      <td>13.000000</td>\n",
       "    </tr>\n",
       "    <tr>\n",
       "      <th>588</th>\n",
       "      <td>4.0</td>\n",
       "      <td>23.0000</td>\n",
       "      <td>4.000000</td>\n",
       "    </tr>\n",
       "    <tr>\n",
       "      <th>402</th>\n",
       "      <td>30.0</td>\n",
       "      <td>13.8583</td>\n",
       "      <td>30.000000</td>\n",
       "    </tr>\n",
       "    <tr>\n",
       "      <th>1193</th>\n",
       "      <td>NaN</td>\n",
       "      <td>7.7250</td>\n",
       "      <td>72.034164</td>\n",
       "    </tr>\n",
       "    <tr>\n",
       "      <th>686</th>\n",
       "      <td>22.0</td>\n",
       "      <td>7.7250</td>\n",
       "      <td>22.000000</td>\n",
       "    </tr>\n",
       "    <tr>\n",
       "      <th>971</th>\n",
       "      <td>NaN</td>\n",
       "      <td>7.8792</td>\n",
       "      <td>72.034164</td>\n",
       "    </tr>\n",
       "    <tr>\n",
       "      <th>117</th>\n",
       "      <td>30.0</td>\n",
       "      <td>56.9292</td>\n",
       "      <td>30.000000</td>\n",
       "    </tr>\n",
       "    <tr>\n",
       "      <th>540</th>\n",
       "      <td>2.0</td>\n",
       "      <td>26.0000</td>\n",
       "      <td>2.000000</td>\n",
       "    </tr>\n",
       "    <tr>\n",
       "      <th>294</th>\n",
       "      <td>49.0</td>\n",
       "      <td>110.8833</td>\n",
       "      <td>49.000000</td>\n",
       "    </tr>\n",
       "    <tr>\n",
       "      <th>261</th>\n",
       "      <td>35.0</td>\n",
       "      <td>26.2875</td>\n",
       "      <td>35.000000</td>\n",
       "    </tr>\n",
       "    <tr>\n",
       "      <th>587</th>\n",
       "      <td>2.0</td>\n",
       "      <td>23.0000</td>\n",
       "      <td>2.000000</td>\n",
       "    </tr>\n",
       "    <tr>\n",
       "      <th>489</th>\n",
       "      <td>42.0</td>\n",
       "      <td>26.0000</td>\n",
       "      <td>42.000000</td>\n",
       "    </tr>\n",
       "    <tr>\n",
       "      <th>2</th>\n",
       "      <td>2.0</td>\n",
       "      <td>151.5500</td>\n",
       "      <td>2.000000</td>\n",
       "    </tr>\n",
       "    <tr>\n",
       "      <th>405</th>\n",
       "      <td>18.0</td>\n",
       "      <td>13.0000</td>\n",
       "      <td>18.000000</td>\n",
       "    </tr>\n",
       "    <tr>\n",
       "      <th>1284</th>\n",
       "      <td>NaN</td>\n",
       "      <td>8.0500</td>\n",
       "      <td>72.034164</td>\n",
       "    </tr>\n",
       "  </tbody>\n",
       "</table>\n",
       "</div>"
      ],
      "text/plain": [
       "       age      fare  Age_imputed\n",
       "501   13.0   19.5000    13.000000\n",
       "588    4.0   23.0000     4.000000\n",
       "402   30.0   13.8583    30.000000\n",
       "1193   NaN    7.7250    72.034164\n",
       "686   22.0    7.7250    22.000000\n",
       "971    NaN    7.8792    72.034164\n",
       "117   30.0   56.9292    30.000000\n",
       "540    2.0   26.0000     2.000000\n",
       "294   49.0  110.8833    49.000000\n",
       "261   35.0   26.2875    35.000000\n",
       "587    2.0   23.0000     2.000000\n",
       "489   42.0   26.0000    42.000000\n",
       "2      2.0  151.5500     2.000000\n",
       "405   18.0   13.0000    18.000000\n",
       "1284   NaN    8.0500    72.034164"
      ]
     },
     "execution_count": 8,
     "metadata": {},
     "output_type": "execute_result"
    }
   ],
   "source": [
    "## Yêu cầu 3: thay NA với giá trị đã tính ở trên\n",
    "\n",
    "## VIẾT CODE Ở ĐÂY:\n",
    "X_train['Age_imputed'] = X_train['age']\n",
    "impute_na(X_train,'Age_imputed', valu)\n",
    "\n",
    "X_train.head(15)"
   ]
  },
  {
   "cell_type": "markdown",
   "metadata": {
    "id": "vl44csC4nXKc"
   },
   "source": [
    "Hãy xem các hàng có dữ liệu bị khuyết (NaN) trong Age và cách chúng được thay thế bằng 73.436 trong biến mới như thế nào."
   ]
  },
  {
   "cell_type": "code",
   "execution_count": 9,
   "metadata": {
    "id": "kz9lpUGOnXKc",
    "outputId": "fc3f582a-c2b4-43eb-f322-eef00e34f934"
   },
   "outputs": [
    {
     "name": "stdout",
     "output_type": "stream",
     "text": [
      "Original variable variance:  194.16304666581863\n",
      "Variance after 99 imputation:  427.39198372523526\n"
     ]
    }
   ],
   "source": [
    "# chúng ta thấy phương sai thay đổi sau khi gán giá trị ở cuối phân phối\n",
    "# điều này được dự tính vì phần trăm dữ liệu bị khuyết khá\n",
    "# cao ở Age, ~20%\n",
    "\n",
    "print('Original variable variance: ', X_train['age'].var())\n",
    "print('Variance after 99 imputation: ', X_train['Age_imputed'].var())"
   ]
  },
  {
   "cell_type": "code",
   "execution_count": 10,
   "metadata": {
    "id": "iMpI3xzOnXKd",
    "outputId": "a860bca0-4d03-43bd-aaf2-40c6cba86afb"
   },
   "outputs": [
    {
     "data": {
      "text/plain": [
       "<matplotlib.legend.Legend at 0x16f400a2c10>"
      ]
     },
     "execution_count": 10,
     "metadata": {},
     "output_type": "execute_result"
    },
    {
     "data": {
      "image/png": "[encoded data removed]",
      "text/plain": [
       "<Figure size 640x480 with 1 Axes>"
      ]
     },
     "metadata": {},
     "output_type": "display_data"
    }
   ],
   "source": [
    "# chúng ta thấy các phân phối đã thay đổi\n",
    "# với nhiều giá trị hơn tích lũy hướng tới các đuôi\n",
    "\n",
    "fig = plt.figure()\n",
    "ax = fig.add_subplot(111)\n",
    "\n",
    "# phân phối ban đầu của biến\n",
    "X_train['age'].plot(kind='kde', ax=ax)\n",
    "\n",
    "# biến được gán\n",
    "X_train['Age_imputed'].plot(kind='kde', ax=ax, color='red')\n",
    "\n",
    "# thêm legend\n",
    "lines, labels = ax.get_legend_handles_labels()\n",
    "ax.legend(lines, labels, loc='best')"
   ]
  },
  {
   "cell_type": "markdown",
   "metadata": {
    "id": "TZdLQlWYnXKe"
   },
   "source": [
    "Như đã đề cập ở trên, tương tự như gán giá trị bất kỳ, gán giá trị ở cuối phân phối làm sai lệch phân phối ban đầu của biến Age. Biến đã chuyển đổi hiển thị nhiều giá trị hơn xung quanh giá trị ở đuôi đã chọn.\n",
    "\n",
    "**Điều này quan trọng không?**\n",
    "\n",
    "Còn tùy thuộc vào mô hình học máy mà chúng ta muốn xây dựng. Mô hình tuyến tính giả định rằng các biến được phân phối chuẩn. Việc gán các giá trị ở cuối phân phối có thể làm sai lệch phân phối chuẩn ban đầu nếu % dữ liệu bị khuyết cao. Do đó, biến được gán cuối cùng sẽ không được phân phối chuẩn nữa, nên có thể ảnh hưởng đến chất lượng của mô hình tuyến tính.\n",
    "\n",
    "Mặt khác, kỹ thuật này hoạt động khá tốt với các thuật toán cây."
   ]
  },
  {
   "cell_type": "code",
   "execution_count": 12,
   "metadata": {
    "id": "gS9Icp0snXKe",
    "outputId": "812768a6-9061-4bec-dc67-ddbac288e9e2"
   },
   "outputs": [
    {
     "data": {
      "text/html": [
       "<div>\n",
       "<style scoped>\n",
       "    .dataframe tbody tr th:only-of-type {\n",
       "        vertical-align: middle;\n",
       "    }\n",
       "\n",
       "    .dataframe tbody tr th {\n",
       "        vertical-align: top;\n",
       "    }\n",
       "\n",
       "    .dataframe thead th {\n",
       "        text-align: right;\n",
       "    }\n",
       "</style>\n",
       "<table border=\"1\" class=\"dataframe\">\n",
       "  <thead>\n",
       "    <tr style=\"text-align: right;\">\n",
       "      <th></th>\n",
       "      <th>fare</th>\n",
       "      <th>age</th>\n",
       "      <th>Age_imputed</th>\n",
       "    </tr>\n",
       "  </thead>\n",
       "  <tbody>\n",
       "    <tr>\n",
       "      <th>fare</th>\n",
       "      <td>2248.326729</td>\n",
       "      <td>136.176223</td>\n",
       "      <td>19.647139</td>\n",
       "    </tr>\n",
       "    <tr>\n",
       "      <th>age</th>\n",
       "      <td>136.176223</td>\n",
       "      <td>194.163047</td>\n",
       "      <td>194.163047</td>\n",
       "    </tr>\n",
       "    <tr>\n",
       "      <th>Age_imputed</th>\n",
       "      <td>19.647139</td>\n",
       "      <td>194.163047</td>\n",
       "      <td>427.391984</td>\n",
       "    </tr>\n",
       "  </tbody>\n",
       "</table>\n",
       "</div>"
      ],
      "text/plain": [
       "                    fare         age  Age_imputed\n",
       "fare         2248.326729  136.176223    19.647139\n",
       "age           136.176223  194.163047   194.163047\n",
       "Age_imputed    19.647139  194.163047   427.391984"
      ]
     },
     "execution_count": 12,
     "metadata": {},
     "output_type": "execute_result"
    }
   ],
   "source": [
    "# chúng ta cũng nói rằng gán giá trị ở cuối phân phối có thể ảnh hưởng tới mối quan hệ\n",
    "# ới các biến khác trong tập dữ liệu, hãy quan sát\n",
    "\n",
    "X_train[['fare', 'age', 'Age_imputed']].cov()"
   ]
  },
  {
   "cell_type": "markdown",
   "metadata": {
    "id": "m_PE1GxTnXKf"
   },
   "source": [
    "Chúng ta thấy hiệp phương sai giữa Age và Fare cũng thay đổi sau khi gán giá trị ở cuối phân phối."
   ]
  },
  {
   "cell_type": "code",
   "execution_count": 13,
   "metadata": {
    "id": "XBlNozuEnXKf",
    "outputId": "3a31e6e5-bf6a-49cb-c977-24eef919f88e"
   },
   "outputs": [
    {
     "data": {
      "text/plain": [
       "<AxesSubplot: >"
      ]
     },
     "execution_count": 13,
     "metadata": {},
     "output_type": "execute_result"
    },
    {
     "data": {
      "image/png": "[encoded data removed]",
      "text/plain": [
       "<Figure size 640x480 with 1 Axes>"
      ]
     },
     "metadata": {},
     "output_type": "display_data"
    }
   ],
   "source": [
    "# Cuối cùng, gán giá ở cuối phân phối có thể \n",
    "# ảnh hưởng tới nhận thức outlier\n",
    "\n",
    "# Hãy tìm hiểu điều này sử dụng biểu đồ hộp\n",
    "X_train[['age', 'Age_imputed']].boxplot()"
   ]
  },
  {
   "cell_type": "markdown",
   "metadata": {
    "id": "PzopIUIhnXKf"
   },
   "source": [
    "Che các outlier!!"
   ]
  },
  {
   "cell_type": "markdown",
   "metadata": {
    "id": "00kK_HAsnXKg"
   },
   "source": [
    "## Tập dữ liệu giá nhà\n",
    "\n",
    "Tập dữ liệu này có các biến có nhiều hoặc ít dữ liệu bị khuyết. Do đó, chúng ta có thể so sánh ảnh hưởng của gán giá trị ở cuối phân phối trong cả hai trường hợp."
   ]
  },
  {
   "cell_type": "code",
   "execution_count": 14,
   "metadata": {
    "id": "TRYB7CfpnXKg"
   },
   "outputs": [],
   "source": [
    "# chúng ta sẽ chỉ sử dụng các biến sau,\n",
    "# 3 trong số đó chứa NA\n",
    "\n",
    "cols_to_use = [\n",
    "    'OverallQual', 'TotalBsmtSF', '1stFlrSF', 'GrLivArea', 'WoodDeckSF',\n",
    "    'BsmtUnfSF', 'LotFrontage', 'MasVnrArea', 'GarageYrBlt', 'SalePrice'\n",
    "]"
   ]
  },
  {
   "cell_type": "code",
   "execution_count": 15,
   "metadata": {
    "id": "QjfXjhECnXKg",
    "outputId": "0ec21498-8776-461e-fa3c-21cc5c37c86e"
   },
   "outputs": [
    {
     "name": "stdout",
     "output_type": "stream",
     "text": [
      "(1460, 10)\n"
     ]
    },
    {
     "data": {
      "text/html": [
       "<div>\n",
       "<style scoped>\n",
       "    .dataframe tbody tr th:only-of-type {\n",
       "        vertical-align: middle;\n",
       "    }\n",
       "\n",
       "    .dataframe tbody tr th {\n",
       "        vertical-align: top;\n",
       "    }\n",
       "\n",
       "    .dataframe thead th {\n",
       "        text-align: right;\n",
       "    }\n",
       "</style>\n",
       "<table border=\"1\" class=\"dataframe\">\n",
       "  <thead>\n",
       "    <tr style=\"text-align: right;\">\n",
       "      <th></th>\n",
       "      <th>LotFrontage</th>\n",
       "      <th>OverallQual</th>\n",
       "      <th>MasVnrArea</th>\n",
       "      <th>BsmtUnfSF</th>\n",
       "      <th>TotalBsmtSF</th>\n",
       "      <th>1stFlrSF</th>\n",
       "      <th>GrLivArea</th>\n",
       "      <th>GarageYrBlt</th>\n",
       "      <th>WoodDeckSF</th>\n",
       "      <th>SalePrice</th>\n",
       "    </tr>\n",
       "  </thead>\n",
       "  <tbody>\n",
       "    <tr>\n",
       "      <th>0</th>\n",
       "      <td>65.0</td>\n",
       "      <td>7</td>\n",
       "      <td>196.0</td>\n",
       "      <td>150</td>\n",
       "      <td>856</td>\n",
       "      <td>856</td>\n",
       "      <td>1710</td>\n",
       "      <td>2003.0</td>\n",
       "      <td>0</td>\n",
       "      <td>208500</td>\n",
       "    </tr>\n",
       "    <tr>\n",
       "      <th>1</th>\n",
       "      <td>80.0</td>\n",
       "      <td>6</td>\n",
       "      <td>0.0</td>\n",
       "      <td>284</td>\n",
       "      <td>1262</td>\n",
       "      <td>1262</td>\n",
       "      <td>1262</td>\n",
       "      <td>1976.0</td>\n",
       "      <td>298</td>\n",
       "      <td>181500</td>\n",
       "    </tr>\n",
       "    <tr>\n",
       "      <th>2</th>\n",
       "      <td>68.0</td>\n",
       "      <td>7</td>\n",
       "      <td>162.0</td>\n",
       "      <td>434</td>\n",
       "      <td>920</td>\n",
       "      <td>920</td>\n",
       "      <td>1786</td>\n",
       "      <td>2001.0</td>\n",
       "      <td>0</td>\n",
       "      <td>223500</td>\n",
       "    </tr>\n",
       "    <tr>\n",
       "      <th>3</th>\n",
       "      <td>60.0</td>\n",
       "      <td>7</td>\n",
       "      <td>0.0</td>\n",
       "      <td>540</td>\n",
       "      <td>756</td>\n",
       "      <td>961</td>\n",
       "      <td>1717</td>\n",
       "      <td>1998.0</td>\n",
       "      <td>0</td>\n",
       "      <td>140000</td>\n",
       "    </tr>\n",
       "    <tr>\n",
       "      <th>4</th>\n",
       "      <td>84.0</td>\n",
       "      <td>8</td>\n",
       "      <td>350.0</td>\n",
       "      <td>490</td>\n",
       "      <td>1145</td>\n",
       "      <td>1145</td>\n",
       "      <td>2198</td>\n",
       "      <td>2000.0</td>\n",
       "      <td>192</td>\n",
       "      <td>250000</td>\n",
       "    </tr>\n",
       "  </tbody>\n",
       "</table>\n",
       "</div>"
      ],
      "text/plain": [
       "   LotFrontage  OverallQual  MasVnrArea  BsmtUnfSF  TotalBsmtSF  1stFlrSF  \\\n",
       "0         65.0            7       196.0        150          856       856   \n",
       "1         80.0            6         0.0        284         1262      1262   \n",
       "2         68.0            7       162.0        434          920       920   \n",
       "3         60.0            7         0.0        540          756       961   \n",
       "4         84.0            8       350.0        490         1145      1145   \n",
       "\n",
       "   GrLivArea  GarageYrBlt  WoodDeckSF  SalePrice  \n",
       "0       1710       2003.0           0     208500  \n",
       "1       1262       1976.0         298     181500  \n",
       "2       1786       2001.0           0     223500  \n",
       "3       1717       1998.0           0     140000  \n",
       "4       2198       2000.0         192     250000  "
      ]
     },
     "execution_count": 15,
     "metadata": {},
     "output_type": "execute_result"
    }
   ],
   "source": [
    "# load tập dữ liệu giá nhà\n",
    "\n",
    "data = pd.read_csv('houseprice.csv', usecols=cols_to_use)\n",
    "print(data.shape)\n",
    "data.head()"
   ]
  },
  {
   "cell_type": "code",
   "execution_count": 16,
   "metadata": {
    "id": "mxggPyZInXKh",
    "outputId": "9399bc5c-326f-4f2c-95c3-f87ea2b2750a"
   },
   "outputs": [
    {
     "data": {
      "text/plain": [
       "['LotFrontage', 'MasVnrArea', 'GarageYrBlt']"
      ]
     },
     "execution_count": 16,
     "metadata": {},
     "output_type": "execute_result"
    }
   ],
   "source": [
    "# trong list tiếp theo, lặp qua tất cả các cột có trong list\n",
    "# của tập dữ liệu và lựa chọn các cột chứa dữ liệu bị khuyết\n",
    "\n",
    "[var for var in data.columns if data[var].isnull().sum()>0]"
   ]
  },
  {
   "cell_type": "code",
   "execution_count": 17,
   "metadata": {
    "id": "gYKlUaJJnXKh",
    "outputId": "fa81d5b6-efb7-459d-dd0a-03d8fd40b432"
   },
   "outputs": [
    {
     "data": {
      "text/plain": [
       "LotFrontage    0.177397\n",
       "MasVnrArea     0.005479\n",
       "GarageYrBlt    0.055479\n",
       "dtype: float64"
      ]
     },
     "execution_count": 17,
     "metadata": {},
     "output_type": "execute_result"
    }
   ],
   "source": [
    "# tìm phần trăm dữ liệu bị khuyết trong các biến đó\n",
    "# code tương tự như đã học ở phần đặc điểm của biến\n",
    "\n",
    "data[['LotFrontage', 'MasVnrArea', 'GarageYrBlt']].isnull().mean()"
   ]
  },
  {
   "cell_type": "code",
   "execution_count": 18,
   "metadata": {
    "id": "OkWOjLlZnXKh",
    "outputId": "612a48bb-0f73-4ed0-d2b3-26fc19e37698",
    "scrolled": false
   },
   "outputs": [
    {
     "data": {
      "text/plain": [
       "((1022, 10), (438, 10))"
      ]
     },
     "execution_count": 18,
     "metadata": {},
     "output_type": "execute_result"
    }
   ],
   "source": [
    "# hãy chia thành tập huấn luyện và tập kiểm tra\n",
    "\n",
    "X_train, X_test, y_train, y_test = train_test_split(data,\n",
    "                                                    data['SalePrice'],\n",
    "                                                    test_size=0.3,\n",
    "                                                    random_state=0)\n",
    "X_train.shape, X_test.shape"
   ]
  },
  {
   "cell_type": "code",
   "execution_count": 19,
   "metadata": {
    "id": "zuvNAj36nXKi",
    "outputId": "42ac5097-d9b8-40ba-de51-079153074190",
    "scrolled": false
   },
   "outputs": [
    {
     "data": {
      "image/png": "[encoded data removed]",
      "text/plain": [
       "<Figure size 1000x1000 with 4 Axes>"
      ]
     },
     "metadata": {},
     "output_type": "display_data"
    }
   ],
   "source": [
    "# vẽ biểu đồ phân bố của các biến\n",
    "# chúng ta đã học code này ở phần các đặc điểm của biến\n",
    "\n",
    "X_train[['LotFrontage', 'MasVnrArea', 'GarageYrBlt']].hist(bins=50, figsize=(10,10))\n",
    "plt.show()"
   ]
  },
  {
   "cell_type": "code",
   "execution_count": 40,
   "metadata": {},
   "outputs": [
    {
     "name": "stdout",
     "output_type": "stream",
     "text": [
      "      LotFrontage  OverallQual  MasVnrArea  BsmtUnfSF  TotalBsmtSF  1stFlrSF  \\\n",
      "64            NaN            7       573.0        318         1057      1057   \n",
      "682           NaN            6         0.0        288         1291      1291   \n",
      "960          50.0            5         0.0        162          858       858   \n",
      "1384         60.0            6         0.0        356          560       698   \n",
      "1100         60.0            2         0.0          0          290       438   \n",
      "...           ...          ...         ...        ...          ...       ...   \n",
      "763          82.0            8       673.0         89         1252      1268   \n",
      "835          60.0            4         0.0        625         1067      1067   \n",
      "1216         68.0            6         0.0          0            0      1318   \n",
      "559           NaN            7        18.0       1374         1374      1557   \n",
      "684          58.0            7        30.0       1195         1195      1195   \n",
      "\n",
      "      GrLivArea  GarageYrBlt  WoodDeckSF  SalePrice  \n",
      "64         2034       1998.0         576     219500  \n",
      "682        1291       1996.0         307     173000  \n",
      "960         858          NaN         117     116500  \n",
      "1384       1258       1939.0           0     105000  \n",
      "1100        438       1930.0           0      60000  \n",
      "...         ...          ...         ...        ...  \n",
      "763        2365       1999.0           0     337000  \n",
      "835        1067       1996.0         290     128000  \n",
      "1216       1902       1978.0           0     112000  \n",
      "559        1557       2003.0         143     234000  \n",
      "684        1839       1998.0           0     221000  \n",
      "\n",
      "[1022 rows x 10 columns]\n"
     ]
    }
   ],
   "source": []
  },
  {
   "cell_type": "code",
   "execution_count": 43,
   "metadata": {
    "id": "OMf5Zq4QnXKi",
    "outputId": "f651db2c-1427-4236-a8f1-38b5d88347c5"
   },
   "outputs": [
    {
     "data": {
      "text/plain": [
       "113.0"
      ]
     },
     "execution_count": 43,
     "metadata": {},
     "output_type": "execute_result"
    }
   ],
   "source": [
    "## Yêu cầu 4: các biến không được phân phối chuẩn\n",
    "\n",
    "# gán NA sử dụng quy tắc tiệm cận IQR mà chúng ta đã học\n",
    "# trong bài giảng về outlier\n",
    "\n",
    "cols = 'LotFrontage'\n",
    "\n",
    "# tính IQR\n",
    "## VIẾT CODE Ở ĐÂY:\n",
    "IQR = X_train[cols].quantile(0.75) - X_train[cols].quantile(0.25)\n",
    "\n",
    "# tính giới hạn trên\n",
    "## VIẾT CODE Ở ĐÂY:\n",
    "extreme_value = X_train[cols].quantile(0.75) + IQR*1.5\n",
    "extreme_value"
   ]
  },
  {
   "cell_type": "markdown",
   "metadata": {
    "id": "zJPKItqzs6bp"
   },
   "source": [
    "<details><summary> Gợi ý </summary>\n",
    "\n",
    "IQR = third_quartile - first_quartile\n",
    "\n",
    "extreme_value = third_quartile + 3*IQR\n",
    "\n",
    "[quantile()](https://pandas.pydata.org/pandas-docs/version/0.17.0/generated/pandas.DataFrame.quantile.html)\n",
    "\n",
    "</details>"
   ]
  },
  {
   "cell_type": "code",
   "execution_count": 46,
   "metadata": {
    "id": "cY6SBxtlnXKi"
   },
   "outputs": [
    {
     "data": {
      "text/html": [
       "<div>\n",
       "<style scoped>\n",
       "    .dataframe tbody tr th:only-of-type {\n",
       "        vertical-align: middle;\n",
       "    }\n",
       "\n",
       "    .dataframe tbody tr th {\n",
       "        vertical-align: top;\n",
       "    }\n",
       "\n",
       "    .dataframe thead th {\n",
       "        text-align: right;\n",
       "    }\n",
       "</style>\n",
       "<table border=\"1\" class=\"dataframe\">\n",
       "  <thead>\n",
       "    <tr style=\"text-align: right;\">\n",
       "      <th></th>\n",
       "      <th>LotFrontage</th>\n",
       "      <th>OverallQual</th>\n",
       "      <th>MasVnrArea</th>\n",
       "      <th>BsmtUnfSF</th>\n",
       "      <th>TotalBsmtSF</th>\n",
       "      <th>1stFlrSF</th>\n",
       "      <th>GrLivArea</th>\n",
       "      <th>GarageYrBlt</th>\n",
       "      <th>WoodDeckSF</th>\n",
       "      <th>SalePrice</th>\n",
       "      <th>LotFrontage_imputed</th>\n",
       "    </tr>\n",
       "  </thead>\n",
       "  <tbody>\n",
       "    <tr>\n",
       "      <th>529</th>\n",
       "      <td>NaN</td>\n",
       "      <td>6</td>\n",
       "      <td>NaN</td>\n",
       "      <td>816</td>\n",
       "      <td>2035</td>\n",
       "      <td>2515</td>\n",
       "      <td>2515</td>\n",
       "      <td>1975.0</td>\n",
       "      <td>0</td>\n",
       "      <td>200624</td>\n",
       "      <td>113.0</td>\n",
       "    </tr>\n",
       "    <tr>\n",
       "      <th>491</th>\n",
       "      <td>79.0</td>\n",
       "      <td>6</td>\n",
       "      <td>0.0</td>\n",
       "      <td>238</td>\n",
       "      <td>806</td>\n",
       "      <td>958</td>\n",
       "      <td>1578</td>\n",
       "      <td>1941.0</td>\n",
       "      <td>0</td>\n",
       "      <td>133000</td>\n",
       "      <td>79.0</td>\n",
       "    </tr>\n",
       "    <tr>\n",
       "      <th>459</th>\n",
       "      <td>NaN</td>\n",
       "      <td>5</td>\n",
       "      <td>161.0</td>\n",
       "      <td>524</td>\n",
       "      <td>709</td>\n",
       "      <td>979</td>\n",
       "      <td>1203</td>\n",
       "      <td>1950.0</td>\n",
       "      <td>0</td>\n",
       "      <td>110000</td>\n",
       "      <td>113.0</td>\n",
       "    </tr>\n",
       "    <tr>\n",
       "      <th>279</th>\n",
       "      <td>83.0</td>\n",
       "      <td>7</td>\n",
       "      <td>299.0</td>\n",
       "      <td>768</td>\n",
       "      <td>1160</td>\n",
       "      <td>1156</td>\n",
       "      <td>2022</td>\n",
       "      <td>1977.0</td>\n",
       "      <td>288</td>\n",
       "      <td>192000</td>\n",
       "      <td>83.0</td>\n",
       "    </tr>\n",
       "    <tr>\n",
       "      <th>655</th>\n",
       "      <td>21.0</td>\n",
       "      <td>6</td>\n",
       "      <td>381.0</td>\n",
       "      <td>525</td>\n",
       "      <td>525</td>\n",
       "      <td>525</td>\n",
       "      <td>1092</td>\n",
       "      <td>1971.0</td>\n",
       "      <td>0</td>\n",
       "      <td>88000</td>\n",
       "      <td>21.0</td>\n",
       "    </tr>\n",
       "    <tr>\n",
       "      <th>...</th>\n",
       "      <td>...</td>\n",
       "      <td>...</td>\n",
       "      <td>...</td>\n",
       "      <td>...</td>\n",
       "      <td>...</td>\n",
       "      <td>...</td>\n",
       "      <td>...</td>\n",
       "      <td>...</td>\n",
       "      <td>...</td>\n",
       "      <td>...</td>\n",
       "      <td>...</td>\n",
       "    </tr>\n",
       "    <tr>\n",
       "      <th>271</th>\n",
       "      <td>73.0</td>\n",
       "      <td>7</td>\n",
       "      <td>0.0</td>\n",
       "      <td>96</td>\n",
       "      <td>1385</td>\n",
       "      <td>1363</td>\n",
       "      <td>1363</td>\n",
       "      <td>1954.0</td>\n",
       "      <td>81</td>\n",
       "      <td>241500</td>\n",
       "      <td>73.0</td>\n",
       "    </tr>\n",
       "    <tr>\n",
       "      <th>445</th>\n",
       "      <td>73.0</td>\n",
       "      <td>6</td>\n",
       "      <td>0.0</td>\n",
       "      <td>1436</td>\n",
       "      <td>1436</td>\n",
       "      <td>1689</td>\n",
       "      <td>1689</td>\n",
       "      <td>1956.0</td>\n",
       "      <td>0</td>\n",
       "      <td>127500</td>\n",
       "      <td>73.0</td>\n",
       "    </tr>\n",
       "    <tr>\n",
       "      <th>654</th>\n",
       "      <td>91.0</td>\n",
       "      <td>8</td>\n",
       "      <td>660.0</td>\n",
       "      <td>413</td>\n",
       "      <td>2109</td>\n",
       "      <td>2113</td>\n",
       "      <td>2113</td>\n",
       "      <td>1995.0</td>\n",
       "      <td>236</td>\n",
       "      <td>350000</td>\n",
       "      <td>91.0</td>\n",
       "    </tr>\n",
       "    <tr>\n",
       "      <th>1280</th>\n",
       "      <td>67.0</td>\n",
       "      <td>7</td>\n",
       "      <td>110.0</td>\n",
       "      <td>785</td>\n",
       "      <td>1573</td>\n",
       "      <td>1573</td>\n",
       "      <td>1573</td>\n",
       "      <td>2002.0</td>\n",
       "      <td>0</td>\n",
       "      <td>227000</td>\n",
       "      <td>67.0</td>\n",
       "    </tr>\n",
       "    <tr>\n",
       "      <th>898</th>\n",
       "      <td>100.0</td>\n",
       "      <td>9</td>\n",
       "      <td>760.0</td>\n",
       "      <td>142</td>\n",
       "      <td>2330</td>\n",
       "      <td>2364</td>\n",
       "      <td>2364</td>\n",
       "      <td>2009.0</td>\n",
       "      <td>0</td>\n",
       "      <td>611657</td>\n",
       "      <td>100.0</td>\n",
       "    </tr>\n",
       "  </tbody>\n",
       "</table>\n",
       "<p>438 rows × 11 columns</p>\n",
       "</div>"
      ],
      "text/plain": [
       "      LotFrontage  OverallQual  MasVnrArea  BsmtUnfSF  TotalBsmtSF  1stFlrSF  \\\n",
       "529           NaN            6         NaN        816         2035      2515   \n",
       "491          79.0            6         0.0        238          806       958   \n",
       "459           NaN            5       161.0        524          709       979   \n",
       "279          83.0            7       299.0        768         1160      1156   \n",
       "655          21.0            6       381.0        525          525       525   \n",
       "...           ...          ...         ...        ...          ...       ...   \n",
       "271          73.0            7         0.0         96         1385      1363   \n",
       "445          73.0            6         0.0       1436         1436      1689   \n",
       "654          91.0            8       660.0        413         2109      2113   \n",
       "1280         67.0            7       110.0        785         1573      1573   \n",
       "898         100.0            9       760.0        142         2330      2364   \n",
       "\n",
       "      GrLivArea  GarageYrBlt  WoodDeckSF  SalePrice  LotFrontage_imputed  \n",
       "529        2515       1975.0           0     200624                113.0  \n",
       "491        1578       1941.0           0     133000                 79.0  \n",
       "459        1203       1950.0           0     110000                113.0  \n",
       "279        2022       1977.0         288     192000                 83.0  \n",
       "655        1092       1971.0           0      88000                 21.0  \n",
       "...         ...          ...         ...        ...                  ...  \n",
       "271        1363       1954.0          81     241500                 73.0  \n",
       "445        1689       1956.0           0     127500                 73.0  \n",
       "654        2113       1995.0         236     350000                 91.0  \n",
       "1280       1573       2002.0           0     227000                 67.0  \n",
       "898        2364       2009.0           0     611657                100.0  \n",
       "\n",
       "[438 rows x 11 columns]"
      ]
     },
     "execution_count": 46,
     "metadata": {},
     "output_type": "execute_result"
    }
   ],
   "source": [
    "## Yêu cầu 5: gán NA với giá trị cực trị\n",
    "\n",
    "## VIẾT CODE Ở ĐÂY:\n",
    "X_train['LotFrontage_imputed'] = X_train['LotFrontage']\n",
    "impute_na(X_train, 'LotFrontage_imputed', extreme_value)\n",
    "X_test['LotFrontage_imputed'] = X_test['LotFrontage']\n",
    "impute_na(X_test, 'LotFrontage_imputed', extreme_value)"
   ]
  },
  {
   "cell_type": "code",
   "execution_count": 49,
   "metadata": {
    "id": "bUmQFWFFnXKi",
    "outputId": "b5981a79-56ed-4f04-8628-38b1f2055e0a"
   },
   "outputs": [
    {
     "data": {
      "text/plain": [
       "425.0"
      ]
     },
     "execution_count": 49,
     "metadata": {},
     "output_type": "execute_result"
    }
   ],
   "source": [
    "## Yêu cầu 6: thực hiện tương tự cho MasVnrArea\n",
    "\n",
    "col = 'MasVnrArea'\n",
    "# tính IQR\n",
    "## VIẾT CODE Ở ĐÂY:\n",
    "IQR = X_train[col].quantile(0.75) - X_train[col].quantile(0.25)\n",
    "\n",
    "# tính giới hạn trên\n",
    "## VIẾT CODE Ở ĐÂY:\n",
    "extreme_value = X_train[col].quantile(0.75) + IQR*1.5\n",
    "\n",
    "extreme_value"
   ]
  },
  {
   "cell_type": "code",
   "execution_count": 50,
   "metadata": {
    "id": "PoFJl7XgnXKj"
   },
   "outputs": [
    {
     "data": {
      "text/html": [
       "<div>\n",
       "<style scoped>\n",
       "    .dataframe tbody tr th:only-of-type {\n",
       "        vertical-align: middle;\n",
       "    }\n",
       "\n",
       "    .dataframe tbody tr th {\n",
       "        vertical-align: top;\n",
       "    }\n",
       "\n",
       "    .dataframe thead th {\n",
       "        text-align: right;\n",
       "    }\n",
       "</style>\n",
       "<table border=\"1\" class=\"dataframe\">\n",
       "  <thead>\n",
       "    <tr style=\"text-align: right;\">\n",
       "      <th></th>\n",
       "      <th>LotFrontage</th>\n",
       "      <th>OverallQual</th>\n",
       "      <th>MasVnrArea</th>\n",
       "      <th>BsmtUnfSF</th>\n",
       "      <th>TotalBsmtSF</th>\n",
       "      <th>1stFlrSF</th>\n",
       "      <th>GrLivArea</th>\n",
       "      <th>GarageYrBlt</th>\n",
       "      <th>WoodDeckSF</th>\n",
       "      <th>SalePrice</th>\n",
       "      <th>LotFrontage_imputed</th>\n",
       "      <th>MasVnrArea_imputed</th>\n",
       "    </tr>\n",
       "  </thead>\n",
       "  <tbody>\n",
       "    <tr>\n",
       "      <th>529</th>\n",
       "      <td>NaN</td>\n",
       "      <td>6</td>\n",
       "      <td>NaN</td>\n",
       "      <td>816</td>\n",
       "      <td>2035</td>\n",
       "      <td>2515</td>\n",
       "      <td>2515</td>\n",
       "      <td>1975.0</td>\n",
       "      <td>0</td>\n",
       "      <td>200624</td>\n",
       "      <td>113.0</td>\n",
       "      <td>425.0</td>\n",
       "    </tr>\n",
       "    <tr>\n",
       "      <th>491</th>\n",
       "      <td>79.0</td>\n",
       "      <td>6</td>\n",
       "      <td>0.0</td>\n",
       "      <td>238</td>\n",
       "      <td>806</td>\n",
       "      <td>958</td>\n",
       "      <td>1578</td>\n",
       "      <td>1941.0</td>\n",
       "      <td>0</td>\n",
       "      <td>133000</td>\n",
       "      <td>79.0</td>\n",
       "      <td>0.0</td>\n",
       "    </tr>\n",
       "    <tr>\n",
       "      <th>459</th>\n",
       "      <td>NaN</td>\n",
       "      <td>5</td>\n",
       "      <td>161.0</td>\n",
       "      <td>524</td>\n",
       "      <td>709</td>\n",
       "      <td>979</td>\n",
       "      <td>1203</td>\n",
       "      <td>1950.0</td>\n",
       "      <td>0</td>\n",
       "      <td>110000</td>\n",
       "      <td>113.0</td>\n",
       "      <td>161.0</td>\n",
       "    </tr>\n",
       "    <tr>\n",
       "      <th>279</th>\n",
       "      <td>83.0</td>\n",
       "      <td>7</td>\n",
       "      <td>299.0</td>\n",
       "      <td>768</td>\n",
       "      <td>1160</td>\n",
       "      <td>1156</td>\n",
       "      <td>2022</td>\n",
       "      <td>1977.0</td>\n",
       "      <td>288</td>\n",
       "      <td>192000</td>\n",
       "      <td>83.0</td>\n",
       "      <td>299.0</td>\n",
       "    </tr>\n",
       "    <tr>\n",
       "      <th>655</th>\n",
       "      <td>21.0</td>\n",
       "      <td>6</td>\n",
       "      <td>381.0</td>\n",
       "      <td>525</td>\n",
       "      <td>525</td>\n",
       "      <td>525</td>\n",
       "      <td>1092</td>\n",
       "      <td>1971.0</td>\n",
       "      <td>0</td>\n",
       "      <td>88000</td>\n",
       "      <td>21.0</td>\n",
       "      <td>381.0</td>\n",
       "    </tr>\n",
       "    <tr>\n",
       "      <th>...</th>\n",
       "      <td>...</td>\n",
       "      <td>...</td>\n",
       "      <td>...</td>\n",
       "      <td>...</td>\n",
       "      <td>...</td>\n",
       "      <td>...</td>\n",
       "      <td>...</td>\n",
       "      <td>...</td>\n",
       "      <td>...</td>\n",
       "      <td>...</td>\n",
       "      <td>...</td>\n",
       "      <td>...</td>\n",
       "    </tr>\n",
       "    <tr>\n",
       "      <th>271</th>\n",
       "      <td>73.0</td>\n",
       "      <td>7</td>\n",
       "      <td>0.0</td>\n",
       "      <td>96</td>\n",
       "      <td>1385</td>\n",
       "      <td>1363</td>\n",
       "      <td>1363</td>\n",
       "      <td>1954.0</td>\n",
       "      <td>81</td>\n",
       "      <td>241500</td>\n",
       "      <td>73.0</td>\n",
       "      <td>0.0</td>\n",
       "    </tr>\n",
       "    <tr>\n",
       "      <th>445</th>\n",
       "      <td>73.0</td>\n",
       "      <td>6</td>\n",
       "      <td>0.0</td>\n",
       "      <td>1436</td>\n",
       "      <td>1436</td>\n",
       "      <td>1689</td>\n",
       "      <td>1689</td>\n",
       "      <td>1956.0</td>\n",
       "      <td>0</td>\n",
       "      <td>127500</td>\n",
       "      <td>73.0</td>\n",
       "      <td>0.0</td>\n",
       "    </tr>\n",
       "    <tr>\n",
       "      <th>654</th>\n",
       "      <td>91.0</td>\n",
       "      <td>8</td>\n",
       "      <td>660.0</td>\n",
       "      <td>413</td>\n",
       "      <td>2109</td>\n",
       "      <td>2113</td>\n",
       "      <td>2113</td>\n",
       "      <td>1995.0</td>\n",
       "      <td>236</td>\n",
       "      <td>350000</td>\n",
       "      <td>91.0</td>\n",
       "      <td>660.0</td>\n",
       "    </tr>\n",
       "    <tr>\n",
       "      <th>1280</th>\n",
       "      <td>67.0</td>\n",
       "      <td>7</td>\n",
       "      <td>110.0</td>\n",
       "      <td>785</td>\n",
       "      <td>1573</td>\n",
       "      <td>1573</td>\n",
       "      <td>1573</td>\n",
       "      <td>2002.0</td>\n",
       "      <td>0</td>\n",
       "      <td>227000</td>\n",
       "      <td>67.0</td>\n",
       "      <td>110.0</td>\n",
       "    </tr>\n",
       "    <tr>\n",
       "      <th>898</th>\n",
       "      <td>100.0</td>\n",
       "      <td>9</td>\n",
       "      <td>760.0</td>\n",
       "      <td>142</td>\n",
       "      <td>2330</td>\n",
       "      <td>2364</td>\n",
       "      <td>2364</td>\n",
       "      <td>2009.0</td>\n",
       "      <td>0</td>\n",
       "      <td>611657</td>\n",
       "      <td>100.0</td>\n",
       "      <td>760.0</td>\n",
       "    </tr>\n",
       "  </tbody>\n",
       "</table>\n",
       "<p>438 rows × 12 columns</p>\n",
       "</div>"
      ],
      "text/plain": [
       "      LotFrontage  OverallQual  MasVnrArea  BsmtUnfSF  TotalBsmtSF  1stFlrSF  \\\n",
       "529           NaN            6         NaN        816         2035      2515   \n",
       "491          79.0            6         0.0        238          806       958   \n",
       "459           NaN            5       161.0        524          709       979   \n",
       "279          83.0            7       299.0        768         1160      1156   \n",
       "655          21.0            6       381.0        525          525       525   \n",
       "...           ...          ...         ...        ...          ...       ...   \n",
       "271          73.0            7         0.0         96         1385      1363   \n",
       "445          73.0            6         0.0       1436         1436      1689   \n",
       "654          91.0            8       660.0        413         2109      2113   \n",
       "1280         67.0            7       110.0        785         1573      1573   \n",
       "898         100.0            9       760.0        142         2330      2364   \n",
       "\n",
       "      GrLivArea  GarageYrBlt  WoodDeckSF  SalePrice  LotFrontage_imputed  \\\n",
       "529        2515       1975.0           0     200624                113.0   \n",
       "491        1578       1941.0           0     133000                 79.0   \n",
       "459        1203       1950.0           0     110000                113.0   \n",
       "279        2022       1977.0         288     192000                 83.0   \n",
       "655        1092       1971.0           0      88000                 21.0   \n",
       "...         ...          ...         ...        ...                  ...   \n",
       "271        1363       1954.0          81     241500                 73.0   \n",
       "445        1689       1956.0           0     127500                 73.0   \n",
       "654        2113       1995.0         236     350000                 91.0   \n",
       "1280       1573       2002.0           0     227000                 67.0   \n",
       "898        2364       2009.0           0     611657                100.0   \n",
       "\n",
       "      MasVnrArea_imputed  \n",
       "529                425.0  \n",
       "491                  0.0  \n",
       "459                161.0  \n",
       "279                299.0  \n",
       "655                381.0  \n",
       "...                  ...  \n",
       "271                  0.0  \n",
       "445                  0.0  \n",
       "654                660.0  \n",
       "1280               110.0  \n",
       "898                760.0  \n",
       "\n",
       "[438 rows x 12 columns]"
      ]
     },
     "execution_count": 50,
     "metadata": {},
     "output_type": "execute_result"
    }
   ],
   "source": [
    "## Yêu cầu 7: gán NA với giá trị cực trị\n",
    "\n",
    "## VIẾT CODE Ở ĐÂY:\n",
    "X_train['MasVnrArea_imputed'] = X_train['MasVnrArea']\n",
    "impute_na(X_train, 'MasVnrArea_imputed', extreme_value)\n",
    "X_test['MasVnrArea_imputed'] = X_test['MasVnrArea']\n",
    "impute_na(X_test, 'MasVnrArea_imputed', extreme_value)"
   ]
  },
  {
   "cell_type": "code",
   "execution_count": 51,
   "metadata": {
    "id": "Pl1t37i5nXKj",
    "outputId": "53704505-10e9-47e4-d3bc-883f25d71c13"
   },
   "outputs": [
    {
     "data": {
      "text/plain": [
       "<matplotlib.legend.Legend at 0x16f57d52520>"
      ]
     },
     "execution_count": 51,
     "metadata": {},
     "output_type": "execute_result"
    },
    {
     "data": {
      "image/png": "[encoded data removed]",
      "text/plain": [
       "<Figure size 640x480 with 1 Axes>"
      ]
     },
     "metadata": {},
     "output_type": "display_data"
    }
   ],
   "source": [
    "# đánh giá tác động của gán giá trị ở cuối phân phối với phân phối\n",
    "\n",
    "# có thể thấy phân phối cho LotFrontAge đã thay đổi\n",
    "# với nhiều giá trị hơn tích lũy hướng tới giá trị cực trị\n",
    "\n",
    "fig = plt.figure()\n",
    "ax = fig.add_subplot(111)\n",
    "\n",
    "# phân phối ban đầu của biến\n",
    "X_train['LotFrontage'].plot(kind='kde', ax=ax)\n",
    "\n",
    "# biến được gán\n",
    "X_train['LotFrontage_imputed'].plot(kind='kde', ax=ax, color='red')\n",
    "\n",
    "# thêm legend\n",
    "lines, labels = ax.get_legend_handles_labels()\n",
    "ax.legend(lines, labels, loc='best')"
   ]
  },
  {
   "cell_type": "code",
   "execution_count": 52,
   "metadata": {
    "id": "vdJUHu7LnXKj",
    "outputId": "b5744bc8-387d-4891-d928-2edaf1637bba"
   },
   "outputs": [
    {
     "data": {
      "text/plain": [
       "<matplotlib.legend.Legend at 0x16f57e0c6d0>"
      ]
     },
     "execution_count": 52,
     "metadata": {},
     "output_type": "execute_result"
    },
    {
     "data": {
      "image/png": "[encoded data removed]",
      "text/plain": [
       "<Figure size 640x480 with 1 Axes>"
      ]
     },
     "metadata": {},
     "output_type": "display_data"
    }
   ],
   "source": [
    "# đánh giá tác động của gán giá trị ở cuối phân phối với phân phối\n",
    "\n",
    "# MasVnrArea chỉ có một vài outlier nên thay đổi trong phân phối\n",
    "# không lớn. Ít hơn so với khi sử dụng giá bất kỳ 2999 khi\n",
    "# chúng ta làm trong notebook trước\n",
    "\n",
    "fig = plt.figure()\n",
    "ax = fig.add_subplot(111)\n",
    "\n",
    "# phân phối ban đầu của biến\n",
    "X_train['MasVnrArea'].plot(kind='kde', ax=ax)\n",
    "\n",
    "# biến được gán\n",
    "X_train['MasVnrArea_imputed'].plot(kind='kde', ax=ax, color='red')\n",
    "\n",
    "# thêm legend\n",
    "lines, labels = ax.get_legend_handles_labels()\n",
    "ax.legend(lines, labels, loc='best')"
   ]
  },
  {
   "cell_type": "markdown",
   "metadata": {
    "collapsed": true,
    "id": "BRWNWhTcnXKj"
   },
   "source": [
    "Từ các biểu đồ trên, chúng ta có thể thấy phân phối của LotFrontAge thay đổi khá nhiều, nhiều hơn thay đổi phân phối của MasVnrArea do % giá trị bị khuyết trong biến thứ hai khá nhỏ."
   ]
  },
  {
   "cell_type": "code",
   "execution_count": 53,
   "metadata": {
    "id": "2Te5YALxnXKl",
    "outputId": "fda79b2b-ad3d-4618-9917-6dc0f73ea210"
   },
   "outputs": [
    {
     "data": {
      "text/plain": [
       "<AxesSubplot: >"
      ]
     },
     "execution_count": 53,
     "metadata": {},
     "output_type": "execute_result"
    },
    {
     "data": {
      "image/png": "[encoded data removed]",
      "text/plain": [
       "<Figure size 640x480 with 1 Axes>"
      ]
     },
     "metadata": {},
     "output_type": "display_data"
    }
   ],
   "source": [
    "# chúng ta thấy có ít outlier hơn sau khi gán\n",
    "\n",
    "X_train[['LotFrontage', 'LotFrontage_imputed']].boxplot()"
   ]
  },
  {
   "cell_type": "code",
   "execution_count": null,
   "metadata": {
    "id": "clpp5Df9nXKl",
    "outputId": "7c36aefb-66c4-4908-d047-45e8e14fefc1"
   },
   "outputs": [
    {
     "data": {
      "text/plain": [
       "<matplotlib.axes._subplots.AxesSubplot at 0x833139e940>"
      ]
     },
     "execution_count": 26,
     "metadata": {
      "tags": []
     },
     "output_type": "execute_result"
    },
    {
     "data": {
      "image/png": "[encoded data removed]",
      "text/plain": [
       "<Figure size 432x288 with 1 Axes>"
      ]
     },
     "metadata": {
      "needs_background": "light",
      "tags": []
     },
     "output_type": "display_data"
    }
   ],
   "source": [
    "# tuy nhiên, các outlier không bị ảnh hưởng nhiều với MasVnrArea\n",
    "\n",
    "X_train[['MasVnrArea', 'MasVnrArea_imputed']].boxplot()"
   ]
  },
  {
   "cell_type": "code",
   "execution_count": 54,
   "metadata": {
    "id": "dmJaX_exnXKl",
    "outputId": "92a34ef3-81d3-44a5-ae0f-d29d61e96631"
   },
   "outputs": [
    {
     "name": "stdout",
     "output_type": "stream",
     "text": [
      "Original Variance:  532.5872021885677\n",
      "Variance after imputation:  717.2905472360278\n"
     ]
    }
   ],
   "source": [
    "# tương tự, chúng ta có thể khám phá tác động của kỹ thuật gán tới\n",
    "# phương sai\n",
    "\n",
    "# thấy phương sai thay đổi sau khi gán cho LotFrontAgec\n",
    "# điều này đã được dự kiến, do phần trăm dữ liệu bị khuyết khá\n",
    "# cao, ~20%\n",
    "\n",
    "print('Original Variance: ', X_train['LotFrontage'].var())\n",
    "print('Variance after imputation: ', X_train['LotFrontage_imputed'].var())"
   ]
  },
  {
   "cell_type": "code",
   "execution_count": 55,
   "metadata": {
    "id": "nyLTtBJjnXKm",
    "outputId": "4b7855ac-707a-4506-9f5b-3cf3e3dc95eb"
   },
   "outputs": [
    {
     "name": "stdout",
     "output_type": "stream",
     "text": [
      "Original Variance:  32983.53871003956\n",
      "Variance after imputation:  33325.550163781714\n"
     ]
    }
   ],
   "source": [
    "# tương tự với MasnVnrArea, thay đổi không quá lớn\n",
    "# Đặc biệt là ảnh hưởng này nhỏ hơn với cái mà chúng ta đã quan sát\n",
    "# khi gán với 2999 trong notebook trước!!!\n",
    "\n",
    "print('Original Variance: ', X_train['MasVnrArea'].var())\n",
    "print('Variance after imputation: ', X_train['MasVnrArea_imputed'].var())"
   ]
  },
  {
   "cell_type": "code",
   "execution_count": 56,
   "metadata": {
    "id": "CdbtkwOlnXKm",
    "outputId": "497fc33e-25f9-48d7-fad3-a8ad519f1d64"
   },
   "outputs": [
    {
     "data": {
      "text/html": [
       "<div>\n",
       "<style scoped>\n",
       "    .dataframe tbody tr th:only-of-type {\n",
       "        vertical-align: middle;\n",
       "    }\n",
       "\n",
       "    .dataframe tbody tr th {\n",
       "        vertical-align: top;\n",
       "    }\n",
       "\n",
       "    .dataframe thead th {\n",
       "        text-align: right;\n",
       "    }\n",
       "</style>\n",
       "<table border=\"1\" class=\"dataframe\">\n",
       "  <thead>\n",
       "    <tr style=\"text-align: right;\">\n",
       "      <th></th>\n",
       "      <th>LotFrontage</th>\n",
       "      <th>OverallQual</th>\n",
       "      <th>MasVnrArea</th>\n",
       "      <th>BsmtUnfSF</th>\n",
       "      <th>TotalBsmtSF</th>\n",
       "      <th>1stFlrSF</th>\n",
       "      <th>GrLivArea</th>\n",
       "      <th>GarageYrBlt</th>\n",
       "      <th>WoodDeckSF</th>\n",
       "      <th>SalePrice</th>\n",
       "      <th>LotFrontage_imputed</th>\n",
       "      <th>MasVnrArea_imputed</th>\n",
       "    </tr>\n",
       "  </thead>\n",
       "  <tbody>\n",
       "    <tr>\n",
       "      <th>LotFrontage</th>\n",
       "      <td>532.587202</td>\n",
       "      <td>6.587119</td>\n",
       "      <td>6.805603e+02</td>\n",
       "      <td>9.496573e+02</td>\n",
       "      <td>2.908856e+03</td>\n",
       "      <td>3.379794e+03</td>\n",
       "      <td>3.919952e+03</td>\n",
       "      <td>30.611717</td>\n",
       "      <td>1.347414e+02</td>\n",
       "      <td>6.689645e+05</td>\n",
       "      <td>532.587202</td>\n",
       "      <td>6.863382e+02</td>\n",
       "    </tr>\n",
       "    <tr>\n",
       "      <th>OverallQual</th>\n",
       "      <td>6.587119</td>\n",
       "      <td>1.843859</td>\n",
       "      <td>1.014970e+02</td>\n",
       "      <td>1.746147e+02</td>\n",
       "      <td>2.886241e+02</td>\n",
       "      <td>2.242973e+02</td>\n",
       "      <td>4.091242e+02</td>\n",
       "      <td>17.902809</td>\n",
       "      <td>3.168557e+01</td>\n",
       "      <td>8.320132e+04</td>\n",
       "      <td>4.265189</td>\n",
       "      <td>1.024493e+02</td>\n",
       "    </tr>\n",
       "    <tr>\n",
       "      <th>MasVnrArea</th>\n",
       "      <td>680.560330</td>\n",
       "      <td>101.496976</td>\n",
       "      <td>3.298354e+04</td>\n",
       "      <td>7.540788e+03</td>\n",
       "      <td>2.478877e+04</td>\n",
       "      <td>2.086595e+04</td>\n",
       "      <td>3.520785e+04</td>\n",
       "      <td>1203.583792</td>\n",
       "      <td>3.208924e+03</td>\n",
       "      <td>6.836439e+06</td>\n",
       "      <td>602.595232</td>\n",
       "      <td>3.298354e+04</td>\n",
       "    </tr>\n",
       "    <tr>\n",
       "      <th>BsmtUnfSF</th>\n",
       "      <td>949.657293</td>\n",
       "      <td>174.614725</td>\n",
       "      <td>7.540788e+03</td>\n",
       "      <td>1.875241e+05</td>\n",
       "      <td>7.513307e+04</td>\n",
       "      <td>4.987449e+04</td>\n",
       "      <td>5.203392e+04</td>\n",
       "      <td>1823.065167</td>\n",
       "      <td>-1.833201e+03</td>\n",
       "      <td>6.833028e+06</td>\n",
       "      <td>-148.381532</td>\n",
       "      <td>7.602415e+03</td>\n",
       "    </tr>\n",
       "    <tr>\n",
       "      <th>TotalBsmtSF</th>\n",
       "      <td>2908.855504</td>\n",
       "      <td>288.624075</td>\n",
       "      <td>2.478877e+04</td>\n",
       "      <td>7.513307e+04</td>\n",
       "      <td>1.682931e+05</td>\n",
       "      <td>1.212079e+05</td>\n",
       "      <td>8.615192e+04</td>\n",
       "      <td>3173.042442</td>\n",
       "      <td>1.227966e+04</td>\n",
       "      <td>2.003928e+07</td>\n",
       "      <td>2335.422742</td>\n",
       "      <td>2.470776e+04</td>\n",
       "    </tr>\n",
       "    <tr>\n",
       "      <th>1stFlrSF</th>\n",
       "      <td>3379.793504</td>\n",
       "      <td>224.297266</td>\n",
       "      <td>2.086595e+04</td>\n",
       "      <td>4.987449e+04</td>\n",
       "      <td>1.212079e+05</td>\n",
       "      <td>1.398656e+05</td>\n",
       "      <td>1.044401e+05</td>\n",
       "      <td>2009.195552</td>\n",
       "      <td>1.109406e+04</td>\n",
       "      <td>1.783631e+07</td>\n",
       "      <td>2974.734267</td>\n",
       "      <td>2.064709e+04</td>\n",
       "    </tr>\n",
       "    <tr>\n",
       "      <th>GrLivArea</th>\n",
       "      <td>3919.951834</td>\n",
       "      <td>409.124216</td>\n",
       "      <td>3.520785e+04</td>\n",
       "      <td>5.203392e+04</td>\n",
       "      <td>8.615192e+04</td>\n",
       "      <td>1.044401e+05</td>\n",
       "      <td>2.681277e+05</td>\n",
       "      <td>2738.982988</td>\n",
       "      <td>1.558395e+04</td>\n",
       "      <td>2.934477e+07</td>\n",
       "      <td>3494.579666</td>\n",
       "      <td>3.524741e+04</td>\n",
       "    </tr>\n",
       "    <tr>\n",
       "      <th>GarageYrBlt</th>\n",
       "      <td>30.611717</td>\n",
       "      <td>17.902809</td>\n",
       "      <td>1.203584e+03</td>\n",
       "      <td>1.823065e+03</td>\n",
       "      <td>3.173042e+03</td>\n",
       "      <td>2.009196e+03</td>\n",
       "      <td>2.738983e+03</td>\n",
       "      <td>624.305948</td>\n",
       "      <td>6.658911e+02</td>\n",
       "      <td>9.309355e+05</td>\n",
       "      <td>25.743421</td>\n",
       "      <td>1.240221e+03</td>\n",
       "    </tr>\n",
       "    <tr>\n",
       "      <th>WoodDeckSF</th>\n",
       "      <td>134.741376</td>\n",
       "      <td>31.685571</td>\n",
       "      <td>3.208924e+03</td>\n",
       "      <td>-1.833201e+03</td>\n",
       "      <td>1.227966e+04</td>\n",
       "      <td>1.109406e+04</td>\n",
       "      <td>1.558395e+04</td>\n",
       "      <td>665.891118</td>\n",
       "      <td>1.648582e+04</td>\n",
       "      <td>3.029981e+06</td>\n",
       "      <td>355.396652</td>\n",
       "      <td>3.134568e+03</td>\n",
       "    </tr>\n",
       "    <tr>\n",
       "      <th>SalePrice</th>\n",
       "      <td>668964.454191</td>\n",
       "      <td>83201.317781</td>\n",
       "      <td>6.836439e+06</td>\n",
       "      <td>6.833028e+06</td>\n",
       "      <td>2.003928e+07</td>\n",
       "      <td>1.783631e+07</td>\n",
       "      <td>2.934477e+07</td>\n",
       "      <td>930935.489321</td>\n",
       "      <td>3.029981e+06</td>\n",
       "      <td>6.105731e+09</td>\n",
       "      <td>564042.950453</td>\n",
       "      <td>6.841816e+06</td>\n",
       "    </tr>\n",
       "    <tr>\n",
       "      <th>LotFrontage_imputed</th>\n",
       "      <td>532.587202</td>\n",
       "      <td>4.265189</td>\n",
       "      <td>6.025952e+02</td>\n",
       "      <td>-1.483815e+02</td>\n",
       "      <td>2.335423e+03</td>\n",
       "      <td>2.974734e+03</td>\n",
       "      <td>3.494580e+03</td>\n",
       "      <td>25.743421</td>\n",
       "      <td>3.553967e+02</td>\n",
       "      <td>5.640430e+05</td>\n",
       "      <td>717.290547</td>\n",
       "      <td>6.080157e+02</td>\n",
       "    </tr>\n",
       "    <tr>\n",
       "      <th>MasVnrArea_imputed</th>\n",
       "      <td>686.338245</td>\n",
       "      <td>102.449340</td>\n",
       "      <td>3.298354e+04</td>\n",
       "      <td>7.602415e+03</td>\n",
       "      <td>2.470776e+04</td>\n",
       "      <td>2.064709e+04</td>\n",
       "      <td>3.524741e+04</td>\n",
       "      <td>1240.221068</td>\n",
       "      <td>3.134568e+03</td>\n",
       "      <td>6.841816e+06</td>\n",
       "      <td>608.015693</td>\n",
       "      <td>3.332555e+04</td>\n",
       "    </tr>\n",
       "  </tbody>\n",
       "</table>\n",
       "</div>"
      ],
      "text/plain": [
       "                       LotFrontage   OverallQual    MasVnrArea     BsmtUnfSF  \\\n",
       "LotFrontage             532.587202      6.587119  6.805603e+02  9.496573e+02   \n",
       "OverallQual               6.587119      1.843859  1.014970e+02  1.746147e+02   \n",
       "MasVnrArea              680.560330    101.496976  3.298354e+04  7.540788e+03   \n",
       "BsmtUnfSF               949.657293    174.614725  7.540788e+03  1.875241e+05   \n",
       "TotalBsmtSF            2908.855504    288.624075  2.478877e+04  7.513307e+04   \n",
       "1stFlrSF               3379.793504    224.297266  2.086595e+04  4.987449e+04   \n",
       "GrLivArea              3919.951834    409.124216  3.520785e+04  5.203392e+04   \n",
       "GarageYrBlt              30.611717     17.902809  1.203584e+03  1.823065e+03   \n",
       "WoodDeckSF              134.741376     31.685571  3.208924e+03 -1.833201e+03   \n",
       "SalePrice            668964.454191  83201.317781  6.836439e+06  6.833028e+06   \n",
       "LotFrontage_imputed     532.587202      4.265189  6.025952e+02 -1.483815e+02   \n",
       "MasVnrArea_imputed      686.338245    102.449340  3.298354e+04  7.602415e+03   \n",
       "\n",
       "                      TotalBsmtSF      1stFlrSF     GrLivArea    GarageYrBlt  \\\n",
       "LotFrontage          2.908856e+03  3.379794e+03  3.919952e+03      30.611717   \n",
       "OverallQual          2.886241e+02  2.242973e+02  4.091242e+02      17.902809   \n",
       "MasVnrArea           2.478877e+04  2.086595e+04  3.520785e+04    1203.583792   \n",
       "BsmtUnfSF            7.513307e+04  4.987449e+04  5.203392e+04    1823.065167   \n",
       "TotalBsmtSF          1.682931e+05  1.212079e+05  8.615192e+04    3173.042442   \n",
       "1stFlrSF             1.212079e+05  1.398656e+05  1.044401e+05    2009.195552   \n",
       "GrLivArea            8.615192e+04  1.044401e+05  2.681277e+05    2738.982988   \n",
       "GarageYrBlt          3.173042e+03  2.009196e+03  2.738983e+03     624.305948   \n",
       "WoodDeckSF           1.227966e+04  1.109406e+04  1.558395e+04     665.891118   \n",
       "SalePrice            2.003928e+07  1.783631e+07  2.934477e+07  930935.489321   \n",
       "LotFrontage_imputed  2.335423e+03  2.974734e+03  3.494580e+03      25.743421   \n",
       "MasVnrArea_imputed   2.470776e+04  2.064709e+04  3.524741e+04    1240.221068   \n",
       "\n",
       "                       WoodDeckSF     SalePrice  LotFrontage_imputed  \\\n",
       "LotFrontage          1.347414e+02  6.689645e+05           532.587202   \n",
       "OverallQual          3.168557e+01  8.320132e+04             4.265189   \n",
       "MasVnrArea           3.208924e+03  6.836439e+06           602.595232   \n",
       "BsmtUnfSF           -1.833201e+03  6.833028e+06          -148.381532   \n",
       "TotalBsmtSF          1.227966e+04  2.003928e+07          2335.422742   \n",
       "1stFlrSF             1.109406e+04  1.783631e+07          2974.734267   \n",
       "GrLivArea            1.558395e+04  2.934477e+07          3494.579666   \n",
       "GarageYrBlt          6.658911e+02  9.309355e+05            25.743421   \n",
       "WoodDeckSF           1.648582e+04  3.029981e+06           355.396652   \n",
       "SalePrice            3.029981e+06  6.105731e+09        564042.950453   \n",
       "LotFrontage_imputed  3.553967e+02  5.640430e+05           717.290547   \n",
       "MasVnrArea_imputed   3.134568e+03  6.841816e+06           608.015693   \n",
       "\n",
       "                     MasVnrArea_imputed  \n",
       "LotFrontage                6.863382e+02  \n",
       "OverallQual                1.024493e+02  \n",
       "MasVnrArea                 3.298354e+04  \n",
       "BsmtUnfSF                  7.602415e+03  \n",
       "TotalBsmtSF                2.470776e+04  \n",
       "1stFlrSF                   2.064709e+04  \n",
       "GrLivArea                  3.524741e+04  \n",
       "GarageYrBlt                1.240221e+03  \n",
       "WoodDeckSF                 3.134568e+03  \n",
       "SalePrice                  6.841816e+06  \n",
       "LotFrontage_imputed        6.080157e+02  \n",
       "MasVnrArea_imputed         3.332555e+04  "
      ]
     },
     "execution_count": 56,
     "metadata": {},
     "output_type": "execute_result"
    }
   ],
   "source": [
    "# cuối cùng, hãy khám phá hiệp phương sai:\n",
    "# dành chút thời gian so sánh các giá trị trong bảng dưới đây.\n",
    "\n",
    "X_train.cov()"
   ]
  }
 ],
 "metadata": {
  "colab": {
   "collapsed_sections": [],
   "name": "8.4 Gán giá trị ở cuối phân phối.ipynb",
   "provenance": []
  },
  "kernelspec": {
   "display_name": "Python 3 (ipykernel)",
   "language": "python",
   "name": "python3"
  },
  "language_info": {
   "codemirror_mode": {
    "name": "ipython",
    "version": 3
   },
   "file_extension": ".py",
   "mimetype": "text/x-python",
   "name": "python",
   "nbconvert_exporter": "python",
   "pygments_lexer": "ipython3",
   "version": "3.9.5"
  },
  "toc": {
   "base_numbering": 1,
   "nav_menu": {},
   "number_sections": true,
   "sideBar": true,
   "skip_h1_title": false,
   "title_cell": "Table of Contents",
   "title_sidebar": "Contents",
   "toc_cell": false,
   "toc_position": {},
   "toc_section_display": "block",
   "toc_window_display": true
  }
 },
 "nbformat": 4,
 "nbformat_minor": 1
}
