{
  "nbformat": 4,
  "nbformat_minor": 0,
  "metadata": {
    "kernelspec": {
      "display_name": "Python 3",
      "language": "python",
      "name": "python3"
    },
    "language_info": {
      "codemirror_mode": {
        "name": "ipython",
        "version": 3
      },
      "file_extension": ".py",
      "mimetype": "text/x-python",
      "name": "python",
      "nbconvert_exporter": "python",
      "pygments_lexer": "ipython3",
      "version": "3.7.6"
    },
    "colab": {
      "provenance": []
    }
  },
  "cells": [
    {
      "cell_type": "markdown",
      "metadata": {
        "button": false,
        "new_sheet": false,
        "run_control": {
          "read_only": false
        },
        "id": "xeo9SOsMhnK6"
      },
      "source": [
        "# Biểu đồ vùng, biểu đồ tần suất và biểu đồ hộp\n",
        "\n",
        "Thời lượng ước tính: **30** phút\n",
        "\n",
        "## Mục tiêu\n",
        "\n",
        "Sau khi hoàn thành lab này, bạn sẽ có thể:\n",
        "\n",
        "-   Tạo các lab bổ sung, cụ thể là biểu đồ vùng, biểu đồ tần suất và biểu đồ cột\n"
      ]
    },
    {
      "cell_type": "markdown",
      "metadata": {
        "button": false,
        "new_sheet": false,
        "run_control": {
          "read_only": false
        },
        "id": "S0elJnbmhnK8"
      },
      "source": [
        "## Mục lục\n",
        "\n",
        "<div class=\"alert alert-block alert-info\" style=\"margin-top: 20px\">\n",
        "\n",
        "1.  [Khám phá tập dữ liệu với *pandas*](#0)<br>\n",
        "2.  [Download và chuẩn bị dữ liệu](#2)<br>\n",
        "3.  [Trực quan hóa dữ liệu sử dụng Matplotlib](#4) <br>\n",
        "4.  [Biểu đồ vùng](#6) <br>\n",
        "5.  [Biểu đồ tần suất](#8) <br>\n",
        "6.  [Biểu đồ cột](#10) <br>\n",
        "\n",
        "</div>\n"
      ]
    },
    {
      "cell_type": "markdown",
      "metadata": {
        "button": false,
        "new_sheet": false,
        "run_control": {
          "read_only": false
        },
        "id": "bJ0ffAchhnK8"
      },
      "source": [
        "# Khám phá tập dữ liệu với *pandas* và Matplotlib<a id=\"0\"></a>\n",
        "\n",
        "Bộ công cụ: Khóa học phần lớn dùng [*pandas*](http://pandas.pydata.org/?utm_medium=Exinfluencer\\&utm_source=Exinfluencer\\&utm_content=000026UJ\\&utm_term=10006555\\&utm_id=NA-SkillsNetwork-Channel-SkillsNetworkCoursesIBMDeveloperSkillsNetworkDV0101ENSkillsNetwork20297740-2021-01-01) và [**Numpy**](http://www.numpy.org/?utm_medium=Exinfluencer\\&utm_source=Exinfluencer\\&utm_content=000026UJ\\&utm_term=10006555\\&utm_id=NA-SkillsNetwork-Channel-SkillsNetworkCoursesIBMDeveloperSkillsNetworkDV0101ENSkillsNetwork20297740-2021-01-01) cho việc dọn dẹp, phân tích và trực quan hóa dữ liệu. Thư viện vẽ biểu đồ chính mà chúng ta sẽ khám phá là [Matplotlib](http://matplotlib.org/?utm_medium=Exinfluencer\\&utm_source=Exinfluencer\\&utm_content=000026UJ\\&utm_term=10006555\\&utm_id=NA-SkillsNetwork-Channel-SkillsNetworkCoursesIBMDeveloperSkillsNetworkDV0101ENSkillsNetwork20297740-2021-01-01).\n",
        "\n",
        "Tập dữ liệu: Nhập cư tới Canada từ 1980 tới 2013 - [International migration flows to and from selected countries - The 2015 revision](http://www.un.org/en/development/desa/population/migration/data/empirical2/migrationflows.shtml?utm_medium=Exinfluencer\\&utm_source=Exinfluencer\\&utm_content=000026UJ\\&utm_term=10006555\\&utm_id=NA-SkillsNetwork-Channel-SkillsNetworkCoursesIBMDeveloperSkillsNetworkDV0101ENSkillsNetwork20297740-2021-01-01) từ trang web của Liên Hợp Quốc.\n",
        "\n",
        "Tập dữ liệu chứa dữ liệu hàng năm về dòng người di cư quốc tế được ghi lại bởi các quốc gia điểm đến. Dữ liệu thể hiện cả dòng vào và dòng ra theo nơi sinh, quốc tịch hoặc nơi cư trú trước đây / tiếp theo của cả người nước ngoài và người mang quốc tịch. Trong bài học này, chúng ta sẽ tập trung vào dữ liệu Nhập cư Canada."
      ]
    },
    {
      "cell_type": "markdown",
      "metadata": {
        "button": false,
        "new_sheet": false,
        "run_control": {
          "read_only": false
        },
        "id": "tvsKEqXIhnK9"
      },
      "source": [
        "# Download và chuẩn bị dữ liệu <a id=\"2\"></a>\n"
      ]
    },
    {
      "cell_type": "markdown",
      "metadata": {
        "button": false,
        "new_sheet": false,
        "run_control": {
          "read_only": false
        },
        "id": "z8t-RJoUhnK9"
      },
      "source": [
        "Import mô-đun chính. Trước tiên chúng ta sẽ import 2 mô-đun phân tích dữ liệu chính: *pandas* và **Numpy**.\n"
      ]
    },
    {
      "cell_type": "code",
      "metadata": {
        "button": false,
        "new_sheet": false,
        "run_control": {
          "read_only": false
        },
        "id": "jb-usZ6QhnK9"
      },
      "source": [
        "import numpy as np  # hữu ích với nhiều tính toán khoa học trong Python\n",
        "import pandas as pd # thư viện cấu trúc dữ liệu chính"
      ],
      "execution_count": null,
      "outputs": []
    },
    {
      "cell_type": "markdown",
      "metadata": {
        "button": false,
        "new_sheet": false,
        "run_control": {
          "read_only": false
        },
        "id": "_YfLYRmDhbsx"
      },
      "source": [
        "Hãy download và import tập dữ liệu Canadian Immigration chính của chúng tôi bằng phương thức _pandas_ `read_excel()`. Thông thường, chúng ta sẽ cần download một mô-đun _pandas_ yêu cầu đọc trong file excel trước khi có thể làm điều đó. Mô-đun này là **xlrd**. Để thuận tiện cho bạn, chúng tôi đã cài đặt sẵn mô-đun này, vì vậy bạn sẽ không phải lo lắng về điều đó. Nếu không, bạn sẽ cần chạy dòng code sau để cài đặt mô-đun **xlrd**:\n",
        "```\n",
        "!conda install -c anaconda xlrd --yes\n",
        "```\n"
      ]
    },
    {
      "cell_type": "markdown",
      "metadata": {
        "button": false,
        "new_sheet": false,
        "run_control": {
          "read_only": false
        },
        "id": "tbMWwqrThnK-"
      },
      "source": [
        "Download tập dữ liệu và đọc nó thành dataframe *pandas*.\n"
      ]
    },
    {
      "cell_type": "code",
      "metadata": {
        "button": false,
        "new_sheet": false,
        "run_control": {
          "read_only": false
        },
        "id": "JdV_zv1VhnK-"
      },
      "source": [
        "\n",
        "df_can = pd.read_excel('https://cf-courses-data.s3.us.cloud-object-storage.appdomain.cloud/IBMDeveloperSkillsNetwork-DV0101EN-SkillsNetwork/Data%20Files/Canada.xlsx',\n",
        "                       sheet_name='Canada by Citizenship',\n",
        "                       skiprows=range(20),\n",
        "                       skipfooter=2\n",
        "                      )\n",
        "print('Data downloaded and read into a dataframe!')"
      ],
      "execution_count": null,
      "outputs": []
    },
    {
      "cell_type": "markdown",
      "metadata": {
        "button": false,
        "new_sheet": false,
        "run_control": {
          "read_only": false
        },
        "id": "KHTiGnqMhnK_"
      },
      "source": [
        "Hãy xem 5 hàng trên cùng của tập dữ liệu.\n"
      ]
    },
    {
      "cell_type": "code",
      "metadata": {
        "button": false,
        "new_sheet": false,
        "run_control": {
          "read_only": false
        },
        "id": "2kHRR2EmhnK_"
      },
      "source": [
        "df_can.head()"
      ],
      "execution_count": null,
      "outputs": []
    },
    {
      "cell_type": "markdown",
      "metadata": {
        "button": false,
        "new_sheet": false,
        "run_control": {
          "read_only": false
        },
        "id": "mhxXbqVrhnK_"
      },
      "source": [
        "Hãy xem có bao nhiêu mục nhập trong tập dữ liệu."
      ]
    },
    {
      "cell_type": "code",
      "metadata": {
        "button": false,
        "new_sheet": false,
        "run_control": {
          "read_only": false
        },
        "scrolled": true,
        "id": "opc4-qM8hnK_"
      },
      "source": [
        "# in ra các kích thước của dataframe\n",
        "print(df_can.shape)"
      ],
      "execution_count": null,
      "outputs": []
    },
    {
      "cell_type": "markdown",
      "metadata": {
        "button": false,
        "new_sheet": false,
        "run_control": {
          "read_only": false
        },
        "id": "i-3h11B9hnLA"
      },
      "source": [
        "Dọn dẹp dữ liệu. Chúng ta sẽ thực hiện một số sửa đổi với tập dữ liệu gốc để giúp việc tạo hình ảnh trực quan dễ dàng hơn. Tham khảo lab `Introduction to Matplotlib and Line Plots` để biết thêm mô tả chi tiết và hợp lý về các thay đổi."
      ]
    },
    {
      "cell_type": "markdown",
      "metadata": {
        "button": false,
        "new_sheet": false,
        "run_control": {
          "read_only": false
        },
        "id": "7WJWzNnGhnLA"
      },
      "source": [
        "#### 1. Dọn dẹp tập dữ liệu để loại bỏ các cột không cung cấp thông tin cho trực quan hóa (ví dụ: Type, AREA, REG).\n"
      ]
    },
    {
      "cell_type": "code",
      "metadata": {
        "button": false,
        "new_sheet": false,
        "run_control": {
          "read_only": false
        },
        "id": "qRdYWT7ohnLA"
      },
      "source": [
        "df_can.drop(['AREA', 'REG', 'DEV', 'Type', 'Coverage'], axis=1, inplace=True)\n",
        "\n",
        "# hãy xem 5 phần tử đầu tiên và cách dataframe thay đổi ra sao\n",
        "df_can.head()"
      ],
      "execution_count": null,
      "outputs": []
    },
    {
      "cell_type": "markdown",
      "metadata": {
        "button": false,
        "new_sheet": false,
        "run_control": {
          "read_only": false
        },
        "id": "k98cEK9DhnLA"
      },
      "source": [
        "Lưu ý cách các cột Type, Coverage, AREA, REG, và DEV đã bị xóa khỏi dataframe."
      ]
    },
    {
      "cell_type": "markdown",
      "metadata": {
        "button": false,
        "new_sheet": false,
        "run_control": {
          "read_only": false
        },
        "id": "ZPTIt6cmhnLB"
      },
      "source": [
        "#### 2. Đổi tên một số cột sao cho phù hợp."
      ]
    },
    {
      "cell_type": "code",
      "metadata": {
        "button": false,
        "new_sheet": false,
        "run_control": {
          "read_only": false
        },
        "id": "2JuamAAHhnLB"
      },
      "source": [
        "df_can.rename(columns={'OdName':'Country', 'AreaName':'Continent','RegName':'Region'}, inplace=True)\n",
        "\n",
        "# hãy xem 5 phần tử đầu tiên và cách dataframe thay đổi ra sao\n",
        "df_can.head()"
      ],
      "execution_count": null,
      "outputs": []
    },
    {
      "cell_type": "markdown",
      "metadata": {
        "button": false,
        "new_sheet": false,
        "run_control": {
          "read_only": false
        },
        "id": "GAYRKeY_hnLB"
      },
      "source": [
        "Lưu ý rằng tên cột bây giờ có ý nghĩa hơn nhiều."
      ]
    },
    {
      "cell_type": "markdown",
      "metadata": {
        "button": false,
        "new_sheet": false,
        "run_control": {
          "read_only": false
        },
        "id": "3gIksN9YhnLB"
      },
      "source": [
        "#### 3. Để thống nhất, hãy đảm bảo tất cả các nhãn cột đều thuộc kiểu string.\n"
      ]
    },
    {
      "cell_type": "code",
      "metadata": {
        "button": false,
        "new_sheet": false,
        "run_control": {
          "read_only": false
        },
        "scrolled": true,
        "id": "xif6dpbnhnLB"
      },
      "source": [
        "# hãy kiểm tra các kiểu của nhãn cột\n",
        "all(isinstance(column, str) for column in df_can.columns)"
      ],
      "execution_count": null,
      "outputs": []
    },
    {
      "cell_type": "markdown",
      "metadata": {
        "button": false,
        "new_sheet": false,
        "run_control": {
          "read_only": false
        },
        "id": "7GkGHoMXhnLC"
      },
      "source": [
        "Lưu ý cách dòng code trên trả về *False* khi chúng ta kiểm tra xem tất cả các nhãn cột có thuộc kiểu **string** hay không. Vì vậy, hãy thay đổi tất cả chúng thành kiểu **string**."
      ]
    },
    {
      "cell_type": "code",
      "metadata": {
        "button": false,
        "new_sheet": false,
        "run_control": {
          "read_only": false
        },
        "id": "Q1pR8rR7hnLC"
      },
      "source": [
        "df_can.columns = list(map(str, df_can.columns))\n",
        "\n",
        "# giờ hãy kiểm tra các kiểu của nhãn cột\n",
        "all(isinstance(column, str) for column in df_can.columns)"
      ],
      "execution_count": null,
      "outputs": []
    },
    {
      "cell_type": "markdown",
      "metadata": {
        "button": false,
        "new_sheet": false,
        "run_control": {
          "read_only": false
        },
        "id": "ppKz4sjHhnLC"
      },
      "source": [
        "#### 4. Đặt tên quốc gia làm chỉ mục - phương thức .loc hữu ích khi tra cứu nhanh các quốc gia."
      ]
    },
    {
      "cell_type": "code",
      "metadata": {
        "button": false,
        "new_sheet": false,
        "run_control": {
          "read_only": false
        },
        "id": "-xnq6A6qhnLC"
      },
      "source": [
        "df_can.set_index('Country', inplace=True)\n",
        "\n",
        "# hãy xem 5 phần tử đầu tiên và cách dataframe thay đổi ra sao\n",
        "df_can.head()"
      ],
      "execution_count": null,
      "outputs": []
    },
    {
      "cell_type": "markdown",
      "metadata": {
        "button": false,
        "new_sheet": false,
        "run_control": {
          "read_only": false
        },
        "id": "zkDzArNIhnLC"
      },
      "source": [
        "Chú ý rằng giờ tên quốc gia làm các chỉ mục."
      ]
    },
    {
      "cell_type": "markdown",
      "metadata": {
        "button": false,
        "new_sheet": false,
        "run_control": {
          "read_only": false
        },
        "id": "sFzyWB46hnLC"
      },
      "source": [
        "#### 5. Thêm cột Total.\n"
      ]
    },
    {
      "cell_type": "code",
      "metadata": {
        "button": false,
        "new_sheet": false,
        "run_control": {
          "read_only": false
        },
        "id": "fUCAZ6dehnLC"
      },
      "source": [
        "df_can['Total'] = df_can.sum(axis=1)\n",
        "\n",
        "# hãy xem 5 phần tử đầu tiên và cách dataframe thay đổi ra sao\n",
        "df_can.head()"
      ],
      "execution_count": null,
      "outputs": []
    },
    {
      "cell_type": "markdown",
      "metadata": {
        "button": false,
        "new_sheet": false,
        "run_control": {
          "read_only": false
        },
        "id": "tjcZ-ZDxhnLD"
      },
      "source": [
        "Bây giờ dataframe có thêm một cột thể hiện tổng số người nhập cư từ mỗi quốc gia trong tập dữ liệu từ 1980 - 2013. Vì vậy, nếu chúng ta in kích thước của dữ liệu sẽ nhận được:"
      ]
    },
    {
      "cell_type": "code",
      "metadata": {
        "button": false,
        "new_sheet": false,
        "run_control": {
          "read_only": false
        },
        "scrolled": true,
        "id": "8g0GsM9IhnLD"
      },
      "source": [
        "print ('data dimensions:', df_can.shape)"
      ],
      "execution_count": null,
      "outputs": []
    },
    {
      "cell_type": "markdown",
      "metadata": {
        "button": false,
        "new_sheet": false,
        "run_control": {
          "read_only": false
        },
        "id": "2h41wuJ7hnLD"
      },
      "source": [
        "Vì vậy, bây giờ dataframe có 38 cột thay vì 37 cột như trước đây."
      ]
    },
    {
      "cell_type": "code",
      "metadata": {
        "button": false,
        "new_sheet": false,
        "run_control": {
          "read_only": false
        },
        "id": "xQpSCHRbhnLD"
      },
      "source": [
        "# cuối cùng, hãy tạo một list các năm từ 1980-2013\n",
        "# điều này sẽ hữu ích khi chúng ta bắt đầu vẽ biểu đồ\n",
        "years = list(map(str, range(1980, 2014)))\n",
        "\n",
        "years"
      ],
      "execution_count": null,
      "outputs": []
    },
    {
      "cell_type": "markdown",
      "metadata": {
        "button": false,
        "new_sheet": false,
        "run_control": {
          "read_only": false
        },
        "id": "i6vQRnsrhnLD"
      },
      "source": [
        "# Trực quan hóa dữ liệu bằng Matplotlib<a id=\"4\"></a>\n"
      ]
    },
    {
      "cell_type": "markdown",
      "metadata": {
        "button": false,
        "new_sheet": false,
        "run_control": {
          "read_only": false
        },
        "id": "mYeaRPRthnLD"
      },
      "source": [
        "Import `Matplotlib` và **Numpy**.\n"
      ]
    },
    {
      "cell_type": "code",
      "metadata": {
        "button": false,
        "new_sheet": false,
        "run_control": {
          "read_only": false
        },
        "id": "CidRWjJJhnLE"
      },
      "source": [
        "# sử dụng inline backend để tạo biểu đồ trong trình duyệt\n",
        "%matplotlib inline\n",
        "\n",
        "import matplotlib as mpl\n",
        "import matplotlib.pyplot as plt\n",
        "\n",
        "mpl.style.use('ggplot') # tùy chọn: style ggplot\n",
        "\n",
        "# kiểm tra phiên bản mới nhất của Matplotlib\n",
        "print ('Matplotlib version: ', mpl.__version__) # >= 2.0.0"
      ],
      "execution_count": null,
      "outputs": []
    },
    {
      "cell_type": "markdown",
      "metadata": {
        "button": false,
        "new_sheet": false,
        "run_control": {
          "read_only": false
        },
        "id": "4fKo0kMPhnLE"
      },
      "source": [
        "# Biểu đồ vùng<a id=\"6\"></a>\n"
      ]
    },
    {
      "cell_type": "markdown",
      "metadata": {
        "button": false,
        "new_sheet": false,
        "run_control": {
          "read_only": false
        },
        "id": "ZqThikb6ywV7"
      },
      "source": [
        "Trong phần trước, chúng ta đã tạo một biểu đồ đường hiển thị 5 quốc gia hàng đầu có nhiều người nhập cư đến Canada nhất từ năm 1980 đến năm 2013. Chỉ cần sửa đổi code một chút, chúng ta có thể hiển thị biểu đồ này như một biểu đồ tích lũy, còn được gọi là **Biểu đồ đường xếp** hoặc **Biểu đồ vùng**.\n"
      ]
    },
    {
      "cell_type": "code",
      "metadata": {
        "button": false,
        "new_sheet": false,
        "run_control": {
          "read_only": false
        },
        "scrolled": false,
        "id": "zfW5rySUhnLE"
      },
      "source": [
        "df_can.sort_values(['Total'], ascending=False, axis=0, inplace=True)\n",
        "\n",
        "# lấy mục nhập top 5\n",
        "df_top5 = df_can.head()\n",
        "\n",
        "# chuyển vị dataframe\n",
        "df_top5 = df_top5[years].transpose()\n",
        "\n",
        "df_top5.head()"
      ],
      "execution_count": null,
      "outputs": []
    },
    {
      "cell_type": "markdown",
      "metadata": {
        "button": false,
        "new_sheet": false,
        "run_control": {
          "read_only": false
        },
        "id": "0QuarsKhywV8"
      },
      "source": [
        "Theo mặc định, biểu đồ vùng được xếp chồng lên nhau. Và để tạo ra một biểu đồ vùng xếp chồng, mỗi cột phải có tất cả các giá trị dương hoặc tất cả các giá trị âm (mọi giá trị NaN sẽ được đặt mặc định là 0). Để tạo ra một biểu đồ không xếp chồng, hãy nhập `stacked=False`.\n"
      ]
    },
    {
      "cell_type": "code",
      "metadata": {
        "button": false,
        "new_sheet": false,
        "run_control": {
          "read_only": false
        },
        "scrolled": false,
        "id": "h8uudn-chnLE"
      },
      "source": [
        "df_top5.index = df_top5.index.map(int) # hãy đổi giá trị chỉ mục của df_top5 thành kiểu integer để vẽ biểu đồ\n",
        "df_top5.plot(kind='area',\n",
        "             stacked=False,\n",
        "             figsize=(20, 10), # nhập kích thước tuple (x, y)\n",
        "             )\n",
        "\n",
        "plt.title('Immigration Trend of Top 5 Countries')\n",
        "plt.ylabel('Number of Immigrants')\n",
        "plt.xlabel('Years')\n",
        "\n",
        "plt.show()"
      ],
      "execution_count": null,
      "outputs": []
    },
    {
      "cell_type": "markdown",
      "metadata": {
        "button": false,
        "new_sheet": false,
        "run_control": {
          "read_only": false
        },
        "id": "ikvSVJrbywV8"
      },
      "source": [
        "Biểu đồ không xếp chồng có transparency mặc định (chỉ số alpha) là 0,5. Chúng ta có thể sửa đổi giá trị này bằng cách chuyển vào tham số `alpha`.\n"
      ]
    },
    {
      "cell_type": "code",
      "metadata": {
        "button": false,
        "new_sheet": false,
        "run_control": {
          "read_only": false
        },
        "id": "LCKMYxt8hnLF"
      },
      "source": [
        "df_top5.plot(kind='area',\n",
        "             alpha=0.25, # 0-1, giá trị mặc định a= 0.5\n",
        "             stacked=False,\n",
        "             figsize=(20, 10),\n",
        "            )\n",
        "\n",
        "plt.title('Immigration Trend of Top 5 Countries')\n",
        "plt.ylabel('Number of Immigrants')\n",
        "plt.xlabel('Years')\n",
        "\n",
        "plt.show()"
      ],
      "execution_count": null,
      "outputs": []
    },
    {
      "cell_type": "markdown",
      "metadata": {
        "button": false,
        "new_sheet": false,
        "run_control": {
          "read_only": false
        },
        "id": "E4dSz-TPywV8"
      },
      "source": [
        "### Hai loại biểu đồ\n",
        "\n",
        "Như chúng ta đã thảo luận trong các bài giảng video, có hai loại / lựa chọn vẽ biểu đồ với `matplotlib`. Vẽ biểu đồ bằng lớp Artist và lớp scripting.\n",
        "\n",
        "**Lựa chọn 1: Lớp Scripting (Phương thức cấu trúc) - sử dụng matplotlib.pyplot as 'plt'**\n",
        "\n",
        "Bạn có thể sử dụng `plt`, chẳng hạn: `matplotlib.pyplot` và thêm nhiều phần tử hơn bằng cách gọi các phương thức khác nhau theo cấu trúc, ví dụ, `plt.title(...)` để thêm tiêu đề hoặc `plt.xlabel(...)` để thêm nhãn vào trục x.\n",
        "\n",
        "```python\n",
        "    # Tùy chọn 1: Đây là thứ chúng ta vẫn đang sử dụng\n",
        "    df_top5.plot(kind='area', alpha=0.35, figsize=(20, 10))\n",
        "    plt.title('Immigration trend of top 5 countries')\n",
        "    plt.ylabel('Number of immigrants')\n",
        "    plt.xlabel('Years')\n",
        "```\n"
      ]
    },
    {
      "cell_type": "markdown",
      "metadata": {
        "button": false,
        "new_sheet": false,
        "run_control": {
          "read_only": false
        },
        "id": "3_tXfI_4ywV8"
      },
      "source": [
        "**Lựa chọn 2: Lớp Artist (Phương thức hướng đối tượng) - Sử dụng một `Axes` từ Matplotlib (ưu tiên)**\n",
        "\n",
        "Bạn có thể sử dụng `Axes` của biểu đồ hiện có và lưu nó trong một biến (ví dụ: `ax`). Bạn có thể thêm nhiều phần tử hơn bằng cách gọi các phương thức với một chút thay đổi về cú pháp (bằng cách thêm \"_set_\" vào các phương thức trước đó). Ví dụ: sử dụng `ax.set_title()` thay vì `plt.title()` để thêm tiêu đề hoặc `ax.set_xlabel()` thay vì `plt.xlabel()` để thêm nhãn vào trục x.\n",
        "\n",
        "Tùy chọn này đôi khi minh bạch và linh hoạt hơn khi sử dụng cho các biểu đồ nâng cao (đặc biệt khi có nhiều biểu đồ, như bạn sẽ thấy ở phần sau).\n",
        "\n",
        "Trong khóa học này, chúng ta sẽ chỉ sử dụng **lớp scripting**, ngoại trừ một số hình ảnh trực quan nâng cao cần sử dụng **lớp artist** khi xử lý các khía cạnh nâng cao của các biểu đồ.\n"
      ]
    },
    {
      "cell_type": "code",
      "metadata": {
        "button": false,
        "new_sheet": false,
        "run_control": {
          "read_only": false
        },
        "id": "Dg9SrqtYhnLF"
      },
      "source": [
        "# Tùy chọn 2: tùy chọn ưu tiên có tính linh hoạt hơn\n",
        "ax = df_top5.plot(kind='area', alpha=0.35, figsize=(20, 10))\n",
        "\n",
        "ax.set_title('Immigration Trend of Top 5 Countries')\n",
        "ax.set_ylabel('Number of Immigrants')\n",
        "ax.set_xlabel('Years')"
      ],
      "execution_count": null,
      "outputs": []
    },
    {
      "cell_type": "markdown",
      "metadata": {
        "button": false,
        "new_sheet": false,
        "run_control": {
          "read_only": false
        },
        "id": "hz7-EIkJywV9"
      },
      "source": [
        "**Câu hỏi**: Sử dụng lớp scripting để tạo biểu đồ vùng xếp chồng của 5 quốc gia có ít người nhập cư vào Canada nhất **từ** 1980 đến 2013. Sử dụng giá trị transparency là 0,45.\n"
      ]
    },
    {
      "cell_type": "code",
      "metadata": {
        "button": false,
        "new_sheet": false,
        "run_control": {
          "read_only": false
        },
        "id": "p1vxj9BthnLF"
      },
      "source": [
        "### nhập đáp án của bạn tạo đây\n",
        "\n",
        "\n",
        "\n"
      ],
      "execution_count": null,
      "outputs": []
    },
    {
      "cell_type": "markdown",
      "metadata": {
        "button": false,
        "new_sheet": false,
        "run_control": {
          "read_only": false
        },
        "id": "9uEfK8okhnLG"
      },
      "source": [
        "<details><summary>Click vào đây để xem lời giải mẫu trong python</summary>\n",
        "\n",
        "```python\n",
        "    #The correct answer is:\n",
        "    # lấy 5 quốc gia có số người nhập cư vào Canada ít nhất\n",
        "    df_least5 = df_can.tail(5)\n",
        "     \n",
        "    # chuyển vị dataframe\n",
        "    df_least5 = df_least5[years].transpose()\n",
        "    df_least5.head()\n",
        "\n",
        "    df_least5.index = df_least5.index.map(int) # hãy thay đổi giá trị chỉ số của df_least5 thành kiểu integer để vẽ biểu đồ\n",
        "    df_least5.plot(kind='area', alpha=0.45, figsize=(20, 10))\n",
        "\n",
        "    plt.title('Immigration Trend of 5 Countries with Least Contribution to Immigration')\n",
        "    plt.ylabel('Number of Immigrants')\n",
        "    plt.xlabel('Years')\n",
        "\n",
        "    plt.show()\n",
        "    \n",
        "```\n",
        "\n",
        "</details>\n"
      ]
    },
    {
      "cell_type": "markdown",
      "metadata": {
        "button": false,
        "new_sheet": false,
        "run_control": {
          "read_only": false
        },
        "id": "jdEUveGvywV9"
      },
      "source": [
        "**Câu hỏi**: Sử dụng lớp artist để tạo biểu đồ vùng không xếp chồng của 5 quốc gia có số người nhập cư vào Canada ít nhất **từ** 1980 đến 2013. Sử dụng giá trị transparency là 0,55.\n"
      ]
    },
    {
      "cell_type": "code",
      "metadata": {
        "button": false,
        "new_sheet": false,
        "run_control": {
          "read_only": false
        },
        "id": "tn7Hke0ghnLG"
      },
      "source": [
        "### nhập đáp án của bạn tạo đây\n",
        "\n",
        "\n",
        "\n"
      ],
      "execution_count": null,
      "outputs": []
    },
    {
      "cell_type": "markdown",
      "metadata": {
        "button": false,
        "new_sheet": false,
        "run_control": {
          "read_only": false
        },
        "id": "QSl99Is-hnLG"
      },
      "source": [
        "<details><summary>Click vào đây để xem lời giải mẫu trong python</summary>\n",
        "\n",
        "```python\n",
        "    #The correct answer is:\n",
        "    \n",
        "    # lấy 5 quốc gia có số người nhập cư vào Canada ít nhất\n",
        "    df_least5 = df_can.tail(5)\n",
        "\n",
        "    # chuyển vị dataframe\n",
        "    df_least5 = df_least5[years].transpose()\n",
        "    \n",
        "    df_least5.head()\n",
        "\n",
        "    df_least5.index = df_least5.index.map(int) # hãy thay đổi giá trị chỉ số của df_least5 thành kiểu integer để vẽ biểu đồ\n",
        "    \n",
        "    ax = df_least5.plot(kind='area', alpha=0.55, stacked=False, figsize=(20, 10))\n",
        "    \n",
        "    ax.set_title('Immigration Trend of 5 Countries with Least Contribution to Immigration')\n",
        "    ax.set_ylabel('Number of Immigrants')\n",
        "    ax.set_xlabel('Years')\n",
        "\n",
        "    \n",
        "```\n",
        "\n",
        "</details>\n"
      ]
    },
    {
      "cell_type": "markdown",
      "metadata": {
        "button": false,
        "new_sheet": false,
        "run_control": {
          "read_only": false
        },
        "id": "9xjqqRXbywV-"
      },
      "source": [
        "# Biểu đồ tần suất<a id=\"8\"></a>\n",
        "\n",
        "Biểu đồ tần suất là một cách biểu diễn phân phối _tần suất_ của tập dữ liệu số. Nó hoạt động bằng cách phân vùng trục x thành _bin_, gán mỗi điểm dữ liệu trong tập dữ liệu vào một bin, sau đó đếm số điểm dữ liệu đã được gán cho mỗi bin. Vì vậy, trục y là tần số hoặc số điểm dữ liệu trong mỗi bin. Lưu ý rằng chúng ta có thể thay đổi kích thước bin và thường thì cần phải tinh chỉnh nó để phân phối được hiển thị đẹp mắt."
      ]
    },
    {
      "cell_type": "markdown",
      "metadata": {
        "button": false,
        "new_sheet": false,
        "run_control": {
          "read_only": false
        },
        "id": "TRiaCIWeywV-"
      },
      "source": [
        "**Câu hỏi:** Phân bố tần suất số lượng (dân số) của những người nhập cư mới từ các quốc gia khác nhau đến Canada trong năm 2013 là bao nhiêu?\n"
      ]
    },
    {
      "cell_type": "markdown",
      "metadata": {
        "button": false,
        "new_sheet": false,
        "run_control": {
          "read_only": false
        },
        "id": "BW160rP0ywV-"
      },
      "source": [
        "Trước khi tiến hành tạo biểu đồ biểu đồ, trước tiên chúng ta hãy kiểm tra dữ liệu được chia thành các khoảng thời gian. Chúng ta thực hiện điều này bằng phương thức `histogram` của **Numpy** để lấy các phạm vi bin và lượng tần suất như sau:\n"
      ]
    },
    {
      "cell_type": "code",
      "metadata": {
        "button": false,
        "new_sheet": false,
        "run_control": {
          "read_only": false
        },
        "id": "A35jT1lwhnLH"
      },
      "source": [
        "# hãy xem qua dữ liệu trong năm 2013\n",
        "df_can['2013'].head()"
      ],
      "execution_count": null,
      "outputs": []
    },
    {
      "cell_type": "code",
      "metadata": {
        "button": false,
        "new_sheet": false,
        "run_control": {
          "read_only": false
        },
        "id": "_iTFF1tChnLH"
      },
      "source": [
        "# np.histogram trả về 2 giá trị\n",
        "count, bin_edges = np.histogram(df_can['2013'])\n",
        "\n",
        "print(count) # lượng tần suất\n",
        "print(bin_edges) # các khoảng bin, mặc định = 10 bin"
      ],
      "execution_count": null,
      "outputs": []
    },
    {
      "cell_type": "markdown",
      "metadata": {
        "button": false,
        "new_sheet": false,
        "run_control": {
          "read_only": false
        },
        "id": "MNEAFPXdywV-"
      },
      "source": [
        "Theo mặc định, phương thức `histogram` chia nhỏ tập dữ liệu thành 10 bin. Hình dưới đây tóm tắt các phạm vi bin và phân bố tần suất nhập cư trong năm 2013. Chúng ta có thể thấy rằng trong năm 2013:\n",
        "\n",
        "-   178 quốc gia có từ 0 đến 3412,9 người nhập cư\n",
        "-   11 quốc gia có từ 3412,9 đến 6825,8 người nhập cư\n",
        "-   1 quốc gia có từ 6285,8 đến 10238,7 người nhập cư,...\n",
        "\n",
        "<img src=\"https://s3-api.us-geo.objectstorage.softlayer.net/cf-courses-data/CognitiveClass/DV0101EN/labs/Images/Mod2Fig1-Histogram.JPG\" align=\"center\" width=800>\n"
      ]
    },
    {
      "cell_type": "markdown",
      "metadata": {
        "button": false,
        "new_sheet": false,
        "run_control": {
          "read_only": false
        },
        "id": "hpbQib5xywV_"
      },
      "source": [
        "Chúng ta có thể dễ dàng vẽ biểu đồ phân phối này bằng cách chuyển `kind=hist` thành `plot()`.\n"
      ]
    },
    {
      "cell_type": "code",
      "metadata": {
        "button": false,
        "new_sheet": false,
        "run_control": {
          "read_only": false
        },
        "id": "ndDSUakUhnLH"
      },
      "source": [
        "df_can['2013'].plot(kind='hist', figsize=(8, 5))\n",
        "\n",
        "plt.title('Histogram of Immigration from 195 Countries in 2013') # thêm tiêu đề vào biểu đồ\n",
        "plt.ylabel('Number of Countries') # thêm nhãn y\n",
        "plt.xlabel('Number of Immigrants') # thêm nhãn x\n",
        "\n",
        "plt.show()"
      ],
      "execution_count": null,
      "outputs": []
    },
    {
      "cell_type": "markdown",
      "metadata": {
        "button": false,
        "new_sheet": false,
        "run_control": {
          "read_only": false
        },
        "id": "OhbSkUd9ywV_"
      },
      "source": [
        "Trong biểu đồ trên, trục x thể hiện phạm vi dân số của những người nhập cư trong khoảng 3412,9. Trục y thể hiện số quốc gia đã đóng góp vào dân số nói trên.\n",
        "\n",
        "Lưu ý rằng các nhãn trục x không khớp với kích thước bin. Có thể khắc phục điều này bằng cách truyền từ khóa `xticks` có chứa danh sách các kích thước bin, như sau:\n"
      ]
    },
    {
      "cell_type": "code",
      "metadata": {
        "button": false,
        "new_sheet": false,
        "run_control": {
          "read_only": false
        },
        "id": "WEJP8OUJhnLI"
      },
      "source": [
        "# 'bin_edges' là list các khoảng bin\n",
        "count, bin_edges = np.histogram(df_can['2013'])\n",
        "\n",
        "df_can['2013'].plot(kind='hist', figsize=(8, 5), xticks=bin_edges)\n",
        "\n",
        "plt.title('Histogram of Immigration from 195 countries in 2013') # thêm tiêu đề vào biểu đồ\n",
        "plt.ylabel('Number of Countries') # thêm nhãn y\n",
        "plt.xlabel('Number of Immigrants') # thêm nhãn x\n",
        "\n",
        "plt.show()"
      ],
      "execution_count": null,
      "outputs": []
    },
    {
      "cell_type": "markdown",
      "metadata": {
        "button": false,
        "new_sheet": false,
        "run_control": {
          "read_only": false
        },
        "id": "494bvGRTywWA"
      },
      "source": [
        "*Lưu ý ngoài lề:* Thay vào đó, chúng ta có thể sử dụng `df_can ['2013']. plot.hist()`. Trên thực tế, trong suốt bài học này, việc sử dụng `some_data.plot(kind='type_plot',...)` tương đương với `some_data.plot.type_plot(...)`. Nghĩa là, việc truyền kiểu của biểu đồ làm đối số hoặc phương thức hoạt động giống nhau.\n",
        "\n",
        "Để biết thêm thông tin, hãy xem tài liệu _pandas_ [http://pandas.pydata.org/pandas-docs/stable/generated/pandas.Series.plot.html](http://pandas.pydata.org/pandas-docs/stable/generated/pandas.Series.plot.html?cm_mmc=Email_Newsletter-_-Developer_Ed%2BTech-_-WW_WW-_-SkillsNetwork-Courses-IBMDeveloperSkillsNetwork-DV0101EN-SkillsNetwork-20297740&cm_mmca1=000026UJ&cm_mmca2=10006555&cm_mmca3=M12345678&cvosrc=email.Newsletter.M12345678&cvo_campaign=000026UJ&cm_mmc=Email_Newsletter-_-Developer_Ed%2BTech-_-WW_WW-_-SkillsNetwork-Courses-IBMDeveloperSkillsNetwork-DV0101EN-SkillsNetwork-20297740&cm_mmca1=000026UJ&cm_mmca2=10006555&cm_mmca3=M12345678&cvosrc=email.Newsletter.M12345678&cvo_campaign=000026UJ&cm_mmc=Email_Newsletter-_-Developer_Ed%2BTech-_-WW_WW-_-SkillsNetwork-Courses-IBMDeveloperSkillsNetwork-DV0101EN-SkillsNetwork-20297740&cm_mmca1=000026UJ&cm_mmca2=10006555&cm_mmca3=M12345678&cvosrc=email.Newsletter.M12345678&cvo_campaign=000026UJ&cm_mmc=Email_Newsletter-_-Developer_Ed%2BTech-_-WW_WW-_-SkillsNetwork-Courses-IBMDeveloperSkillsNetwork-DV0101EN-SkillsNetwork-20297740&cm_mmca1=000026UJ&cm_mmca2=10006555&cm_mmca3=M12345678&cvosrc=email.Newsletter.M12345678&cvo_campaign=000026UJ).\n"
      ]
    },
    {
      "cell_type": "markdown",
      "metadata": {
        "button": false,
        "new_sheet": false,
        "run_control": {
          "read_only": false
        },
        "id": "i0hTa2dwywWA"
      },
      "source": [
        "Chúng ta cũng có thể vẽ nhiều biểu đồ tần suất trên cùng một biểu đồ. Ví dụ: hãy thử trả lời các câu hỏi sau bằng biểu đồ tần suất.\n",
        "\n",
        "**Câu hỏi**: Sự phân bố nhập cư của Đan Mạch, Na Uy và Thụy Điển trong những năm 1980 - 2013 là bao nhiêu?\n"
      ]
    },
    {
      "cell_type": "code",
      "metadata": {
        "button": false,
        "new_sheet": false,
        "run_control": {
          "read_only": false
        },
        "id": "fhKTy7skhnLI"
      },
      "source": [
        "# hãy xem nhanh tập dữ liệu\n",
        "df_can.loc[['Denmark', 'Norway', 'Sweden'], years]"
      ],
      "execution_count": null,
      "outputs": []
    },
    {
      "cell_type": "code",
      "metadata": {
        "button": false,
        "new_sheet": false,
        "run_control": {
          "read_only": false
        },
        "scrolled": false,
        "id": "1sCg-R2ChnLJ"
      },
      "source": [
        "# tạo biểu đồ tần suất\n",
        "df_can.loc[['Denmark', 'Norway', 'Sweden'], years].plot.hist()"
      ],
      "execution_count": null,
      "outputs": []
    },
    {
      "cell_type": "markdown",
      "metadata": {
        "button": false,
        "new_sheet": false,
        "run_control": {
          "read_only": false
        },
        "id": "6zH27txEywWA"
      },
      "source": [
        "Điều đó có vẻ không đúng!\n",
        "\n",
        "Đừng lo lắng, bạn sẽ thường xuyên gặp phải những tình huống như thế này khi tạo ra các biểu đồ. Giải pháp thường nằm ở cách cấu trúc tập dữ liệu cơ bản.\n",
        "\n",
        "Thay vì vẽ biểu đồ phân bố tần suất dân số của dân số cho 3 quốc gia, _pandas_ sẽ vẽ biểu đồ phân bố tần suất dân số cho `years`.\n",
        "\n",
        "Điều này có thể dễ dàng khắc phục bằng cách chuyển vị tập dữ liệu trước tiên, sau đó vẽ biểu đồ như hình dưới đây.\n"
      ]
    },
    {
      "cell_type": "code",
      "metadata": {
        "button": false,
        "new_sheet": false,
        "run_control": {
          "read_only": false
        },
        "scrolled": false,
        "id": "XJJs9ngHhnLJ"
      },
      "source": [
        "# chuyển vị dataframe\n",
        "df_t = df_can.loc[['Denmark', 'Norway', 'Sweden'], years].transpose()\n",
        "df_t.head()"
      ],
      "execution_count": null,
      "outputs": []
    },
    {
      "cell_type": "code",
      "metadata": {
        "button": false,
        "new_sheet": false,
        "run_control": {
          "read_only": false
        },
        "id": "BaWBsHxzhnLJ"
      },
      "source": [
        "# tạo biểu đồ tần suất\n",
        "df_t.plot(kind='hist', figsize=(10, 6))\n",
        "\n",
        "plt.title('Histogram of Immigration from Denmark, Norway, and Sweden from 1980 - 2013')\n",
        "plt.ylabel('Number of Years')\n",
        "plt.xlabel('Number of Immigrants')\n",
        "\n",
        "plt.show()"
      ],
      "execution_count": null,
      "outputs": []
    },
    {
      "cell_type": "markdown",
      "metadata": {
        "button": false,
        "new_sheet": false,
        "run_control": {
          "read_only": false
        },
        "id": "rDULCSDHywWB"
      },
      "source": [
        "Hãy thực hiện một số sửa đổi để cải thiện tác động và tính thẩm mỹ của biểu đồ trước đó:\n",
        "\n",
        "-   tăng kích thước bin lên 15 bằng cách truyền vào tham số `bin`\n",
        "-   đặt transparency thành 60% bằng cách truyền vào tham số `alpha`\n",
        "-   gắn nhãn trục x bằng cách truyền vào tham số `x-label`\n",
        "-   thay đổi màu sắc của các biểu đồ bằng cách truyền vào tham số `color`\n"
      ]
    },
    {
      "cell_type": "code",
      "metadata": {
        "button": false,
        "new_sheet": false,
        "run_control": {
          "read_only": false
        },
        "scrolled": false,
        "id": "NAXfNbp9hnLJ"
      },
      "source": [
        "# hãy lấy giá trị x-tick\n",
        "count, bin_edges = np.histogram(df_t, 15)\n",
        "\n",
        "# biểu đồ không xếp chồng\n",
        "df_t.plot(kind ='hist',\n",
        "          figsize=(10, 6),\n",
        "          bins=15,\n",
        "          alpha=0.6,\n",
        "          xticks=bin_edges,\n",
        "          color=['coral', 'darkslateblue', 'mediumseagreen']\n",
        "         )\n",
        "\n",
        "plt.title('Histogram of Immigration from Denmark, Norway, and Sweden from 1980 - 2013')\n",
        "plt.ylabel('Number of Years')\n",
        "plt.xlabel('Number of Immigrants')\n",
        "\n",
        "plt.show()"
      ],
      "execution_count": null,
      "outputs": []
    },
    {
      "cell_type": "markdown",
      "metadata": {
        "button": false,
        "new_sheet": false,
        "run_control": {
          "read_only": false
        },
        "id": "Nxp5ktd6ywWB"
      },
      "source": [
        "Tip: Để có danh sách đầy đủ các màu có sẵn trong Matplotlib, hãy chạy code sau trong python shell:\n",
        "\n",
        "```python\n",
        "import matplotlib\n",
        "for name, hex in matplotlib.colors.cnames.items():\n",
        "    print(name, hex)\n",
        "```\n"
      ]
    },
    {
      "cell_type": "markdown",
      "metadata": {
        "button": false,
        "new_sheet": false,
        "run_control": {
          "read_only": false
        },
        "id": "E6NTKf5TywWB"
      },
      "source": [
        "Nếu muốn sử dụng biểu đồ xếp chồng, chúng ta có thể xếp chồng chúng bằng tham số `stacked`. Cũng hãy điều chỉnh các nhãn trục x min và max để loại bỏ khoảng trống thừa trên các cạnh của biểu đồ. Chúng ta có thể truyền một tuple (min, max) bằng tham số `xlim` như hiển thị bên dưới.\n"
      ]
    },
    {
      "cell_type": "code",
      "metadata": {
        "button": false,
        "new_sheet": false,
        "run_control": {
          "read_only": false
        },
        "id": "ZGEin1MghnLK"
      },
      "source": [
        "count, bin_edges = np.histogram(df_t, 15)\n",
        "xmin = bin_edges[0] - 10   # giá trị bin đầu là 31.0, thêm buffer 10 cho mục đích thẩm mỹ\n",
        "xmax = bin_edges[-1] + 10  # giá trị bin cuối là 308.0, thêm buffer 10 cho mục đích thẩm mỹ\n",
        "\n",
        "# biểu đồ tần suất xếp chồng\n",
        "df_t.plot(kind='hist',\n",
        "          figsize=(10, 6),\n",
        "          bins=15,\n",
        "          xticks=bin_edges,\n",
        "          color=['coral', 'darkslateblue', 'mediumseagreen'],\n",
        "          stacked=True,\n",
        "          xlim=(xmin, xmax)\n",
        "         )\n",
        "\n",
        "plt.title('Histogram of Immigration from Denmark, Norway, and Sweden from 1980 - 2013')\n",
        "plt.ylabel('Number of Years')\n",
        "plt.xlabel('Number of Immigrants')\n",
        "\n",
        "plt.show()"
      ],
      "execution_count": null,
      "outputs": []
    },
    {
      "cell_type": "markdown",
      "metadata": {
        "button": false,
        "new_sheet": false,
        "run_control": {
          "read_only": false
        },
        "id": "XWksmru9ywWC"
      },
      "source": [
        "**Câu hỏi**: Hãy sử dụng lớp scripting để hiển thị phân bố nhập cư của Hy Lạp, Albania và Bulgaria trong những năm 1980 - 2013. Sử dụng biểu đồ xếp chồng có 15 bin và giá trị transparency là 0,35."
      ]
    },
    {
      "cell_type": "code",
      "metadata": {
        "button": false,
        "new_sheet": false,
        "run_control": {
          "read_only": false
        },
        "id": "t22_PWEqhnLK"
      },
      "source": [
        "### nhập đáp án của bạn tạo đây\n",
        "\n",
        "\n",
        "\n"
      ],
      "execution_count": null,
      "outputs": []
    },
    {
      "cell_type": "markdown",
      "metadata": {
        "button": false,
        "new_sheet": false,
        "run_control": {
          "read_only": false
        },
        "id": "G1Nt90nchnLK"
      },
      "source": [
        "<details><summary>Click vào đây để xem lời giải mẫu trong python</summary>\n",
        "\n",
        "```python\n",
        "    #The correct answer is:\n",
        "    \n",
        "    # tạo dataframe của các quốc gia (cof)\n",
        "    df_cof = df_can.loc[['Greece', 'Albania', 'Bulgaria'], years]\n",
        "\n",
        "    # chuyển vị dataframe\n",
        "    df_cof = df_cof.transpose()\n",
        "\n",
        "    # lấy giá trị x-tick\n",
        "    count, bin_edges = np.histogram(df_cof, 15)\n",
        "\n",
        "    # biểu đồ tần suất không xếp chồng\n",
        "    df_cof.plot(kind ='hist',\n",
        "                figsize=(10, 6),\n",
        "                bins=15,\n",
        "                alpha=0.35,\n",
        "                xticks=bin_edges,\n",
        "                color=['coral', 'darkslateblue', 'mediumseagreen']\n",
        "                )\n",
        "\n",
        "    plt.title('Histogram of Immigration from Greece, Albania, and Bulgaria from 1980 - 2013')\n",
        "    plt.ylabel('Number of Years')\n",
        "    plt.xlabel('Number of Immigrants')\n",
        "\n",
        "    plt.show()\n",
        "\n",
        "    \n",
        "```\n",
        "\n",
        "</details>\n"
      ]
    },
    {
      "cell_type": "markdown",
      "metadata": {
        "button": false,
        "new_sheet": false,
        "run_control": {
          "read_only": false
        },
        "id": "h6ZN8hT5ywWC"
      },
      "source": [
        "# Biểu đồ cột (Dataframe) <a id=\"10\"></a>\n",
        "\n",
        "Biểu đồ cột là một cách biểu diễn dữ liệu, trong đó _độ dài_ của các cột thể hiện độ lớn / kích thước của đối tượng / biến. Biểu đồ cột thường biểu diễn các biến số và biến phân loại được nhóm lại trong các khoảng thời gian.\n",
        "\n",
        "Để tạo một biểu đồ cột, chúng ta có thể truyền một trong hai đối số thông qua tham số `kind` trong `plot()`:\n",
        "\n",
        "-   `kind=bar` tạo một biểu đồ cột _đứng_\n",
        "-   `kind=barh` tạo một biểu đồ cột _ngang_\n"
      ]
    },
    {
      "cell_type": "markdown",
      "metadata": {
        "button": false,
        "new_sheet": false,
        "run_control": {
          "read_only": false
        },
        "id": "dB8Q1jPWywWC"
      },
      "source": [
        "**Biểu đồ cột đứng**\n",
        "\n",
        "Trong biểu đồ cột đứng, trục x được sử dụng để ghi nhãn và chiều dài của các cột trên trục y tương ứng với độ lớn của biến được đo. Biểu đồ cột đứng đặc biệt hữu ích trong việc phân tích dữ liệu chuỗi thời gian. Một điểm bất lợi là chúng thiếu không gian để gắn nhãn văn bản dưới chân mỗi cột.\n",
        "\n",
        "**Hãy bắt đầu bằng cách phân tích tác động của Khủng hoảng tài chính ở Iceland:**\n",
        "\n",
        "Khủng hoảng tài chính Iceland 2008 - 2011 là một sự kiện kinh tế và chính trị lớn ở Iceland. Liên quan tới quy mô nền kinh tế, sự sụp đổ hệ thống ngân hàng của Iceland là sự cố lớn nhất mà bất kỳ quốc gia nào trong lịch sử kinh tế phải trải qua. Cuộc khủng hoảng đã dẫn đến suy thoái kinh tế nghiêm trọng trong năm 2008 - 2011 và tình trạng bất ổn chính trị nghiêm trọng.\n",
        "\n",
        "**Câu hỏi:** Hãy so sánh số lượng người Iceland nhập cư (country='Iceland') đến Canada từ năm 1980 đến năm 2013.\n"
      ]
    },
    {
      "cell_type": "code",
      "metadata": {
        "button": false,
        "new_sheet": false,
        "run_control": {
          "read_only": false
        },
        "id": "nTUMesothnLL"
      },
      "source": [
        "# bước 1: lấy dữ liệu\n",
        "df_iceland = df_can.loc['Iceland', years]\n",
        "df_iceland.head()"
      ],
      "execution_count": null,
      "outputs": []
    },
    {
      "cell_type": "code",
      "metadata": {
        "button": false,
        "new_sheet": false,
        "run_control": {
          "read_only": false
        },
        "id": "DEW2_2CkhnLL"
      },
      "source": [
        "# bước 2: vẽ biểu đồ dữ liệu\n",
        "df_iceland.plot(kind='bar', figsize=(10, 6))\n",
        "\n",
        "plt.xlabel('Year') # thêm nhãn x vào biểu đồ\n",
        "plt.ylabel('Number of immigrants') # thêm nhãn y vào biểu đồ\n",
        "plt.title('Icelandic immigrants to Canada from 1980 to 2013') # thêm tiêu đề vào biểu đồ\n",
        "\n",
        "plt.show()"
      ],
      "execution_count": null,
      "outputs": []
    },
    {
      "cell_type": "markdown",
      "metadata": {
        "button": false,
        "new_sheet": false,
        "run_control": {
          "read_only": false
        },
        "id": "Sbk2T_xjywWD"
      },
      "source": [
        "Biểu đồ cột ở trên cho thấy tổng số người nhập cư được chia nhỏ theo mỗi năm. Chúng ta có thể thấy rõ tác động của cuộc khủng hoảng tài chính, số lượng người nhập cư đến Canada bắt đầu tăng nhanh sau năm 2008.\n",
        "\n",
        "Hãy chú thích điều này trên biểu đồ bằng phương thức `annotate` của **lớp scripting** hoặc **interface pyplot**. Chúng ta sẽ truyền các tham số sau:\n",
        "\n",
        "-   `s`: str, văn bản trích dẫn.\n",
        "-   `xy`: Tuple chỉ định điểm (x,y) để chú thích (trong trường hợp này là điểm cuối của mũi tên).\n",
        "-   `xytext`: Tuple chỉ định điểm (x, y) để đặt văn bản (trong trường hợp này là điểm bắt đầu của mũi tên).\n",
        "-   `xycoords`: Hệ tọa độ mà xy được cho trong - 'data' sử dụng hệ tọa độ của đối tượng được chú thích (mặc định).\n",
        "-   `arrowprops`: Sử dụng dictionary các thuộc tính để vẽ mũi tên:\n",
        "    -   `arrowstyle`: Chỉ định kiểu mũi tên, `'->'` là mũi tên tiêu chuẩn.\n",
        "    -   `connectionstyle`: Chỉ định kiểu kết nối. `arc3` là một đường thẳng.\n",
        "    -   `color`: Chỉ định màu của mũi tên.\n",
        "    -   `lw`: Chỉ định chiều rộng dòng.\n",
        "\n",
        "Chúng tôi khuyến khích bạn đọc tài liệu Matplotlib để biết thêm chi tiết về các chú thích:\n",
        "[http://matplotlib.org/api/pyplot_api.html#matplotlib.pyplot.annotate](http://matplotlib.org/api/pyplot_api.html#matplotlib.pyplot.annotate?cm_mmc=Email_Newsletter-_-Developer_Ed%2BTech-_-WW_WW-_-SkillsNetwork-Courses-IBMDeveloperSkillsNetwork-DV0101EN-SkillsNetwork-20297740&cm_mmca1=000026UJ&cm_mmca2=10006555&cm_mmca3=M12345678&cvosrc=email.Newsletter.M12345678&cvo_campaign=000026UJ&cm_mmc=Email_Newsletter-_-Developer_Ed%2BTech-_-WW_WW-_-SkillsNetwork-Courses-IBMDeveloperSkillsNetwork-DV0101EN-SkillsNetwork-20297740&cm_mmca1=000026UJ&cm_mmca2=10006555&cm_mmca3=M12345678&cvosrc=email.Newsletter.M12345678&cvo_campaign=000026UJ).\n"
      ]
    },
    {
      "cell_type": "code",
      "metadata": {
        "button": false,
        "new_sheet": false,
        "run_control": {
          "read_only": false
        },
        "id": "DX9cK_X8hnLL"
      },
      "source": [
        "df_iceland.plot(kind='bar', figsize=(10, 6), rot=90) # quay xtick(điểm gắn nhãn trên trục x) 90 độ\n",
        "\n",
        "plt.xlabel('Year')\n",
        "plt.ylabel('Number of Immigrants')\n",
        "plt.title('Icelandic Immigrants to Canada from 1980 to 2013')\n",
        "\n",
        "# Chú thích mũi tên\n",
        "plt.annotate('',                      # s: str. sẽ để trống vì không có văn bản\n",
        "             xy=(32, 70),             # đặt đầu mũi tên tại điểm (year 2012 , pop 70)\n",
        "             xytext=(28, 20),         # đặt đuôi mũi tên tại điểm (year 2008 , pop 20)\n",
        "             xycoords='data',         # sử dụng hệ tọa độ của điểm đang được chú thích\n",
        "             arrowprops=dict(arrowstyle='->', connectionstyle='arc3', color='blue', lw=2)\n",
        "            )\n",
        "\n",
        "plt.show()"
      ],
      "execution_count": null,
      "outputs": []
    },
    {
      "cell_type": "markdown",
      "metadata": {
        "button": false,
        "new_sheet": false,
        "run_control": {
          "read_only": false
        },
        "id": "VNzDcCm3ywWD"
      },
      "source": [
        "Cũng hãy chú thích một văn bản để đi qua mũi tên. Chúng ta sẽ truyền các tham số bổ sung sau:\n",
        "\n",
        "-   `rotation`: góc xoay của văn bản theo độ (ngược chiều kim đồng hồ)\n",
        "-   `va`: căn chỉnh theo chiều dọc của văn bản [‘center’ | ‘top’ | ‘bottom’ | ‘baseline’]\n",
        "-   `ha`: căn lề ngang của văn bản [‘center’ | ‘right’ | ‘left’]\n"
      ]
    },
    {
      "cell_type": "code",
      "metadata": {
        "button": false,
        "new_sheet": false,
        "run_control": {
          "read_only": false
        },
        "id": "didu1TPGhnLM"
      },
      "source": [
        "df_iceland.plot(kind='bar', figsize=(10, 6), rot=90)\n",
        "\n",
        "plt.xlabel('Year')\n",
        "plt.ylabel('Number of Immigrants')\n",
        "plt.title('Icelandic Immigrants to Canada from 1980 to 2013')\n",
        "\n",
        "# xoay mũi tên\n",
        "plt.annotate('',                      # s: str. sẽ để trống vì không có văn bản\n",
        "             xy=(32, 70),             # đặt đầu mũi tên tại điểm (year 2012 , pop 70)\n",
        "             xytext=(28, 20),         # đặt đuôi mũi tên tại điểm (year 2008 , pop 20)\n",
        "             xycoords='data',         # sử dụng hệ tọa độ của điểm đang được chú thích\n",
        "             arrowprops=dict(arrowstyle='->', connectionstyle='arc3', color='blue', lw=2)\n",
        "            )\n",
        "\n",
        "# xoay văn bản\n",
        "plt.annotate('2008 - 2011 Financial Crisis', # văn bản hiển thị\n",
        "             xy=(28, 30),                    # bắt đầu văn bản tại điểm (year 2008 , pop 30)\n",
        "             rotation=72.5,                  # based on trial and error to match the arrow\n",
        "             va='bottom',                    # muốn căn chỉnh văn bản theo chiều dọc: 'bottom'\n",
        "             ha='left',                      # muốn căn lề ngang văn bản: 'left'\n",
        "            )\n",
        "\n",
        "plt.show()"
      ],
      "execution_count": null,
      "outputs": []
    },
    {
      "cell_type": "markdown",
      "metadata": {
        "button": false,
        "new_sheet": false,
        "run_control": {
          "read_only": false
        },
        "id": "Nh1GZqTlywWE"
      },
      "source": [
        "**Biểu đồ cột ngang**\n",
        "\n",
        "Đôi khi, việc biểu diễn dữ liệu theo chiều ngang sẽ thực tế hơn, đặc biệt nếu bạn cần thêm chỗ để gắn nhãn các cột. Trong biểu đồ cột ngang, trục y được sử dụng để ghi nhãn và chiều dài của các cột trên trục x tương ứng với độ lớn của biến được đo. Như bạn sẽ thấy, trên trục y có nhiều chỗ hơn để gắn nhãn các biến phân loại.\n",
        "\n",
        "**Câu hỏi:** Sử dụng lớp scripting và tập dữ liệu `df_can`, tạo biểu đồ cột _ngang_ hiển thị _tổng_ số người nhập cư đến Canada từ top 15 quốc gia trong giai đoạn 1980 - 2013. Gắn nhãn mỗi quốc gia với tổng số người nhập cư.\n"
      ]
    },
    {
      "cell_type": "markdown",
      "metadata": {
        "button": false,
        "new_sheet": false,
        "run_control": {
          "read_only": false
        },
        "id": "HogCDiYkhnLM"
      },
      "source": [
        "Bước 1: Nhận dữ liệu liên quan đến top 15 quốc gia.\n"
      ]
    },
    {
      "cell_type": "code",
      "metadata": {
        "button": false,
        "new_sheet": false,
        "run_control": {
          "read_only": false
        },
        "id": "BqzifELGhnLM"
      },
      "source": [
        "### nhập đáp án của bạn tại đây\n",
        "\n",
        "\n",
        "\n"
      ],
      "execution_count": null,
      "outputs": []
    },
    {
      "cell_type": "markdown",
      "metadata": {
        "button": false,
        "new_sheet": false,
        "run_control": {
          "read_only": false
        },
        "id": "nYerVn3ehnLM"
      },
      "source": [
        "<details><summary>Click vào đây để xem lời giải mẫu trong python</summary>\n",
        "\n",
        "```python\n",
        "    #The correct answer is:\n",
        "    \n",
        "    # sắp xếp dataframe trên cột 'Total' (tăng dần)\n",
        "    df_can.sort_values(by='Total', ascending=True, inplace=True)\n",
        "\n",
        "    # lấy top 15 quốc gia\n",
        "    df_top15 = df_can['Total'].tail(15)\n",
        "    df_top15\n",
        "\n",
        "```\n",
        "\n",
        "</details>\n"
      ]
    },
    {
      "cell_type": "markdown",
      "metadata": {
        "button": false,
        "new_sheet": false,
        "run_control": {
          "read_only": false
        },
        "id": "_XWZUIM9ywWE"
      },
      "source": [
        "Bước 2: Vẽ biểu đồ dữ liệu:\n",
        "\n",
        "1.  Sử dụng `kind='barh'` để tạo biểu đồ cột ngang.\n",
        "2. Đảm bảo chọn kích thước phù hợp cho biểu đồ và dán nhãn cho các trục và đặt tiêu đề cho biểu đồ.\n",
        "3.  Lặp qua các quốc gia và chú thích dân số nhập cư bằng cách sử dụng hàm chú thích của interface scripting.\n"
      ]
    },
    {
      "cell_type": "code",
      "metadata": {
        "button": false,
        "new_sheet": false,
        "run_control": {
          "read_only": false
        },
        "id": "LHqQDp_BhnLM"
      },
      "source": [
        "### nhập đáp án của bạn tạo đây\n",
        "\n",
        "\n",
        "\n"
      ],
      "execution_count": null,
      "outputs": []
    },
    {
      "cell_type": "markdown",
      "metadata": {
        "button": false,
        "new_sheet": false,
        "run_control": {
          "read_only": false
        },
        "id": "x7-pkU9QhnLN"
      },
      "source": [
        "<details><summary>Click vào đây để xem lời giải mẫu trong python</summary>\n",
        "\n",
        "```python\n",
        "    #The correct answer is:\n",
        "    \n",
        "    # tạo biểu đồ\n",
        "    df_top15.plot(kind='barh', figsize=(12, 12), color='steelblue')\n",
        "    plt.xlabel('Number of Immigrants')\n",
        "    plt.title('Top 15 Conuntries Contributing to the Immigration to Canada between 1980 - 2013')\n",
        "\n",
        "    # chú thích nhãn giá trị cho mỗi quốc gia\n",
        "    for index, value in enumerate(df_top15):\n",
        "        label = format(int(value), ',') # định dạng int với dấu phẩy\n",
        "    \n",
        "    # đặt văn bản ở cuối cột (x - 47000, và y - 0.1 để khớp với cột)\n",
        "        plt.annotate(label, xy=(value - 47000, index - 0.10), color='white')\n",
        "\n",
        "    plt.show()\n",
        "\n",
        "```\n",
        "\n",
        "</details>\n"
      ]
    }
  ]
}