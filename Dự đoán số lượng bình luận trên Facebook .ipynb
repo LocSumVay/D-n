{
 "cells": [
  {
   "cell_type": "markdown",
   "metadata": {
    "id": "wsALKyLw3pe1"
   },
   "source": [
    "# All Regression Notebook\n",
    "## Load dữ liệu\n",
    "Khai báo và load thư viện, sau đó load tập dữ liệu. Do tập dữ liệu không chứa tên cột nên chúng ta cần thêm nó vào bằng cách sử dụng list Python thủ công. \n",
    "\n",
    "Chúng ta có `all_train_data` và `all_test_data` đã được nối vào `DataFrame` tương ứng."
   ]
  },
  {
   "cell_type": "code",
   "execution_count": 20,
   "metadata": {
    "colab": {
     "base_uri": "https://localhost:8080/",
     "height": 560
    },
    "executionInfo": {
     "elapsed": 2723,
     "status": "ok",
     "timestamp": 1661767464412,
     "user": {
      "displayName": "Tran Dinh Dung FX15018",
      "userId": "06436503860923018500"
     },
     "user_tz": -420
    },
    "id": "KsgMGTek3pe2",
    "outputId": "5c22abf1-69fb-4945-def1-4db80de89f48"
   },
   "outputs": [
    {
     "name": "stdout",
     "output_type": "stream",
     "text": [
      "Train sets size: 2211246\n",
      "Train sets size: 4390848\n",
      "Train sets size: 6539292\n",
      "Train sets size: 8662896\n",
      "Train sets size: 10747620\n",
      "Test set size: 5400\n",
      "Test set size: 5400\n",
      "Test set size: 5400\n",
      "Test set size: 5400\n",
      "Test set size: 5400\n",
      "Test set size: 5400\n",
      "Test set size: 5400\n",
      "Test set size: 5400\n",
      "Test set size: 5400\n"
     ]
    },
    {
     "data": {
      "text/html": [
       "<div>\n",
       "<style scoped>\n",
       "    .dataframe tbody tr th:only-of-type {\n",
       "        vertical-align: middle;\n",
       "    }\n",
       "\n",
       "    .dataframe tbody tr th {\n",
       "        vertical-align: top;\n",
       "    }\n",
       "\n",
       "    .dataframe thead th {\n",
       "        text-align: right;\n",
       "    }\n",
       "</style>\n",
       "<table border=\"1\" class=\"dataframe\">\n",
       "  <thead>\n",
       "    <tr style=\"text-align: right;\">\n",
       "      <th></th>\n",
       "      <th>Popularity</th>\n",
       "      <th>Check-in</th>\n",
       "      <th>Activities</th>\n",
       "      <th>Category</th>\n",
       "      <th>F_1</th>\n",
       "      <th>F_2</th>\n",
       "      <th>F_3</th>\n",
       "      <th>F_4</th>\n",
       "      <th>F_5</th>\n",
       "      <th>F_6</th>\n",
       "      <th>...</th>\n",
       "      <th>Post_date_7</th>\n",
       "      <th>Base_date_1</th>\n",
       "      <th>Base_date_2</th>\n",
       "      <th>Base_date_3</th>\n",
       "      <th>Base_date_4</th>\n",
       "      <th>Base_date_5</th>\n",
       "      <th>Base_date_6</th>\n",
       "      <th>Base_date_7</th>\n",
       "      <th>Span count</th>\n",
       "      <th>bias</th>\n",
       "    </tr>\n",
       "  </thead>\n",
       "  <tbody>\n",
       "    <tr>\n",
       "      <th>0</th>\n",
       "      <td>634995</td>\n",
       "      <td>0</td>\n",
       "      <td>463</td>\n",
       "      <td>1</td>\n",
       "      <td>0.0</td>\n",
       "      <td>806.0</td>\n",
       "      <td>11.291045</td>\n",
       "      <td>1.0</td>\n",
       "      <td>70.495138</td>\n",
       "      <td>0.0</td>\n",
       "      <td>...</td>\n",
       "      <td>0</td>\n",
       "      <td>0</td>\n",
       "      <td>0</td>\n",
       "      <td>0</td>\n",
       "      <td>0</td>\n",
       "      <td>0</td>\n",
       "      <td>0</td>\n",
       "      <td>1</td>\n",
       "      <td>0</td>\n",
       "      <td>1</td>\n",
       "    </tr>\n",
       "    <tr>\n",
       "      <th>1</th>\n",
       "      <td>634995</td>\n",
       "      <td>0</td>\n",
       "      <td>463</td>\n",
       "      <td>1</td>\n",
       "      <td>0.0</td>\n",
       "      <td>806.0</td>\n",
       "      <td>11.291045</td>\n",
       "      <td>1.0</td>\n",
       "      <td>70.495138</td>\n",
       "      <td>0.0</td>\n",
       "      <td>...</td>\n",
       "      <td>0</td>\n",
       "      <td>0</td>\n",
       "      <td>0</td>\n",
       "      <td>0</td>\n",
       "      <td>0</td>\n",
       "      <td>0</td>\n",
       "      <td>1</td>\n",
       "      <td>0</td>\n",
       "      <td>0</td>\n",
       "      <td>1</td>\n",
       "    </tr>\n",
       "    <tr>\n",
       "      <th>2</th>\n",
       "      <td>634995</td>\n",
       "      <td>0</td>\n",
       "      <td>463</td>\n",
       "      <td>1</td>\n",
       "      <td>0.0</td>\n",
       "      <td>806.0</td>\n",
       "      <td>11.291045</td>\n",
       "      <td>1.0</td>\n",
       "      <td>70.495138</td>\n",
       "      <td>0.0</td>\n",
       "      <td>...</td>\n",
       "      <td>0</td>\n",
       "      <td>0</td>\n",
       "      <td>0</td>\n",
       "      <td>0</td>\n",
       "      <td>0</td>\n",
       "      <td>0</td>\n",
       "      <td>0</td>\n",
       "      <td>1</td>\n",
       "      <td>0</td>\n",
       "      <td>1</td>\n",
       "    </tr>\n",
       "    <tr>\n",
       "      <th>3</th>\n",
       "      <td>634995</td>\n",
       "      <td>0</td>\n",
       "      <td>463</td>\n",
       "      <td>1</td>\n",
       "      <td>0.0</td>\n",
       "      <td>806.0</td>\n",
       "      <td>11.291045</td>\n",
       "      <td>1.0</td>\n",
       "      <td>70.495138</td>\n",
       "      <td>0.0</td>\n",
       "      <td>...</td>\n",
       "      <td>0</td>\n",
       "      <td>0</td>\n",
       "      <td>1</td>\n",
       "      <td>0</td>\n",
       "      <td>0</td>\n",
       "      <td>0</td>\n",
       "      <td>0</td>\n",
       "      <td>0</td>\n",
       "      <td>0</td>\n",
       "      <td>1</td>\n",
       "    </tr>\n",
       "    <tr>\n",
       "      <th>4</th>\n",
       "      <td>634995</td>\n",
       "      <td>0</td>\n",
       "      <td>463</td>\n",
       "      <td>1</td>\n",
       "      <td>0.0</td>\n",
       "      <td>806.0</td>\n",
       "      <td>11.291045</td>\n",
       "      <td>1.0</td>\n",
       "      <td>70.495138</td>\n",
       "      <td>0.0</td>\n",
       "      <td>...</td>\n",
       "      <td>0</td>\n",
       "      <td>0</td>\n",
       "      <td>0</td>\n",
       "      <td>0</td>\n",
       "      <td>1</td>\n",
       "      <td>0</td>\n",
       "      <td>0</td>\n",
       "      <td>0</td>\n",
       "      <td>0</td>\n",
       "      <td>1</td>\n",
       "    </tr>\n",
       "  </tbody>\n",
       "</table>\n",
       "<p>5 rows × 55 columns</p>\n",
       "</div>"
      ],
      "text/plain": [
       "   Popularity  Check-in  Activities  Category  F_1    F_2        F_3  F_4  \\\n",
       "0      634995         0         463         1  0.0  806.0  11.291045  1.0   \n",
       "1      634995         0         463         1  0.0  806.0  11.291045  1.0   \n",
       "2      634995         0         463         1  0.0  806.0  11.291045  1.0   \n",
       "3      634995         0         463         1  0.0  806.0  11.291045  1.0   \n",
       "4      634995         0         463         1  0.0  806.0  11.291045  1.0   \n",
       "\n",
       "         F_5  F_6  ...  Post_date_7  Base_date_1  Base_date_2  Base_date_3  \\\n",
       "0  70.495138  0.0  ...            0            0            0            0   \n",
       "1  70.495138  0.0  ...            0            0            0            0   \n",
       "2  70.495138  0.0  ...            0            0            0            0   \n",
       "3  70.495138  0.0  ...            0            0            1            0   \n",
       "4  70.495138  0.0  ...            0            0            0            0   \n",
       "\n",
       "   Base_date_4  Base_date_5  Base_date_6  Base_date_7  Span count  bias  \n",
       "0            0            0            0            1           0     1  \n",
       "1            0            0            1            0           0     1  \n",
       "2            0            0            0            1           0     1  \n",
       "3            0            0            0            0           0     1  \n",
       "4            1            0            0            0           0     1  \n",
       "\n",
       "[5 rows x 55 columns]"
      ]
     },
     "execution_count": 20,
     "metadata": {},
     "output_type": "execute_result"
    }
   ],
   "source": [
    "import pandas\n",
    "import numpy as np\n",
    "import matplotlib.pyplot as plt\n",
    "%matplotlib inline\n",
    "\n",
    "columns_name = [\"Popularity\", \"Check-in\", \"Activities\", \"Category\"] \\\n",
    "            + [\"F_{:d}\".format(i) for i in range(1, 26)] \\\n",
    "            + [\"CC{:d}\".format(i) for i in range(1, 6)] \\\n",
    "            + [\"Base time\", \"Post length\", \"Post count\", \"Post promotion\", \"Span time\"] \\\n",
    "            + [\"Post_date_{:d}\".format(i) for i in range(1, 8)] \\\n",
    "            + [\"Base_date_{:d}\".format(i) for i in range(1, 8)] \\\n",
    "            + [\"Span count\"]\n",
    "all_train_data = [pandas.read_csv(\"Dataset/Training/Features_Variant_{:d}.csv\".format(d), header=None) for d in range(1, 6)]\n",
    "for data in all_train_data:\n",
    "    print(\"Train sets size: {:d}\".format(data.size))\n",
    "# Viết code nối dữ liệu huấn luyện\n",
    "train_data = pandas.concat(all_train_data)\n",
    "train_data.columns = columns_name\n",
    "\n",
    "all_test_data = [pandas.read_csv(\"Dataset/Testing/TestSet/Test_Case_{:d}.csv\".format(d), header=None) for d in range(1, 10)]\n",
    "for data in all_test_data:\n",
    "  print(\"Test set size: {:d}\".format(data.size))\n",
    "# Viết code nối dữ liệu kiểm tra\n",
    "test_data = pandas.concat(all_test_data)\n",
    "test_data.columns = columns_name\n",
    "\n",
    "train_data[\"bias\"] = 1\n",
    "test_data[\"bias\"] = 1\n",
    "\n",
    "train_data.head()\n"
   ]
  },
  {
   "cell_type": "code",
   "execution_count": null,
   "metadata": {
    "id": "zoLxB7aJvAz8"
   },
   "outputs": [],
   "source": []
  },
  {
   "cell_type": "markdown",
   "metadata": {
    "id": "gDfCdXgd3pe_"
   },
   "source": [
    "## Lựa chọn hạng mục phụ\n",
    "Cột Category chứa các index bất kỳ của hạng mục dữ liệu liên quan tới bản chất của chính bài đăng. Để đơn giản, chúng ta sẽ sử dụng hạng mục có lượng dữ liệu lớn nhất để thực hiện Hồi quy Tuyến tính.\n",
    "\n",
    "Tìm và lựa chọn hạng mục có nhiều bản ghi nhất sử dụng pandas. Lưu nó trong biến `largest_category`"
   ]
  },
  {
   "cell_type": "code",
   "execution_count": 3,
   "metadata": {
    "id": "ZRlw6ulC3pfB"
   },
   "outputs": [],
   "source": [
    "# Viết code ở đây:\n",
    "largest_category = train_data['Category'].value_counts().idxmax()\n"
   ]
  },
  {
   "cell_type": "code",
   "execution_count": 4,
   "metadata": {
    "id": "2yBrJGjv3pfH"
   },
   "outputs": [],
   "source": [
    "# Phân hạng các mô hình\n",
    "train_data = train_data.loc[train_data['Category'] == largest_category].drop('Category', axis=1)\n",
    "test_data = test_data.loc[test_data['Category'] == largest_category].drop('Category', axis=1)\n",
    "\n",
    "label = \"Span count\"\n",
    "features = [col for col in train_data.columns if col != label]\n",
    "\n",
    "train_features = train_data[ features ]\n",
    "train_labels = train_data[ label ]\n",
    "test_features = test_data[ features ]\n",
    "test_labels = test_data[ label ]"
   ]
  },
  {
   "cell_type": "markdown",
   "metadata": {
    "id": "luuprw_n3pfM"
   },
   "source": [
    "## Tương quan cơ bản\n",
    "Chúng ta sẽ vẽ ma trận tương quan giữa các biến CC. Tương quan rất hữu ích để xem liệu các đặc trưng có kết nối quá chặt chẽ không -  chúng ta không muốn chúng cùng nhau vì chúng sẽ tạo ra nhiễu giả gây overfit mô hình."
   ]
  },
  {
   "cell_type": "code",
   "execution_count": 5,
   "metadata": {
    "id": "B_FBwjw03pfO",
    "outputId": "4517d7d7-ecf0-45a3-9b04-a51585620d97"
   },
   "outputs": [
    {
     "name": "stdout",
     "output_type": "stream",
     "text": [
      "          CC1       CC2       CC3       CC4       CC5\n",
      "CC1  1.000000  0.581207  0.665784  0.998054 -0.054450\n",
      "CC2  0.581207  1.000000  0.074723  0.605900  0.686801\n",
      "CC3  0.665784  0.074723  1.000000  0.656649 -0.673494\n",
      "CC4  0.998054  0.605900  0.656649  1.000000 -0.029488\n",
      "CC5 -0.054450  0.686801 -0.673494 -0.029488  1.000000\n"
     ]
    }
   ],
   "source": [
    "# Viết code ở đây:\n",
    "ls = [\"CC{:d}\".format(i) for i in range(1,6)]\n",
    "a = train_data[ls]\n",
    "print(pandas.DataFrame(a).corr())"
   ]
  },
  {
   "cell_type": "markdown",
   "metadata": {
    "id": "U7g4fYvJ3pfU"
   },
   "source": [
    "## Xây dựng mô hình Hồi quy\n",
    "\n",
    "__Nhiệm vụ của chúng ta là dự đoán số lượng bình luận bài đăng sẽ nhận được (cột \"Span count\")__ <br>\n",
    "\"Span time\" thì cần thiết trong khi tất cả các cột khác tùy chọn. <br>\n",
    "Thử mô hình Hồi quy đa biến đơn giản chỉ có các đặc trưng cơ bản: <br>\n",
    "[\"Popularity\", \"Base time\", \"Post length\", \"Post count\", \"Span time\", \"bias\"]. <br>\n",
    "\n",
    "In ra hệ số MSE từ sklearn hoặc RSS từ khóa học cho cả tập huấn luyện và tập kiểm tra."
   ]
  },
  {
   "cell_type": "code",
   "execution_count": 6,
   "metadata": {
    "id": "wawBZN663pfV"
   },
   "outputs": [
    {
     "name": "stdout",
     "output_type": "stream",
     "text": [
      "MSE tập huấn luyện : 1689.5665198601223\n",
      "MSE tập kiểm tra : 5059.013658561641\n"
     ]
    }
   ],
   "source": [
    "# Viết code ở đây:\n",
    "from sklearn.linear_model import LinearRegression\n",
    "from sklearn.preprocessing import StandardScaler\n",
    "ds = [\"Popularity\", \"Base time\", \"Post length\", \"Post count\", \"Span time\", \"bias\"]\n",
    "scaler1 = StandardScaler()\n",
    "scaler2 = StandardScaler()\n",
    "train_features = scaler1.fit_transform(train_data[ds].values)\n",
    "test_features = scaler2.fit_transform(test_data[ds].values)\n",
    "modul = LinearRegression()\n",
    "modul.fit(train_features,train_labels)\n",
    "def tinh_rss(features,kq):\n",
    "    y = modul.predict(features)\n",
    "    RSS = sum((y-kq)**2)\n",
    "    return RSS\n",
    "print(\"MSE tập huấn luyện :\",tinh_rss(train_features,train_labels)/len(train_features))\n",
    "print(\"MSE tập kiểm tra :\",tinh_rss(test_features,test_labels)/len(test_features))\n"
   ]
  },
  {
   "cell_type": "markdown",
   "metadata": {
    "id": "wQpTJVPA3pfb"
   },
   "source": [
    "### Hãy thử cải thiện với nhiều đặc trưng hơn\n",
    "Không phải mô hình tốt nhất chúng ta có thể sử dụng. Chúng ta có thể thử thêm nhiều đặc trưng liên quan. <br>Nối tất cả các thuộc tính CC vào các đặc trưng và thử lại với cùng số liệu."
   ]
  },
  {
   "cell_type": "code",
   "execution_count": 7,
   "metadata": {
    "id": "pgRc-PxW3pfc"
   },
   "outputs": [
    {
     "name": "stdout",
     "output_type": "stream",
     "text": [
      "MSE tập huấn luyện : 1535.0834856261074\n",
      "MSE tập kiểm tra : 2.0633699571363994e+27\n"
     ]
    }
   ],
   "source": [
    "# Viết code ở đây:\n",
    "# Viết code ở đây:\n",
    "from sklearn.linear_model import LinearRegression\n",
    "from sklearn.preprocessing import StandardScaler\n",
    "ds = [\"Popularity\", \"Base time\", \"Post length\", \"Post count\", \"Span time\", \"bias\"] + ls\n",
    "scaler1 = StandardScaler()\n",
    "scaler2 = StandardScaler()\n",
    "train_features = scaler1.fit_transform(train_data[ds].values)\n",
    "test_features = scaler2.fit_transform(test_data[ds].values)\n",
    "modul = LinearRegression()\n",
    "modul.fit(train_features,train_labels)\n",
    "def tinh_rss(features,kq):\n",
    "    y = modul.predict(features)\n",
    "    RSS = sum((y-kq)**2)\n",
    "    return RSS\n",
    "print(\"MSE tập huấn luyện :\",tinh_rss(train_features,train_labels)/len(train_features))\n",
    "print(\"MSE tập kiểm tra :\",tinh_rss(test_features,test_labels)/len(test_features))\n"
   ]
  },
  {
   "cell_type": "markdown",
   "metadata": {
    "id": "bxjlSr703pfi"
   },
   "source": [
    "Bài học rút ra: Tối ưu hóa sớm hiếm khi hữu ích. \n",
    "\n",
    "## Giải quyết overfit\n",
    "### Áp dụng cách giải cho overfit\n",
    "\n",
    "Sự khác biệt về hệ số huấn luyện và kiểm tra chỉ ra mô hình có thể overfitting. Hãy thử sửa chữa. Mở rộng hồi quy [RidgeCV](https://scikit-learn.org/stable/modules/generated/sklearn.linear_model.RidgeCV.html) (cv = 10) với alpha dọc theo logspace giữa 0 và 10, ghi nhận giá trị có chất lượng tốt nhất thành biến `best_alpha`, và *có thể tùy chọn vẽ một đồ thị cho độ lớn của các hệ số*."
   ]
  },
  {
   "cell_type": "code",
   "execution_count": 8,
   "metadata": {
    "id": "OVv4BUUP3pfk"
   },
   "outputs": [
    {
     "name": "stdout",
     "output_type": "stream",
     "text": [
      "Best alpha: 10.0\n"
     ]
    },
    {
     "data": {
      "image/png": "[encoded data removed]",
      "text/plain": [
       "<Figure size 1000x500 with 1 Axes>"
      ]
     },
     "metadata": {},
     "output_type": "display_data"
    }
   ],
   "source": [
    "# Viết code ở đây:\n",
    "# Viết code ở đây:\n",
    "from sklearn.linear_model import RidgeCV\n",
    "from sklearn.linear_model import Ridge\n",
    "import numpy as np\n",
    "\n",
    "# Tạo một loạt các giá trị alpha từ 0 đến 10 theo dạng logspace\n",
    "alphas = np.logspace(0, 1, 100)\n",
    "\n",
    "# Khởi tạo mô hình hồi quy RidgeCV với cross-validation (cv=10)\n",
    "ridge_cv = RidgeCV(alphas=alphas, cv=10)\n",
    "\n",
    "# Sử dụng phương thức fit để huấn luyện mô hình trên dữ liệu\n",
    "ridge_cv.fit(train_features, train_labels) \n",
    "\n",
    "# Lấy giá trị alpha tốt nhất\n",
    "best_alpha = ridge_cv.alpha_\n",
    "\n",
    "# In giá trị alpha tốt nhất\n",
    "print(\"Best alpha:\", best_alpha)\n",
    "\n",
    "coefs = []\n",
    "for alpha in alphas:\n",
    "    ridge = Ridge(alpha=alpha)\n",
    "    ridge.fit(train_features, train_labels) \n",
    "    coefs.append(ridge.coef_)\n",
    "\n",
    "# Biểu đồ hệ số theo alpha\n",
    "plt.figure(figsize=(10, 5))\n",
    "plt.plot(alphas, coefs)\n",
    "plt.xscale('log')\n",
    "plt.xlabel('Alpha')\n",
    "plt.show()\n"
   ]
  },
  {
   "cell_type": "markdown",
   "metadata": {
    "id": "b1EfkDro3pfq"
   },
   "source": [
    "### Thử Hồi quy RidgeCV trên mọi cột\n",
    "Nó đã hoạt động, nhưng chúng ta cần tự hỏi liệu có tiếp tục sử dụng tập đặc trưng không hoàn thiện thay vì một tập hợp tối ưu nữa không. Mở rộng các đặc trưng cho tất cả các cột trừ nhãn được chỉ định. Hãy chạy và xem điều gì sẽ xảy ra."
   ]
  },
  {
   "cell_type": "markdown",
   "metadata": {
    "id": "a4BoQx053pfx"
   },
   "source": [
    "## Lựa chọn đặc trưng\n",
    "### Áp dụng LASSO\n",
    "Chúng ta có thể cắt tỉa các đặc trưng sử dụng những gì đã học. Lần này sẽ ghi lại các đặc trưng đã chọn của [LassoCV](https://scikit-learn.org/stable/modules/generated/sklearn.linear_model.LassoCV.html) (cv = 10) sử dụng biến `lasso_selected_features`, và <i>có thể tùy chọn vẽ một đồ thị giữa số lượng đặc trưng đã loại và các giá trị alpha</i>."
   ]
  },
  {
   "cell_type": "code",
   "execution_count": 13,
   "metadata": {
    "id": "wN4A7SLx3pfr",
    "outputId": "b1a5f1ad-b985-4106-ddf3-b5a97f800e53"
   },
   "outputs": [
    {
     "name": "stdout",
     "output_type": "stream",
     "text": [
      "MSE on training: 1522.9144; MSE on test: 4072.2761\n"
     ]
    }
   ],
   "source": [
    "# Viết code ở đây:\n",
    "from sklearn.linear_model import LassoCV\n",
    "from sklearn.preprocessing import StandardScaler\n",
    "from sklearn.metrics import mean_squared_error\n",
    "scaler = StandardScaler()\n",
    "label = \"Span count\"\n",
    "features = [col for col in train_data.columns if col != label]\n",
    "\n",
    "train_features = train_data[ features ]\n",
    "train_labels = train_data[ label ]\n",
    "test_features = test_data[ features ]\n",
    "test_labels = test_data[ label ]\n",
    "\n",
    "train_features = scaler.fit_transform(train_features)\n",
    "test_features = scaler.transform(test_features)\n",
    "\n",
    "multi_model = LassoCV(alphas=alphas,cv = 10)\n",
    "multi_model.fit(train_features, train_labels)\n",
    "test_predictions = multi_model.predict(test_features)\n",
    "best_alpha1 = multi_model.alpha_\n",
    "test_mse_score = mean_squared_error(test_labels,test_predictions)\n",
    "train_mse_score = mean_squared_error(train_labels, multi_model.predict(train_features))\n",
    "print(\"MSE on training: {:.4f}; MSE on test: {:.4f}\".format(train_mse_score, test_mse_score))"
   ]
  },
  {
   "cell_type": "code",
   "execution_count": 14,
   "metadata": {},
   "outputs": [
    {
     "name": "stdout",
     "output_type": "stream",
     "text": [
      "['F_5', 'F_8', 'F_9', 'F_14', 'CC2', 'CC5', 'Base time', 'Post count']\n"
     ]
    }
   ],
   "source": [
    "aa = multi_model.coef_\n",
    "bb = ['Popularity', 'Check-in', 'Activities', 'F_1', 'F_2', 'F_3', 'F_4',\n",
    "       'F_5', 'F_6', 'F_7', 'F_8', 'F_9', 'F_10', 'F_11', 'F_12', 'F_13',\n",
    "       'F_14', 'F_15', 'F_16', 'F_17', 'F_18', 'F_19', 'F_20', 'F_21', 'F_22',\n",
    "       'F_23', 'F_24', 'F_25', 'CC1', 'CC2', 'CC3', 'CC4', 'CC5', 'Base time',\n",
    "       'Post length', 'Post count', 'Post promotion', 'Span time',\n",
    "       'Post_date_1', 'Post_date_2', 'Post_date_3', 'Post_date_4',\n",
    "       'Post_date_5', 'Post_date_6', 'Post_date_7', 'Base_date_1',\n",
    "       'Base_date_2', 'Base_date_3', 'Base_date_4', 'Base_date_5',\n",
    "       'Base_date_6', 'Base_date_7', 'bias']\n",
    "c = pandas.DataFrame(bb,columns = [\"dac_trung\"] )\n",
    "c[\"ts\"] = aa\n",
    "lasso_selected_features = list(c.loc[c[\"ts\"]!= 0][\"dac_trung\"])\n",
    "print(lasso_selected_features)\n",
    "\n",
    "\n"
   ]
  },
  {
   "cell_type": "markdown",
   "metadata": {
    "id": "7-alhAu13pf4"
   },
   "source": [
    "### Xây dựng mô hình chặt chẽ hơn với các đặc trưng đã chọn\n",
    "Khi thực hiện lựa chọn đặc trưng, chúng ta có thể sẽ phải thêm lại độ chệch vào list các đặc trưng. Hãy sử dụng các đặc trưng đã chọn để xây dựng mô hình và tính toán chất lượng dựa trên các chỉ số."
   ]
  },
  {
   "cell_type": "code",
   "execution_count": 15,
   "metadata": {
    "id": "lTLBNiVL3pf5"
   },
   "outputs": [],
   "source": [
    "if(\"bias\" not in lasso_selected_features):\n",
    "    lasso_selected_features.append('bias')\n"
   ]
  },
  {
   "cell_type": "code",
   "execution_count": 17,
   "metadata": {
    "id": "SLNyIeow4D0t"
   },
   "outputs": [
    {
     "name": "stdout",
     "output_type": "stream",
     "text": [
      "MSE on training: 1522.9162; MSE on test: 4072.3628\n"
     ]
    }
   ],
   "source": [
    "# Viết code ở đây:\n",
    "from sklearn.linear_model import Lasso\n",
    "from sklearn.preprocessing import StandardScaler\n",
    "from sklearn.metrics import mean_squared_error\n",
    "scaler = StandardScaler()\n",
    "label = \"Span count\"\n",
    "features = lasso_selected_features\n",
    "\n",
    "train_features = train_data[ features ]\n",
    "train_labels = train_data[ label ]\n",
    "test_features = test_data[ features ]\n",
    "test_labels = test_data[ label ]\n",
    "\n",
    "train_features = scaler.fit_transform(train_features)\n",
    "test_features = scaler.transform(test_features)\n",
    "\n",
    "multi_model = Lasso(alpha=best_alpha1)\n",
    "multi_model.fit(train_features, train_labels)\n",
    "test_predictions = multi_model.predict(test_features)\n",
    "\n",
    "test_mse_score = mean_squared_error(test_labels,test_predictions)\n",
    "train_mse_score = mean_squared_error(train_labels, multi_model.predict(train_features))\n",
    "print(\"MSE on training: {:.4f}; MSE on test: {:.4f}\".format(train_mse_score, test_mse_score))\n"
   ]
  },
  {
   "cell_type": "markdown",
   "metadata": {
    "id": "IPCIEyCG3pf-"
   },
   "source": [
    "## Kết hợp mọi thứ trên một mô hình\n",
    "LASSO đã thực hiện rất tốt, thu nhỏ các đặc trưng nhiễu và không cần thiết, tăng tốc độ tính toán. Bây giờ hãy kết hợp cả 2 kỹ thuật trước đó vào cùng một mô hình."
   ]
  },
  {
   "cell_type": "code",
   "execution_count": 18,
   "metadata": {
    "id": "RH6S9qpP3pf_"
   },
   "outputs": [
    {
     "name": "stdout",
     "output_type": "stream",
     "text": [
      "MSE on training: 1519.4915; MSE on test: 4124.7331\n"
     ]
    }
   ],
   "source": [
    "# Viết code ở đây:\n",
    "from sklearn.linear_model import Ridge\n",
    "from sklearn.preprocessing import StandardScaler\n",
    "from sklearn.metrics import mean_squared_error\n",
    "scaler = StandardScaler()\n",
    "label = \"Span count\"\n",
    "features = lasso_selected_features\n",
    "\n",
    "train_features = train_data[ features ]\n",
    "train_labels = train_data[ label ]\n",
    "test_features = test_data[ features ]\n",
    "test_labels = test_data[ label ]\n",
    "\n",
    "train_features = scaler.fit_transform(train_features)\n",
    "test_features = scaler.transform(test_features)\n",
    "\n",
    "multi_model = Ridge(alpha = best_alpha)\n",
    "multi_model.fit(train_features, train_labels)\n",
    "test_predictions = multi_model.predict(test_features)\n",
    "\n",
    "test_mse_score = mean_squared_error(test_labels,test_predictions)\n",
    "train_mse_score = mean_squared_error(train_labels, multi_model.predict(train_features))\n",
    "print(\"MSE on training: {:.4f}; MSE on test: {:.4f}\".format(train_mse_score, test_mse_score))\n"
   ]
  },
  {
   "cell_type": "markdown",
   "metadata": {
    "id": "GPKAOxhp3pgD"
   },
   "source": [
    "### Phân phối sai số bình phương\n",
    "Chúng ta hãy đưa ra kết luận; lưu ý thêm, hãy quan sát cách các sai số bình phương được phân phối."
   ]
  },
  {
   "cell_type": "code",
   "execution_count": 19,
   "metadata": {
    "id": "ve-GpGS13pgE",
    "outputId": "39ff9df1-cf8b-4cc8-9ec0-f5704d239b0f"
   },
   "outputs": [
    {
     "data": {
      "image/png": "[encoded data removed]",
      "text/plain": [
       "<Figure size 640x480 with 2 Axes>"
      ]
     },
     "metadata": {},
     "output_type": "display_data"
    }
   ],
   "source": [
    "train_square_errors = np.log( (train_labels - multi_model.predict(train_features)) ** 2 )\n",
    "test_square_errors = np.log( (test_labels - test_predictions) ** 2 )\n",
    "fig, (train_ax, test_ax) = plt.subplots(ncols=2, sharey=True)\n",
    "train_ax.hist(train_square_errors, bins=20, density=True)\n",
    "train_ax.set_xlabel(\"Train error (log)\")\n",
    "test_ax.set_xlabel(\"Test error (log)\")\n",
    "test_ax.hist(test_square_errors, bins=20, density=True)\n",
    "plt.show()"
   ]
  },
  {
   "cell_type": "code",
   "execution_count": null,
   "metadata": {
    "id": "dO2F92sB3pgK"
   },
   "outputs": [],
   "source": []
  }
 ],
 "metadata": {
  "colab": {
   "provenance": []
  },
  "kernelspec": {
   "display_name": "Python 3 (ipykernel)",
   "language": "python",
   "name": "python3"
  },
  "language_info": {
   "codemirror_mode": {
    "name": "ipython",
    "version": 3
   },
   "file_extension": ".py",
   "mimetype": "text/x-python",
   "name": "python",
   "nbconvert_exporter": "python",
   "pygments_lexer": "ipython3",
   "version": "3.9.5"
  }
 },
 "nbformat": 4,
 "nbformat_minor": 1
}
