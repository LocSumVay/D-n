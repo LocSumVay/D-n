{
 "cells": [
  {
   "cell_type": "markdown",
   "metadata": {
    "id": "UuojO3VSzL_o"
   },
   "source": [
    "# Hồi quy đa biến Multiple Regression (Diễn giải)"
   ]
  },
  {
   "cell_type": "markdown",
   "metadata": {
    "id": "mSbS1z5MzL_q"
   },
   "source": [
    "Trong notebook này, chúng ta sẽ sử dụng dữ liệu doanh số bán nhà ở Quận King để dự đoán giá nhà sử dụng hồi quy tuyến tính đa biến. Chúng ta sẽ:\n",
    "* Thực hiện một số thiết kế đặc trưng bằng các hàm DataFrame nội bộ.\n",
    "* Sử dụng các hàm sklearn có sẵn để tính hồi quy và truy cập các tham số của nó (hệ số).\n",
    "* Viết hàm tính RSS với các trọng số hồi quy, yếu tố dự báo và đầu ra đã cho.\n",
    "* Xem các hệ số và diễn giải ý nghĩa của chúng.\n",
    "* Đánh giá mô hình đa biến qua RSS."
   ]
  },
  {
   "cell_type": "markdown",
   "metadata": {
    "id": "KdF3Vw8dzL_r"
   },
   "source": [
    "## Import thư viện"
   ]
  },
  {
   "cell_type": "code",
   "execution_count": 1,
   "metadata": {
    "id": "Uw5wbG3XzL_s"
   },
   "outputs": [],
   "source": [
    "import sklearn, pandas\n",
    "import numpy as np"
   ]
  },
  {
   "cell_type": "markdown",
   "metadata": {
    "id": "PMBGrgxGzL_s"
   },
   "source": [
    "## Load dữ liệu bán nhà\n",
    "\n",
    "Tập dữ liệu từ doanh số bán nhà quận King, Seatle, WA."
   ]
  },
  {
   "cell_type": "code",
   "execution_count": 2,
   "metadata": {
    "id": "Spz6werbzL_s",
    "scrolled": true
   },
   "outputs": [],
   "source": [
    "full_data = pandas.read_csv(\"kc_house_data.csv\", index_col=0)"
   ]
  },
  {
   "cell_type": "markdown",
   "metadata": {
    "id": "r1KXSBqZzL_t"
   },
   "source": [
    "## Chia dữ liệu thành tập huấn luyện và kiểm tra.\n",
    "Chúng ta sử dụng seed=0 để mọi người chạy notebook này có đều được kết quả tương tự. Thực tế, các bạn có thể thiết lập seed ngẫu nhiên để đảm bảo tính nhất quán. "
   ]
  },
  {
   "cell_type": "code",
   "execution_count": 5,
   "metadata": {
    "id": "aHStoQZezL_t"
   },
   "outputs": [
    {
     "name": "stdout",
     "output_type": "stream",
     "text": [
      "                       date      price  bedrooms  bathrooms  sqft_living  \\\n",
      "id                                                                         \n",
      "5100402668  20150218T000000   495000.0         3       1.00         1570   \n",
      "7856560480  20140808T000000   635000.0         3       2.50         1780   \n",
      "2872900010  20150414T000000   382500.0         3       1.50         1090   \n",
      "3216900070  20140617T000000   382500.0         4       2.50         2210   \n",
      "976000790   20141020T000000   670000.0         3       2.50         1800   \n",
      "...                     ...        ...       ...        ...          ...   \n",
      "2322069010  20141007T000000  1180000.0         5       5.00         3960   \n",
      "2114700368  20141118T000000   299000.0         2       2.50         1400   \n",
      "5469501200  20140820T000000   431000.0         3       2.25         2360   \n",
      "3751602797  20140702T000000   411000.0         4       2.00         2370   \n",
      "4038600260  20140922T000000   699900.0         4       2.25         2380   \n",
      "\n",
      "            sqft_lot  floors  waterfront  view  condition  grade  sqft_above  \\\n",
      "id                                                                             \n",
      "5100402668      5510     1.0           0     0          4      7        1070   \n",
      "7856560480     11000     1.0           0     0          4      8        1210   \n",
      "2872900010      9862     1.0           0     0          3      8        1090   \n",
      "3216900070      7079     2.0           0     0          3      8        2210   \n",
      "976000790       4763     2.0           0     0          3      7        1240   \n",
      "...              ...     ...         ...   ...        ...    ...         ...   \n",
      "2322069010     94089     2.0           0     0          3     10        3960   \n",
      "2114700368      1262     2.0           0     0          3      8        1160   \n",
      "5469501200     14950     1.0           0     0          4      9        2360   \n",
      "3751602797     76665     2.0           0     0          4      8        2370   \n",
      "4038600260     16236     1.0           0     0          3      7        1540   \n",
      "\n",
      "            sqft_basement  yr_built  yr_renovated  zipcode      lat     long  \\\n",
      "id                                                                             \n",
      "5100402668            500      1940             0    98115  47.6942 -122.319   \n",
      "7856560480            570      1980             0    98006  47.5574 -122.149   \n",
      "2872900010              0      1987             0    98074  47.6256 -122.036   \n",
      "3216900070              0      1993             0    98031  47.4206 -122.183   \n",
      "976000790             560      1985             0    98119  47.6460 -122.362   \n",
      "...                   ...       ...           ...      ...      ...      ...   \n",
      "2322069010              0      1998             0    98038  47.3800 -122.011   \n",
      "2114700368            240      2008             0    98106  47.5342 -122.349   \n",
      "5469501200              0      1978             0    98042  47.3856 -122.158   \n",
      "3751602797              0      1978             0    98001  47.2831 -122.279   \n",
      "4038600260            840      1961             0    98008  47.6126 -122.120   \n",
      "\n",
      "            sqft_living15  sqft_lot15  \n",
      "id                                     \n",
      "5100402668           1770        6380  \n",
      "7856560480           2310        9700  \n",
      "2872900010           1710        9862  \n",
      "3216900070           1970        7000  \n",
      "976000790            1790        4763  \n",
      "...                   ...         ...  \n",
      "2322069010           2240       64468  \n",
      "2114700368           1060        1524  \n",
      "5469501200           2720       14388  \n",
      "3751602797           2110       19334  \n",
      "4038600260           2230        8925  \n",
      "\n",
      "[17290 rows x 20 columns]\n"
     ]
    }
   ],
   "source": [
    "from sklearn.model_selection import train_test_split\n",
    "train_data, test_data = train_test_split(full_data, train_size=0.8, test_size=0.2, random_state=0)\n",
    "train_data = train_data.copy()\n",
    "test_data = test_data.copy()\n",
    "print(train_data)"
   ]
  },
  {
   "cell_type": "markdown",
   "metadata": {
    "id": "J_bWDhltzL_t"
   },
   "source": [
    "# Tìm hiểu mô hình hồi quy đa biến"
   ]
  },
  {
   "cell_type": "markdown",
   "metadata": {
    "id": "A_ZM4QM6zL_u"
   },
   "source": [
    "Chúng ta có thể sử dụng code sau để tìm hiểu mô hình hồi quy đa biến dự đoán 'price' dựa trên các đặc trưng sau: example_features = ['sqft_living', 'bedrooms', 'bathrooms'] trong dữ liệu huấn luyện với code:"
   ]
  },
  {
   "cell_type": "code",
   "execution_count": 6,
   "metadata": {
    "id": "fBKTyCQTzL_u"
   },
   "outputs": [],
   "source": [
    "def extract_features(data, features_title):\n",
    "    # nhận các đặc trưng từ DataFrame\n",
    "    features = [data[title].values for title in features_title]\n",
    "    # xếp chồng chúng thành 2d [examples, properties]\n",
    "    return np.stack(features, axis=-1)"
   ]
  },
  {
   "cell_type": "code",
   "execution_count": 7,
   "metadata": {
    "id": "w3vPgycwzL_u"
   },
   "outputs": [],
   "source": [
    "from sklearn.linear_model import LinearRegression\n",
    "\n",
    "example_features_title = ['sqft_living', 'bedrooms', 'bathrooms']\n",
    "# trích xuất đặc trưng thành các mảng numpy và xếp chồng chúng mỗi example \n",
    "example_features = extract_features(train_data, example_features_title)\n",
    "example_labels = train_data['price']\n",
    "example_model = LinearRegression().fit(example_features, example_labels)"
   ]
  },
  {
   "cell_type": "markdown",
   "metadata": {
    "id": "vkvZ3tQLzL_v"
   },
   "source": [
    "Chúng ta đã khớp mô hình, giờ có thể trích xuất các trọng số mô hình (hệ số) từ mô hình như sau:"
   ]
  },
  {
   "cell_type": "code",
   "execution_count": 8,
   "metadata": {
    "id": "PYq-n6gmzL_v",
    "outputId": "8e67f020-657d-4e46-bd0a-c9eda1b30c97"
   },
   "outputs": [
    {
     "name": "stdout",
     "output_type": "stream",
     "text": [
      "[   313.17055038 -56754.66651422   6887.71910816]\n"
     ]
    }
   ],
   "source": [
    "example_weight_summary = example_model.coef_\n",
    "print(example_weight_summary)"
   ]
  },
  {
   "cell_type": "markdown",
   "metadata": {
    "id": "JrPSX8P8zL_w"
   },
   "source": [
    "## Đưa ra dự đoán\n",
    "\n",
    "Trong notebook về gradient descent, chúng ta sử dụng numpy để thực hiện hồi quy. Trong notebook này, chúng ta sẽ sử dụng các hàm giao diện của mô hình sklearn hiện có để phân tích hồi quy đa biến.\n",
    "\n",
    "Khi mô hình đã xây, chúng ta có thể sử dụng hàm `predict` để tìm các giá trị dự đoán cho dữ liệu mà chúng ta truyền vào. Ví dụ: sử dụng example_model trên: "
   ]
  },
  {
   "cell_type": "code",
   "execution_count": 9,
   "metadata": {
    "id": "ddZiuCWszL_w",
    "outputId": "bf5701c3-472b-405d-a371-fe16db5af27d"
   },
   "outputs": [
    {
     "name": "stdout",
     "output_type": "stream",
     "text": [
      "395813.4988028938\n"
     ]
    }
   ],
   "source": [
    "example_predictions = example_model.predict(example_features)\n",
    "print(example_predictions[0]) # should be 395813.499"
   ]
  },
  {
   "cell_type": "markdown",
   "metadata": {
    "id": "eVZ3wPEyzL_w"
   },
   "source": [
    "## Tính RSS"
   ]
  },
  {
   "cell_type": "markdown",
   "metadata": {
    "id": "Hc0JjiYqzL_x"
   },
   "source": [
    "Bây giờ chúng ta có thể đưa ra các dự đoán cho mô hình, hãy viết một hàm tính RSS của mô hình. Hoàn thành hàm dưới đây để tính RSS với mô hình, dữ liệu và đầu ra đã biết."
   ]
  },
  {
   "cell_type": "code",
   "execution_count": 16,
   "metadata": {
    "id": "JMqfzD8zzL_x"
   },
   "outputs": [],
   "source": [
    "def get_residual_sum_of_squares(model, data, outcome):\n",
    "    # Trước tiên lấy các dự đoán\n",
    "    dd = model.predict(data)\n",
    "    # Sau đó tính các phần dư/lỗi\n",
    "    phan_du = outcome - dd\n",
    "    # Bình phương lên và cộng tổng \n",
    "    RSS = np.sum(phan_du**2)\n",
    "    return(RSS)    "
   ]
  },
  {
   "cell_type": "markdown",
   "metadata": {
    "id": "_R4UCYFdzL_x"
   },
   "source": [
    "Kiểm tra hàm bằng cách tính RSS trong dữ liệu KIỂM TRA cho mô hình mẫu:"
   ]
  },
  {
   "cell_type": "code",
   "execution_count": 21,
   "metadata": {
    "id": "EfnouG3BzL_x",
    "outputId": "5a23d795-5222-4135-9b87-8b79217fb9ec"
   },
   "outputs": [
    {
     "name": "stdout",
     "output_type": "stream",
     "text": [
      "259213572106085.38\n"
     ]
    }
   ],
   "source": [
    "example_test_features = extract_features(test_data, example_features_title)\n",
    "example_test_labels = test_data['price']\n",
    "rss_example_test = get_residual_sum_of_squares(example_model,example_test_features, example_test_labels)\n",
    "print(rss_example_test) # should be ~ 2.5921e+14"
   ]
  },
  {
   "cell_type": "markdown",
   "metadata": {
    "id": "FxZYgpiSzL_x"
   },
   "source": [
    "# Tạo một số đặc trưng mới"
   ]
  },
  {
   "cell_type": "markdown",
   "metadata": {
    "id": "pUrv_M43zL_y"
   },
   "source": [
    "Chúng ta thường nghĩ hồi quy đa biến gồm nhiều đặc trưng khác nhau (ví dụ: số phòng ngủ, diện tích và số phòng tắm), nhưng chúng ta cũng có thể xem xét việc biến đổi các đối đặc trưng hiện có, ví dụ: log của squarefeet hoặc thậm chí các đặc trưng \"tương tác\" như tích của số phòng ngủ và số phòng tắm."
   ]
  },
  {
   "cell_type": "markdown",
   "metadata": {
    "id": "pZRDPwVwzL_y"
   },
   "source": [
    "Giờ chúng ta sẽ sử dụng hàm logarit mặc định của python để tạo đặc trưng mới. Chúng ta cần import nó từ thư viện math."
   ]
  },
  {
   "cell_type": "code",
   "execution_count": 22,
   "metadata": {
    "id": "uxVRXzdczL_y"
   },
   "outputs": [],
   "source": [
    "from math import log"
   ]
  },
  {
   "cell_type": "markdown",
   "metadata": {
    "id": "N4HSOc4YzL_y"
   },
   "source": [
    "Tiếp theo, chúng ta sẽ tạo 4 đặc trưng mới sau làm cột trong cả dữ liệu HUẤN LUYỆN và KIỂM TRA:\n",
    "* bedrooms_squared = bedrooms\\*bedrooms\n",
    "* bed_bath_rooms = bedrooms\\*bathrooms\n",
    "* log_sqft_living = log(sqft_living)\n",
    "* lat_plus_long = lat + long \n",
    "\n",
    "Ví dụ như sau:"
   ]
  },
  {
   "cell_type": "code",
   "execution_count": 24,
   "metadata": {
    "id": "VuOR_azCzL_y"
   },
   "outputs": [],
   "source": [
    "train_data['bedrooms_squared'] = train_data['bedrooms'].map(lambda x: x**2)\n",
    "test_data['bedrooms_squared'] = test_data['bedrooms'].map(lambda x: x**2)"
   ]
  },
  {
   "cell_type": "code",
   "execution_count": 44,
   "metadata": {
    "id": "20ou7f3CzL_z"
   },
   "outputs": [],
   "source": [
    "# tạo 3 đặc trưng còn lại trong cả dữ liệu HUẤN LUYỆN và KIỂM TRA\n",
    "train_data['bed_bath_rooms'] = train_data['bedrooms']*train_data['bathrooms']\n",
    "test_data['bed_bath_rooms'] = test_data['bathrooms']*test_data['bedrooms']\n",
    "train_data['log_sqft_living'] = train_data['sqft_living'].map(lambda x: log(x))\n",
    "test_data['log_sqft_living'] = test_data['sqft_living'].map(lambda x: log(x))\n",
    "train_data['lat_plus_long'] = train_data['long'] + train_data['lat']\n",
    "test_data['lat_plus_long'] = test_data['long'] + test_data['lat']"
   ]
  },
  {
   "cell_type": "markdown",
   "metadata": {
    "id": "XzffD5s3zL_z"
   },
   "source": [
    "* bedrooms*bedrooms sẽ tăng phân tách giữa ít phòng ngủ (chẳng hạn: 1) và nhiều phòng ngủ (chẳng hạn: 4). Do đó, đặc trưng này phần lớn sẽ ảnh hưởng với nhiều phòng ngủ.\n",
    "* bedrooms*bathrooms cho đặc trưng \"tương tác\", nó sẽ lớn khi cả hai đều lớn.\n",
    "* log(sqft_living) khiến các giá trị lớn hơn gần nhau hơn và lan ra các giá trị nhỏ.\n",
    "* lat + long hoàn toàn không có ý nghĩa nhưng chúng ta vẫn thực hiện (bạn sẽ biết lý do sau)."
   ]
  },
  {
   "cell_type": "markdown",
   "metadata": {
    "id": "U1HAP2BEzL_z"
   },
   "source": [
    "**Quiz: Giá trị trung bình cộng của 4 đặc trưng mới trong dữ liệu KIỂM TRA là bao nhiêu? (làm tròn tới 2 chữ số thập phân)**"
   ]
  },
  {
   "cell_type": "code",
   "execution_count": 45,
   "metadata": {
    "id": "Kp3D1mlnzL_0"
   },
   "outputs": [
    {
     "name": "stdout",
     "output_type": "stream",
     "text": [
      "12.210501966227158\n",
      "7.447721489706223\n",
      "7.5502394677947615\n",
      "-74.65426069858893\n"
     ]
    }
   ],
   "source": [
    "# pandas.Series có hàm gọi chính xác như vậy.\n",
    "print(test_data['bedrooms_squared'].mean())\n",
    "print(test_data['bed_bath_rooms'].mean())\n",
    "print(test_data['log_sqft_living'].mean())\n",
    "print(test_data['lat_plus_long'].mean())"
   ]
  },
  {
   "cell_type": "markdown",
   "metadata": {
    "id": "oSvBL-zkzL_0"
   },
   "source": [
    "## Tìm hiểu mô hình đa biến"
   ]
  },
  {
   "cell_type": "markdown",
   "metadata": {
    "id": "v5lRGSFszL_0"
   },
   "source": [
    "Bây giờ chúng ta sẽ tìm hiểu trọng số của ba mô hình (lồng nhau) dự đoán giá nhà. Mô hình đầu tiên sẽ ít đặc trưng nhất, mô hình thứ hai sẽ thêm một đặc trưng và mô hình thứ ba sẽ thêm vài đặc trưng khác:\n",
    "* Mô hình 1: sqft_living, # bedrooms, # bathrooms, lat & long\n",
    "* Mô hình 2: thêm bedrooms\\*bathrooms\n",
    "* Mô hình 3: thêm log_sqft, bedrooms_squared, và lat_plus_long"
   ]
  },
  {
   "cell_type": "code",
   "execution_count": 88,
   "metadata": {
    "id": "xBmapYryzL_0"
   },
   "outputs": [],
   "source": [
    "model_1_features = ['sqft_living', 'bedrooms', 'bathrooms', 'lat', 'long']\n",
    "model_2_features = model_1_features + ['bed_bath_rooms']\n",
    "model_3_features = model_2_features + ['bedrooms_squared', 'log_sqft_living', 'lat_plus_long']"
   ]
  },
  {
   "cell_type": "markdown",
   "metadata": {
    "id": "-YSVzznJzL_0"
   },
   "source": [
    "Bạn đã có các đặc trưng, trọng số cho 3 mô hình khác nhau dự đoán target = 'price' sử dụng LinearRegression của sklearn và thấy giá trị trọng số/hệ số:\n",
    "\n",
    "*Lưu ý: mô hình hồi quy trong khóa này thường có `coef_`*"
   ]
  },
  {
   "cell_type": "code",
   "execution_count": 91,
   "metadata": {
    "id": "PUJvPZyAzL_1"
   },
   "outputs": [
    {
     "name": "stdout",
     "output_type": "stream",
     "text": [
      "[ 3.12942010e+02 -5.30962691e+04  1.47770428e+04  6.53983343e+05\n",
      " -3.25707336e+05]\n",
      "[ 3.06819573e+02 -1.04604718e+05 -7.01815289e+04  6.50590952e+05\n",
      " -3.09965751e+05  2.49441497e+04]\n",
      "[ 5.37808085e+02  2.78047813e+03  1.01363765e+05  2.00388000e+12\n",
      "  2.00387906e+12 -1.81822549e+04  7.24579933e+02 -5.71030021e+05\n",
      " -2.00387935e+12]\n"
     ]
    }
   ],
   "source": [
    "# Tìm hiểu 3 mô hình. Trích xuất đặc trưng và khớp mô hình với các đặc trưng tương ứng. \n",
    "model_1a_features = extract_features(train_data, model_1_features)\n",
    "model_2a_features = extract_features(train_data, model_2_features)\n",
    "model_3a_features = extract_features(train_data, model_3_features)\n",
    "example_model1 = LinearRegression().fit(model_1a_features, example_labels)\n",
    "example_model2 = LinearRegression().fit(model_2a_features, example_labels)\n",
    "example_model3 = LinearRegression().fit(model_3a_features, example_labels)\n",
    "print(example_model1.coef_)\n",
    "print(example_model2.coef_)\n",
    "print(example_model3.coef_)\n",
    "# Nếu không nhớ, hãy xem example_model bên trên\n"
   ]
  },
  {
   "cell_type": "code",
   "execution_count": 93,
   "metadata": {
    "id": "bjisQIWLzL_1"
   },
   "outputs": [
    {
     "name": "stdout",
     "output_type": "stream",
     "text": [
      "14777.042799376424\n",
      "-70181.52885557694\n"
     ]
    }
   ],
   "source": [
    "# Kiểm tra/trích xuất từng hệ số của mô hình. Nếu nghi ngỡ, hãy tham khảo tài liệu của sklearn. \n",
    "print(example_model1.coef_[2])\n",
    "print(example_model2.coef_[2])\n",
    "\n",
    "#Thay đổi một đặc trưng thì tất cả các trọng số cũng thay đổi,vì đang tìm min của RSS"
   ]
  },
  {
   "cell_type": "markdown",
   "metadata": {
    "id": "HPhXwCQHzL_1"
   },
   "source": [
    "**Quiz: Dấu (dương hoặc âm) của hệ số/trọng số cho 'bathrooms' trong mô hình 1 là gì?**\n",
    "\n",
    "**Quiz: Dấu (dương hoặc âm) của hệ số/trọng số cho 'bathrooms' trong mô hình 2 là gì?**\n",
    "\n",
    "Hãy nghĩ xem điều này có ý nghĩa gì."
   ]
  },
  {
   "cell_type": "markdown",
   "metadata": {
    "id": "xYtwMSZLzL_1"
   },
   "source": [
    "## So sánh các mô hình đa biến\n",
    "\n",
    "Chúng ta đã nghiên cứu 3 mô hình và trích xuất trong số mô hình mà chúng ta muốn đánh giá là tốt nhất."
   ]
  },
  {
   "cell_type": "markdown",
   "metadata": {
    "id": "3ZrqppoOzL_1"
   },
   "source": [
    "Trước tiên sử dụng các hàm trước đó để tính RSS trong dữ liệu HUẤN LUYỆN cho từng mô hình."
   ]
  },
  {
   "cell_type": "code",
   "execution_count": 96,
   "metadata": {
    "id": "h8g78DvSzL_1"
   },
   "outputs": [
    {
     "name": "stdout",
     "output_type": "stream",
     "text": [
      "979843597588329.8\n",
      "970799199729578.0\n",
      "913653646107523.2\n"
     ]
    }
   ],
   "source": [
    "# Tính RSS trong dữ liệu HUẤN LUYỆN cho từng mô hình và hiển thị các giá trị. \n",
    "print(get_residual_sum_of_squares(example_model1,model_1a_features, example_labels))\n",
    "print(get_residual_sum_of_squares(example_model2,model_2a_features, example_labels))\n",
    "print(get_residual_sum_of_squares(example_model3,model_3a_features, example_labels))\n",
    "\n",
    "# Xem lab trước nếu quên cách làm.\n",
    "#example_model3 có RSSS thấp nhất trong dữ liệu HUẤN LUYỆN\n"
   ]
  },
  {
   "cell_type": "markdown",
   "metadata": {
    "id": "MYUCyGjozL_2"
   },
   "source": [
    "**Quiz: Mô hình nào (1, 2 hay 3) có RSSS thấp nhất trong dữ liệu HUẤN LUYỆN?** Đây có phải điều chúng ta dự kiến?"
   ]
  },
  {
   "cell_type": "markdown",
   "metadata": {
    "id": "jtJJMcjtzL_2"
   },
   "source": [
    "Bây giờ hãy tính RSS trong dữ liệu KIỂM TRA cho từng mô hình. "
   ]
  },
  {
   "cell_type": "code",
   "execution_count": 97,
   "metadata": {
    "id": "yHBiUB1FzL_2"
   },
   "outputs": [
    {
     "name": "stdout",
     "output_type": "stream",
     "text": [
      "213487129319103.56\n",
      "210778544168942.5\n",
      "203972160257917.53\n"
     ]
    },
    {
     "name": "stderr",
     "output_type": "stream",
     "text": [
      "c:\\users\\v\\appdata\\local\\programs\\python\\python39\\lib\\site-packages\\sklearn\\base.py:413: UserWarning: X has feature names, but LinearRegression was fitted without feature names\n",
      "  warnings.warn(\n",
      "c:\\users\\v\\appdata\\local\\programs\\python\\python39\\lib\\site-packages\\sklearn\\base.py:413: UserWarning: X has feature names, but LinearRegression was fitted without feature names\n",
      "  warnings.warn(\n",
      "c:\\users\\v\\appdata\\local\\programs\\python\\python39\\lib\\site-packages\\sklearn\\base.py:413: UserWarning: X has feature names, but LinearRegression was fitted without feature names\n",
      "  warnings.warn(\n"
     ]
    }
   ],
   "source": [
    "# Tính RSS trong dữ liệu KIỂM TRA cho từng mô hình và hiển thị các giá trị.\n",
    "print(get_residual_sum_of_squares(example_model1,test_data[model_1_features], example_test_labels))\n",
    "print(get_residual_sum_of_squares(example_model2,test_data[model_2_features], example_test_labels))\n",
    "print(get_residual_sum_of_squares(example_model3,test_data[model_3_features], example_test_labels))"
   ]
  },
  {
   "cell_type": "markdown",
   "metadata": {
    "id": "DA9Ge-fNzL_2"
   },
   "source": [
    "**Quiz: Mô hình nào (1, 2 hay 3) có RSSS thấp nhất trong dữ liệu KIỂM TRA?** Đây có phải điều chúng ta dự kiến? Nghĩ về các đặc trưng đã thêm vào từng mô hình trước đó. "
   ]
  },
  {
   "cell_type": "code",
   "execution_count": null,
   "metadata": {
    "collapsed": true,
    "id": "fHoHmYWHzL_2"
   },
   "outputs": [],
   "source": [
    "#example_model3 có RSSS thấp nhất trong dữ liệu KIỂM TRA\n",
    "#Thay đổi một đặc trưng thì tất cả các trọng số cũng thay đổi.\n",
    "#Càng nhiều đặc trưng khả cao sẽ tốt hơnn ."
   ]
  }
 ],
 "metadata": {
  "colab": {
   "collapsed_sections": [],
   "name": "[VN]Lab-2.ipynb",
   "provenance": []
  },
  "kernelspec": {
   "display_name": "Python 3 (ipykernel)",
   "language": "python",
   "name": "python3"
  },
  "language_info": {
   "codemirror_mode": {
    "name": "ipython",
    "version": 3
   },
   "file_extension": ".py",
   "mimetype": "text/x-python",
   "name": "python",
   "nbconvert_exporter": "python",
   "pygments_lexer": "ipython3",
   "version": "3.9.5"
  }
 },
 "nbformat": 4,
 "nbformat_minor": 1
}
