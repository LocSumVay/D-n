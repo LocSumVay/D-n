{
 "cells": [
  {
   "cell_type": "markdown",
   "metadata": {
    "id": "a3R00Hn6wLMX"
   },
   "source": [
    "# Phân tích cảm xúc bình luận phim Imdb và phân loại đánh giá hình ảnh chó mèo\n",
    "Trong assignment này, chúng ta sẽ xây dựng hai bộ phân loại học máy. Bộ phân loại đầu tiên được huấn luyện để nhận diện xem bình luận phim là tích cực hay tiêu cực, ở đây chúng ta sử dụng tập dữ liệu [Imdb movie reviews](http://ai.stanford.edu/~amaas/data/sentiment/aclImdb_v1.tar.gz) chứa 5000 bài bình luận có một nửa là tích cực, một nửa là tiêu cực. Bộ phân loại thứ hai là phân loại hình ảnh có thể dự đoán đó hình ảnh về chó hay mèo. Chúng ta sử dụng tập dữ liệu [Dogs vs. Cats](https://www.kaggle.com/c/dogs-vs-cats/data) từ cuộc thi Dogs vs. Cats trên Kaggle gồm 25000 hình ảnh về chó và mèo. \n",
    "<br>\n",
    "Mục đích chính của notebook này là chỉ cho bạn các bước cơ bản khi huấn luyện một mô hình học máy như sau:\n",
    "1. Nhận dữ liệu\n",
    "2. Load và tiền xử lý dữ liệu\n",
    "3. Chọn mô hình\n",
    "4. Huấn luyện mô hình\n",
    "5. Đánh giá mô hình\n",
    "6. Cải thiện mô hình"
   ]
  },
  {
   "cell_type": "markdown",
   "metadata": {
    "id": "c97fHikEwLMY"
   },
   "source": [
    "## Phân tích cảm xúc bình luận phim\n",
    "Chúng ta hãy xây dựng bộ phân loại đầu tiên."
   ]
  },
  {
   "cell_type": "markdown",
   "metadata": {
    "id": "Tlc_hMgcwLMY"
   },
   "source": [
    "### Import libs"
   ]
  },
  {
   "cell_type": "code",
   "execution_count": 6,
   "metadata": {
    "id": "c3Dp53_2wLMZ"
   },
   "outputs": [],
   "source": [
    "import re\n",
    "import os\n",
    "import numpy as np\n",
    "import pandas as pd\n",
    "from matplotlib import pyplot as plt"
   ]
  },
  {
   "cell_type": "markdown",
   "metadata": {
    "id": "fbTZOCR6wLMc"
   },
   "source": [
    "### Download dữ liệu\n",
    "Download tập dữ liệu [Imdb movie reviews](http://ai.stanford.edu/~amaas/data/sentiment/aclImdb_v1.tar.gz) trích và đặt folder **aclImdb** vào folder **data**."
   ]
  },
  {
   "cell_type": "markdown",
   "metadata": {
    "id": "7dBt5veCwLMd"
   },
   "source": [
    "### Load tập dữ liệu"
   ]
  },
  {
   "cell_type": "code",
   "execution_count": 2,
   "metadata": {
    "id": "YKv3uZ07wLMd"
   },
   "outputs": [],
   "source": [
    "def load_train_test_imdb_data(data_dir):\n",
    "    \"\"\"Loads the IMDB train/test datasets from a folder path.\n",
    "    Input:\n",
    "    data_dir: path to the \"aclImdb\" folder.\n",
    "    \n",
    "    Returns:\n",
    "    train/test datasets as pandas dataframes.\n",
    "    \"\"\"\n",
    "\n",
    "    data = {}\n",
    "    for split in [\"train\", \"test\"]:\n",
    "        data[split] = []\n",
    "        for sentiment in [\"neg\", \"pos\"]:\n",
    "            score = 1 if sentiment == \"pos\" else 0\n",
    "\n",
    "            path = os.path.join(data_dir, split, sentiment)\n",
    "            file_names = os.listdir(path)\n",
    "            for f_name in file_names:\n",
    "                with open(os.path.join(path, f_name), \"r\", \n",
    "                encoding=\"utf-8\") as f:\n",
    "                    review = f.read()\n",
    "                    data[split].append([review, score])\n",
    "    \n",
    "    # CODE CỦA BẠN Ở ĐÂY\n",
    "    # Xáo trộn dữ liệu huấn luyện sử dụng \"np.random.shuffle\":\n",
    "    np.random.shuffle(data[\"train\"])\n",
    "\n",
    "    # Tạo khung dữ liệu huấn luyện \"data[\"train\"])\" chỉ có 2 cột: \"text\" và \"sentiment\"      \n",
    "    data[\"train\"] = pd.DataFrame(data[\"train\"],columns=[\"text\", \"sentiment\"])\n",
    "\n",
    "    # Xáo trộn dữ liệu kiểm tra sử dụng \"np.random.shuffle\":\n",
    "    np.random.shuffle(data[\"test\"])\n",
    "\n",
    "    # Tạo khung dữ liệu kiểm tra \"data[\"test\"])\" chỉ có 2 cột: \"text\" và \"sentiment\"      \n",
    "    data[\"test\"] = pd.DataFrame(data[\"test\"],columns=[\"text\", \"sentiment\"])\n",
    "\n",
    "    return data[\"train\"], data[\"test\"]"
   ]
  },
  {
   "cell_type": "markdown",
   "metadata": {
    "id": "92XP_4fwwLMg"
   },
   "source": [
    "**load_train_test_imdb_data** giúp load các tập dữ liệu vào bên trong folder **acllmdb**.\n",
    "<br>\n",
    "Hoàn thành cell bên dưới để load các tập dữ liệu bên trong folder **acllmdb** bằng cách sử dụng **load_train_test_imdb_data** ở trên.\n",
    "<br>\n",
    "Sẽ mất vài phút để load các tập dữ liệu.\n",
    "Sau khi load xong, bây giờ chúng ta có các dataframe (khung dữ liệu) **train_data** và **test_data**. "
   ]
  },
  {
   "cell_type": "code",
   "execution_count": 3,
   "metadata": {
    "id": "s0dnGLAWwLMg"
   },
   "outputs": [],
   "source": [
    "# CODE CỦA BẠN Ở ĐÂY\n",
    "# Load tập dữ liệu\n",
    "train_data, test_data = load_train_test_imdb_data(\"aclImdb\")\n",
    "# CODE CỦA BẠN Ở ĐÂY"
   ]
  },
  {
   "cell_type": "markdown",
   "metadata": {
    "id": "qaa3RJ16wLMi"
   },
   "source": [
    "In ra năm mục đầu tiên và các shape của tập dữ liệu **train_data** và **test_data**."
   ]
  },
  {
   "cell_type": "code",
   "execution_count": 4,
   "metadata": {
    "id": "DQi7X-YNwLMk",
    "scrolled": false
   },
   "outputs": [
    {
     "name": "stdout",
     "output_type": "stream",
     "text": [
      "                                                text  sentiment\n",
      "0  I always look forward to this movie when its o...          1\n",
      "1  A wealthy Harvard dude falls for a poor Radcli...          0\n",
      "2  This is easily a 9. Michel Serrault, known mor...          1\n",
      "3  Complete drivel. An unfortunate manifestation ...          0\n",
      "4  The only connection this movie has to horror i...          0\n",
      "                                                text  sentiment\n",
      "0  I was -Unlike most of the reviewers- not born ...          1\n",
      "1  It's hard to know exactly what to say about th...          0\n",
      "2  Necessary Roughness (1991) was a bad comedy/ d...          0\n",
      "3  In this horrible attempt at a Blair Witch mock...          0\n",
      "4  This 1955 Producers' Showcase version of the m...          1\n"
     ]
    }
   ],
   "source": [
    "# CODE CỦA BẠN Ở ĐÂY\n",
    "print(train_data.iloc[:5])\n",
    "\n",
    "# CODE CỦA BẠN Ở ĐÂY\n",
    "print(test_data.iloc[:5])"
   ]
  },
  {
   "cell_type": "markdown",
   "metadata": {
    "id": "33-xyQ8HwLMm"
   },
   "source": [
    "### Tiền xử lý bình luận\n",
    "Chúng ta có hàm **clean_text** giúp dọn các bình luận do đó việc huấn luyện mô hình sẽ dễ dàng hơn. Ở đây chúng ta dọn những thứ như HTML tag, loại bỏ dấu chấm, chuyển chữ viết hoa thành chữ thường. "
   ]
  },
  {
   "cell_type": "code",
   "execution_count": 5,
   "metadata": {
    "id": "9kQLWUrRwLMn"
   },
   "outputs": [
    {
     "data": {
      "text/plain": [
       "['this', 'is', 'not', 'a', 'sentence']"
      ]
     },
     "execution_count": 5,
     "metadata": {},
     "output_type": "execute_result"
    }
   ],
   "source": [
    "def clean_text(text):\n",
    "    \"\"\"\n",
    "    Applies some pre-processing on the given text.\n",
    "\n",
    "    Steps :\n",
    "    - Removing HTML tags\n",
    "    - Removing punctuation\n",
    "    - Lowering text\n",
    "    \"\"\"\n",
    "    \n",
    "    # loại bỏ HTML tag\n",
    "    text = re.sub(r'<.*?>', '', text)\n",
    "    \n",
    "    # CODE CỦA BẠN Ở ĐÂY\n",
    "    # loại bỏ các ký tự [\\], ['] và [\"] bằng phương thức resub:\n",
    "    text = re.sub(r'\\\\', '', text)\n",
    "\n",
    "    text = re.sub(r\"'\", '', text) \n",
    "\n",
    "    text = re.sub(r'\"', '', text)   \n",
    "    # CODE CỦA BẠN Ở ĐÂY\n",
    "    \n",
    "    # chuyển đổi văn bản thành chữ thường\n",
    "    text = text.strip().lower()\n",
    "    \n",
    "    # thay dấu chấm bằng dấu cách\n",
    "    filters='!\"\\'#$%&()*+,-./:;<=>?@[\\\\]^_`{|}~\\t\\n'\n",
    "    translate_dict = dict((c, \" \") for c in filters)\n",
    "    translate_map = str.maketrans(translate_dict)\n",
    "    text = text.translate(translate_map)\n",
    "\n",
    "    return text\n",
    "\n",
    "# Ví dụ\n",
    "clean_text(\"<html>This is not a sentence.<\\html>\").split()"
   ]
  },
  {
   "cell_type": "markdown",
   "metadata": {
    "id": "VZDUWE1SwLMp"
   },
   "source": [
    "### Biểu diễn bình luận dưới dạng vectơ\n",
    "Để huấn luyện các bình luận với mô hình học máy, chúng ta cần chuyển chúng thành các vectơ. Có nhiều cách để chuyển một bình luận thành vectơ (văn bản nói chung), ở đây chúng ta sử dụng mô hình [túi từ (bag-of-words)](https://en.wikipedia.org/wiki/Bag-of-words_model) thường được dùng khi huấn luyện với các thuật toán học máy truyền thống. Chúng ta sẽ sử dụng sickit-learn [CountVectorizer](https://scikit-learn.org/stable/modules/generated/sklearn.feature_extraction.text.CountVectorizer.html) giúp tạo túi từ dễ dàng hơn. Hãy chạy cell bên dưới để xem ví dụ. "
   ]
  },
  {
   "cell_type": "code",
   "execution_count": 6,
   "metadata": {
    "id": "fEfA14LTwLMp"
   },
   "outputs": [
    {
     "data": {
      "text/html": [
       "<div>\n",
       "<style scoped>\n",
       "    .dataframe tbody tr th:only-of-type {\n",
       "        vertical-align: middle;\n",
       "    }\n",
       "\n",
       "    .dataframe tbody tr th {\n",
       "        vertical-align: top;\n",
       "    }\n",
       "\n",
       "    .dataframe thead th {\n",
       "        text-align: right;\n",
       "    }\n",
       "</style>\n",
       "<table border=\"1\" class=\"dataframe\">\n",
       "  <thead>\n",
       "    <tr style=\"text-align: right;\">\n",
       "      <th></th>\n",
       "      <th>bad</th>\n",
       "      <th>cat</th>\n",
       "      <th>day</th>\n",
       "      <th>good</th>\n",
       "    </tr>\n",
       "  </thead>\n",
       "  <tbody>\n",
       "    <tr>\n",
       "      <th>test sentence</th>\n",
       "      <td>0</td>\n",
       "      <td>0</td>\n",
       "      <td>2</td>\n",
       "      <td>1</td>\n",
       "    </tr>\n",
       "  </tbody>\n",
       "</table>\n",
       "</div>"
      ],
      "text/plain": [
       "               bad  cat  day  good\n",
       "test sentence    0    0    2     1"
      ]
     },
     "execution_count": 6,
     "metadata": {},
     "output_type": "execute_result"
    }
   ],
   "source": [
    "from sklearn.feature_extraction.text import CountVectorizer\n",
    "\n",
    "training_texts = [\n",
    "    \"This is a good cat\",\n",
    "    \"This is a bad day\"\n",
    "]\n",
    "\n",
    "test_texts = [\n",
    "    \"This day is a good day\"\n",
    "]\n",
    "\n",
    "# vectorizer này sẽ giúp bỏ qua các stop word (từ dừng)\n",
    "vectorizer = CountVectorizer(\n",
    "    stop_words=\"english\",\n",
    "    preprocessor=clean_text\n",
    ")\n",
    "\n",
    "# CODE CỦA BẠN Ở ĐÂY\n",
    "# khớp vectorizer trong văn bản huấn luyện \"training_texts\"....\n",
    "vectorizer.fit_transform(training_texts)\n",
    "# CODE CỦA BẠN Ở ĐÂY\n",
    "\n",
    "# lấy từ vựng của vectorizer\n",
    "inv_vocab = {v: k for k, v in vectorizer.vocabulary_.items()}\n",
    "vocabulary = [inv_vocab[i] for i in range(len(inv_vocab))]\n",
    "\n",
    "# Ví dụ về vectơ hóa\n",
    "pd.DataFrame(\n",
    "    data=vectorizer.transform(test_texts).toarray(),\n",
    "    index=[\"test sentence\"],\n",
    "    columns=vocabulary\n",
    ")"
   ]
  },
  {
   "cell_type": "markdown",
   "metadata": {
    "id": "x26OLYxFwLMt"
   },
   "source": [
    "### Tạo CountVectorizer\n",
    "Vectorier được dùng để vectơ hóa các bình luận."
   ]
  },
  {
   "cell_type": "code",
   "execution_count": 7,
   "metadata": {
    "id": "3eC_B7oJwLMt"
   },
   "outputs": [],
   "source": [
    "# Chuyển mỗi văn bản thành một vectơ đếm từ\n",
    "vectorizer = CountVectorizer(stop_words=\"english\",\n",
    "                             preprocessor=clean_text)"
   ]
  },
  {
   "cell_type": "markdown",
   "metadata": {
    "id": "uWyPbrXzwLMv"
   },
   "source": [
    "### Biến đổi bình luận thành vectơ"
   ]
  },
  {
   "cell_type": "markdown",
   "metadata": {
    "id": "kALz2cbWwLMv"
   },
   "source": [
    "Chúng ta sẽ sử dụng hàm **fit_transform** của **vectorizer** để chuyển **train_data[\"text\"]** và **test_data[\"text\"]** thành các vectơ."
   ]
  },
  {
   "cell_type": "code",
   "execution_count": 8,
   "metadata": {
    "id": "Vs-WWhG0wLMw"
   },
   "outputs": [],
   "source": [
    "# CODE CỦA BẠN Ở ĐÂY\n",
    "# Chuyển bình luận thành vectơ\n",
    "training_features = vectorizer.fit_transform(train_data[\"text\"])\n",
    "test_features = vectorizer.transform(test_data[\"text\"]) \n",
    "# CODE CỦA BẠN Ở ĐÂY"
   ]
  },
  {
   "cell_type": "markdown",
   "metadata": {
    "id": "D3MMjCM7wLMy"
   },
   "source": [
    "### Tạo và huấn luyện mô hình\n",
    "Có rất nhiều thuật toán học máy mà chúng ta có thể sử dụng trong trường hợp này. Ở đây chúng ta sử dụng Hồi quy Logistic, nó giúp huấn luyện rất nhanh và thường được sử dụng cho bài toán phân loại văn bản với tập dữ liệu nhỏ. Bạn có thể tìm hiểu thêm thông tin chi tiết về thuật toán này và nhiều thuật toán khác trong khóa học sau của chuyên ngành học máy này. Chạy cell bên dưới để tạo và huấn luyện mô hình."
   ]
  },
  {
   "cell_type": "code",
   "execution_count": 9,
   "metadata": {
    "id": "5HV0Dp10wLMy"
   },
   "outputs": [
    {
     "name": "stderr",
     "output_type": "stream",
     "text": [
      "c:\\users\\v\\appdata\\local\\programs\\python\\python39\\lib\\site-packages\\sklearn\\svm\\_base.py:1244: ConvergenceWarning: Liblinear failed to converge, increase the number of iterations.\n",
      "  warnings.warn(\n"
     ]
    },
    {
     "data": {
      "text/html": [
       "<style>#sk-container-id-1 {color: black;background-color: white;}#sk-container-id-1 pre{padding: 0;}#sk-container-id-1 div.sk-toggleable {background-color: white;}#sk-container-id-1 label.sk-toggleable__label {cursor: pointer;display: block;width: 100%;margin-bottom: 0;padding: 0.3em;box-sizing: border-box;text-align: center;}#sk-container-id-1 label.sk-toggleable__label-arrow:before {content: \"▸\";float: left;margin-right: 0.25em;color: #696969;}#sk-container-id-1 label.sk-toggleable__label-arrow:hover:before {color: black;}#sk-container-id-1 div.sk-estimator:hover label.sk-toggleable__label-arrow:before {color: black;}#sk-container-id-1 div.sk-toggleable__content {max-height: 0;max-width: 0;overflow: hidden;text-align: left;background-color: #f0f8ff;}#sk-container-id-1 div.sk-toggleable__content pre {margin: 0.2em;color: black;border-radius: 0.25em;background-color: #f0f8ff;}#sk-container-id-1 input.sk-toggleable__control:checked~div.sk-toggleable__content {max-height: 200px;max-width: 100%;overflow: auto;}#sk-container-id-1 input.sk-toggleable__control:checked~label.sk-toggleable__label-arrow:before {content: \"▾\";}#sk-container-id-1 div.sk-estimator input.sk-toggleable__control:checked~label.sk-toggleable__label {background-color: #d4ebff;}#sk-container-id-1 div.sk-label input.sk-toggleable__control:checked~label.sk-toggleable__label {background-color: #d4ebff;}#sk-container-id-1 input.sk-hidden--visually {border: 0;clip: rect(1px 1px 1px 1px);clip: rect(1px, 1px, 1px, 1px);height: 1px;margin: -1px;overflow: hidden;padding: 0;position: absolute;width: 1px;}#sk-container-id-1 div.sk-estimator {font-family: monospace;background-color: #f0f8ff;border: 1px dotted black;border-radius: 0.25em;box-sizing: border-box;margin-bottom: 0.5em;}#sk-container-id-1 div.sk-estimator:hover {background-color: #d4ebff;}#sk-container-id-1 div.sk-parallel-item::after {content: \"\";width: 100%;border-bottom: 1px solid gray;flex-grow: 1;}#sk-container-id-1 div.sk-label:hover label.sk-toggleable__label {background-color: #d4ebff;}#sk-container-id-1 div.sk-serial::before {content: \"\";position: absolute;border-left: 1px solid gray;box-sizing: border-box;top: 0;bottom: 0;left: 50%;z-index: 0;}#sk-container-id-1 div.sk-serial {display: flex;flex-direction: column;align-items: center;background-color: white;padding-right: 0.2em;padding-left: 0.2em;position: relative;}#sk-container-id-1 div.sk-item {position: relative;z-index: 1;}#sk-container-id-1 div.sk-parallel {display: flex;align-items: stretch;justify-content: center;background-color: white;position: relative;}#sk-container-id-1 div.sk-item::before, #sk-container-id-1 div.sk-parallel-item::before {content: \"\";position: absolute;border-left: 1px solid gray;box-sizing: border-box;top: 0;bottom: 0;left: 50%;z-index: -1;}#sk-container-id-1 div.sk-parallel-item {display: flex;flex-direction: column;z-index: 1;position: relative;background-color: white;}#sk-container-id-1 div.sk-parallel-item:first-child::after {align-self: flex-end;width: 50%;}#sk-container-id-1 div.sk-parallel-item:last-child::after {align-self: flex-start;width: 50%;}#sk-container-id-1 div.sk-parallel-item:only-child::after {width: 0;}#sk-container-id-1 div.sk-dashed-wrapped {border: 1px dashed gray;margin: 0 0.4em 0.5em 0.4em;box-sizing: border-box;padding-bottom: 0.4em;background-color: white;}#sk-container-id-1 div.sk-label label {font-family: monospace;font-weight: bold;display: inline-block;line-height: 1.2em;}#sk-container-id-1 div.sk-label-container {text-align: center;}#sk-container-id-1 div.sk-container {/* jupyter's `normalize.less` sets `[hidden] { display: none; }` but bootstrap.min.css set `[hidden] { display: none !important; }` so we also need the `!important` here to be able to override the default hidden behavior on the sphinx rendered scikit-learn.org. See: https://github.com/scikit-learn/scikit-learn/issues/21755 */display: inline-block !important;position: relative;}#sk-container-id-1 div.sk-text-repr-fallback {display: none;}</style><div id=\"sk-container-id-1\" class=\"sk-top-container\"><div class=\"sk-text-repr-fallback\"><pre>LinearSVC()</pre><b>In a Jupyter environment, please rerun this cell to show the HTML representation or trust the notebook. <br />On GitHub, the HTML representation is unable to render, please try loading this page with nbviewer.org.</b></div><div class=\"sk-container\" hidden><div class=\"sk-item\"><div class=\"sk-estimator sk-toggleable\"><input class=\"sk-toggleable__control sk-hidden--visually\" id=\"sk-estimator-id-1\" type=\"checkbox\" checked><label for=\"sk-estimator-id-1\" class=\"sk-toggleable__label sk-toggleable__label-arrow\">LinearSVC</label><div class=\"sk-toggleable__content\"><pre>LinearSVC()</pre></div></div></div></div></div>"
      ],
      "text/plain": [
       "LinearSVC()"
      ]
     },
     "execution_count": 9,
     "metadata": {},
     "output_type": "execute_result"
    }
   ],
   "source": [
    "from sklearn.svm import LinearSVC\n",
    "# CODE CỦA BẠN Ở ĐÂY\n",
    "# Gán \"LinearSVC()\" cho biến mô hình:\n",
    "model = LinearSVC()\n",
    "\n",
    "# Khớp mô hình với dữ liệu huấn luyện \"training_features\" và nhãn huấn luyện \"train_data[\"sentiment\"]\":\n",
    "model.fit(training_features,train_data[\"sentiment\"])\n",
    "# CODE CỦA BẠN Ở ĐÂY"
   ]
  },
  {
   "cell_type": "markdown",
   "metadata": {
    "id": "xaRp6c-dwLM1"
   },
   "source": [
    "### Đánh giá mô hình\n",
    "Chúng ta sẽ sử dụng **accuracy_score** để đánh giá mô hình trên **test_data**. Xem tra tài liệu [accuracy_score](https://scikit-learn.org/stable/modules/generated/sklearn.metrics.accuracy_score.html) ở đây. Hãy hoàn thành code bên dưới để tính độ chính xác của mô hình trên **test_data**."
   ]
  },
  {
   "cell_type": "code",
   "execution_count": 10,
   "metadata": {
    "id": "ak8OIvbswLM1"
   },
   "outputs": [
    {
     "name": "stdout",
     "output_type": "stream",
     "text": [
      "Accuracy on the IMDB dataset: 83.68%\n"
     ]
    }
   ],
   "source": [
    "from sklearn.metrics import accuracy_score\n",
    "from sklearn.svm import LinearSVC\n",
    "# CODE CỦA BẠN Ở ĐÂY\n",
    "# Dự đoán tập dữ liệu kiểm tra:\n",
    "y_test_pred = model.predict(test_features)\n",
    "# Đánh giá\n",
    "acc = accuracy_score(test_data[\"sentiment\"], y_test_pred)\n",
    "# CODE CỦA BẠN Ở ĐÂY\n",
    "\n",
    "print(\"Accuracy on the IMDB dataset: {:.2f}%\".format(acc*100))"
   ]
  },
  {
   "cell_type": "markdown",
   "metadata": {
    "id": "MsjyRrxjwLM3"
   },
   "source": [
    "**Quizz:** Độ chính xác của mô hình trên test set là bao nhiêu?\n",
    "<br>\n",
    "**Đáp án:** 83.68%"
   ]
  },
  {
   "cell_type": "markdown",
   "metadata": {
    "id": "Va-4j5euwLM4"
   },
   "source": [
    "### (Tùy chọn) Đánh giá mô hình sử dụng f1 score\n",
    "Hoàn thành cell bên dưới để nhận điểm thưởng. Hãy sử dụng f1 score để đánh giá mô hình."
   ]
  },
  {
   "cell_type": "code",
   "execution_count": 11,
   "metadata": {
    "id": "THQYKiAJwLM4"
   },
   "outputs": [
    {
     "name": "stdout",
     "output_type": "stream",
     "text": [
      "F1 on the IMDB dataset: 0.83\n"
     ]
    }
   ],
   "source": [
    "from sklearn.metrics import f1_score\n",
    "\n",
    "# CODE CỦA BẠN Ở ĐÂY\n",
    "# Đánh giá sử dụng f1\n",
    "f1 = f1_score(test_data[\"sentiment\"], y_test_pred)\n",
    "# CODE CỦA BẠN Ở ĐÂY\n",
    "\n",
    "print(\"F1 on the IMDB dataset: {:.2f}\".format(f1))"
   ]
  },
  {
   "cell_type": "markdown",
   "metadata": {
    "id": "qE3J0xDmwLM6"
   },
   "source": [
    "### Cải thiện mô hình\n",
    "Bây giờ, chúng ta hãy cố gắng cải thiện độ chính xác của mô hình trên test set. Có nhiều cách để cải thiện hiện mô hình học máy, ở đây chúng ta sẽ thử một phương thức khác để biểu diễn các bình luận thành các vectơ có [tf-idf](https://en.wikipedia.org/wiki/Tf%E2%80%93idf) với [n-gram](https://en.wikipedia.org/wiki/N-gram). Hãy chạy cell sau để huấn luyện mô hình mới và xem độ chính xác. "
   ]
  },
  {
   "cell_type": "code",
   "execution_count": 12,
   "metadata": {
    "id": "jCIkfKuTwLM6"
   },
   "outputs": [
    {
     "name": "stdout",
     "output_type": "stream",
     "text": [
      "Accuracy on the IMDB dataset: 88.66\n"
     ]
    }
   ],
   "source": [
    "from sklearn.svm import LinearSVC\n",
    "from sklearn.metrics import accuracy_score\n",
    "from sklearn.feature_extraction.text import TfidfVectorizer\n",
    "\n",
    "\n",
    "# Chuyển mỗi văn bản thành một vectơ đếm từ\n",
    "vectorizer = TfidfVectorizer(stop_words=\"english\",\n",
    "                             preprocessor=clean_text,\n",
    "                             ngram_range=(1, 2))\n",
    "\n",
    "training_features = vectorizer.fit_transform(train_data[\"text\"])    \n",
    "test_features = vectorizer.transform(test_data[\"text\"])\n",
    "\n",
    "# CODE CỦA BẠN Ở ĐÂY\n",
    "# Huấn luyện\n",
    "# Gán \"LinearSVC()\" vào một biến mô hình:\n",
    "model = LinearSVC()\n",
    "\n",
    "# Khớp mô hình với dữ liệu huấn luyện \"training_features\" và nhãn huấn luyện \"train_data[\"sentiment\"]\":\n",
    "model.fit(training_features,train_data[\"sentiment\"])\n",
    "\n",
    "# Dự đoán dữ liệu kiểm tra \"test_features\":\n",
    "y_test_pred = model.predict(test_features)\n",
    "# CODE CỦA BẠN Ở ĐÂY\n",
    "\n",
    "# Đánh giá\n",
    "acc = accuracy_score(test_data[\"sentiment\"], y_test_pred)\n",
    "\n",
    "print(\"Accuracy on the IMDB dataset: {:.2f}\".format(acc*100))"
   ]
  },
  {
   "cell_type": "markdown",
   "metadata": {
    "id": "iwrvxYawwLM-"
   },
   "source": [
    "**Quizz:** Độ chính xác của mô hình trên test set là bao nhiêu?\n",
    "<br>\n",
    "**Đáp án: 88.66%"
   ]
  },
  {
   "cell_type": "markdown",
   "metadata": {
    "id": "8iBYeg77wLM-"
   },
   "source": [
    "### (Tùy chọn) Đánh giá mô hình đã carit hiện sử dụng f1 score\n",
    "Hoàn thành cell bên dưới để nhận điểm thưởng. Sử dụng f1 score để đánh giá mô hình."
   ]
  },
  {
   "cell_type": "code",
   "execution_count": 13,
   "metadata": {
    "id": "FplNS_6-wLM_"
   },
   "outputs": [
    {
     "name": "stdout",
     "output_type": "stream",
     "text": [
      "F1 on the IMDB dataset: 0.89\n"
     ]
    }
   ],
   "source": [
    "from sklearn.metrics import f1_score\n",
    "\n",
    "# CODE CỦA BẠN Ở ĐÂY\n",
    "# Đánh giá sử dụng f1\n",
    "f1 = f1_score(test_data[\"sentiment\"], y_test_pred)\n",
    "# CODE CỦA BẠN Ở ĐÂY\n",
    "\n",
    "print(\"F1 on the IMDB dataset: {:.2f}\".format(f1))"
   ]
  },
  {
   "cell_type": "markdown",
   "metadata": {
    "id": "wV3qV9KYwLNB"
   },
   "source": [
    "## Phân loại hình ảnh chó mèo\n",
    "Hãy xây dựng bộ phân loại hình ảnh chó-mèo thứ hai. Ở đây chúng ta sẽ sử dụng thuật toán Neural Network (mạng nơ-ron) cho bài toán phân loại ảnh này. Có nhiều kiểu kiến trúc mạng nơ-ron cho các bài toán khác nhau. Đơn giản nhất là **Mạng nơ-ron truyền thẳng (FNN)**. Với bài toán phân loại hình ảnh thì phù hợp dùng **Mạng nơ-ron tích chập (CNN)**. Tuy nhiên do khóa học này được thiết kế để giới thiệu các thuật toán Học máy căn bản mà **CNN** là một loại thuật toán nâng cao và framework mà chúng ta sử dụng trong suốt chứng chỉ là **scikit-learn** lại không hỗ trợ **CNN** nên ở đây chúng ta chỉ dùng **FNN** cho bài toán này để minh họa bài toán phân loại hình ảnh. "
   ]
  },
  {
   "cell_type": "markdown",
   "metadata": {
    "id": "JgDmgRgOwLNB"
   },
   "source": [
    "### Import lib"
   ]
  },
  {
   "cell_type": "code",
   "execution_count": 7,
   "metadata": {
    "id": "QHFDj5xkwLNC"
   },
   "outputs": [],
   "source": [
    "import cv2"
   ]
  },
  {
   "cell_type": "markdown",
   "metadata": {
    "id": "CRepx05iwLNE"
   },
   "source": [
    "### Download tập dữ liệu\n",
    "Chúng ta sẽ sử dụng tập dữ liệu [Dog vs Cats](https://www.kaggle.com/c/dogs-vs-cats/data) từ Kaggle.\n",
    "<br>\n",
    "Download tập dữ liệu từ link trên (trước tiên bạn cần tạo tài khoản Kaggle để download dữ liệu).\n",
    "<br>\n",
    "Sau khi download bạn sẽ nhận được một file zip là **dogs-vs-cats.zip**, hãy giải nén nó.\n",
    "<br>\n",
    "Sau khi giải nén sẽ được 3 file. Bạn chỉ cần file **train.zip** cho assignment này.\n",
    "<br>\n",
    "Giải nén tất cả hình ảnh trong file **train.zip** vào folder **dog_cat_train**.\n",
    "<br>\n",
    "Sao chép **dog_cat_train** vào folder **data** cho assignment này."
   ]
  },
  {
   "cell_type": "markdown",
   "metadata": {
    "id": "HHqCdzwGwLNF"
   },
   "source": [
    "### Load dữ liệu"
   ]
  },
  {
   "cell_type": "code",
   "execution_count": 8,
   "metadata": {
    "id": "qIpAp4KJwLNF"
   },
   "outputs": [],
   "source": [
    "def get_cat_dog_data(folder, image_size):\n",
    "    \"\"\"\n",
    "    Get the cat dog data\n",
    "    Inputs: folder: The folder path\n",
    "            image_size: Resize all the image sizes to image_size\n",
    "    \n",
    "    Output: images, labels numpy array\n",
    "    \"\"\"\n",
    "    images, labels = [], []\n",
    "    \n",
    "    for file in os.listdir(folder):\n",
    "        # CODE CỦA BẠN Ở ĐÂY\n",
    "        # Load một hình ảnh vào image_data với đường dẫn hình ảnh là \"os.path.join(folder, file)\":\n",
    "        image_data = os.path.join(folder, file)\n",
    "\n",
    "        # Thay đổi kích thước hình ảnh thành \"(image_size, image_size)\"\":\n",
    "        image_data = cv2.resize(cv2.imread(image_data),(image_size, image_size))\n",
    "\n",
    "        # Nối image_data vào list images:\n",
    "        images.append(image_data)\n",
    "        # Nối nhãn dữ liệu \"dog\" hoặc \"cat\" vào list labels dựa theo tên \"file\":\n",
    "        # Nếu hình ảnh về chú chó, nhãn sẽ là is 1, nếu không sẽ là 0.\n",
    "        if \"dog\" in str(file):\n",
    "            labels.append(1)\n",
    "        else:\n",
    "            labels.append(0)\n",
    "        # CODE CỦA BẠN Ở ĐÂY\n",
    "    return np.array(images), np.array(labels) "
   ]
  },
  {
   "cell_type": "markdown",
   "metadata": {
    "id": "UhuwzGBHwLNH"
   },
   "source": [
    "Sử dụng hàm **get_cat_dog_data** để load dữ liệu bên trong folder **dog_cat_train**.\n",
    "<br>\n",
    "Sử dụng **image_size = 28** khi load dữ liệu. Ở đây chúng ta chia tỷ lệ tất cả các hình ảnh thành size 28x28.\n",
    "<br>\n",
    "Có thể tốn vài phút để tải hình ảnh."
   ]
  },
  {
   "cell_type": "code",
   "execution_count": 9,
   "metadata": {
    "id": "3hrEuQ0KwLNH",
    "scrolled": false
   },
   "outputs": [],
   "source": [
    "# CODE CỦA BẠN Ở ĐÂY\n",
    "images, labels = get_cat_dog_data(\"train\", 28)\n",
    "# CODE CỦA BẠN Ở ĐÂY"
   ]
  },
  {
   "cell_type": "markdown",
   "metadata": {
    "id": "xqv1znKjwLNJ"
   },
   "source": [
    "### In ra shape của biến **images** và **labels**"
   ]
  },
  {
   "cell_type": "code",
   "execution_count": 10,
   "metadata": {
    "id": "P48Y27eDwLNJ"
   },
   "outputs": [
    {
     "name": "stdout",
     "output_type": "stream",
     "text": [
      "(25000, 28, 28, 3) (25000,)\n"
     ]
    }
   ],
   "source": [
    "# CODE CỦA BẠN Ở ĐÂY\n",
    "print(images.shape,labels.shape)\n",
    "# CODE CỦA BẠN Ở ĐÂY"
   ]
  },
  {
   "cell_type": "markdown",
   "metadata": {
    "id": "Hg1vlfEDwLNL"
   },
   "source": [
    "Hãy hiển thị một số hình ảnh."
   ]
  },
  {
   "cell_type": "code",
   "execution_count": 11,
   "metadata": {
    "id": "gag5gQv1wLNL"
   },
   "outputs": [
    {
     "data": {
      "image/png": "[encoded data removed]",
      "text/plain": [
       "<Figure size 800x800 with 20 Axes>"
      ]
     },
     "metadata": {},
     "output_type": "display_data"
    }
   ],
   "source": [
    "w=10\n",
    "h=10\n",
    "fig=plt.figure(figsize=(8, 8))\n",
    "columns = 4\n",
    "rows = 5\n",
    "for i in range(1, columns*rows +1):\n",
    "    img = np.random.randint(10, size=(h,w))\n",
    "    fig.add_subplot(rows, columns, i)\n",
    "    plt.imshow(images[i+12490])\n",
    "plt.show()"
   ]
  },
  {
   "cell_type": "code",
   "execution_count": null,
   "metadata": {},
   "outputs": [],
   "source": []
  },
  {
   "cell_type": "markdown",
   "metadata": {
    "id": "YtpLAGn5wLNO"
   },
   "source": [
    "### Tiền xử lý hình ảnh\n",
    "Mỗi hình ảnh có shape 28x28x3 là một mảng ba chiều; để đưa hình ảnh vào thuật toán **FNN**, chúng ta cần chuyển đổi chúng thành mảng một chiều để có shape 2352. Chúng ta cũng chia tỷ lệ giá trị điểm ảnh theo phạm vi [0, 1].\n",
    "<br>\n",
    "Hoàn thành cell bên dưới. Reshape biến **images** thành shape (số lượng hình ảnh, 28*28*3). Chia tỷ lệ tất cả các giá trị thành phạm vi [0, 1] bằng cách chia cho 255."
   ]
  },
  {
   "cell_type": "code",
   "execution_count": 12,
   "metadata": {
    "id": "Vy7t1w88wLNP",
    "scrolled": false
   },
   "outputs": [
    {
     "name": "stdout",
     "output_type": "stream",
     "text": [
      "(25000, 2352)\n"
     ]
    }
   ],
   "source": [
    "# CODE CỦA BẠN Ở ĐÂY\n",
    "# Reshape images, làm phẳng tất cả hình ảnh\n",
    "# use the reshape function\n",
    "images = images.reshape(images.shape[0],28*28*3)\n",
    "print(images.shape)\n",
    "\n",
    "# Chia tỷ lệ mọi giá trị điểm ảnh giữa 0 và 1\n",
    "images = images/255\n",
    "# CODE CỦA BẠN Ở ĐÂY"
   ]
  },
  {
   "cell_type": "markdown",
   "metadata": {
    "id": "0F_EBWBTwLNS"
   },
   "source": [
    "### Chia tách tập dữ liệu\n",
    "Hãy chia tập dữ liệu thành train/test với tỷ lệ 9:1. Chạy cell dưới đây để chia tập dữ liệu."
   ]
  },
  {
   "cell_type": "code",
   "execution_count": 13,
   "metadata": {
    "id": "hRN8vozTwLNT"
   },
   "outputs": [],
   "source": [
    "from sklearn.model_selection import train_test_split\n",
    "\n",
    "# CODE CỦA BẠN Ở ĐÂY\n",
    "X_train, X_test, y_train, y_test = train_test_split(images, labels, test_size = 1/9, random_state = 0)\n",
    "# CODE CỦA BẠN Ở ĐÂY"
   ]
  },
  {
   "cell_type": "markdown",
   "metadata": {
    "id": "bd3tTaf2wLNX"
   },
   "source": [
    "In ra shape của các biến **X_train, X_test, y_train, y_test**.\n",
    "<br>\n",
    "In ra số lượng chó, mèo cho tập dữ liệu huấn luyện và kiểm tra cho tập dữ liệu train và test sử dụng các biến **y_train** và **y_test**."
   ]
  },
  {
   "cell_type": "code",
   "execution_count": 14,
   "metadata": {
    "id": "ImDegOx3wLNX",
    "scrolled": false
   },
   "outputs": [
    {
     "name": "stdout",
     "output_type": "stream",
     "text": [
      "(22222, 2352) (2778, 2352) (22222,) (2778,)\n"
     ]
    }
   ],
   "source": [
    "# CODE CỦA BẠN Ở ĐÂY\n",
    "print(X_train.shape, X_test.shape, y_train.shape, y_test.shape)\n",
    "# CODE CỦA BẠN Ở ĐÂY"
   ]
  },
  {
   "cell_type": "markdown",
   "metadata": {
    "id": "4q2bRgpqwLNa"
   },
   "source": [
    "### Tạo và huấn luyện mô hình\n",
    "Hãy tạo và huấn luyện mô hình sử dụng **scikit-learn**. Bạn không cần lo lắng quá nhiều về chi tiết của mô hình lúc này, chúng ta sẽ nghiên cứu nó kỹ hơn trong khóa sau. Hãy chạy cell dưới đây để tạo và huấn luyện mô hình **MLPClassifier()** với các tham số: \n",
    "\n",
    "  * solver='adam'\n",
    "  * alpha=1e-5\n",
    "  * activation='relu'\n",
    "  * hidden_layer_sizes=(64, 64)\n",
    "  * random_state=1\n",
    "\n",
    "Để biết thêm chi tiết về các tham số của MLPClassifier, hãy xem [MLPClassifier](https://scikit-learn.org/stable/modules/generated/sklearn.neural_network.MLPClassifier.html)"
   ]
  },
  {
   "cell_type": "code",
   "execution_count": 16,
   "metadata": {
    "id": "dlftpETCwLNb"
   },
   "outputs": [
    {
     "name": "stderr",
     "output_type": "stream",
     "text": [
      "c:\\users\\v\\appdata\\local\\programs\\python\\python39\\lib\\site-packages\\sklearn\\neural_network\\_multilayer_perceptron.py:684: ConvergenceWarning: Stochastic Optimizer: Maximum iterations (200) reached and the optimization hasn't converged yet.\n",
      "  warnings.warn(\n"
     ]
    },
    {
     "data": {
      "text/html": [
       "<style>#sk-container-id-1 {color: black;background-color: white;}#sk-container-id-1 pre{padding: 0;}#sk-container-id-1 div.sk-toggleable {background-color: white;}#sk-container-id-1 label.sk-toggleable__label {cursor: pointer;display: block;width: 100%;margin-bottom: 0;padding: 0.3em;box-sizing: border-box;text-align: center;}#sk-container-id-1 label.sk-toggleable__label-arrow:before {content: \"▸\";float: left;margin-right: 0.25em;color: #696969;}#sk-container-id-1 label.sk-toggleable__label-arrow:hover:before {color: black;}#sk-container-id-1 div.sk-estimator:hover label.sk-toggleable__label-arrow:before {color: black;}#sk-container-id-1 div.sk-toggleable__content {max-height: 0;max-width: 0;overflow: hidden;text-align: left;background-color: #f0f8ff;}#sk-container-id-1 div.sk-toggleable__content pre {margin: 0.2em;color: black;border-radius: 0.25em;background-color: #f0f8ff;}#sk-container-id-1 input.sk-toggleable__control:checked~div.sk-toggleable__content {max-height: 200px;max-width: 100%;overflow: auto;}#sk-container-id-1 input.sk-toggleable__control:checked~label.sk-toggleable__label-arrow:before {content: \"▾\";}#sk-container-id-1 div.sk-estimator input.sk-toggleable__control:checked~label.sk-toggleable__label {background-color: #d4ebff;}#sk-container-id-1 div.sk-label input.sk-toggleable__control:checked~label.sk-toggleable__label {background-color: #d4ebff;}#sk-container-id-1 input.sk-hidden--visually {border: 0;clip: rect(1px 1px 1px 1px);clip: rect(1px, 1px, 1px, 1px);height: 1px;margin: -1px;overflow: hidden;padding: 0;position: absolute;width: 1px;}#sk-container-id-1 div.sk-estimator {font-family: monospace;background-color: #f0f8ff;border: 1px dotted black;border-radius: 0.25em;box-sizing: border-box;margin-bottom: 0.5em;}#sk-container-id-1 div.sk-estimator:hover {background-color: #d4ebff;}#sk-container-id-1 div.sk-parallel-item::after {content: \"\";width: 100%;border-bottom: 1px solid gray;flex-grow: 1;}#sk-container-id-1 div.sk-label:hover label.sk-toggleable__label {background-color: #d4ebff;}#sk-container-id-1 div.sk-serial::before {content: \"\";position: absolute;border-left: 1px solid gray;box-sizing: border-box;top: 0;bottom: 0;left: 50%;z-index: 0;}#sk-container-id-1 div.sk-serial {display: flex;flex-direction: column;align-items: center;background-color: white;padding-right: 0.2em;padding-left: 0.2em;position: relative;}#sk-container-id-1 div.sk-item {position: relative;z-index: 1;}#sk-container-id-1 div.sk-parallel {display: flex;align-items: stretch;justify-content: center;background-color: white;position: relative;}#sk-container-id-1 div.sk-item::before, #sk-container-id-1 div.sk-parallel-item::before {content: \"\";position: absolute;border-left: 1px solid gray;box-sizing: border-box;top: 0;bottom: 0;left: 50%;z-index: -1;}#sk-container-id-1 div.sk-parallel-item {display: flex;flex-direction: column;z-index: 1;position: relative;background-color: white;}#sk-container-id-1 div.sk-parallel-item:first-child::after {align-self: flex-end;width: 50%;}#sk-container-id-1 div.sk-parallel-item:last-child::after {align-self: flex-start;width: 50%;}#sk-container-id-1 div.sk-parallel-item:only-child::after {width: 0;}#sk-container-id-1 div.sk-dashed-wrapped {border: 1px dashed gray;margin: 0 0.4em 0.5em 0.4em;box-sizing: border-box;padding-bottom: 0.4em;background-color: white;}#sk-container-id-1 div.sk-label label {font-family: monospace;font-weight: bold;display: inline-block;line-height: 1.2em;}#sk-container-id-1 div.sk-label-container {text-align: center;}#sk-container-id-1 div.sk-container {/* jupyter's `normalize.less` sets `[hidden] { display: none; }` but bootstrap.min.css set `[hidden] { display: none !important; }` so we also need the `!important` here to be able to override the default hidden behavior on the sphinx rendered scikit-learn.org. See: https://github.com/scikit-learn/scikit-learn/issues/21755 */display: inline-block !important;position: relative;}#sk-container-id-1 div.sk-text-repr-fallback {display: none;}</style><div id=\"sk-container-id-1\" class=\"sk-top-container\"><div class=\"sk-text-repr-fallback\"><pre>MLPClassifier()</pre><b>In a Jupyter environment, please rerun this cell to show the HTML representation or trust the notebook. <br />On GitHub, the HTML representation is unable to render, please try loading this page with nbviewer.org.</b></div><div class=\"sk-container\" hidden><div class=\"sk-item\"><div class=\"sk-estimator sk-toggleable\"><input class=\"sk-toggleable__control sk-hidden--visually\" id=\"sk-estimator-id-1\" type=\"checkbox\" checked><label for=\"sk-estimator-id-1\" class=\"sk-toggleable__label sk-toggleable__label-arrow\">MLPClassifier</label><div class=\"sk-toggleable__content\"><pre>MLPClassifier()</pre></div></div></div></div></div>"
      ],
      "text/plain": [
       "MLPClassifier()"
      ]
     },
     "execution_count": 16,
     "metadata": {},
     "output_type": "execute_result"
    }
   ],
   "source": [
    "from sklearn.neural_network import MLPClassifier\n",
    "\n",
    "# tạo mô hình mạng nơ-ron truyền thẳng create the \n",
    "nn_model = MLPClassifier(solver='adam',alpha=1e-5,random_state=1,activation='relu',hidden_layer_sizes=(64, 64))\n",
    "\n",
    "# huấn luyện mô hình\n",
    "nn_model.fit(X_train,y_train)"
   ]
  },
  {
   "cell_type": "markdown",
   "metadata": {
    "id": "BCyrWsFmwLNe"
   },
   "source": [
    "### Đánh giá mô hình\n",
    "Chúng ta sẽ sử dụng hàm **score** của lớp [MLPClassifier](https://scikit-learn.org/stable/modules/generated/sklearn.neural_network.MLPClassifier.html) để đánh giá độ chính xác của **X_train** và **X_test**."
   ]
  },
  {
   "cell_type": "code",
   "execution_count": 18,
   "metadata": {
    "id": "Rzy07tthwLNf"
   },
   "outputs": [
    {
     "name": "stdout",
     "output_type": "stream",
     "text": [
      "train_accuracy: 0.89\n",
      "test_accuracy: 0.63\n"
     ]
    }
   ],
   "source": [
    "from sklearn.metrics import accuracy_score\n",
    "# CODE CỦA BẠN Ở ĐÂY\n",
    "# đánh giá mô hình\n",
    "y_dudoan1 = nn_model.predict(X_train)\n",
    "train_accuracy = accuracy_score(y_dudoan1,y_train)\n",
    "y_dudoan2 = nn_model.predict(X_test)\n",
    "test_accuracy = accuracy_score(y_dudoan2,y_test)\n",
    "# CODE CỦA BẠN Ở ĐÂY\n",
    "\n",
    "print (\"train_accuracy: {:.2f}\".format(train_accuracy))\n",
    "print (\"test_accuracy: {:.2f}\".format(test_accuracy))"
   ]
  },
  {
   "cell_type": "markdown",
   "metadata": {
    "id": "7-0_il5gwLNh"
   },
   "source": [
    "**Quizz:** Độ chính xác của mô hình trên train set là?\n",
    "<br>\n",
    "**Đáp án: 66%\n",
    "<br>\n",
    "**Quizz:** Độ chính xác của mô hình trên test set là?\n",
    "<br>\n",
    "**Đáp án: 61%"
   ]
  },
  {
   "cell_type": "markdown",
   "metadata": {
    "id": "OBJcGLwDwLNh"
   },
   "source": [
    "### (Tùy chọn) Đánh giá mô hình sử dụng f1 score\n",
    "Hoàn thành cell bên dưới để nhận điểm thưởng."
   ]
  },
  {
   "cell_type": "code",
   "execution_count": 52,
   "metadata": {
    "id": "eLBGjctEwLNh"
   },
   "outputs": [
    {
     "name": "stdout",
     "output_type": "stream",
     "text": [
      "Test f1: 0.59\n"
     ]
    }
   ],
   "source": [
    "from sklearn.metrics import f1_score\n",
    "\n",
    "# CODE CỦA BẠN Ở ĐÂY\n",
    "y_test_pred = nn_model.predict(X_test)\n",
    "\n",
    "f1 = f1_score(y_test_pred,y_test)\n",
    "# CODE CỦA BẠN Ở ĐÂY\n",
    "\n",
    "print (\"Test f1: {:.2f}\".format(f1))"
   ]
  },
  {
   "cell_type": "markdown",
   "metadata": {
    "id": "37puETfgRzzg"
   },
   "source": [
    "# Công cụ Tiền xử lý dữ liệu"
   ]
  },
  {
   "cell_type": "markdown",
   "metadata": {
    "id": "axNaaAB1TR91"
   },
   "source": [
    "Bây giờ chúng ta sẽ xử lý rất nhanh bước đầu tiên của bộ công cụ này, đó là thư viện, cách import thư viện, cách chuẩn bị sẵn sàng để có thể bắt đầu xây dựng  mô hình học máy mới bất cứ lúc nào. Nhân tiện, thư viện là một biểu tượng của các mô-đun chứa các hàm và lớp mà bạn có thể thực hiện một số hành động và thao tác. Bạn sẽ thấy rằng các thư viện rất hữu ích để xây dựng các mô hình học máy."
   ]
  },
  {
   "cell_type": "markdown",
   "metadata": {
    "id": "EoRP98MpR-qj"
   },
   "source": [
    "## Import các thư viện\n",
    " "
   ]
  },
  {
   "cell_type": "markdown",
   "metadata": {
    "id": "n29ZDJywTY5J"
   },
   "source": [
    "Bây giờ chúng ta sẽ import 3 thư viện là Matplotlib, Pandas và NumPy. Các thư viện này rất hữu ích vì:\n",
    "*   **NumPy**: cho phép chúng ta làm việc với mảng vì bạn sẽ thấy các mô hình học máy trong tương lai sẽ cần một số mảng làm input.\n",
    "*   **Matplotlib**: cho phép chúng ta vẽ một số biểu đồ rất tuyệt. \n",
    "*   **Pandas**: không chỉ cho phép chúng ta import tập dữ liệu mà còn tạo ma trận các feature và vectơ biến phụ thuộc. Tất nhiên những điều này sẽ được giải thích sau.\n",
    "\n"
   ]
  },
  {
   "cell_type": "code",
   "execution_count": null,
   "metadata": {
    "id": "N-qiINBQSK2g"
   },
   "outputs": [],
   "source": [
    "import numpy as np\n",
    "import matplotlib.pyplot as plt\n",
    "import pandas as pd"
   ]
  },
  {
   "cell_type": "markdown",
   "metadata": {
    "id": "RopL7tUZSQkT"
   },
   "source": [
    "## Import tập dữ liệu"
   ]
  },
  {
   "cell_type": "markdown",
   "metadata": {
    "id": "80PwVmBbV1rq"
   },
   "source": [
    " Chúng ta sẽ tìm hiểu cách import tập dữ liệu sau: **Data.csv** là một tập dữ liệu rất đơn giản: giả sử một công ty bán lẻ đang thực hiện một số phân tích về những khách hàng đã mua một trong các sản phẩm của họ. Vì vậy, các hàng trong tập dữ liệu này tương ứng với các khách hàng khác nhau. Và đối với mỗi khách hàng này, chúng ta có quốc gia, tuổi tác, mức lương và liệu họ có mua sản phẩm hay không."
   ]
  },
  {
   "cell_type": "markdown",
   "metadata": {
    "id": "pdRmTU85WWvj"
   },
   "source": [
    "\n",
    "Chúng ta import ** Data.csv ** trong Python, sử dụng thư viện Pandas và lưu trữ nó trong biến \"dataset\"\n"
   ]
  },
  {
   "cell_type": "code",
   "execution_count": null,
   "metadata": {
    "id": "WwEPNDWySTKm"
   },
   "outputs": [],
   "source": [
    "dataset = pd.read_csv('Data.csv')"
   ]
  },
  {
   "cell_type": "markdown",
   "metadata": {
    "id": "WJMFCUUAW6KW"
   },
   "source": [
    "Có một nguyên tắc quan trọng hàng đầu trong ML. Trong bất kỳ tập dữ liệu nào mà bạn huấn luyện mô hình học máy sẽ có các thực thể giống nhau là các vectơ **features** và **dependent variable (biến phụ thuộc)**.\n",
    "\n",
    "**features** là các cột mà bạn sẽ dự đoán biến phụ thuộc và **dependent variable** là cột cuối cùng bởi vì công ty này muốn dự đoán xem liệu một số khách hàng tương lai có mua một sản phẩm nhất định dựa trên thông tin này. Vì vậy, các feature hay còn gọi là các biến độc lập, là các biến chứa một số thông tin mà bạn có thể dự đoán những gì bạn muốn dự đoán được gọi là biến phụ thuộc.\n",
    "\n",
    "Bạn sẽ có các feature riêng biệt, thường ở các cột đầu tiên của tập tập dữ liệu và biến phụ thuộc thường ở cột cuối cùng của tập dữ liệu. Hãy tạo hai thực thể này, gọi chúng là X cho ma trận các feature và Y cho vectơ biến phụ thuộc."
   ]
  },
  {
   "cell_type": "code",
   "execution_count": null,
   "metadata": {
    "id": "8MWACHTGYFnG"
   },
   "outputs": [],
   "source": [
    "X = dataset.iloc[:, :-1].values\n",
    "y = dataset.iloc[:, -1].values"
   ]
  },
  {
   "cell_type": "markdown",
   "metadata": {
    "id": "R295ocAfaShc"
   },
   "source": [
    "Bây giờ chúng ta sẽ thực thi cell này để in ma trận của Feature X, kiểm tra xem liệu chúng ta có thực sự được tất cả các cột đầu tiên bên trong ma trận này không. Hãy nhớ rằng cột đầu tiên là các feature mà chúng ta muốn đưa vào ma trận X này, đầu tiên là: country (quốc gia), thứ hai là: age (tuổi) và thứ ba là: salary (lương). Đây là 3 cột. Và bên trong X, đầu tiên chúng ta có cột country với tất cả quốc gia của những khách hàng này, cột thứ hai là age: tuổi của họ và cột thứ ba là salary: mức lương hoặc mức lương ước tính của họ. Vậy nó đã hoàn hảo. Chúng ta thực sự nhận được ma trận của Feature X chứa tất cả các feature hay còn gọi là các biến độc lập."
   ]
  },
  {
   "cell_type": "code",
   "execution_count": null,
   "metadata": {
    "colab": {
     "base_uri": "https://localhost:8080/",
     "height": 188
    },
    "id": "hCsz2yCebe1R",
    "outputId": "1e4cc568-4e51-4b38-9d46-4aa3f15204be"
   },
   "outputs": [
    {
     "name": "stdout",
     "output_type": "stream",
     "text": [
      "[['France' 44.0 72000.0]\n",
      " ['Spain' 27.0 48000.0]\n",
      " ['Germany' 30.0 54000.0]\n",
      " ['Spain' 38.0 61000.0]\n",
      " ['Germany' 40.0 nan]\n",
      " ['France' 35.0 58000.0]\n",
      " ['Spain' nan 52000.0]\n",
      " ['France' 48.0 79000.0]\n",
      " ['Germany' 50.0 83000.0]\n",
      " ['France' 37.0 67000.0]]\n"
     ]
    }
   ],
   "source": [
    "print(X)"
   ]
  },
  {
   "cell_type": "markdown",
   "metadata": {
    "id": "d-71AQLvar7V"
   },
   "source": [
    "Và bây giờ hãy chạy cell để in y, vectơ biến phụ thuộc. Và nó thực sự nhận được vectơ biến phụ thuộc chứa tất cả các quyết định liệu khách hàng có mua sản phẩm hay không."
   ]
  },
  {
   "cell_type": "code",
   "execution_count": null,
   "metadata": {
    "colab": {
     "base_uri": "https://localhost:8080/",
     "height": 34
    },
    "id": "eYrOQ43XcJR3",
    "outputId": "e0873b2a-3b08-4bab-ef0d-15b88858ca44"
   },
   "outputs": [
    {
     "name": "stdout",
     "output_type": "stream",
     "text": [
      "['No' 'Yes' 'No' 'No' 'Yes' 'Yes' 'No' 'Yes' 'No' 'Yes']\n"
     ]
    }
   ],
   "source": [
    "print(y)"
   ]
  },
  {
   "cell_type": "markdown",
   "metadata": {
    "id": "nhfKXNxlSabC"
   },
   "source": [
    "## Xử lý dữ liệu bị thiếu"
   ]
  },
  {
   "cell_type": "markdown",
   "metadata": {
    "id": "PcFDf9T0bKas"
   },
   "source": [
    "Nếu xem lại tập dữ liệu **Data.csv**, chúng ta thấy rằng ở đây còn thiếu mức lương cho khách hàng cụ thể 40 tuổi đến từ Đức và đã mua một sản phẩm. Nhìn chung, bạn không muốn có bất kỳ dữ liệu nào bị thiếu trong tập dữ liệu đơn giản là vì nó có thể gây ra một số lỗi khi huấn luyện mô hình, do đó bạn phải xử lý chúng. Thực tế có một số cách để xử lý:\n",
    "\n",
    "\n",
    "*   Bỏ qua quan sát bằng cách xóa nó.\n",
    "*   Thay thế giá trị bị thiếu bằng giá trị trung bình của tất cả các giá trị trong cột mà dữ liệu bị thiếu, **đây là những gì mà bây giờ chúng ta đang thêm trong bộ công cụ.**\n",
    "\n"
   ]
  },
  {
   "cell_type": "code",
   "execution_count": null,
   "metadata": {
    "id": "c93k7ipkSexq"
   },
   "outputs": [],
   "source": [
    "from sklearn.impute import SimpleImputer\n",
    "imputer = SimpleImputer(missing_values=np.nan, strategy='mean')\n",
    "imputer.fit(X[:, 1:3])\n",
    "X[:, 1:3] = imputer.transform(X[:, 1:3])"
   ]
  },
  {
   "cell_type": "markdown",
   "metadata": {
    "id": "4qhC90IZc3sC"
   },
   "source": [
    "Chúng ta có thể thấy rõ ràng mức lương bị thiếu trong ma trận các feature trước đó, X đã được thay thế bằng mức lương trung bình của cột này."
   ]
  },
  {
   "cell_type": "code",
   "execution_count": null,
   "metadata": {
    "colab": {
     "base_uri": "https://localhost:8080/",
     "height": 188
    },
    "id": "3UgLdMS_bjq_",
    "outputId": "254af4e0-681e-47f5-aaa7-b9c6f43258e9"
   },
   "outputs": [
    {
     "name": "stdout",
     "output_type": "stream",
     "text": [
      "[['France' 44.0 72000.0]\n",
      " ['Spain' 27.0 48000.0]\n",
      " ['Germany' 30.0 54000.0]\n",
      " ['Spain' 38.0 61000.0]\n",
      " ['Germany' 40.0 63777.77777777778]\n",
      " ['France' 35.0 58000.0]\n",
      " ['Spain' 38.77777777777778 52000.0]\n",
      " ['France' 48.0 79000.0]\n",
      " ['Germany' 50.0 83000.0]\n",
      " ['France' 37.0 67000.0]]\n"
     ]
    }
   ],
   "source": [
    "print(X)"
   ]
  },
  {
   "cell_type": "markdown",
   "metadata": {
    "id": "CriG6VzVSjcK"
   },
   "source": [
    "## Mã hóa dữ liệu phân loại"
   ]
  },
  {
   "cell_type": "markdown",
   "metadata": {
    "id": "mTkZIoJbeA-o"
   },
   "source": [
    "Như chúng ta có thể thấy, tập dữ liệu này chứa một cột với các category (hạng mục): Pháp, Tây Ban Nha hoặc Đức. Có thể đoán rằng sẽ rất khó để mô hình học máy tính toán một số mối tương quan giữa các cột này, các feature và outcome là biến phụ thuộc và do đó sẽ phải chuyển các string này, các hạng mục này thành số."
   ]
  },
  {
   "cell_type": "markdown",
   "metadata": {
    "id": "AhSpdQWeSsFh"
   },
   "source": [
    "### Mã hóa biến độc lập"
   ]
  },
  {
   "cell_type": "markdown",
   "metadata": {
    "id": "AfS_yogMe3EW"
   },
   "source": [
    "Sử dụng biểu diễn One-hot (One-hot Encoding) để mã hóa các biến độc lập."
   ]
  },
  {
   "cell_type": "code",
   "execution_count": null,
   "metadata": {
    "id": "5hwuVddlSwVi"
   },
   "outputs": [],
   "source": [
    "from sklearn.compose import ColumnTransformer\n",
    "from sklearn.preprocessing import OneHotEncoder\n",
    "ct = ColumnTransformer(transformers=[('encoder', OneHotEncoder(), [0])], remainder='passthrough')\n",
    "X = np.array(ct.fit_transform(X))"
   ]
  },
  {
   "cell_type": "code",
   "execution_count": null,
   "metadata": {
    "colab": {
     "base_uri": "https://localhost:8080/",
     "height": 188
    },
    "id": "f7QspewyeBfx",
    "outputId": "5b35feef-7fe2-46ef-ce70-80495f94f4ed"
   },
   "outputs": [
    {
     "name": "stdout",
     "output_type": "stream",
     "text": [
      "[[1.0 0.0 0.0 44.0 72000.0]\n",
      " [0.0 0.0 1.0 27.0 48000.0]\n",
      " [0.0 1.0 0.0 30.0 54000.0]\n",
      " [0.0 0.0 1.0 38.0 61000.0]\n",
      " [0.0 1.0 0.0 40.0 63777.77777777778]\n",
      " [1.0 0.0 0.0 35.0 58000.0]\n",
      " [0.0 0.0 1.0 38.77777777777778 52000.0]\n",
      " [1.0 0.0 0.0 48.0 79000.0]\n",
      " [0.0 1.0 0.0 50.0 83000.0]\n",
      " [1.0 0.0 0.0 37.0 67000.0]]\n"
     ]
    }
   ],
   "source": [
    "print(X)"
   ]
  },
  {
   "cell_type": "markdown",
   "metadata": {
    "id": "DXh8oVSITIc6"
   },
   "source": [
    "### Mã hóa biến phụ thuộc"
   ]
  },
  {
   "cell_type": "markdown",
   "metadata": {
    "id": "H6i4DViBfK1V"
   },
   "source": [
    "Sử dụng Label Encoding để mã hóa biến phụ thuộc. "
   ]
  },
  {
   "cell_type": "code",
   "execution_count": null,
   "metadata": {
    "id": "XgHCShVyTOYY"
   },
   "outputs": [],
   "source": [
    "from sklearn.preprocessing import LabelEncoder\n",
    "le = LabelEncoder()\n",
    "y = le.fit_transform(y)"
   ]
  },
  {
   "cell_type": "code",
   "execution_count": null,
   "metadata": {
    "colab": {
     "base_uri": "https://localhost:8080/",
     "height": 34
    },
    "id": "FyhY8-gPpFCa",
    "outputId": "7f76ef29-5423-4c3e-cf69-45fbc366a997"
   },
   "outputs": [
    {
     "name": "stdout",
     "output_type": "stream",
     "text": [
      "[0 1 0 0 1 1 0 1 0 1]\n"
     ]
    }
   ],
   "source": [
    "print(y)"
   ]
  },
  {
   "cell_type": "markdown",
   "metadata": {
    "id": "qb_vcgm3qZKW"
   },
   "source": [
    "## Chia tập dữ liệu thành Training set và Test set"
   ]
  },
  {
   "cell_type": "markdown",
   "metadata": {
    "id": "SBEHcb6BjjSS"
   },
   "source": [
    "Việc chia tập dữ liệu thành training set (tập huấn luyện) trong một test bao gồm việc tạo hai tập riêng biệt, một training set mà bạn sẽ huấn luyện mô hình máy về các quan sát hiện có và một test set (tập kiểm tra) để đánh giá hiệu suất của mô hình dựa trên các quan sát mới. Bạn sẽ sử dụng **train_test_split** từ *scikit-learning* để thực hiện việc tách với **test_size = 0.2** của tập dữ liệu gốc và **random_state = 1** để đảm bảo bạn sẽ có cùng tập dữ liệu khi thực hiện chia tách."
   ]
  },
  {
   "cell_type": "code",
   "execution_count": null,
   "metadata": {
    "id": "pXgA6CzlqbCl"
   },
   "outputs": [],
   "source": [
    "from sklearn.model_selection import train_test_split\n",
    "X_train, X_test, y_train, y_test = train_test_split(X, y, test_size = 0.2, random_state = 1)"
   ]
  },
  {
   "cell_type": "code",
   "execution_count": null,
   "metadata": {
    "colab": {
     "base_uri": "https://localhost:8080/",
     "height": 154
    },
    "id": "GuwQhFdKrYTM",
    "outputId": "de1e527f-c229-4daf-e7c5-ea9d2485148d"
   },
   "outputs": [
    {
     "name": "stdout",
     "output_type": "stream",
     "text": [
      "[[0.0 0.0 1.0 38.77777777777778 52000.0]\n",
      " [0.0 1.0 0.0 40.0 63777.77777777778]\n",
      " [1.0 0.0 0.0 44.0 72000.0]\n",
      " [0.0 0.0 1.0 38.0 61000.0]\n",
      " [0.0 0.0 1.0 27.0 48000.0]\n",
      " [1.0 0.0 0.0 48.0 79000.0]\n",
      " [0.0 1.0 0.0 50.0 83000.0]\n",
      " [1.0 0.0 0.0 35.0 58000.0]]\n"
     ]
    }
   ],
   "source": [
    "print(X_train)"
   ]
  },
  {
   "cell_type": "code",
   "execution_count": null,
   "metadata": {
    "colab": {
     "base_uri": "https://localhost:8080/",
     "height": 51
    },
    "id": "TUrX_Tvcrbi4",
    "outputId": "9a041a9b-2642-4828-fa2f-a431d7d77631"
   },
   "outputs": [
    {
     "name": "stdout",
     "output_type": "stream",
     "text": [
      "[[0.0 1.0 0.0 30.0 54000.0]\n",
      " [1.0 0.0 0.0 37.0 67000.0]]\n"
     ]
    }
   ],
   "source": [
    "print(X_test)"
   ]
  },
  {
   "cell_type": "code",
   "execution_count": null,
   "metadata": {
    "colab": {
     "base_uri": "https://localhost:8080/",
     "height": 34
    },
    "id": "pSMHiIsWreQY",
    "outputId": "5afe91e0-9244-4bf5-ec1b-e3e092b85c08"
   },
   "outputs": [
    {
     "name": "stdout",
     "output_type": "stream",
     "text": [
      "[0 1 0 0 1 1 0 1]\n"
     ]
    }
   ],
   "source": [
    "print(y_train)"
   ]
  },
  {
   "cell_type": "code",
   "execution_count": null,
   "metadata": {
    "colab": {
     "base_uri": "https://localhost:8080/",
     "height": 34
    },
    "id": "I_tW7H56rgtW",
    "outputId": "2a93f141-2a99-4a69-eec5-c82a3bb8d36b"
   },
   "outputs": [
    {
     "name": "stdout",
     "output_type": "stream",
     "text": [
      "[0 1]\n"
     ]
    }
   ],
   "source": [
    "print(y_test)"
   ]
  },
  {
   "cell_type": "markdown",
   "metadata": {
    "id": "TpGqbS4TqkIR"
   },
   "source": [
    "## Feature Scaling"
   ]
  },
  {
   "cell_type": "markdown",
   "metadata": {
    "id": "D5bwZXD7jnxt"
   },
   "source": [
    "Feature scaling là một phương pháp được sử dụng để chuẩn hóa biên độ (range) của các biến độc lập hoặc các feature của dữ liệu.\n",
    "\n",
    "Tại sao chúng ta cần làm điều này? Đó là do với một số mô hình học máy, để tránh một số feature bị chi phối bởi các feature khác theo cách mà các feature bị chi phối thậm chí không được mô hình học máy xem xét. Cũng cần lưu ý rằng chúng ta **sẽ không phải áp dụng feature scaling cho tất cả các mô hình học máy** mà chỉ áp dụng cho một số mô hình."
   ]
  },
  {
   "cell_type": "markdown",
   "metadata": {
    "id": "foE54_r9oLhz"
   },
   "source": [
    "Bạn sẽ mở rộng tập dữ liệu của mình bằng cách sử dụng **StandardScaler** từ *scikit-learning*."
   ]
  },
  {
   "cell_type": "code",
   "execution_count": null,
   "metadata": {
    "id": "AxjSUXFQqo-3"
   },
   "outputs": [],
   "source": [
    "from sklearn.preprocessing import StandardScaler\n",
    "sc = StandardScaler()\n",
    "X_train[:, 3:] = sc.fit_transform(X_train[:, 3:])\n",
    "X_test[:, 3:] = sc.transform(X_test[:, 3:])"
   ]
  },
  {
   "cell_type": "code",
   "execution_count": null,
   "metadata": {
    "colab": {
     "base_uri": "https://localhost:8080/",
     "height": 154
    },
    "id": "DWPET8ZdlMnu",
    "outputId": "dea86927-5124-4e2a-e974-2804df9a913c"
   },
   "outputs": [
    {
     "name": "stdout",
     "output_type": "stream",
     "text": [
      "[[0.0 0.0 1.0 -0.19159184384578545 -1.0781259408412425]\n",
      " [0.0 1.0 0.0 -0.014117293757057777 -0.07013167641635372]\n",
      " [1.0 0.0 0.0 0.566708506533324 0.633562432710455]\n",
      " [0.0 0.0 1.0 -0.30453019390224867 -0.30786617274297867]\n",
      " [0.0 0.0 1.0 -1.9018011447007988 -1.420463615551582]\n",
      " [1.0 0.0 0.0 1.1475343068237058 1.232653363453549]\n",
      " [0.0 1.0 0.0 1.4379472069688968 1.5749910381638885]\n",
      " [1.0 0.0 0.0 -0.7401495441200351 -0.5646194287757332]]\n"
     ]
    }
   ],
   "source": [
    "print(X_train)"
   ]
  },
  {
   "cell_type": "code",
   "execution_count": null,
   "metadata": {
    "colab": {
     "base_uri": "https://localhost:8080/",
     "height": 51
    },
    "id": "sTXykB_QlRjE",
    "outputId": "b68f0cfc-d07c-48cb-80d0-6800028c41f9"
   },
   "outputs": [
    {
     "name": "stdout",
     "output_type": "stream",
     "text": [
      "[[0.0 1.0 0.0 -1.4661817944830124 -0.9069571034860727]\n",
      " [1.0 0.0 0.0 -0.44973664397484414 0.2056403393225306]]\n"
     ]
    }
   ],
   "source": [
    "print(X_test)"
   ]
  },
  {
   "cell_type": "markdown",
   "metadata": {
    "id": "ntwq1pMAkvja"
   },
   "source": [
    "Liệu chúng ta có phải áp dụng feature scaling trước khi tách tập dữ liệu thành training set (tập huấn luyện) và kiểm tra lúc đó hay sau đó không? Một số người cho rằng chúng ta cần áp dụng feature scaling trước khi nó tách ra. Một số người cho rằng cần thực hiện sau khi tách. **Câu trả lời là chúng ta cần áp dụng feature scaling sau khi tách tập dữ liệu thành tập huấn luyện**.\n",
    "\n",
    "Hãy để tôi giải thích lý do tại sao chúng ta cần áp dụng feature scaling sau khi tách tập dữ liệu thành tập huấn luyện và kiểm tra nó thực sự rõ ràng. Đơn giản là vì test set (tập kiểm tra) được cho là một tập hợp hoàn toàn mới mà bạn sẽ đánh giá mô hình học máy. Vì vậy, nó khá giống như bạn đang huấn luyện mô hình học máy trên tập huấn luyện. Sau khi nó được huấn luyện, bạn sẽ triển khai nó trên các quan sát mới. Điều này có nghĩa là tập kiểm tra là thứ mà bạn không nên làm cho huấn luyện và các feature. Scaling là một kỹ thuật sẽ lấy mean và độ lệch chuẩn của feature để thực hiện chia tỷ lệ. Vì vậy, nếu chúng ta áp dụng feature scaling trước khi phân tách thì nó sẽ thực sự nhận được mean và độ lệch chuẩn của tất cả các giá trị, gồm các giá trị trong tập kiểm tra. Và vì test là thứ bạn không cần phải có, giống như một số dữ liệu tương lai trong quá trình sản xuất. Việc áp dụng các feature trên tập dữ liệu gốc trước khi phân tách sẽ gây ra **rò rỉ thông tin** trên tập kiểm tra. Chúng ta sẽ lấy một số thông tin từ tập kiểm tra mà chúng ta không nên lấy vì nó được cho là dữ liệu mới với các quan sát mới.\n",
    "\n",
    "Vì vậy, hãy nhớ điều này. Lý do quan trọng mà bạn không nên áp dụng feature scaling trước khi phân tách là để ngăn chặn rò rỉ thông tin trên tập kiểm tra, điều mà bạn không nên có cho đến khi thực hiện xong quá trình huấn luyện."
   ]
  }
 ],
 "metadata": {
  "colab": {
   "collapsed_sections": [],
   "name": "[VN]Lab 10.1-data_preprocessing_tools.ipynb",
   "provenance": [],
   "toc_visible": true
  },
  "kernelspec": {
   "display_name": "Python 3 (ipykernel)",
   "language": "python",
   "name": "python3"
  },
  "language_info": {
   "codemirror_mode": {
    "name": "ipython",
    "version": 3
   },
   "file_extension": ".py",
   "mimetype": "text/x-python",
   "name": "python",
   "nbconvert_exporter": "python",
   "pygments_lexer": "ipython3",
   "version": "3.9.5"
  }
 },
 "nbformat": 4,
 "nbformat_minor": 1
}
