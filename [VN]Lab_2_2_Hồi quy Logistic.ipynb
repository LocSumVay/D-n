{
 "cells": [
  {
   "cell_type": "markdown",
   "metadata": {
    "id": "0XiUQp3W17F3"
   },
   "source": [
    " Bạn sẽ xây dựng một bộ phân loại hồi quy logistic để nhận dạng mèo. Lab này sẽ hướng dẫn bạn cách thực hiện điều này với tư duy Mạng nơ-ron và do đó cũng sẽ trau dồi trực giác của bạn về deep learning.\n",
    "\n",
    "**Hướng dẫn:**\n",
    "- Không sử dụng các vòng lặp (for/while) trong code của bạn, trừ khi các hướng dẫn yêu cầu bạn làm như vậy một cách rõ ràng.\n",
    "\n",
    "**Bạn sẽ học được:**\n",
    "- Xây dựng kiến trúc chung của một thuật toán học, bao gồm:\n",
    "    - Khởi tạo các tham số\n",
    "    - Tính toán hàm cost và gradient của nó\n",
    "    - Sử dụng một thuật toán tối ưu hóa (gradient descent)\n",
    "- Tập hợp cả 3 hàm trên thành một hàm mô hình chính, đúng thứ tự."
   ]
  },
  {
   "cell_type": "markdown",
   "metadata": {
    "id": "eQc5yqll17F4"
   },
   "source": [
    "## 1 - Thư viện ##\n",
    "\n",
    "Đầu tiên, hãy chạy cell bên dưới để nhập tất cả các thư viện mà bạn sẽ cần trong lab này.\n",
    "- [numpy](www.numpy.org) là thư viện cơ bản cho tính toán khoa học với Python.\n",
    "- [h5py](http://www.h5py.org) là thư viện phổ biến để tương tác với tập dữ liệu được lưu trữ trên tệp H5.\n",
    "- [matplotlib](http://matplotlib.org) là một thư viện nổi tiếng để vẽ đồ thị trong Python.\n",
    "- [PIL](http://www.pythonware.com/products/pil/) và [scipy](https://www.scipy.org/) được sử dụng ở đây để kiểm tra mô hình của bạn với hình ảnh ở cuối ."
   ]
  },
  {
   "cell_type": "code",
   "execution_count": 14,
   "metadata": {
    "id": "PyewZu6T17F5"
   },
   "outputs": [],
   "source": [
    "import numpy as np\n",
    "import matplotlib.pyplot as plt\n",
    "import h5py\n",
    "import scipy\n",
    "import imageio\n",
    "from PIL import Image\n",
    "from lr_utils import load_dataset\n",
    "\n",
    "%matplotlib inline"
   ]
  },
  {
   "cell_type": "markdown",
   "metadata": {
    "collapsed": true,
    "id": "CtAOjkxW17F8"
   },
   "source": [
    "## 2 - Tổng quan về tập Bài toán Overview of the Problem set ##\n",
    "\n",
    "**Trình bày bài toán**: Cho tập dữ liệu (\"data.h5\") chứa:\n",
    "    - tập huấn luyện m_train images được gắn nhãn cat (y=1) hoặc non-cat (y=0)\n",
    "    - tập kiểm tra m_test images được gắn nhãn cat hoặc non-cat\n",
    "    - mỗi ảnh có shape (num_px, num_px, 3) trong đó 3 là 3 kênh (RGB). Vì vậy, mỗi hình là hình vuông (chiều cao = num_px) và (chiều rộng = num_px).\n",
    "\n",
    "Bạn sẽ xây dựng một thuật toán nhận dạng hình ảnh đơn giản có thể phân loại chính xác các bức ảnh là cat (mèo) hay non-cat (không phải mèo).\n",
    "\n",
    "Hãy làm quen với tập dữ liệu. Tải dữ liệu bằng cách chạy code sau."
   ]
  },
  {
   "cell_type": "code",
   "execution_count": 15,
   "metadata": {
    "id": "bHnNkLDZ17F8"
   },
   "outputs": [],
   "source": [
    "# Load dữ liệu (cat/non-cat)\n",
    "train_set_x_orig, train_set_y, test_set_x_orig, test_set_y, classes = load_dataset()"
   ]
  },
  {
   "cell_type": "markdown",
   "metadata": {
    "id": "Ws065fKC17F_"
   },
   "source": [
    "Chúng ta đã thêm \"_orig\" vào cuối tập dữ liệu hình ảnh (tập huấn luyện và kiểm tra) vì chúng ta sẽ xử lý trước chúng. Sau tiền xử lý, chúng ta sẽ kết thúc với train_set_x và test_set_x (các nhãn train_set_y và test_set_y không cần tiền xử lý).\n",
    "\n",
    "Mỗi dòng của train_set_x_orig và test_set_x_orig là một mảng thể hiện một hình ảnh. Bạn có thể hình dung thông qua một ví dụ bằng cách chạy đoạn code sau. Hãy thoải mái thay đổi giá trị `index` và chạy lại để xem các hình ảnh khác."
   ]
  },
  {
   "cell_type": "code",
   "execution_count": 25,
   "metadata": {
    "id": "tzzZTGGL17GA",
    "outputId": "d7cc7d08-4498-4870-ba50-5d973b903d95"
   },
   "outputs": [
    {
     "name": "stdout",
     "output_type": "stream",
     "text": [
      "y = [1], it's a 'cat' picture.\n"
     ]
    },
    {
     "data": {
      "image/png": "[encoded data removed]",
      "text/plain": [
       "<Figure size 640x480 with 1 Axes>"
      ]
     },
     "metadata": {},
     "output_type": "display_data"
    }
   ],
   "source": [
    "# Ví dụ về hình ảnh\n",
    "index = 25\n",
    "plt.imshow(train_set_x_orig[index])\n",
    "print (\"y = \" + str(train_set_y[:, index]) + \", it's a '\" + classes[np.squeeze(train_set_y[:, index])].decode(\"utf-8\") +  \"' picture.\")"
   ]
  },
  {
   "cell_type": "markdown",
   "metadata": {
    "id": "PdVKR8kt17GD"
   },
   "source": [
    "Nhiều lỗi phần mềm trong deep learning là do có các chiều ma trận/vectơ không phù hợp. Nếu bạn có thể giữ cho chiều ma trận/vectơ của mình thẳng hàng, bạn sẽ loại bỏ được khá nhiều lỗi.\n",
    "\n",
    "**Task 1:** Tìm giá trị:\n",
    "    - m_train (số ví dụ huấn luyện)\n",
    "    - m_test (số ví dụ kiểm tra)\n",
    "    - num_px (= chiều cao = chiều rộng của hình ảnh huấn luyện)\n",
    "Nhớ rằng `train_set_x_orig` là một mảng numpy của shape (m_train, num_px, num_px, 3). Ví dụ, bạn có thể truy cập `m_train` bằng cách nhập `train_set_x_orig.shape[0]`."
   ]
  },
  {
   "cell_type": "code",
   "execution_count": 32,
   "metadata": {
    "id": "vMSU1qSp17GD",
    "outputId": "47f5659b-afd0-41b2-eb15-b1f057436036",
    "scrolled": true
   },
   "outputs": [
    {
     "name": "stdout",
     "output_type": "stream",
     "text": [
      "Number of training examples: m_train = 209\n",
      "Number of testing examples: m_test = 50\n",
      "Height/Width of each image: num_px = 64\n",
      "Each image is of size: (64, 64, 3)\n",
      "train_set_x shape: (209, 64, 64, 3)\n",
      "train_set_y shape: (1, 209)\n",
      "test_set_x shape: (50, 64, 64, 3)\n",
      "test_set_y shape: (1, 50)\n"
     ]
    }
   ],
   "source": [
    "### BẮT ĐẦU CODE Ở ĐÂY ### (≈ 3 dòng code)\n",
    "m_train = train_set_x_orig.shape[0]\n",
    "m_test = test_set_x_orig.shape[0]\n",
    "num_px = train_set_x_orig.shape[1]\n",
    "### KẾT THÚC CODE Ở ĐÂY ###\n",
    "\n",
    "print (\"Number of training examples: m_train = \" + str(m_train))\n",
    "print (\"Number of testing examples: m_test = \" + str(m_test))\n",
    "print (\"Height/Width of each image: num_px = \" + str(num_px))\n",
    "print (\"Each image is of size: (\" + str(num_px) + \", \" + str(num_px) + \", 3)\")\n",
    "print (\"train_set_x shape: \" + str(train_set_x_orig.shape))\n",
    "print (\"train_set_y shape: \" + str(train_set_y.shape))\n",
    "print (\"test_set_x shape: \" + str(test_set_x_orig.shape))\n",
    "print (\"test_set_y shape: \" + str(test_set_y.shape))"
   ]
  },
  {
   "cell_type": "markdown",
   "metadata": {
    "id": "gNxtlB-317GG"
   },
   "source": [
    "**Kỳ vọng đầu ra cho m_train, m_test và num_px**: \n",
    "<table style=\"width:15%\">\n",
    "  <tr>\n",
    "    <td>**m_train**</td>\n",
    "    <td> 209 </td> \n",
    "  </tr>\n",
    "  \n",
    "  <tr>\n",
    "    <td>**m_test**</td>\n",
    "    <td> 50 </td> \n",
    "  </tr>\n",
    "  \n",
    "  <tr>\n",
    "    <td>**num_px**</td>\n",
    "    <td> 64 </td> \n",
    "  </tr>\n",
    "  \n",
    "</table>\n"
   ]
  },
  {
   "cell_type": "markdown",
   "metadata": {
    "id": "oIRmvVt717GG"
   },
   "source": [
    "Để thuận tiện, bây giờ chúng ta nên định hình lại hình ảnh của shape (num_px, num_px, 3) trong mảng numpy của shape (num_px $*$ num_px $*$ 3, 1). Sau đó, tập dữ liệu huấn luyện (và kiểm tra) của chúng ta là một mảng numpy trong đó mỗi cột đại diện cho một flattened image. Phải có m_train (tương ứng m_test) cột.\n",
    "\n",
    "**Task 2:** Định hình lại các tập dữ liệu huấn luyện và kiểm tra để hình ảnh có size (num_px, num_px, 3) được làm phẳng thành các vectơ duy nhất có shape (num\\_px $*$ num\\_px $*$ 3, 1).\n",
    "\n",
    "Có một mẹo để làm phẳng một ma trận X có shape (a,b,c,d) thành ma trận X_flatten có shape (b$*$c$*$d, a) là dùng:\n",
    "```python\n",
    "X_flatten = X.reshape(X.shape[0], -1).T      # X.T là chuyển vị của X\n",
    "```"
   ]
  },
  {
   "cell_type": "code",
   "execution_count": 33,
   "metadata": {
    "id": "0yjRLJIZ17GH",
    "outputId": "ff6b7119-bd3c-4df8-c4d3-f4ed83c55e8b"
   },
   "outputs": [
    {
     "name": "stdout",
     "output_type": "stream",
     "text": [
      "train_set_x_flatten shape: (12288, 209)\n",
      "train_set_y shape: (1, 209)\n",
      "test_set_x_flatten shape: (12288, 50)\n",
      "test_set_y shape: (1, 50)\n",
      "sanity check after reshaping: [17 31 56 22 33]\n"
     ]
    }
   ],
   "source": [
    "# Định hình lại các ví dụ huấn luyện và kiểm tra\n",
    "\n",
    "### BẮT ĐẦU CODE Ở ĐÂY ### (≈ 2 dòng code)\n",
    "train_set_x_flatten = train_set_x_orig.reshape(train_set_x_orig.shape[0], -1).T \n",
    "test_set_x_flatten = test_set_x_orig.reshape(test_set_x_orig.shape[0], -1).T \n",
    "### KẾT THÚC CODE Ở ĐÂY ###\n",
    "\n",
    "print (\"train_set_x_flatten shape: \" + str(train_set_x_flatten.shape))\n",
    "print (\"train_set_y shape: \" + str(train_set_y.shape))\n",
    "print (\"test_set_x_flatten shape: \" + str(test_set_x_flatten.shape))\n",
    "print (\"test_set_y shape: \" + str(test_set_y.shape))\n",
    "print (\"sanity check after reshaping: \" + str(train_set_x_flatten[0:5,0]))"
   ]
  },
  {
   "cell_type": "code",
   "execution_count": 34,
   "metadata": {},
   "outputs": [
    {
     "data": {
      "text/plain": [
       "(209, 64, 64, 3)"
      ]
     },
     "execution_count": 34,
     "metadata": {},
     "output_type": "execute_result"
    }
   ],
   "source": [
    "train_set_x_orig.shape"
   ]
  },
  {
   "cell_type": "markdown",
   "metadata": {
    "id": "4tbKXbn617GJ"
   },
   "source": [
    "**Kỳ vọng đầu ra**: \n",
    "\n",
    "<table style=\"width:35%\">\n",
    "  <tr>\n",
    "    <td>**train_set_x_flatten shape**</td>\n",
    "    <td> (12288, 209)</td> \n",
    "  </tr>\n",
    "  <tr>\n",
    "    <td>**train_set_y shape**</td>\n",
    "    <td>(1, 209)</td> \n",
    "  </tr>\n",
    "  <tr>\n",
    "    <td>**test_set_x_flatten shape**</td>\n",
    "    <td>(12288, 50)</td> \n",
    "  </tr>\n",
    "  <tr>\n",
    "    <td>**test_set_y shape**</td>\n",
    "    <td>(1, 50)</td> \n",
    "  </tr>\n",
    "  <tr>\n",
    "  <td>**sanity check after reshaping**</td>\n",
    "  <td>[17 31 56 22 33]</td> \n",
    "  </tr>\n",
    "</table>"
   ]
  },
  {
   "cell_type": "markdown",
   "metadata": {
    "id": "V3ZgJRWy17GJ"
   },
   "source": [
    "Để biểu diễn hình ảnh màu, các kênh red (màu đỏ), green (xanh lá) và blue (xanh lục) (RGB) phải được chỉ định cho mỗi pixel (điểm ảnh) và do đó giá trị pixel thực sự là một vectơ gồm ba số từ 0 đến 255.\n",
    "\n",
    "Một bước tiền xử lý phổ biến trong machine learning là căn giữa và chuẩn hóa tập dữ liệu, nghĩa là lấy giá trị trung bình của toàn bộ mảng numpy từ mỗi ví dụ, sau đó chia mỗi ví dụ cho độ lệch chuẩn của toàn bộ mảng numpy. Nhưng đối với tập dữ liệu hình ảnh, nó đơn giản, thuận tiện hơn và hoạt động gần như tốt khi chỉ cần chia mỗi hàng của tập dữ liệu cho 255 (giá trị tối đa của một kênh pixel).\n",
    "\n",
    "<!-- Trong quá huấn luyện mô hình, chúng ta sẽ nhân trọng số và thêm độ lệch vào một số đầu vào ban đầu để quan sát sự kích hoạt của nơ-ron. Sau đó, truyền ngược với các gradient để huấn luyện mô hình. Tuy nhiên, điều cực kỳ quan trọng đối với mỗi đối tượng là phải có một phạm vi tương tự để các gradient của chúng ta không bị nổ. Chúng ta sẽ thấy điều đó chi tiết hơn ở phần sau của các bài giảng. !--> \n",
    "\n",
    "Hãy chuẩn hóa tập dữ liệu."
   ]
  },
  {
   "cell_type": "code",
   "execution_count": 35,
   "metadata": {
    "id": "WJqwUyn317GK"
   },
   "outputs": [],
   "source": [
    "train_set_x = train_set_x_flatten/255.\n",
    "test_set_x = test_set_x_flatten/255."
   ]
  },
  {
   "cell_type": "markdown",
   "metadata": {
    "id": "Kp-ki5T417GN"
   },
   "source": [
    "<font color='blue'>\n",
    "\n",
    "**Những thứ cần nhớ:**\n",
    "\n",
    "Các bước phổ biến để xử lý trước một tập dữ liệu mới là:\n",
    "- Tìm ra các kích thước và hình dạng của bài toán (m_train, m_test, num_px, ...)\n",
    "- Định hình lại các tập dữ liệu để mỗi ví dụ bây giờ là một vectơ có kích thước (num_px \\* num_px \\* 3, 1)\n",
    "- \"Chuẩn hóa\" dữ liệu"
   ]
  },
  {
   "cell_type": "markdown",
   "metadata": {
    "id": "SNPk0-4W17GN"
   },
   "source": [
    "## 3 - Kiến trúc chung của thuật toán học##\n",
    "\n",
    "Đã đến lúc thiết kế một thuật toán đơn giản để phân biệt hình ảnh là cat (mèo) với non-cat.\n",
    "\n",
    "Bạn sẽ xây dựng Hồi quy logistic, sử dụng tư duy Mạng nơ-ron. Hình sau giải thích lý do tại sao **Hồi quy Logistic thực sự là một mạng nơ-ron rất đơn giản!**\n",
    "\n",
    "<img src=\"images/LogReg_kiank.png\" style=\"width:650px;height:400px;\">\n",
    "\n",
    "**Biểu thức toán học của thuật toán**:\n",
    "\n",
    "Cho một ví dụ $x^{(i)}$:\n",
    "$$z^{(i)} = w^T x^{(i)} + b \\tag{1}$$\n",
    "$$\\hat{y}^{(i)} = a^{(i)} = sigmoid(z^{(i)})\\tag{2}$$ \n",
    "$$ \\mathcal{L}(a^{(i)}, y^{(i)}) =  - y^{(i)}  \\log(a^{(i)}) - (1-y^{(i)} )  \\log(1-a^{(i)})\\tag{3}$$\n",
    "\n",
    "Cost (chi phí) được tính bằng cách tổng tất cả các ví dụ huấn luyện:\n",
    "$$ J = \\frac{1}{m} \\sum_{i=1}^m \\mathcal{L}(a^{(i)}, y^{(i)})\\tag{6}$$\n",
    "\n",
    "**Các bước chính**:\n",
    "Trong tác vụ này, bạn sẽ thực hiện các bước sau: \n",
    "    - Khởi tạo các tham số của mô hình\n",
    "    - Tìm hiểu các tham số cho mô hình bằng cách giảm thiểu chi phí  \n",
    "    - Sử dụng các tham số đã học để đưa ra dự đoán (trên tập kiểm tra)\n",
    "    - Phân tích kết quả và kết luận"
   ]
  },
  {
   "cell_type": "markdown",
   "metadata": {
    "id": "NgSJmkpS17GO"
   },
   "source": [
    "## 4 - Xây dựng các phần của thuật toán ## \n",
    "\n",
    "Các bước chính để xây dựng Mạng nơ-ron là:\n",
    "1. Xác định cấu trúc mô hình (chẳng hạn như số lượng các tính năng đầu vào) \n",
    "2. Khởi tạo các tham số của mô hình\n",
    "3. Vòng lặp:\n",
    "    - Tính toán loss hiện tại (lan truyền xuôi)\n",
    "    - Tính toán gradient hiện tại (lan truyền ngược)\n",
    "    - Cập nhật các tham số (gradient descent)\n",
    "\n",
    "Chúng ta thường xây dựng các bước 1-3 riêng biệt và tích hợp chúng thành một hàm là `model()`.\n",
    "\n",
    "### 4.1 - Hàm trợ giúp\n",
    "\n",
    "**Task 3**: Sử dụng code của bạn từ \"Python Basics\", triển khai `sigmoid()`. Như đã thấy trong hình trên, bạn cần tính $sigmoid( w^T x + b) = \\frac{1}{1 + e^{-(w^T x + b)}}$ để đưa ra dự đoán. Sử dụng np.exp()."
   ]
  },
  {
   "cell_type": "code",
   "execution_count": 96,
   "metadata": {
    "id": "32jP_54z17GO"
   },
   "outputs": [],
   "source": [
    "def sigmoid(z):\n",
    "    \"\"\"\n",
    "    Tính sigmoid của z\n",
    "\n",
    "    Đối số:\n",
    "    z -- Mảng numpy hoặc vô hướng có kích thước bất kỳ.\n",
    "\n",
    "    Trả về:\n",
    "    s -- sigmoid(z)\n",
    "    \"\"\"\n",
    "\n",
    "    ### BẮT ĐẦU CODE Ở ĐÂY ### (≈ 1 dòng code)\n",
    "    s = 1 / (1 + np.exp(-z))\n",
    "    ### KẾT THÚC CODE Ở ĐÂY ###\n",
    "    \n",
    "    return s"
   ]
  },
  {
   "cell_type": "code",
   "execution_count": 97,
   "metadata": {
    "id": "gKV5Uomy17GR",
    "outputId": "679d5f2e-c5c8-4529-c98e-41e4a9929cf4",
    "scrolled": true
   },
   "outputs": [
    {
     "name": "stdout",
     "output_type": "stream",
     "text": [
      "sigmoid([0, 2]) = [0.5        0.88079708]\n"
     ]
    }
   ],
   "source": [
    "print (\"sigmoid([0, 2]) = \" + str(sigmoid(np.array([0,2]))))"
   ]
  },
  {
   "cell_type": "markdown",
   "metadata": {
    "id": "pQGp7oYG17GT"
   },
   "source": [
    "**Kỳ vọng đầu ra**: \n",
    "\n",
    "<table>\n",
    "  <tr>\n",
    "    <td>**sigmoid([0, 2])**</td>\n",
    "    <td> [ 0.5         0.88079708]</td> \n",
    "  </tr>\n",
    "</table>"
   ]
  },
  {
   "cell_type": "markdown",
   "metadata": {
    "id": "aOcoiTBJ17GT"
   },
   "source": [
    "### 4.2 - Khởi tạo tham số\n",
    "\n",
    "**Task 4:** Thực hiện khởi tạo tham số trong cell bên dưới. Chúng ta cần khởi tạo w dưới dạng vectơ gồm các số không. Nếu bạn không biết sử dụng hàm numpy nào, hãy tra cứu np.zeros() trong tài liệu của thư viện Numpy."
   ]
  },
  {
   "cell_type": "code",
   "execution_count": 98,
   "metadata": {
    "id": "6NWr5ITR17GU"
   },
   "outputs": [],
   "source": [
    "def initialize_with_zeros(dim):\n",
    "    \"\"\"\n",
    "    Hàm này tạo một vectơ của 0 có shape (dim, 1) cho w và khởi tạo b bằng 0.\n",
    "    \n",
    "    Đối số:\n",
    "    dim -- kích thước của vectơ w mà chúng ta muốn (hoặc trong trường hợp này là số tham số)\n",
    "    \n",
    "    Trả về:\n",
    "    w -- vectơ đã khởi tạo có shape (dim, 1)\n",
    "    b -- số vô hướng đã khởi tạo (tương ứng với độ chệch)\n",
    "    \"\"\"\n",
    "    \n",
    "    ### BẮT ĐẦU CODE Ở ĐÂY ### (≈ 1 dòng code)\n",
    "    w = np.zeros((dim,1))\n",
    "    b = 0\n",
    "    ### KẾT THÚC CODE Ở ĐÂY ###\n",
    "\n",
    "    assert(w.shape == (dim, 1))\n",
    "    assert(isinstance(b, float) or isinstance(b, int))\n",
    "    \n",
    "    return w, b"
   ]
  },
  {
   "cell_type": "code",
   "execution_count": 99,
   "metadata": {
    "id": "cVsQVwva17GW",
    "outputId": "7fe78cd1-6061-401d-af47-e894dbcf4963"
   },
   "outputs": [
    {
     "name": "stdout",
     "output_type": "stream",
     "text": [
      "w = [[0.]\n",
      " [0.]]\n",
      "b = 0\n"
     ]
    }
   ],
   "source": [
    "dim = 2\n",
    "w, b = initialize_with_zeros(dim)\n",
    "print (\"w = \" + str(w))\n",
    "print (\"b = \" + str(b))"
   ]
  },
  {
   "cell_type": "markdown",
   "metadata": {
    "id": "ZujLjzQX17GY"
   },
   "source": [
    "**Kỳ vọng đầu ra**: \n",
    "\n",
    "\n",
    "<table style=\"width:15%\">\n",
    "    <tr>\n",
    "        <td>  ** w **  </td>\n",
    "        <td> [[ 0.]\n",
    " [ 0.]] </td>\n",
    "    </tr>\n",
    "    <tr>\n",
    "        <td>  ** b **  </td>\n",
    "        <td> 0 </td>\n",
    "    </tr>\n",
    "</table>\n",
    "\n",
    "Với các đầu vào hình ảnh, w sẽ là shape (num_px $\\times$ num_px $\\times$ 3, 1)."
   ]
  },
  {
   "cell_type": "markdown",
   "metadata": {
    "id": "SQfsN3Qw17GZ"
   },
   "source": [
    "### 4.3 - Truyền xuôi (Forward propagation) và Truyền ngược (Backward propagation)\n",
    "\n",
    "Bây giờ các tham số của bạn đã được khởi tạo, bạn có thể thực hiện các bước truyền xuôi và ngược để nghiên cứu các tham số.\n",
    "\n",
    "**Task 5:** Triển khai hàm `propagate()` để tính toán hàm chi phí và gradient.\n",
    "\n",
    "**Gợi ý**:\n",
    "\n",
    "Truyền xuôi:\n",
    "- Bạn có X\n",
    "- Tính $A = \\sigma(w^T X + b) = (a^{(0)}, a^{(1)}, ..., a^{(m-1)}, a^{(m)})$\n",
    "- Tính hàm chi phí: $J = -\\frac{1}{m}\\sum_{i=1}^{m}y^{(i)}\\log(a^{(i)})+(1-y^{(i)})\\log(1-a^{(i)})$\n",
    "\n",
    "Đây là hai công thức bạn sẽ sử dụng: \n",
    "\n",
    "$$ \\frac{\\partial J}{\\partial w} = \\frac{1}{m}X(A-Y)^T\\tag{7}$$\n",
    "$$ \\frac{\\partial J}{\\partial b} = \\frac{1}{m} \\sum_{i=1}^m (a^{(i)}-y^{(i)})\\tag{8}$$"
   ]
  },
  {
   "cell_type": "code",
   "execution_count": 157,
   "metadata": {
    "id": "X02hs4fd17GZ"
   },
   "outputs": [],
   "source": [
    "def propagate(w, b, X, Y):\n",
    "    \"\"\"\n",
    "    Triển khai hàm chi phí và gradient cho lan truyền đã giải thích ở trên\n",
    "\n",
    "    Đối số:\n",
    "    w -- trọng số, một mảng numpy có kích thước (num_px * num_px * 3, 1)\n",
    "    b -- độ chệch, một số vô hướng\n",
    "    X -- dữ liệu có kích thước (num_px * num_px * 3, số ví dụ)\n",
    "    Y -- vectơ true \"label\" (chưa 0 nếu là non-cat, 1 nếu là cat) có kích thước (1, số ví dụ)\n",
    "\n",
    "    Trả về:\n",
    "    cost -- chi phí negative log-likelihood cho hồi quy logistic\n",
    "    dw -- gradient của loss với w, do đó shape tương tự như w\n",
    "    db -- gradient của loss với b, do đó shape tương tự như b\n",
    "    \n",
    "    Mẹo:\n",
    "    - Viết code từng bước một cho propagation. np.log(), np.dot()\n",
    "    \"\"\"\n",
    "    \n",
    "    m = X.shape[1]\n",
    "    \n",
    "    # TRUYỀN XUÔI (TỪ X TỚI COST)\n",
    "    ### BẮT ĐẦU CODE Ở ĐÂY ### ≈ 2 dòng code\n",
    "    A = sigmoid(np.dot(w.T, X) + b)  # tính toán kích hoạt\n",
    "    cost = -1/m * np.sum(Y * np.log(A) + (1 - Y) * np.log(1 - A))               # tính toán cost\n",
    "    ### KẾT THÚC CODE Ở ĐÂY ###\n",
    "    \n",
    "    # TRUYỀN NGƯỢC (TÌM GRAD)\n",
    "    ### BẮT ĐẦU CODE Ở ĐÂY ### (≈ 2 dòng code)\n",
    "    dw = 1/m * np.dot(X, (A - Y).T)\n",
    "    db = 1/m * np.sum(A - Y)\n",
    "    ### KẾT THÚC CODE Ở ĐÂY ###\n",
    "\n",
    "    assert(dw.shape == w.shape)\n",
    "    assert(db.dtype == float)\n",
    "    cost = np.squeeze(cost)\n",
    "    assert(cost.shape == ())\n",
    "    \n",
    "    grads = {\"dw\": dw,\n",
    "             \"db\": db}\n",
    "    \n",
    "    return grads, cost"
   ]
  },
  {
   "cell_type": "code",
   "execution_count": 158,
   "metadata": {
    "id": "T-aQPuf617Gb",
    "outputId": "f39a4457-5fa1-4cd2-e56e-9600f6e553cb"
   },
   "outputs": [
    {
     "name": "stdout",
     "output_type": "stream",
     "text": [
      "dw = [[0.99845601]\n",
      " [2.39507239]]\n",
      "db = 0.001455578136784208\n",
      "cost = 5.801545319394553\n"
     ]
    }
   ],
   "source": [
    "w, b, X, Y = np.array([[1.],[2.]]), 2., np.array([[1.,2.,-1.],[3.,4.,-3.2]]), np.array([[1,0,\n",
    "                                                                                         1]])\n",
    "grads, cost = propagate(w, b, X, Y)\n",
    "print (\"dw = \" + str(grads[\"dw\"]))\n",
    "print (\"db = \" + str(grads[\"db\"]))\n",
    "print (\"cost = \" + str(cost))"
   ]
  },
  {
   "cell_type": "markdown",
   "metadata": {
    "id": "B2wdtg_p17Gd"
   },
   "source": [
    "**Kỳ vọng đầu ra**:\n",
    "\n",
    "<table style=\"width:50%\">\n",
    "    <tr>\n",
    "        <td>  ** dw **  </td>\n",
    "      <td> [[ 0.99845601]\n",
    "     [ 2.39507239]]</td>\n",
    "    </tr>\n",
    "    <tr>\n",
    "        <td>  ** db **  </td>\n",
    "        <td> 0.00145557813678 </td>\n",
    "    </tr>\n",
    "    <tr>\n",
    "        <td>  ** cost **  </td>\n",
    "        <td> 5.801545319394553 </td>\n",
    "    </tr>\n",
    "\n",
    "</table>"
   ]
  },
  {
   "cell_type": "markdown",
   "metadata": {
    "id": "MLcyEMHJ17Ge"
   },
   "source": [
    "### d) Tối ưu hóa\n",
    "- Chúng ta đã khởi tạo các tham số.\n",
    "- Bạn cũng có thể tính toán hàm chi phí và gradient.\n",
    "- Bây giờ, bạn muốn cập nhật các tham số bằng cách sử dụng gradient descent.\n",
    "\n",
    "**Task 6:** Viết hàm tối ưu hóa. Mục tiêu là tìm hiểu $w$ và $b$ bằng cách tối thiểu hóa hàm chi phí $J$. Đối với tham số $\\theta$, quy tắc cập nhật là $ \\theta = \\theta - \\alpha \\text{ } d\\theta$, trong đó $\\alpha$ là tốc độ học."
   ]
  },
  {
   "cell_type": "code",
   "execution_count": 159,
   "metadata": {
    "id": "UwOhE0rF17Ge"
   },
   "outputs": [],
   "source": [
    "def optimize(w, b, X, Y, num_iterations, learning_rate, print_cost = False):\n",
    "    \"\"\"\n",
    "    Hàm này tối ưu hóa w và b bằng cách chạy thuật toán gradient descent\n",
    "    \n",
    "    Đối số:\n",
    "    w -- trọng số, một mảng numpy có kích thước (num_px * num_px * 3, 1)\n",
    "    b -- độ chệch, một số vô hướng\n",
    "    X -- dữ liệu có shape (num_px * num_px * 3, số ví dụ)\n",
    "    Y -- vectơ true \"label\" (0 nếu là non-cat, 1 nếu là cat), có shape (1, số ví dụ)\n",
    "    num_iterations -- số lần lặp của vòng lặp tối ưu\n",
    "    learning_rate -- tốc độ học của quy tắc cập nhật gradient descent\n",
    "    print_cost -- nếu là True thì in ra loss sau mỗi 100 bước\n",
    "    \n",
    "    Trả về:\n",
    "    params -- dictionary chứa trọng số w và độ chệch b\n",
    "    grads -- dictionary chứa gradient của trọng số và độ chệch liên quan tới hàm chi phí \n",
    "    costs -- danh sách tất cả các chi phí đã tính toán trong quá trình tối ưu hóa, chúng ta sẽ sử dụng điều này sẽ vẽ đồ thị học.\n",
    "    \n",
    "    Mẹo:\n",
    "    Về cơ bản chúng ta cần viết thành 2 bươc và lặp qua chúng:\n",
    "        1) Tính chi phí và gradient cho các tham số hiện tại. Sử dụng propagate().\n",
    "        2) Cập nhật các tham số sử dụng quy tắc gradient descent cho w và b.\n",
    "    \"\"\"\n",
    "    \n",
    "    costs = []\n",
    "    \n",
    "    for i in range(num_iterations):\n",
    "        \n",
    "        \n",
    "        # Tính chi phí và gradient (≈ 1-4 dòng code)\n",
    "        ### BẮT ĐẦU CODE Ở ĐÂY ### \n",
    "        grads,cost = propagate(w, b, X, Y)\n",
    "        ### KẾT THÚC CODE Ở ĐÂY ###\n",
    "        \n",
    "        # Truy xuất đạo hàm từ grads\n",
    "        dw = grads[\"dw\"]\n",
    "        db = grads[\"db\"]\n",
    "        \n",
    "        # quy tắc cập nhật (≈ 2 dòng code)\n",
    "        ### BẮT ĐẦU CODE Ở ĐÂY ###\n",
    "        w = w - dw*learning_rate\n",
    "        b = b - db*learning_rate\n",
    "        ### KẾT THÚC CODE Ở ĐÂY ###\n",
    "        \n",
    "        # Ghi các chi phí\n",
    "        if i % 100 == 0:\n",
    "            costs.append(cost)\n",
    "        \n",
    "        # In ra chí phí sau mỗi 100 ví dụ huấn luyện\n",
    "        if print_cost and i % 100 == 0:\n",
    "            print (\"Cost after iteration %i: %f\" %(i, cost))\n",
    "    \n",
    "    params = {\"w\": w,\n",
    "              \"b\": b}\n",
    "    \n",
    "    grads = {\"dw\": dw,\n",
    "             \"db\": db}\n",
    "    \n",
    "    return params, grads, costs"
   ]
  },
  {
   "cell_type": "code",
   "execution_count": 160,
   "metadata": {
    "id": "HP1LFfjB17Gh",
    "outputId": "bb2e62fa-ef1a-44db-8d06-95c2ce3f3be4"
   },
   "outputs": [
    {
     "name": "stdout",
     "output_type": "stream",
     "text": [
      "w = [[0.19033591]\n",
      " [0.12259159]]\n",
      "b = 1.9253598300845747\n",
      "dw = [[0.67752042]\n",
      " [1.41625495]]\n",
      "db = 0.21919450454067657\n"
     ]
    }
   ],
   "source": [
    "params, grads, costs = optimize(w, b, X, Y, num_iterations= 100, learning_rate = 0.009, print_cost = False)\n",
    "\n",
    "print (\"w = \" + str(params[\"w\"]))\n",
    "print (\"b = \" + str(params[\"b\"]))\n",
    "print (\"dw = \" + str(grads[\"dw\"]))\n",
    "print (\"db = \" + str(grads[\"db\"]))"
   ]
  },
  {
   "cell_type": "markdown",
   "metadata": {
    "id": "kOtYN4xl17Gj"
   },
   "source": [
    "**Kỳ vọng đầu ra**: \n",
    "\n",
    "<table style=\"width:40%\">\n",
    "    <tr>\n",
    "       <td> **w** </td>\n",
    "       <td>[[ 0.19033591]\n",
    " [ 0.12259159]] </td>\n",
    "    </tr>\n",
    "    \n",
    "    <tr>\n",
    "       <td> **b** </td>\n",
    "       <td> 1.92535983008 </td>\n",
    "    </tr>\n",
    "    <tr>\n",
    "       <td> **dw** </td>\n",
    "       <td> [[ 0.67752042]\n",
    " [ 1.41625495]] </td>\n",
    "    </tr>\n",
    "    <tr>\n",
    "       <td> **db** </td>\n",
    "       <td> 0.219194504541 </td>\n",
    "    </tr>\n",
    "\n",
    "</table>"
   ]
  },
  {
   "cell_type": "markdown",
   "metadata": {
    "id": "El5rPYTM17Gj"
   },
   "source": [
    "**Task 7:** Hàm trước đó sẽ xuất ra w và b đã tính. Chúng ta có thể sử dụng w và b để dự đoán các nhãn cho tập dữ liệu X. Thực hiện hàm `predict()`. Có 2 bước để tính các dự đoán:\n",
    "\n",
    "1. Tính $\\hat{Y} = A = \\sigma(w^T X + b)$\n",
    "\n",
    "2. Chuyển các mục nhập của a thành 0 (nếu kích hoạt <= 0.5) hoặc 1 (nếu kích hoạt > 0.5), lưu các dự đoán trong vectơ `Y_prediction`. Nếu muốn, bạn có thể sử dụng câu lệnh `if`/`else` trong vòng lặp `for` (mặc dù cũng có một cách để vectơ hóa điều này). "
   ]
  },
  {
   "cell_type": "code",
   "execution_count": 161,
   "metadata": {
    "id": "BSkREyoQ17Gk"
   },
   "outputs": [],
   "source": [
    "def predict(w, b, X):\n",
    "    '''\n",
    "    Dự đoán xem nhãn là 0 hay 1 sử dụng các tham số hồi quy logistic đã tìm hiểu (w, b)\n",
    "    \n",
    "    Đối số:\n",
    "    w -- trọng số, mảng numpy có kích thước (num_px * num_px * 3, 1)\n",
    "    b -- độ chệch, số vô hướng\n",
    "    X -- dữ liệu có kích thước (num_px * num_px * 3, số ví dụ)\n",
    "    \n",
    "    Trả về:\n",
    "    Y_prediction -- mảng numpy (vectơ) chứa toàn bộ dự đoán (0/1) cho các ví dụ trong X\n",
    "    '''\n",
    "    \n",
    "    m = X.shape[1]\n",
    "    Y_prediction = np.zeros((1,m))\n",
    "    w = w.reshape(X.shape[0], 1)\n",
    "\n",
    "    # Tính vectơ \"A\" dự đoán xác suất để mèo có mặt trong hình\n",
    "    ### BẮT ĐẦU CODE Ở ĐÂY ### (≈ 1 dòng code)\n",
    "    A = np.dot(X.T,w) + b\n",
    "    ### KẾT THÚC CODE Ở ĐÂY ###\n",
    "    for i in range(A.shape[0]):\n",
    "        # Chuyển xác suất A[0,i] thành dự đoán thực p[0,i]\n",
    "        ### BẮT ĐẦU CODE Ở ĐÂY ### (≈ 4 dòng code)\n",
    "        if np.sum(A[i,0]) > 0:\n",
    "            Y_prediction[0][i] = 1\n",
    "        else:\n",
    "            Y_prediction[0][i] = 0\n",
    "\n",
    "\n",
    "        \n",
    "        ### KẾT THÚC CODE Ở ĐÂY ###\n",
    "    \n",
    "    assert(Y_prediction.shape == (1, m))\n",
    "    \n",
    "    return Y_prediction"
   ]
  },
  {
   "cell_type": "code",
   "execution_count": 162,
   "metadata": {
    "id": "g9IR_auy17Gm",
    "outputId": "b2245c1b-b140-475a-e5ef-611ca01194a5"
   },
   "outputs": [
    {
     "name": "stdout",
     "output_type": "stream",
     "text": [
      "predictions = [[1. 1. 0.]]\n"
     ]
    }
   ],
   "source": [
    "w = np.array([[0.1124579],[0.23106775]])\n",
    "b = -0.3\n",
    "X = np.array([[1.,-1.1,-3.2],[1.2,2.,0.1]])\n",
    "print (\"predictions = \" + str(predict(w, b, X)))"
   ]
  },
  {
   "cell_type": "markdown",
   "metadata": {
    "id": "uh0vXqhP17Gn"
   },
   "source": [
    "**Kỳ vọng đầu ra**: \n",
    "\n",
    "<table style=\"width:30%\">\n",
    "    <tr>\n",
    "         <td>\n",
    "             **predictions**\n",
    "         </td>\n",
    "          <td>\n",
    "            [[ 1.  1.  0.]]\n",
    "         </td>  \n",
    "   </tr>\n",
    "\n",
    "</table>\n"
   ]
  },
  {
   "cell_type": "markdown",
   "metadata": {
    "collapsed": true,
    "id": "lPd4pWNu17Gn"
   },
   "source": [
    "<font color='blue'>\n",
    "\n",
    "**Những điều cần nhớ:**\n",
    "Chúng ta đã triển khai một số hàm:\n",
    "- Khởi tạo (w,b)\n",
    "- Tối ưu hóa loss lặp lại để tìm hiểu các tham số (w,b):\n",
    "    - tính hàm chi phí và gradient \n",
    "    - cập nhật các tham số bằng cách sử dụng gradient descent\n",
    "- Sử dụng (w,b) đã học để dự đoán các nhãn cho một tập ví dụ nhất định"
   ]
  },
  {
   "cell_type": "markdown",
   "metadata": {
    "id": "FRjWHNmX17Go"
   },
   "source": [
    "## 5 - Hợp nhất tất cả các hàm thành một mô hình ##\n",
    "\n",
    "Bây giờ bạn sẽ thấy mô hình tổng thể được cấu trúc như thế nào bằng cách tập hợp tất cả các khối xây dựng (các hàm được triển khai trong các phần trước) lại với nhau theo đúng thứ tự.\n",
    "\n",
    "**Task 8:** Thực hiện hàm model. Sử dụng ký hiệu sau:\n",
    "    - Y_prediction cho các dự đoán trong tập kiểm tra\n",
    "    - Y_prediction_train cho các dự đoán trong tập huấn luyện\n",
    "    - w, costs, grads cho các đầu ra của optimize()"
   ]
  },
  {
   "cell_type": "code",
   "execution_count": 170,
   "metadata": {},
   "outputs": [
    {
     "data": {
      "text/plain": [
       "(3, 6)"
      ]
     },
     "execution_count": 170,
     "metadata": {},
     "output_type": "execute_result"
    }
   ],
   "source": [
    "ff = np.ones((3,6))\n",
    "ff.shape"
   ]
  },
  {
   "cell_type": "code",
   "execution_count": 167,
   "metadata": {
    "id": "Cjy9ZsCy17Go"
   },
   "outputs": [],
   "source": [
    "def model(X_train, Y_train, X_test, Y_test, num_iterations=2000, learning_rate=0.5, print_cost=False):\n",
    "    \"\"\"\n",
    "    Xây dựng mô hình hồi quy logistic bằng cách gọi hàm mà chúng ta đã triển khai trước đó\n",
    "    \n",
    "    Đối số:\n",
    "    X_train -- tập huấn luyện được biểu diễn bằng mảng numpy có shape (num_px * num_px * 3, m_train)\n",
    "    Y_train -- nhãn huấn luyện được biểu diễn bằng mảng numpy (vectơ) có shape (1, m_train)\n",
    "    X_test -- tập kiểm tra được biểu diễn bằng mảng numpy có shape (num_px * num_px * 3, m_test)\n",
    "    Y_test -- nhãn kiểm tra được biểu diễn bằng mảng numpy (vectơ) có shape (1, m_test)\n",
    "    num_iterations -- siêu tham số thể hiện số lần lặp để tối ưu hóa các tham số\n",
    "    learning_rate -- siêu tham số thể hiện tốc độ học được sử dụng trong quy tắc cập nhật của optimize()\n",
    "    print_cost -- Đặt thành true để in ra cost sau mỗi 100 lần lặp\n",
    "    \n",
    "    Trả về:\n",
    "    d -- dictionary chứa thông tin về mô hình.\n",
    "    \"\"\"\n",
    "    \n",
    "    ### BẮT ĐẦU CODE Ở ĐÂY ###\n",
    "    # khởi tạo tham số với 0 (≈ 1 dòng code)\n",
    "    ww = np.zeros((X_train.shape[0],1))\n",
    "    # Gradient descent (≈ 1 dòng code)\n",
    "    parameters ,grads, costs = optimize(ww,0, X_train, Y_train, num_iterations, learning_rate, print_cost = False)\n",
    "    # Truy xuất các tham số w và b từ dictionary \"parameters\"\n",
    "    w = parameters[\"w\"]\n",
    "    b = parameters[\"b\"]\n",
    "    \n",
    "    # Dự đoán các ví dụ của tập huấn luyện/kiểm tra (≈ 2 dòng code)\n",
    "    Y_prediction_train = predict(w, b, X_train)\n",
    "    Y_prediction_test = predict(w, b, X_test)\n",
    "    ### KẾT THÚC CODE Ở ĐÂY ###\n",
    "\n",
    "    # In ra lỗi huấn luyện/kiểm tra\n",
    "    print(\"train accuracy: {} %\".format(100 - np.mean(np.abs(Y_prediction_train - Y_train)) * 100))\n",
    "    print(\"test accuracy: {} %\".format(100 - np.mean(np.abs(Y_prediction_test - Y_test)) * 100))\n",
    "\n",
    "    \n",
    "    d = {\"costs\": costs,\n",
    "         \"Y_prediction_test\": Y_prediction_test, \n",
    "         \"Y_prediction_train\" : Y_prediction_train, \n",
    "         \"w\" : w, \n",
    "         \"b\" : b,\n",
    "         \"learning_rate\" : learning_rate,\n",
    "         \"num_iterations\": num_iterations}\n",
    "    \n",
    "    return d"
   ]
  },
  {
   "cell_type": "markdown",
   "metadata": {
    "id": "2dYdiknW17Gq"
   },
   "source": [
    "Chạy cell sau để huấn luyện mô hình."
   ]
  },
  {
   "cell_type": "code",
   "execution_count": 171,
   "metadata": {
    "id": "qkipGYQ817Gq",
    "outputId": "e94579bc-641a-4a9e-d7f8-777b7329cbf4"
   },
   "outputs": [
    {
     "name": "stdout",
     "output_type": "stream",
     "text": [
      "train accuracy: 99.04306220095694 %\n",
      "test accuracy: 70.0 %\n"
     ]
    }
   ],
   "source": [
    "d = model(train_set_x, train_set_y, test_set_x, test_set_y, num_iterations = 2000, learning_rate = 0.005, print_cost = True)"
   ]
  },
  {
   "cell_type": "markdown",
   "metadata": {
    "id": "YuPK3jzZ17Gs"
   },
   "source": [
    "**Kỳ vọng đầu ra**: \n",
    "\n",
    "<table style=\"width:40%\"> \n",
    "\n",
    "    <tr>\n",
    "        <td> **Cost after iteration 0 **  </td> \n",
    "        <td> 0.693147 </td>\n",
    "    </tr>\n",
    "      <tr>\n",
    "        <td> <center> $\\vdots$ </center> </td> \n",
    "        <td> <center> $\\vdots$ </center> </td> \n",
    "    </tr>  \n",
    "    <tr>\n",
    "        <td> **Train Accuracy**  </td> \n",
    "        <td> 99.04306220095694 % </td>\n",
    "    </tr>\n",
    "\n",
    "    <tr>\n",
    "        <td>**Test Accuracy** </td> \n",
    "        <td> 70.0 % </td>\n",
    "    </tr>\n",
    "</table> \n",
    "\n",
    "\n"
   ]
  },
  {
   "cell_type": "markdown",
   "metadata": {
    "collapsed": true,
    "id": "Kv50HdxY17Gs"
   },
   "source": [
    "**Nhận xét**: Độ chính xác của việc huấn luyện gần 100%. Đây là một kiểm tra tỉnh táo (sanity check) khá tốt: mô hình đang hoạt động và có dung lượng đủ để khớp với dữ liệu huấn luyện. Kiểm tra sai số là 68%. Nó thực sự không tệ đối với mô hình đơn giản này, với tập dữ liệu nhỏ mà chúng ta đã sử dụng và hồi quy logistic là một bộ phân loại tuyến tính. Nhưng đừng lo lắng, chúng ta sẽ xây dựng một bộ phân loại thậm chí còn tốt hơn vào tuần tới!\n",
    "\n",
    "Ngoài ra, chúng ta thấy rằng mô hình rõ ràng đang bị quá khớp (overfit)với dữ liệu huấn luyện. Sau đó trong chuyên ngành này, các bạn sẽ học cách giảm thiểu overfitting, chẳng hạn bằng cách sử dụng điều chuẩn. Sử dụng đoạn code dưới đây (và thay đổi biến ``index`) để xem các dự đoán trên hình ảnh của tập kiểm tra."
   ]
  },
  {
   "cell_type": "code",
   "execution_count": 172,
   "metadata": {
    "id": "HGuUFVul17Gs",
    "outputId": "9754238e-38a8-4fff-d2f3-a8a487189e6b"
   },
   "outputs": [
    {
     "name": "stdout",
     "output_type": "stream",
     "text": [
      "y = 0, you predicted that it is a \"cat\" picture.\n"
     ]
    },
    {
     "data": {
      "image/png": "[encoded data removed]",
      "text/plain": [
       "<Figure size 640x480 with 1 Axes>"
      ]
     },
     "metadata": {},
     "output_type": "display_data"
    }
   ],
   "source": [
    "# Ví dụ về bức hình bị phân loại sai.\n",
    "index = 5\n",
    "plt.imshow(test_set_x[:,index].reshape((num_px, num_px, 3)))\n",
    "print (\"y = \" + str(test_set_y[0,index]) + \", you predicted that it is a \\\"\" + classes[int(d[\"Y_prediction_test\"][0,index])].decode(\"utf-8\") +  \"\\\" picture.\")"
   ]
  },
  {
   "cell_type": "markdown",
   "metadata": {
    "id": "GOIQP3TY17Gv"
   },
   "source": [
    "Hãy vẽ biểu đồ của hàm chi phí và gradient."
   ]
  },
  {
   "cell_type": "code",
   "execution_count": 173,
   "metadata": {
    "id": "wSlDwMIv17Gv",
    "outputId": "03ff0b98-3ae0-4934-8010-354f55755414"
   },
   "outputs": [
    {
     "data": {
      "image/png": "[encoded data removed]",
      "text/plain": [
       "<Figure size 640x480 with 1 Axes>"
      ]
     },
     "metadata": {},
     "output_type": "display_data"
    }
   ],
   "source": [
    "# Vẽ đồ thị học (với costs)\n",
    "costs = np.squeeze(d['costs'])\n",
    "plt.plot(costs)\n",
    "plt.ylabel('cost')\n",
    "plt.xlabel('iterations (per hundreds)')\n",
    "plt.title(\"Learning rate =\" + str(d[\"learning_rate\"]))\n",
    "plt.show()"
   ]
  },
  {
   "cell_type": "markdown",
   "metadata": {
    "collapsed": true,
    "id": "hCOtVHkN17Gy"
   },
   "source": [
    "**Diễn giải**:\n",
    "Chúng ta thấy chi phí (cost) giảm dần. Điều này cho thấy rằng các tham số đang được học. Tuy nhiên, chúng ta có thể huấn luyện mô hình nhiều hơn nữa trên tập huấn luyện. Cố gắng tăng số lần lặp lại trong cell ở trên và chạy lại các cell. Chúng ta có thể thấy rằng độ chính xác của tập huấn luyện tăng lên, nhưng độ chính xác của tập kiểm tra sẽ giảm xuống. Điều này được gọi là overfitting."
   ]
  },
  {
   "cell_type": "markdown",
   "metadata": {
    "id": "ptJv2r1917Gy"
   },
   "source": [
    "## 6 - Phân tích thêm (tác vụ tùy chọn) ##\n",
    "\n",
    "Chúc mừng bạn đã xây dựng mô hình phân loại hình ảnh đầu tiên. Hãy phân tích kỹ hơn và kiểm tra các lựa chọn khả thi cho tốc độ học  $\\alpha$."
   ]
  },
  {
   "cell_type": "markdown",
   "metadata": {
    "id": "7gq-gx9H17Gz"
   },
   "source": [
    "#### Lựa chọn tốc độ học ####\n",
    "\n",
    "**Nhăc nhở**:\n",
    "Để Gradient Descent hoạt động, cần chọn tốc độ học một cách khôn ngoan. Tốc độ học $\\alpha $ xác định tốc độ chúng ta cập nhật các tham số. Nếu tốc độ học quá lớn, chúng ta có thể \"vượt quá\" giá trị tối ưu. Tương tự, nếu nó quá nhỏ, chúng ta sẽ cần rất nhiều lần lặp để hội tụ đến các giá trị tốt nhất. Đó là lý do tại sao cần sử dụng một tốc độ học được điều chỉnh tốt.\n",
    "\n",
    "Hãy so sánh đồ thị học của mô hình với một số lựa chọn về tốc độ học. Chạy cell bên dưới. Quá trình này sẽ mất khoảng 1 phút. Vui lòng thử các giá trị khác với 3 giá trị mà chúng ta đã khởi tạo biến `learning_rates` để chứa và xem điều gì sẽ xảy ra."
   ]
  },
  {
   "cell_type": "code",
   "execution_count": 174,
   "metadata": {
    "id": "D8TeY6Hf17Gz",
    "outputId": "be74632a-a59b-4107-dc28-9bd2364e79ae"
   },
   "outputs": [
    {
     "name": "stdout",
     "output_type": "stream",
     "text": [
      "learning rate is: 0.01\n",
      "train accuracy: 99.52153110047847 %\n",
      "test accuracy: 68.0 %\n",
      "\n",
      "-------------------------------------------------------\n",
      "\n",
      "learning rate is: 0.001\n",
      "train accuracy: 88.99521531100478 %\n",
      "test accuracy: 64.0 %\n",
      "\n",
      "-------------------------------------------------------\n",
      "\n",
      "learning rate is: 0.0001\n",
      "train accuracy: 68.42105263157895 %\n",
      "test accuracy: 36.0 %\n",
      "\n",
      "-------------------------------------------------------\n",
      "\n"
     ]
    },
    {
     "data": {
      "image/png": "[encoded data removed]",
      "text/plain": [
       "<Figure size 640x480 with 1 Axes>"
      ]
     },
     "metadata": {},
     "output_type": "display_data"
    }
   ],
   "source": [
    "learning_rates = [0.01, 0.001, 0.0001]\n",
    "models = {}\n",
    "for i in learning_rates:\n",
    "    print (\"learning rate is: \" + str(i))\n",
    "    models[str(i)] = model(train_set_x, train_set_y, test_set_x, test_set_y, num_iterations = 1500, learning_rate = i, print_cost = False)\n",
    "    print ('\\n' + \"-------------------------------------------------------\" + '\\n')\n",
    "\n",
    "for i in learning_rates:\n",
    "    plt.plot(np.squeeze(models[str(i)][\"costs\"]), label= str(models[str(i)][\"learning_rate\"]))\n",
    "\n",
    "plt.ylabel('cost')\n",
    "plt.xlabel('iterations')\n",
    "\n",
    "legend = plt.legend(loc='upper center', shadow=True)\n",
    "frame = legend.get_frame()\n",
    "frame.set_facecolor('0.90')\n",
    "plt.show()"
   ]
  },
  {
   "cell_type": "markdown",
   "metadata": {
    "id": "owGNbX8717G1"
   },
   "source": [
    "**Diễn giải**: \n",
    "- Các tốc độ học khác nhau cho các cost (chi phí) khác nhau và do đó các kết quả dự đoán khác nhau.\n",
    "- Nếu tốc độ học quá lớn (0,01), cost có thể dao động lên xuống. Nó thậm chí có thể khác nhau (mặc dù trong ví dụ này, sử dụng 0,01 cuối cùng vẫn cho cost giá trị tốt).\n",
    "- Cost thấp hơn không có nghĩa là mô hình tốt hơn. Bạn phải kiểm tra xem có khả năng overfitting hay không. Nó xảy ra khi độ chính xác huấn luyện cao hơn rất nhiều so với độ chính xác kiểm tra.\n",
    "- Trong học tập sâu, chúng tôi thường khuyên bạn:\n",
    "    - Chọn tốc độ học tốt hơn để giảm thiểu hàm chi phí.\n",
    "    - Nếu mô hình bị overfit, hãy sử dụng các kỹ thuật khác để giảm overfitting. (Chúng ta sẽ nói về vấn đề này trong các video sau.)\n"
   ]
  },
  {
   "cell_type": "markdown",
   "metadata": {
    "collapsed": true,
    "id": "XWCUc03x17G1"
   },
   "source": [
    "## 7 - Kiểm tra hình ảnh của bạn (tác vụ tùy chọn) ##\n",
    "\n",
    "Chúc mừng bạn đã hoàn thành lab này. Bạn có thể sử dụng hình ảnh của mình và xem đầu ra của mô hình của bạn. Để làm việc đó:\n",
    "    1. Nhấp vào \"File\" ở thanh trên của notebook này, sau đó nhấp vào \"Open\" để truy cập Coursera Hub của bạn.\n",
    "    2. Thêm hình ảnh của bạn vào thư mục của Jupyter Notebook này trong thư mục \"images\"\n",
    "    3. Thay đổi tên hình ảnh của bạn trong code sau\n",
    "    4. Chạy code và kiểm tra xem thuật toán có đúng không (1 = cat, 0 = non-cat)!"
   ]
  },
  {
   "cell_type": "code",
   "execution_count": 185,
   "metadata": {
    "id": "5KlK0JZd17G2",
    "outputId": "1bc86398-764b-4c9a-bfd3-893e28b447ee",
    "scrolled": true
   },
   "outputs": [
    {
     "ename": "FileNotFoundError",
     "evalue": "[Errno 2] No such file or directory: 'images/.jpg'",
     "output_type": "error",
     "traceback": [
      "\u001b[1;31m---------------------------------------------------------------------------\u001b[0m",
      "\u001b[1;31mFileNotFoundError\u001b[0m                         Traceback (most recent call last)",
      "Cell \u001b[1;32mIn[185], line 7\u001b[0m\n\u001b[0;32m      3\u001b[0m \u001b[38;5;66;03m## KẾT THÚC CODE Ở ĐÂY ##\u001b[39;00m\n\u001b[0;32m      4\u001b[0m \n\u001b[0;32m      5\u001b[0m \u001b[38;5;66;03m# Tiền xử lý hình ảnh để khớp với thuật toán.\u001b[39;00m\n\u001b[0;32m      6\u001b[0m fname \u001b[38;5;241m=\u001b[39m \u001b[38;5;124m\"\u001b[39m\u001b[38;5;124mimages/\u001b[39m\u001b[38;5;124m\"\u001b[39m \u001b[38;5;241m+\u001b[39m my_image\n\u001b[1;32m----> 7\u001b[0m image \u001b[38;5;241m=\u001b[39m \u001b[43mImage\u001b[49m\u001b[38;5;241;43m.\u001b[39;49m\u001b[43mopen\u001b[49m\u001b[43m(\u001b[49m\u001b[43mfname\u001b[49m\u001b[43m)\u001b[49m\n\u001b[0;32m      8\u001b[0m image \u001b[38;5;241m=\u001b[39m image\u001b[38;5;241m.\u001b[39mresize((num_px,num_px))\n\u001b[0;32m     10\u001b[0m my_image \u001b[38;5;241m=\u001b[39m np\u001b[38;5;241m.\u001b[39marray(image)\u001b[38;5;241m.\u001b[39mreshape((\u001b[38;5;241m1\u001b[39m, num_px\u001b[38;5;241m*\u001b[39mnum_px\u001b[38;5;241m*\u001b[39m\u001b[38;5;241m3\u001b[39m))\u001b[38;5;241m.\u001b[39mT\n",
      "File \u001b[1;32mc:\\users\\v\\appdata\\local\\programs\\python\\python39\\lib\\site-packages\\PIL\\Image.py:3227\u001b[0m, in \u001b[0;36mopen\u001b[1;34m(fp, mode, formats)\u001b[0m\n\u001b[0;32m   3224\u001b[0m     filename \u001b[38;5;241m=\u001b[39m fp\n\u001b[0;32m   3226\u001b[0m \u001b[38;5;28;01mif\u001b[39;00m filename:\n\u001b[1;32m-> 3227\u001b[0m     fp \u001b[38;5;241m=\u001b[39m \u001b[43mbuiltins\u001b[49m\u001b[38;5;241;43m.\u001b[39;49m\u001b[43mopen\u001b[49m\u001b[43m(\u001b[49m\u001b[43mfilename\u001b[49m\u001b[43m,\u001b[49m\u001b[43m \u001b[49m\u001b[38;5;124;43m\"\u001b[39;49m\u001b[38;5;124;43mrb\u001b[39;49m\u001b[38;5;124;43m\"\u001b[39;49m\u001b[43m)\u001b[49m\n\u001b[0;32m   3228\u001b[0m     exclusive_fp \u001b[38;5;241m=\u001b[39m \u001b[38;5;28;01mTrue\u001b[39;00m\n\u001b[0;32m   3230\u001b[0m \u001b[38;5;28;01mtry\u001b[39;00m:\n",
      "\u001b[1;31mFileNotFoundError\u001b[0m: [Errno 2] No such file or directory: 'images/.jpg'"
     ]
    }
   ],
   "source": [
    "## BẮT ĐẦU CODE Ở ĐÂY ## (ĐẶT TÊN HÌNH ẢNH) \n",
    "my_image = \".jpg\"   # đổi tên file ảnh\n",
    "## KẾT THÚC CODE Ở ĐÂY ##\n",
    "\n",
    "# Tiền xử lý hình ảnh để khớp với thuật toán.\n",
    "fname = \"images/\" + my_image\n",
    "image = Image.open(fname)\n",
    "image = image.resize((num_px,num_px))\n",
    "\n",
    "my_image = np.array(image).reshape((1, num_px*num_px*3)).T\n",
    "my_predicted_image = predict(d[\"w\"], d[\"b\"], my_image)\n",
    "plt.imshow(image)\n",
    "print(\"y = \" + str(np.squeeze(my_predicted_image)) + \", your algorithm predicts a \\\"\" + classes[int(np.squeeze(my_predicted_image)),].decode(\"utf-8\") +  \"\\\" picture.\")"
   ]
  },
  {
   "cell_type": "markdown",
   "metadata": {
    "id": "zk_xmmvA17G4"
   },
   "source": [
    "<font color='blue'>\n",
    "\n",
    "**Những điều cần nhớ từ lab này:**\n",
    "1. Bước tiền xử lý tập dữ liệu khá là quan trọng.\n",
    "2. Chúng ta đã triển khai từng hàm riêng biệt: initialize(), propagate(), optimize() rồi tạo một model().\n",
    "3. Điều chỉnh tốc độ học (ví dụ về \"siêu tham số\") có thể tạo ra sự khác biệt lớn cho thuật toán. Bạn sẽ thấy thêm các ví dụ về điều này sau trong khóa học này!"
   ]
  },
  {
   "cell_type": "markdown",
   "metadata": {
    "id": "u_bUQ5qo17G4"
   },
   "source": [
    "Cuối cùng, nếu bạn muốn, chúng tôi mời bạn hãy thử những thứ khác nhau trên Notebook này. Những điều bạn có thể thử bao gồm:\n",
    "    - Thử với learning rate và số lần lặp lại\n",
    "    - Thử các phương pháp khởi tạo khác nhau và so sánh kết quả\n",
    "    - Kiểm tra các tiền xử lý khác (căn giữa dữ liệu hoặc chia từng hàng theo độ lệch chuẩn của nó)"
   ]
  },
  {
   "cell_type": "markdown",
   "metadata": {
    "id": "O5sYRAJn17G4"
   },
   "source": [
    "Tham khảo:\n",
    "- http://www.wildml.com/2015/09/implementing-a-neural-network-from-scratch/\n",
    "- https://stats.stackexchange.com/questions/211436/why-do-we-normalize-images-by-subtracting-the-datasets-image-mean-and-not-the-c"
   ]
  }
 ],
 "metadata": {
  "colab": {
   "collapsed_sections": [],
   "name": "[VN]Lab_2_2_Hồi quy Logistic.ipynb",
   "provenance": [],
   "toc_visible": true
  },
  "coursera": {
   "course_slug": "neural-networks-deep-learning",
   "graded_item_id": "XaIWT",
   "launcher_item_id": "zAgPl"
  },
  "kernelspec": {
   "display_name": "Python 3 (ipykernel)",
   "language": "python",
   "name": "python3"
  },
  "language_info": {
   "codemirror_mode": {
    "name": "ipython",
    "version": 3
   },
   "file_extension": ".py",
   "mimetype": "text/x-python",
   "name": "python",
   "nbconvert_exporter": "python",
   "pygments_lexer": "ipython3",
   "version": "3.11.1"
  }
 },
 "nbformat": 4,
 "nbformat_minor": 1
}
