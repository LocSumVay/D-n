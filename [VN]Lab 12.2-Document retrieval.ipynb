{
 "cells": [
  {
   "cell_type": "markdown",
   "metadata": {
    "id": "7HGua2N5W60I"
   },
   "source": [
    "**ĐIỀN VÀO ...** NẾU BẠN THẤY CÂU **\"WRITE YOUR CODE HERE\"**"
   ]
  },
  {
   "cell_type": "markdown",
   "metadata": {
    "id": "Y-3URiT_Nnb7"
   },
   "source": [
    "#Truy xuất văn bản từ dữ liệu wikipedia"
   ]
  },
  {
   "cell_type": "code",
   "execution_count": 9,
   "metadata": {
    "id": "zcXUwDYDNnb8"
   },
   "outputs": [],
   "source": [
    "import sklearn, pandas\n",
    "import numpy as np"
   ]
  },
  {
   "cell_type": "markdown",
   "metadata": {
    "id": "NYukripINnb9"
   },
   "source": [
    "#Load một số dữ liệu văn bản - từ wikipedia, các trang về con người"
   ]
  },
  {
   "cell_type": "markdown",
   "metadata": {
    "id": "UeNhXFt_XCGT"
   },
   "source": [
    "Hãy load tập dữ liệu. Tập dữ liệu tên là **\"people_wiki.csv\"**."
   ]
  },
  {
   "cell_type": "code",
   "execution_count": 10,
   "metadata": {
    "id": "RT3SZ9PTNnb-"
   },
   "outputs": [],
   "source": [
    "# WRITE YOUR CODE HERE\n",
    "people = pandas.read_csv(\"people_wiki.csv\")"
   ]
  },
  {
   "cell_type": "markdown",
   "metadata": {
    "id": "xmG6EIf0Nnb-"
   },
   "source": [
    "Dữ liệu chứa: các liên kết tới bài viết trên Wikipedia, tên người, văn bản."
   ]
  },
  {
   "cell_type": "code",
   "execution_count": 12,
   "metadata": {
    "id": "NjNcc2hpNnb-",
    "outputId": "d551cb16-602e-4518-cef3-a48cf92adc95"
   },
   "outputs": [
    {
     "data": {
      "text/html": [
       "<div>\n",
       "<style scoped>\n",
       "    .dataframe tbody tr th:only-of-type {\n",
       "        vertical-align: middle;\n",
       "    }\n",
       "\n",
       "    .dataframe tbody tr th {\n",
       "        vertical-align: top;\n",
       "    }\n",
       "\n",
       "    .dataframe thead th {\n",
       "        text-align: right;\n",
       "    }\n",
       "</style>\n",
       "<table border=\"1\" class=\"dataframe\">\n",
       "  <thead>\n",
       "    <tr style=\"text-align: right;\">\n",
       "      <th></th>\n",
       "      <th>URI</th>\n",
       "      <th>name</th>\n",
       "      <th>text</th>\n",
       "    </tr>\n",
       "  </thead>\n",
       "  <tbody>\n",
       "    <tr>\n",
       "      <th>0</th>\n",
       "      <td>&lt;http://dbpedia.org/resource/Digby_Morrell&gt;</td>\n",
       "      <td>Digby Morrell</td>\n",
       "      <td>digby morrell born 10 october 1979 is a former...</td>\n",
       "    </tr>\n",
       "    <tr>\n",
       "      <th>1</th>\n",
       "      <td>&lt;http://dbpedia.org/resource/Alfred_J._Lewy&gt;</td>\n",
       "      <td>Alfred J. Lewy</td>\n",
       "      <td>alfred j lewy aka sandy lewy graduated from un...</td>\n",
       "    </tr>\n",
       "    <tr>\n",
       "      <th>2</th>\n",
       "      <td>&lt;http://dbpedia.org/resource/Harpdog_Brown&gt;</td>\n",
       "      <td>Harpdog Brown</td>\n",
       "      <td>harpdog brown is a singer and harmonica player...</td>\n",
       "    </tr>\n",
       "    <tr>\n",
       "      <th>3</th>\n",
       "      <td>&lt;http://dbpedia.org/resource/Franz_Rottensteiner&gt;</td>\n",
       "      <td>Franz Rottensteiner</td>\n",
       "      <td>franz rottensteiner born in waidmannsfeld lowe...</td>\n",
       "    </tr>\n",
       "    <tr>\n",
       "      <th>4</th>\n",
       "      <td>&lt;http://dbpedia.org/resource/G-Enka&gt;</td>\n",
       "      <td>G-Enka</td>\n",
       "      <td>henry krvits born 30 december 1974 in tallinn ...</td>\n",
       "    </tr>\n",
       "  </tbody>\n",
       "</table>\n",
       "</div>"
      ],
      "text/plain": [
       "                                                 URI                 name  \\\n",
       "0        <http://dbpedia.org/resource/Digby_Morrell>        Digby Morrell   \n",
       "1       <http://dbpedia.org/resource/Alfred_J._Lewy>       Alfred J. Lewy   \n",
       "2        <http://dbpedia.org/resource/Harpdog_Brown>        Harpdog Brown   \n",
       "3  <http://dbpedia.org/resource/Franz_Rottensteiner>  Franz Rottensteiner   \n",
       "4               <http://dbpedia.org/resource/G-Enka>               G-Enka   \n",
       "\n",
       "                                                text  \n",
       "0  digby morrell born 10 october 1979 is a former...  \n",
       "1  alfred j lewy aka sandy lewy graduated from un...  \n",
       "2  harpdog brown is a singer and harmonica player...  \n",
       "3  franz rottensteiner born in waidmannsfeld lowe...  \n",
       "4  henry krvits born 30 december 1974 in tallinn ...  "
      ]
     },
     "execution_count": 12,
     "metadata": {},
     "output_type": "execute_result"
    }
   ],
   "source": [
    "people.head()"
   ]
  },
  {
   "cell_type": "code",
   "execution_count": 13,
   "metadata": {
    "id": "XEwslO0CNnb_",
    "outputId": "cc691078-6d82-4ec6-8355-b632e0e8b750"
   },
   "outputs": [
    {
     "data": {
      "text/plain": [
       "59071"
      ]
     },
     "execution_count": 13,
     "metadata": {},
     "output_type": "execute_result"
    }
   ],
   "source": [
    "len(people)"
   ]
  },
  {
   "cell_type": "markdown",
   "metadata": {
    "id": "LuO94gknNnb_"
   },
   "source": [
    "#Khám phá tập dữ liệu và kiểm tra văn bản nó chứa\n",
    "\n",
    "##Khám phá mục nhập (entry) cho Tổng thống Obama"
   ]
  },
  {
   "cell_type": "code",
   "execution_count": 14,
   "metadata": {
    "id": "PIuR9Ij1Nnb_"
   },
   "outputs": [],
   "source": [
    "# Trích hàng có tên cột là 'Barack Obama' \n",
    "# WRITE YOUR CODE HERE\n",
    "obama = people[people[\"name\"]=='Barack Obama']"
   ]
  },
  {
   "cell_type": "code",
   "execution_count": 15,
   "metadata": {
    "id": "KNDh0_78NncA",
    "outputId": "44c32811-25de-447a-e736-6e56625e925a"
   },
   "outputs": [
    {
     "data": {
      "text/html": [
       "<div>\n",
       "<style scoped>\n",
       "    .dataframe tbody tr th:only-of-type {\n",
       "        vertical-align: middle;\n",
       "    }\n",
       "\n",
       "    .dataframe tbody tr th {\n",
       "        vertical-align: top;\n",
       "    }\n",
       "\n",
       "    .dataframe thead th {\n",
       "        text-align: right;\n",
       "    }\n",
       "</style>\n",
       "<table border=\"1\" class=\"dataframe\">\n",
       "  <thead>\n",
       "    <tr style=\"text-align: right;\">\n",
       "      <th></th>\n",
       "      <th>URI</th>\n",
       "      <th>name</th>\n",
       "      <th>text</th>\n",
       "    </tr>\n",
       "  </thead>\n",
       "  <tbody>\n",
       "    <tr>\n",
       "      <th>35817</th>\n",
       "      <td>&lt;http://dbpedia.org/resource/Barack_Obama&gt;</td>\n",
       "      <td>Barack Obama</td>\n",
       "      <td>barack hussein obama ii brk husen bm born augu...</td>\n",
       "    </tr>\n",
       "  </tbody>\n",
       "</table>\n",
       "</div>"
      ],
      "text/plain": [
       "                                              URI          name  \\\n",
       "35817  <http://dbpedia.org/resource/Barack_Obama>  Barack Obama   \n",
       "\n",
       "                                                    text  \n",
       "35817  barack hussein obama ii brk husen bm born augu...  "
      ]
     },
     "execution_count": 15,
     "metadata": {},
     "output_type": "execute_result"
    }
   ],
   "source": [
    "obama"
   ]
  },
  {
   "cell_type": "code",
   "execution_count": 12,
   "metadata": {
    "id": "QBqS0qWkNncA",
    "outputId": "ea0dfe21-349f-402a-aa20-a94d4d2f741f"
   },
   "outputs": [
    {
     "data": {
      "text/plain": [
       "'barack hussein obama ii brk husen bm born august 4 1961 is the 44th and current president of the united states and the first african american to hold the office born in honolulu hawaii obama is a graduate of columbia university and harvard law school where he served as president of the harvard law review he was a community organizer in chicago before earning his law degree he worked as a civil rights attorney and taught constitutional law at the university of chicago law school from 1992 to 2004 he served three terms representing the 13th district in the illinois senate from 1997 to 2004 running unsuccessfully for the united states house of representatives in 2000in 2004 obama received national attention during his campaign to represent illinois in the united states senate with his victory in the march democratic party primary his keynote address at the democratic national convention in july and his election to the senate in november he began his presidential campaign in 2007 and after a close primary campaign against hillary rodham clinton in 2008 he won sufficient delegates in the democratic party primaries to receive the presidential nomination he then defeated republican nominee john mccain in the general election and was inaugurated as president on january 20 2009 nine months after his election obama was named the 2009 nobel peace prize laureateduring his first two years in office obama signed into law economic stimulus legislation in response to the great recession in the form of the american recovery and reinvestment act of 2009 and the tax relief unemployment insurance reauthorization and job creation act of 2010 other major domestic initiatives in his first term included the patient protection and affordable care act often referred to as obamacare the doddfrank wall street reform and consumer protection act and the dont ask dont tell repeal act of 2010 in foreign policy obama ended us military involvement in the iraq war increased us troop levels in afghanistan signed the new start arms control treaty with russia ordered us military involvement in libya and ordered the military operation that resulted in the death of osama bin laden in january 2011 the republicans regained control of the house of representatives as the democratic party lost a total of 63 seats and after a lengthy debate over federal spending and whether or not to raise the nations debt limit obama signed the budget control act of 2011 and the american taxpayer relief act of 2012obama was reelected president in november 2012 defeating republican nominee mitt romney and was sworn in for a second term on january 20 2013 during his second term obama has promoted domestic policies related to gun control in response to the sandy hook elementary school shooting and has called for full equality for lgbt americans while his administration has filed briefs which urged the supreme court to strike down the defense of marriage act of 1996 and californias proposition 8 as unconstitutional in foreign policy obama ordered us military involvement in iraq in response to gains made by the islamic state in iraq after the 2011 withdrawal from iraq continued the process of ending us combat operations in afghanistan and has sought to normalize us relations with cuba'"
      ]
     },
     "execution_count": 12,
     "metadata": {},
     "output_type": "execute_result"
    }
   ],
   "source": [
    "obama['text'].values[0]"
   ]
  },
  {
   "cell_type": "markdown",
   "metadata": {
    "id": "LafIqv1dNncA"
   },
   "source": [
    "##Khám phá mục nhập cho nam diễn viên George Clooney"
   ]
  },
  {
   "cell_type": "code",
   "execution_count": 13,
   "metadata": {
    "id": "thnNRR8pNncB",
    "outputId": "e1e1ef42-6ba6-4ea6-8a98-64d26985a79e"
   },
   "outputs": [
    {
     "data": {
      "text/plain": [
       "'george timothy clooney born may 6 1961 is an american actor writer producer director and activist he has received three golden globe awards for his work as an actor and two academy awards one for acting and the other for producingclooney made his acting debut on television in 1978 and later gained wide recognition in his role as dr doug ross on the longrunning medical drama er from 1994 to 1999 for which he received two emmy award nominations while working on er he began attracting a variety of leading roles in films including the superhero film batman robin 1997 and the crime comedy out of sight 1998 in which he first worked with a director who would become a longtime collaborator steven soderbergh in 1999 clooney took the lead role in three kings a wellreceived war satire set during the gulf warin 2001 clooneys fame widened with the release of his biggest commercial success the heist comedy oceans eleven the first of the film trilogy a remake of the 1960 film with frank sinatra as danny ocean he made his directorial debut a year later with the biographical thriller confessions of a dangerous mind and has since directed the drama good night and good luck 2005 the sports comedy leatherheads 2008 the political drama the ides of march 2011 and the comedydrama war film the monuments men 2014he won an academy award for best supporting actor for the middle east thriller syriana 2005 and subsequently earned best actor nominations for the legal thriller michael clayton 2007 the comedydrama up in the air 2009 and the drama the descendants 2011 in 2013 he received the academy award for best picture for producing the political thriller argo alongside ben affleck and grant heslov he is the only person ever to be nominated for academy awards in six categoriesclooney is sometimes described as one of the most handsome men in the world in 2005 tv guide ranked clooney no 1 on its 50 sexiest stars of all time list in 2009 he was included in times annual time 100 as one of the most influential people in the world clooney is also noted for his political activism and has served as one of the united nations messengers of peace since january 31 2008 his humanitarian work includes his advocacy of finding a resolution for the darfur conflict raising funds for the 2010 haiti earthquake 2004 tsunami and 911 victims and creating documentaries such as sand and sorrow to raise awareness about international crises he is also a member of the council on foreign relations'"
      ]
     },
     "execution_count": 13,
     "metadata": {},
     "output_type": "execute_result"
    }
   ],
   "source": [
    "# Trích hàng có tên cột là 'George Clooney'\n",
    "# WRITE YOUR CODE HERE\n",
    "clooney = people[people[\"name\"]=='George Clooney']\n",
    "clooney['text'].values[0]"
   ]
  },
  {
   "cell_type": "markdown",
   "metadata": {
    "id": "F4qnL7DRNncB"
   },
   "source": [
    "#Đếm từ cho bài viết về Obama"
   ]
  },
  {
   "cell_type": "code",
   "execution_count": 16,
   "metadata": {
    "id": "TM3EA2QONncB"
   },
   "outputs": [
    {
     "name": "stdout",
     "output_type": "stream",
     "text": [
      "{'barack': 1, 'hussein': 1, 'obama': 9, 'ii': 1, 'brk': 1, 'husen': 1, 'bm': 1, 'born': 2, 'august': 1, '4': 1, '1961': 1, 'is': 2, 'the': 40, '44th': 1, 'and': 21, 'current': 1, 'president': 4, 'of': 18, 'united': 3, 'states': 3, 'first': 3, 'african': 1, 'american': 3, 'to': 14, 'hold': 1, 'office': 2, 'in': 30, 'honolulu': 1, 'hawaii': 1, 'a': 7, 'graduate': 1, 'columbia': 1, 'university': 2, 'harvard': 2, 'law': 6, 'school': 3, 'where': 1, 'he': 7, 'served': 2, 'as': 6, 'review': 1, 'was': 5, 'community': 1, 'organizer': 1, 'chicago': 2, 'before': 1, 'earning': 1, 'his': 11, 'degree': 1, 'worked': 1, 'civil': 1, 'rights': 1, 'attorney': 1, 'taught': 1, 'constitutional': 1, 'at': 2, 'from': 3, '1992': 1, '2004': 3, 'three': 1, 'terms': 1, 'representing': 1, '13th': 1, 'district': 1, 'illinois': 2, 'senate': 3, '1997': 1, 'running': 1, 'unsuccessfully': 1, 'for': 4, 'house': 2, 'representatives': 2, '2000in': 1, 'received': 1, 'national': 2, 'attention': 1, 'during': 2, 'campaign': 3, 'represent': 1, 'with': 3, 'victory': 1, 'march': 1, 'democratic': 4, 'party': 3, 'primary': 2, 'keynote': 1, 'address': 1, 'convention': 1, 'july': 1, 'election': 3, 'november': 2, 'began': 1, 'presidential': 2, '2007': 1, 'after': 4, 'close': 1, 'against': 1, 'hillary': 1, 'rodham': 1, 'clinton': 1, '2008': 1, 'won': 1, 'sufficient': 1, 'delegates': 1, 'primaries': 1, 'receive': 1, 'nomination': 1, 'then': 1, 'defeated': 1, 'republican': 2, 'nominee': 2, 'john': 1, 'mccain': 1, 'general': 1, 'inaugurated': 1, 'on': 2, 'january': 3, '20': 2, '2009': 3, 'nine': 1, 'months': 1, 'named': 1, 'nobel': 1, 'peace': 1, 'prize': 1, 'laureateduring': 1, 'two': 1, 'years': 1, 'signed': 3, 'into': 1, 'economic': 1, 'stimulus': 1, 'legislation': 1, 'response': 3, 'great': 1, 'recession': 1, 'form': 1, 'recovery': 1, 'reinvestment': 1, 'act': 8, 'tax': 1, 'relief': 2, 'unemployment': 1, 'insurance': 1, 'reauthorization': 1, 'job': 1, 'creation': 1, '2010': 2, 'other': 1, 'major': 1, 'domestic': 2, 'initiatives': 1, 'term': 3, 'included': 1, 'patient': 1, 'protection': 2, 'affordable': 1, 'care': 1, 'often': 1, 'referred': 1, 'obamacare': 1, 'doddfrank': 1, 'wall': 1, 'street': 1, 'reform': 1, 'consumer': 1, 'dont': 2, 'ask': 1, 'tell': 1, 'repeal': 1, 'foreign': 2, 'policy': 2, 'ended': 1, 'us': 6, 'military': 4, 'involvement': 3, 'iraq': 4, 'war': 1, 'increased': 1, 'troop': 1, 'levels': 1, 'afghanistan': 2, 'new': 1, 'start': 1, 'arms': 1, 'control': 4, 'treaty': 1, 'russia': 1, 'ordered': 3, 'libya': 1, 'operation': 1, 'that': 1, 'resulted': 1, 'death': 1, 'osama': 1, 'bin': 1, 'laden': 1, '2011': 3, 'republicans': 1, 'regained': 1, 'lost': 1, 'total': 1, '63': 1, 'seats': 1, 'lengthy': 1, 'debate': 1, 'over': 1, 'federal': 1, 'spending': 1, 'whether': 1, 'or': 1, 'not': 1, 'raise': 1, 'nations': 1, 'debt': 1, 'limit': 1, 'budget': 1, 'taxpayer': 1, '2012obama': 1, 'reelected': 1, '2012': 1, 'defeating': 1, 'mitt': 1, 'romney': 1, 'sworn': 1, 'second': 2, '2013': 1, 'has': 4, 'promoted': 1, 'policies': 1, 'related': 1, 'gun': 1, 'sandy': 1, 'hook': 1, 'elementary': 1, 'shooting': 1, 'called': 1, 'full': 1, 'equality': 1, 'lgbt': 1, 'americans': 1, 'while': 1, 'administration': 1, 'filed': 1, 'briefs': 1, 'which': 1, 'urged': 1, 'supreme': 1, 'court': 1, 'strike': 1, 'down': 1, 'defense': 1, 'marriage': 1, '1996': 1, 'californias': 1, 'proposition': 1, '8': 1, 'unconstitutional': 1, 'gains': 1, 'made': 1, 'by': 1, 'islamic': 1, 'state': 1, 'withdrawal': 1, 'continued': 1, 'process': 1, 'ending': 1, 'combat': 1, 'operations': 1, 'sought': 1, 'normalize': 1, 'relations': 1, 'cuba': 1}\n"
     ]
    }
   ],
   "source": [
    "#import word_tokenize từ nltk.tokenize\n",
    "def word_count_function(string):\n",
    "  \"\"\"This function will return a dictionary \n",
    "  where its key is the word from the string (input) and \n",
    "  its value is the number of the appearance of this word in the string\"\"\"\n",
    "  count = {}\n",
    "  for word in string.strip().split():\n",
    "    count[word] = count.get(word, 0) + 1\n",
    "\n",
    "  # WRITE YOUR CODE HERE\n",
    "  return count\n",
    "obama_word_count = obama['text'].map(word_count_function)\n",
    "print(obama_word_count.values[0])"
   ]
  },
  {
   "cell_type": "code",
   "execution_count": null,
   "metadata": {
    "id": "Qfdu1ssDNncB",
    "outputId": "418a3a34-64c0-43bc-a8a7-dc9db93cf831"
   },
   "outputs": [
    {
     "name": "stdout",
     "output_type": "stream",
     "text": [
      "{'war': 1, 'administration': 1, 'levels': 1, 'against': 1, '2008': 1, 'defense': 1, 'bm': 1, 'treaty': 1, 'sufficient': 1, 'strike': 1, 'african': 1, 'presidential': 2, 'unsuccessfully': 1, 'two': 1, 'act': 8, 'representatives': 2, 'house': 2, 'doddfrank': 1, 'street': 1, 'job': 1, '63': 1, 'made': 1, 'chicago': 2, 'policies': 1, 'process': 1, 'withdrawal': 1, 'debate': 1, 'hook': 1, 'nine': 1, 'gains': 1, '2000in': 1, 'sought': 1, 'signed': 3, 'hawaii': 1, 'review': 1, 'response': 3, 'three': 1, 'filed': 1, 'campaign': 3, 'legislation': 1, 'was': 5, 'after': 4, 'lengthy': 1, '2009': 3, 'marriage': 1, 'began': 1, '2013': 1, 'whether': 1, 'rights': 1, 'running': 1, 'iraq': 4, 'unconstitutional': 1, 'stimulus': 1, 'cuba': 1, 'party': 3, '2007': 1, 'district': 1, 'for': 4, 'where': 1, 'normalize': 1, 'husen': 1, 'urged': 1, 'defeating': 1, 'won': 1, '8': 1, 'received': 1, 'at': 2, 'election': 3, 'hold': 1, 'initiatives': 1, 'honolulu': 1, 'control': 4, 'terms': 1, '2004': 3, 'to': 14, 'clinton': 1, 'republicans': 1, 'seats': 1, 'protection': 2, 'that': 1, 'taxpayer': 1, 'harvard': 2, 'often': 1, 'of': 18, 'nominee': 2, 'or': 1, 'operations': 1, 'rodham': 1, 'while': 1, 'prize': 1, 'in': 30, 'reinvestment': 1, 'attention': 1, 'from': 3, 'obama': 9, 'repeal': 1, 'gun': 1, '1997': 1, '2012': 1, 'law': 6, 'keynote': 1, 'shooting': 1, 'sandy': 1, 'elementary': 1, '2010': 2, 'great': 1, 'form': 1, 'promoted': 1, 'years': 1, 'arms': 1, 'primary': 2, 'november': 2, 'general': 1, 'term': 3, 'relations': 1, 'care': 1, 'with': 3, 'recovery': 1, 'worked': 1, 'victory': 1, 'office': 2, 'russia': 1, 'included': 1, 'libya': 1, 'equality': 1, 'involvement': 3, 'operation': 1, 'nations': 1, 'barack': 1, 'is': 2, 'community': 1, 'affordable': 1, 'regained': 1, 'nomination': 1, 'defeated': 1, 'economic': 1, 'current': 1, 'named': 1, '20': 2, 'months': 1, 'john': 1, 'columbia': 1, 'graduate': 1, 'ii': 1, 'start': 1, 'other': 1, 'president': 4, 'state': 1, 'address': 1, 'into': 1, 'represent': 1, 'his': 11, 'republican': 2, 'resulted': 1, 'states': 3, 'united': 3, 'reelected': 1, 'referred': 1, 'ending': 1, 'over': 1, 'total': 1, 'delegates': 1, 'laden': 1, 'major': 1, 'attorney': 1, 'new': 1, 'bin': 1, 'called': 1, 'sworn': 1, 'american': 3, 'mitt': 1, 'democratic': 4, 'peace': 1, 'court': 1, 'tax': 1, 'primaries': 1, '44th': 1, 'unemployment': 1, 'nobel': 1, 'senate': 3, 'continued': 1, 'briefs': 1, 'consumer': 1, 'related': 1, 'national': 2, 'march': 1, '1996': 1, 'civil': 1, '13th': 1, 'inaugurated': 1, 'hillary': 1, 'taught': 1, 'americans': 1, 'down': 1, 'has': 4, 'military': 4, 'receive': 1, 'born': 2, 'and': 21, '1992': 1, 'budget': 1, 'recession': 1, 'first': 3, 'then': 1, 'californias': 1, 'increased': 1, 'policy': 2, 'reauthorization': 1, 'illinois': 2, 'insurance': 1, 'federal': 1, 'he': 7, 'combat': 1, 'debt': 1, 'january': 3, 'degree': 1, 'full': 1, 'islamic': 1, 'convention': 1, '4': 1, 'by': 1, 'organizer': 1, 'dont': 2, 'supreme': 1, 'reform': 1, 'domestic': 2, 'tell': 1, 'not': 1, 'university': 2, 'representing': 1, 'earning': 1, 'brk': 1, 'patient': 1, 'lost': 1, 'a': 7, 'hussein': 1, 'raise': 1, 'afghanistan': 2, 'obamacare': 1, 'august': 1, 'close': 1, 'death': 1, 'proposition': 1, 'school': 3, 'before': 1, 'laureateduring': 1, 'on': 2, 'the': 40, 'ordered': 3, '1961': 1, 'as': 6, 'july': 1, '2011': 3, 'spending': 1, 'wall': 1, 'romney': 1, 'ask': 1, 'creation': 1, 'which': 1, 'relief': 2, 'second': 2, 'limit': 1, 'osama': 1, 'constitutional': 1, 'troop': 1, 'during': 2, '2012obama': 1, 'lgbt': 1, 'mccain': 1, 'ended': 1, 'us': 6, 'served': 2, 'foreign': 2}\n"
     ]
    }
   ],
   "source": [
    "print(obama_word_count.values[0])"
   ]
  },
  {
   "cell_type": "markdown",
   "metadata": {
    "id": "_azNkpdENncC"
   },
   "source": [
    "##Sắp xếp đếm từ cho bài viết về Obama"
   ]
  },
  {
   "cell_type": "markdown",
   "metadata": {
    "id": "27tUVhlCNncC"
   },
   "source": [
    "###Chuyển dictonary các từ thành một bảng "
   ]
  },
  {
   "cell_type": "code",
   "execution_count": 19,
   "metadata": {
    "id": "qj9oMkJpNncC"
   },
   "outputs": [],
   "source": [
    "obama_word_count_table = pandas.DataFrame.from_dict(obama_word_count.values[0], orient=\"index\", columns=[\"count\"])"
   ]
  },
  {
   "cell_type": "markdown",
   "metadata": {
    "id": "333Ty8KFNncC"
   },
   "source": [
    "###Sắp xếp đếm từ để hiển thị top các từ phổ biến nhất"
   ]
  },
  {
   "cell_type": "code",
   "execution_count": 20,
   "metadata": {
    "id": "xpEv3WGlNncC",
    "outputId": "c5f24a4c-f6ad-4dc6-d853-73115cef3652"
   },
   "outputs": [
    {
     "data": {
      "text/html": [
       "<div>\n",
       "<style scoped>\n",
       "    .dataframe tbody tr th:only-of-type {\n",
       "        vertical-align: middle;\n",
       "    }\n",
       "\n",
       "    .dataframe tbody tr th {\n",
       "        vertical-align: top;\n",
       "    }\n",
       "\n",
       "    .dataframe thead th {\n",
       "        text-align: right;\n",
       "    }\n",
       "</style>\n",
       "<table border=\"1\" class=\"dataframe\">\n",
       "  <thead>\n",
       "    <tr style=\"text-align: right;\">\n",
       "      <th></th>\n",
       "      <th>count</th>\n",
       "    </tr>\n",
       "  </thead>\n",
       "  <tbody>\n",
       "    <tr>\n",
       "      <th>barack</th>\n",
       "      <td>1</td>\n",
       "    </tr>\n",
       "    <tr>\n",
       "      <th>hussein</th>\n",
       "      <td>1</td>\n",
       "    </tr>\n",
       "    <tr>\n",
       "      <th>obama</th>\n",
       "      <td>9</td>\n",
       "    </tr>\n",
       "    <tr>\n",
       "      <th>ii</th>\n",
       "      <td>1</td>\n",
       "    </tr>\n",
       "    <tr>\n",
       "      <th>brk</th>\n",
       "      <td>1</td>\n",
       "    </tr>\n",
       "  </tbody>\n",
       "</table>\n",
       "</div>"
      ],
      "text/plain": [
       "         count\n",
       "barack       1\n",
       "hussein      1\n",
       "obama        9\n",
       "ii           1\n",
       "brk          1"
      ]
     },
     "execution_count": 20,
     "metadata": {},
     "output_type": "execute_result"
    }
   ],
   "source": [
    "obama_word_count_table.head()"
   ]
  },
  {
   "cell_type": "code",
   "execution_count": 21,
   "metadata": {
    "id": "6VyFuEQyNncD",
    "outputId": "8ac84788-4ba9-474f-feec-464d3ed07d8e"
   },
   "outputs": [
    {
     "data": {
      "text/html": [
       "<div>\n",
       "<style scoped>\n",
       "    .dataframe tbody tr th:only-of-type {\n",
       "        vertical-align: middle;\n",
       "    }\n",
       "\n",
       "    .dataframe tbody tr th {\n",
       "        vertical-align: top;\n",
       "    }\n",
       "\n",
       "    .dataframe thead th {\n",
       "        text-align: right;\n",
       "    }\n",
       "</style>\n",
       "<table border=\"1\" class=\"dataframe\">\n",
       "  <thead>\n",
       "    <tr style=\"text-align: right;\">\n",
       "      <th></th>\n",
       "      <th>count</th>\n",
       "    </tr>\n",
       "  </thead>\n",
       "  <tbody>\n",
       "    <tr>\n",
       "      <th>the</th>\n",
       "      <td>40</td>\n",
       "    </tr>\n",
       "    <tr>\n",
       "      <th>in</th>\n",
       "      <td>30</td>\n",
       "    </tr>\n",
       "    <tr>\n",
       "      <th>and</th>\n",
       "      <td>21</td>\n",
       "    </tr>\n",
       "    <tr>\n",
       "      <th>of</th>\n",
       "      <td>18</td>\n",
       "    </tr>\n",
       "    <tr>\n",
       "      <th>to</th>\n",
       "      <td>14</td>\n",
       "    </tr>\n",
       "    <tr>\n",
       "      <th>...</th>\n",
       "      <td>...</td>\n",
       "    </tr>\n",
       "    <tr>\n",
       "      <th>laureateduring</th>\n",
       "      <td>1</td>\n",
       "    </tr>\n",
       "    <tr>\n",
       "      <th>two</th>\n",
       "      <td>1</td>\n",
       "    </tr>\n",
       "    <tr>\n",
       "      <th>years</th>\n",
       "      <td>1</td>\n",
       "    </tr>\n",
       "    <tr>\n",
       "      <th>into</th>\n",
       "      <td>1</td>\n",
       "    </tr>\n",
       "    <tr>\n",
       "      <th>cuba</th>\n",
       "      <td>1</td>\n",
       "    </tr>\n",
       "  </tbody>\n",
       "</table>\n",
       "<p>273 rows × 1 columns</p>\n",
       "</div>"
      ],
      "text/plain": [
       "                count\n",
       "the                40\n",
       "in                 30\n",
       "and                21\n",
       "of                 18\n",
       "to                 14\n",
       "...               ...\n",
       "laureateduring      1\n",
       "two                 1\n",
       "years               1\n",
       "into                1\n",
       "cuba                1\n",
       "\n",
       "[273 rows x 1 columns]"
      ]
     },
     "execution_count": 21,
     "metadata": {},
     "output_type": "execute_result"
    }
   ],
   "source": [
    "obama_word_count_table.sort_values('count',ascending=False)"
   ]
  },
  {
   "cell_type": "markdown",
   "metadata": {
    "id": "PHCf5-BbNncD"
   },
   "source": [
    "Các từ phổ biến nhất gồm các từ không có tính thông tin như \"the\", \"in\", \"and\",..."
   ]
  },
  {
   "cell_type": "markdown",
   "metadata": {
    "id": "0gRnELIWNncD"
   },
   "source": [
    "#Tính TF-IDF cho kho ngữ liệu \n",
    "\n",
    "Để đưa nhiều trọng số hơn cho các từ có tính thông tin, chúng ta tính bằng điểm TF-IDF."
   ]
  },
  {
   "cell_type": "code",
   "execution_count": 17,
   "metadata": {
    "id": "4gNbeBx3NncD",
    "outputId": "848c7da0-518e-45ad-d72d-77b76649aaf9"
   },
   "outputs": [
    {
     "data": {
      "text/html": [
       "<div>\n",
       "<style scoped>\n",
       "    .dataframe tbody tr th:only-of-type {\n",
       "        vertical-align: middle;\n",
       "    }\n",
       "\n",
       "    .dataframe tbody tr th {\n",
       "        vertical-align: top;\n",
       "    }\n",
       "\n",
       "    .dataframe thead th {\n",
       "        text-align: right;\n",
       "    }\n",
       "</style>\n",
       "<table border=\"1\" class=\"dataframe\">\n",
       "  <thead>\n",
       "    <tr style=\"text-align: right;\">\n",
       "      <th></th>\n",
       "      <th>URI</th>\n",
       "      <th>name</th>\n",
       "      <th>text</th>\n",
       "      <th>word_count</th>\n",
       "    </tr>\n",
       "  </thead>\n",
       "  <tbody>\n",
       "    <tr>\n",
       "      <th>0</th>\n",
       "      <td>&lt;http://dbpedia.org/resource/Digby_Morrell&gt;</td>\n",
       "      <td>Digby Morrell</td>\n",
       "      <td>digby morrell born 10 october 1979 is a former...</td>\n",
       "      <td>{'digby': 1, 'morrell': 5, 'born': 1, '10': 1,...</td>\n",
       "    </tr>\n",
       "    <tr>\n",
       "      <th>1</th>\n",
       "      <td>&lt;http://dbpedia.org/resource/Alfred_J._Lewy&gt;</td>\n",
       "      <td>Alfred J. Lewy</td>\n",
       "      <td>alfred j lewy aka sandy lewy graduated from un...</td>\n",
       "      <td>{'alfred': 1, 'j': 1, 'lewy': 3, 'aka': 1, 'sa...</td>\n",
       "    </tr>\n",
       "    <tr>\n",
       "      <th>2</th>\n",
       "      <td>&lt;http://dbpedia.org/resource/Harpdog_Brown&gt;</td>\n",
       "      <td>Harpdog Brown</td>\n",
       "      <td>harpdog brown is a singer and harmonica player...</td>\n",
       "      <td>{'harpdog': 2, 'brown': 2, 'is': 7, 'a': 7, 's...</td>\n",
       "    </tr>\n",
       "    <tr>\n",
       "      <th>3</th>\n",
       "      <td>&lt;http://dbpedia.org/resource/Franz_Rottensteiner&gt;</td>\n",
       "      <td>Franz Rottensteiner</td>\n",
       "      <td>franz rottensteiner born in waidmannsfeld lowe...</td>\n",
       "      <td>{'franz': 1, 'rottensteiner': 3, 'born': 1, 'i...</td>\n",
       "    </tr>\n",
       "    <tr>\n",
       "      <th>4</th>\n",
       "      <td>&lt;http://dbpedia.org/resource/G-Enka&gt;</td>\n",
       "      <td>G-Enka</td>\n",
       "      <td>henry krvits born 30 december 1974 in tallinn ...</td>\n",
       "      <td>{'henry': 1, 'krvits': 1, 'born': 1, '30': 1, ...</td>\n",
       "    </tr>\n",
       "  </tbody>\n",
       "</table>\n",
       "</div>"
      ],
      "text/plain": [
       "                                                 URI                 name  \\\n",
       "0        <http://dbpedia.org/resource/Digby_Morrell>        Digby Morrell   \n",
       "1       <http://dbpedia.org/resource/Alfred_J._Lewy>       Alfred J. Lewy   \n",
       "2        <http://dbpedia.org/resource/Harpdog_Brown>        Harpdog Brown   \n",
       "3  <http://dbpedia.org/resource/Franz_Rottensteiner>  Franz Rottensteiner   \n",
       "4               <http://dbpedia.org/resource/G-Enka>               G-Enka   \n",
       "\n",
       "                                                text  \\\n",
       "0  digby morrell born 10 october 1979 is a former...   \n",
       "1  alfred j lewy aka sandy lewy graduated from un...   \n",
       "2  harpdog brown is a singer and harmonica player...   \n",
       "3  franz rottensteiner born in waidmannsfeld lowe...   \n",
       "4  henry krvits born 30 december 1974 in tallinn ...   \n",
       "\n",
       "                                          word_count  \n",
       "0  {'digby': 1, 'morrell': 5, 'born': 1, '10': 1,...  \n",
       "1  {'alfred': 1, 'j': 1, 'lewy': 3, 'aka': 1, 'sa...  \n",
       "2  {'harpdog': 2, 'brown': 2, 'is': 7, 'a': 7, 's...  \n",
       "3  {'franz': 1, 'rottensteiner': 3, 'born': 1, 'i...  \n",
       "4  {'henry': 1, 'krvits': 1, 'born': 1, '30': 1, ...  "
      ]
     },
     "execution_count": 17,
     "metadata": {},
     "output_type": "execute_result"
    }
   ],
   "source": [
    "people['word_count'] = people['text'].map(word_count_function)\n",
    "people.head()"
   ]
  },
  {
   "cell_type": "code",
   "execution_count": 18,
   "metadata": {
    "id": "MTrKHEuCNncD"
   },
   "outputs": [],
   "source": [
    "#tfidf = graphlab.text_analytics.tf_idf(people['word_count'])\n",
    "#tfidf\n",
    "from sklearn.feature_extraction.text import TfidfVectorizer\n",
    "tfidf_vectorizer = TfidfVectorizer(stop_words=\"english\")\n",
    "people_tfidf = tfidf_vectorizer.fit_transform(people['text'])"
   ]
  },
  {
   "cell_type": "code",
   "execution_count": 20,
   "metadata": {},
   "outputs": [
    {
     "name": "stdout",
     "output_type": "stream",
     "text": [
      "  (0, 322918)\t0.05308254643727061\n",
      "  (0, 130913)\t0.027795544835545537\n",
      "  (0, 373109)\t0.07060247410892721\n",
      "  (0, 174771)\t0.03742390918966249\n",
      "  (0, 383207)\t0.0542700124339163\n",
      "  (0, 482852)\t0.051770410651786454\n",
      "  (0, 147428)\t0.028617227269444004\n",
      "  (0, 174196)\t0.12255687612682609\n",
      "  (0, 129366)\t0.09559038803738366\n",
      "  (0, 128892)\t0.0541700843509251\n",
      "  (0, 27213)\t0.03480557660145588\n",
      "  (0, 394842)\t0.06014654630415581\n",
      "  (0, 164205)\t0.04113331980526983\n",
      "  (0, 394807)\t0.05074407036053547\n",
      "  (0, 25312)\t0.029325352107211045\n",
      "  (0, 163788)\t0.04095821011917798\n",
      "  (0, 184443)\t0.07607091014079385\n",
      "  (0, 470165)\t0.10311249965891885\n",
      "  (0, 26651)\t0.03206215198258099\n",
      "  (0, 23789)\t0.027828860445736917\n",
      "  (0, 418176)\t0.05223469943131137\n",
      "  (0, 233153)\t0.0708309480873859\n",
      "  (0, 238152)\t0.052020451818608295\n",
      "  (0, 97831)\t0.06049721051635956\n",
      "  (0, 447523)\t0.07194870748679201\n",
      "  :\t:\n",
      "  (59070, 221273)\t0.03822986047891974\n",
      "  (59070, 407537)\t0.06934345407998682\n",
      "  (59070, 365685)\t0.051790318896409525\n",
      "  (59070, 224828)\t0.1024167685944011\n",
      "  (59070, 293218)\t0.048612720037428184\n",
      "  (59070, 391933)\t0.05021948122330615\n",
      "  (59070, 482857)\t0.04734833253735749\n",
      "  (59070, 416105)\t0.10674654428424149\n",
      "  (59070, 191527)\t0.03789100288305972\n",
      "  (59070, 481988)\t0.04449319995755075\n",
      "  (59070, 155328)\t0.06842469237070083\n",
      "  (59070, 418361)\t0.03727964727082714\n",
      "  (59070, 302271)\t0.04142317693408345\n",
      "  (59070, 396740)\t0.05559835116451443\n",
      "  (59070, 357210)\t0.03956345124451919\n",
      "  (59070, 263746)\t0.0667198586427797\n",
      "  (59070, 107782)\t0.03559186557890622\n",
      "  (59070, 414744)\t0.034775210228923825\n",
      "  (59070, 466577)\t0.06530918202691748\n",
      "  (59070, 509144)\t0.05937894750366788\n",
      "  (59070, 434804)\t0.05263982871204118\n",
      "  (59070, 509445)\t0.02135864816493231\n",
      "  (59070, 130913)\t0.029613681880755503\n",
      "  (59070, 22237)\t0.02876604518305057\n",
      "  (59070, 528963)\t0.12495220684053801\n"
     ]
    }
   ],
   "source": [
    "print(people_tfidf)"
   ]
  },
  {
   "cell_type": "markdown",
   "metadata": {
    "id": "n-VaTUlxNncE"
   },
   "source": [
    "##Kiểm tra TF-IDF cho các bài viết về Obama"
   ]
  },
  {
   "cell_type": "code",
   "execution_count": 24,
   "metadata": {
    "id": "ygmnB2ZgNncE"
   },
   "outputs": [],
   "source": [
    "#obama = people[people['name'] == 'Barack Obama']\n",
    "tf_idf_values = tfidf_vectorizer.idf_\n",
    "tf_idf_vocab = tfidf_vectorizer.vocabulary_\n",
    "obama_words_tfidf_values = {k: count * tf_idf_values[tf_idf_vocab[k]] for k, count in obama_word_count.values[0].items() if k in tf_idf_vocab}"
   ]
  },
  {
   "cell_type": "code",
   "execution_count": 25,
   "metadata": {
    "id": "8Fj5gSLQNncE",
    "outputId": "c1a61b96-0a7f-4078-827f-5700237c6a46"
   },
   "outputs": [
    {
     "data": {
      "text/html": [
       "<div>\n",
       "<style scoped>\n",
       "    .dataframe tbody tr th:only-of-type {\n",
       "        vertical-align: middle;\n",
       "    }\n",
       "\n",
       "    .dataframe tbody tr th {\n",
       "        vertical-align: top;\n",
       "    }\n",
       "\n",
       "    .dataframe thead th {\n",
       "        text-align: right;\n",
       "    }\n",
       "</style>\n",
       "<table border=\"1\" class=\"dataframe\">\n",
       "  <thead>\n",
       "    <tr style=\"text-align: right;\">\n",
       "      <th></th>\n",
       "      <th>tfidf</th>\n",
       "    </tr>\n",
       "  </thead>\n",
       "  <tbody>\n",
       "    <tr>\n",
       "      <th>obama</th>\n",
       "      <td>52.277114</td>\n",
       "    </tr>\n",
       "    <tr>\n",
       "      <th>act</th>\n",
       "      <td>35.674051</td>\n",
       "    </tr>\n",
       "    <tr>\n",
       "      <th>iraq</th>\n",
       "      <td>21.741728</td>\n",
       "    </tr>\n",
       "    <tr>\n",
       "      <th>law</th>\n",
       "      <td>20.721856</td>\n",
       "    </tr>\n",
       "    <tr>\n",
       "      <th>control</th>\n",
       "      <td>18.884330</td>\n",
       "    </tr>\n",
       "  </tbody>\n",
       "</table>\n",
       "</div>"
      ],
      "text/plain": [
       "             tfidf\n",
       "obama    52.277114\n",
       "act      35.674051\n",
       "iraq     21.741728\n",
       "law      20.721856\n",
       "control  18.884330"
      ]
     },
     "execution_count": 25,
     "metadata": {},
     "output_type": "execute_result"
    }
   ],
   "source": [
    "#obama[['tfidf']].stack('tfidf',new_column_name=['word','tfidf']).sort('tfidf',ascending=False)\n",
    "obama_word_tfidf_table = pandas.DataFrame.from_dict(obama_words_tfidf_values, orient=\"index\", columns=[\"tfidf\"])\n",
    "obama_word_tfidf_table.sort_values('tfidf', ascending=False).head()"
   ]
  },
  {
   "cell_type": "markdown",
   "metadata": {
    "id": "69repZ08NncE"
   },
   "source": [
    "Các từ có TF-IDF cao nhất có nhiều tính thông tin hơn."
   ]
  },
  {
   "cell_type": "markdown",
   "metadata": {
    "id": "nIefOtwpNncE"
   },
   "source": [
    "#Tính thủ công khoảng cách giữa một số bài viết về con người\n",
    "\n",
    "Hãy tính khoảng cách giữa một số bài viết về những người nổi tiếng."
   ]
  },
  {
   "cell_type": "code",
   "execution_count": 26,
   "metadata": {
    "id": "GjwyotLRNncF"
   },
   "outputs": [],
   "source": [
    "# Trích các hàng có tên cột là 'Bill Clinton' và 'David Beckham'\n",
    "# WRITE YOUR CODE HERE\n",
    "\n",
    "clinton = people[people[\"name\"]=='Bill Clinton']\n",
    "beckham = people[people[\"name\"]=='David Beckham']"
   ]
  },
  {
   "cell_type": "code",
   "execution_count": 27,
   "metadata": {
    "id": "jLStlbH6NncF"
   },
   "outputs": [],
   "source": [
    "# xây dựng một vectơ TF-IDF cho clinton and beckham\n",
    "# WRITE YOUR CODE HERE\n",
    "\n",
    "obama_tfidf = tfidf_vectorizer.transform(obama['text'])[0]\n",
    "clinton_tfidf = tfidf_vectorizer.transform(clinton['text'])[0]\n",
    "beckham_tfidf = tfidf_vectorizer.transform(beckham['text'])[0]"
   ]
  },
  {
   "cell_type": "markdown",
   "metadata": {
    "id": "_0r9R919NncF"
   },
   "source": [
    "##Obama có tương tự với Clinton hơn Beckham không?\n",
    "\n",
    "Chúng ta sẽ sử dụng khoảng cách cosin tính theo \n",
    "\n",
    "(1-cosine_similarity) \n",
    "\n",
    "và tìm ra bài viết về Tổng thống Obama tương tự với cựu Tổng thống Clinton hơn cầu thủ bóng đá David Beckham."
   ]
  },
  {
   "cell_type": "code",
   "execution_count": 28,
   "metadata": {
    "id": "SXUcgLIkNncF",
    "outputId": "79227a4f-c44b-4f77-866a-6005823de30c"
   },
   "outputs": [
    {
     "data": {
      "text/plain": [
       "array([[0.81103282]])"
      ]
     },
     "execution_count": 28,
     "metadata": {},
     "output_type": "execute_result"
    }
   ],
   "source": [
    "from sklearn.metrics.pairwise import cosine_distances\n",
    "cosine_distances(obama_tfidf, clinton_tfidf)\n",
    "#graphlab.distances.cosine(obama['tfidf'][0],clinton['tfidf'][0])"
   ]
  },
  {
   "cell_type": "code",
   "execution_count": 29,
   "metadata": {
    "id": "Zu4I0jZZNncF",
    "outputId": "f08c8a46-2b71-4499-83fa-727a203ccefa"
   },
   "outputs": [
    {
     "data": {
      "text/plain": [
       "array([[0.97443419]])"
      ]
     },
     "execution_count": 29,
     "metadata": {},
     "output_type": "execute_result"
    }
   ],
   "source": [
    "cosine_distances(obama_tfidf, beckham_tfidf)"
   ]
  },
  {
   "cell_type": "markdown",
   "metadata": {
    "id": "yoLpm2UPNncG"
   },
   "source": [
    "#Xây dựng mô hình nearest neighbor cho truy xuất dữ liệu\n",
    "\n",
    "Giờ chúng ta hãy tạo một mô hình nearest-neighbor và áp dụng nó để truy xuất dữ liệu.  "
   ]
  },
  {
   "cell_type": "code",
   "execution_count": 5,
   "metadata": {
    "id": "hML9I-lPNncG"
   },
   "outputs": [
    {
     "ename": "NameError",
     "evalue": "name 'people_tfidf' is not defined",
     "output_type": "error",
     "traceback": [
      "\u001b[1;31m---------------------------------------------------------------------------\u001b[0m",
      "\u001b[1;31mNameError\u001b[0m                                 Traceback (most recent call last)",
      "Cell \u001b[1;32mIn[5], line 3\u001b[0m\n\u001b[0;32m      1\u001b[0m \u001b[38;5;66;03m#knn_model = graphlab.nearest_neighbors.create(people,features=['tfidf'],label='name')\u001b[39;00m\n\u001b[0;32m      2\u001b[0m \u001b[38;5;28;01mfrom\u001b[39;00m \u001b[38;5;21;01msklearn\u001b[39;00m\u001b[38;5;21;01m.\u001b[39;00m\u001b[38;5;21;01mneighbors\u001b[39;00m \u001b[38;5;28;01mimport\u001b[39;00m NearestNeighbors\n\u001b[1;32m----> 3\u001b[0m knn_model \u001b[38;5;241m=\u001b[39m NearestNeighbors()\u001b[38;5;241m.\u001b[39mfit(\u001b[43mpeople_tfidf\u001b[49m)\n\u001b[0;32m      4\u001b[0m \u001b[38;5;28mprint\u001b[39m(\u001b[38;5;28mlen\u001b[39m(people_tfidf))\n",
      "\u001b[1;31mNameError\u001b[0m: name 'people_tfidf' is not defined"
     ]
    }
   ],
   "source": [
    "#knn_model = graphlab.nearest_neighbors.create(people,features=['tfidf'],label='name')\n",
    "from sklearn.neighbors import NearestNeighbors\n",
    "knn_model = NearestNeighbors().fit(people_tfidf)\n",
    "print(len(people_tfidf))"
   ]
  },
  {
   "cell_type": "code",
   "execution_count": 4,
   "metadata": {},
   "outputs": [
    {
     "ename": "NameError",
     "evalue": "name 'people_tfidf' is not defined",
     "output_type": "error",
     "traceback": [
      "\u001b[1;31m---------------------------------------------------------------------------\u001b[0m",
      "\u001b[1;31mNameError\u001b[0m                                 Traceback (most recent call last)",
      "Cell \u001b[1;32mIn[4], line 1\u001b[0m\n\u001b[1;32m----> 1\u001b[0m \u001b[38;5;28mprint\u001b[39m(\u001b[43mpeople_tfidf\u001b[49m)\n",
      "\u001b[1;31mNameError\u001b[0m: name 'people_tfidf' is not defined"
     ]
    }
   ],
   "source": [
    "print(people_tfidf)"
   ]
  },
  {
   "cell_type": "markdown",
   "metadata": {
    "id": "Xff8p25NNncG"
   },
   "source": [
    "#Áp dụng mô hình nearest-neighbor cho truy xuất "
   ]
  },
  {
   "cell_type": "markdown",
   "metadata": {
    "id": "mlt2y9IqNncG"
   },
   "source": [
    "##Ai tương tự nhất với Obama?"
   ]
  },
  {
   "cell_type": "code",
   "execution_count": 31,
   "metadata": {
    "id": "sYNpoZKVNncG",
    "outputId": "2206c609-134e-4229-809e-74ba73685750"
   },
   "outputs": [
    {
     "data": {
      "text/html": [
       "<div>\n",
       "<style scoped>\n",
       "    .dataframe tbody tr th:only-of-type {\n",
       "        vertical-align: middle;\n",
       "    }\n",
       "\n",
       "    .dataframe tbody tr th {\n",
       "        vertical-align: top;\n",
       "    }\n",
       "\n",
       "    .dataframe thead th {\n",
       "        text-align: right;\n",
       "    }\n",
       "</style>\n",
       "<table border=\"1\" class=\"dataframe\">\n",
       "  <thead>\n",
       "    <tr style=\"text-align: right;\">\n",
       "      <th></th>\n",
       "      <th>name</th>\n",
       "      <th>distance</th>\n",
       "      <th>index</th>\n",
       "    </tr>\n",
       "  </thead>\n",
       "  <tbody>\n",
       "    <tr>\n",
       "      <th>35817</th>\n",
       "      <td>Barack Obama</td>\n",
       "      <td>0.000000</td>\n",
       "      <td>35817</td>\n",
       "    </tr>\n",
       "    <tr>\n",
       "      <th>24478</th>\n",
       "      <td>Joe Biden</td>\n",
       "      <td>1.165145</td>\n",
       "      <td>24478</td>\n",
       "    </tr>\n",
       "    <tr>\n",
       "      <th>38376</th>\n",
       "      <td>Samantha Power</td>\n",
       "      <td>1.207369</td>\n",
       "      <td>38376</td>\n",
       "    </tr>\n",
       "    <tr>\n",
       "      <th>57108</th>\n",
       "      <td>Hillary Rodham Clinton</td>\n",
       "      <td>1.219640</td>\n",
       "      <td>57108</td>\n",
       "    </tr>\n",
       "    <tr>\n",
       "      <th>38714</th>\n",
       "      <td>Eric Stern (politician)</td>\n",
       "      <td>1.222509</td>\n",
       "      <td>38714</td>\n",
       "    </tr>\n",
       "  </tbody>\n",
       "</table>\n",
       "</div>"
      ],
      "text/plain": [
       "                          name  distance  index\n",
       "35817             Barack Obama  0.000000  35817\n",
       "24478                Joe Biden  1.165145  24478\n",
       "38376           Samantha Power  1.207369  38376\n",
       "57108   Hillary Rodham Clinton  1.219640  57108\n",
       "38714  Eric Stern (politician)  1.222509  38714"
      ]
     },
     "execution_count": 31,
     "metadata": {},
     "output_type": "execute_result"
    }
   ],
   "source": [
    "n_dist, n_ids = knn_model.kneighbors(obama_tfidf, return_distance=True)\n",
    "n_ids, n_dist = n_ids[0], n_dist[0]\n",
    "#print(n_dist, n_ids)\n",
    "n_names = people['name'].iloc[n_ids]\n",
    "neighbors = pandas.DataFrame({\"name\":n_names, \"distance\": n_dist, \"index\": n_ids}).sort_values(\"distance\", ascending=True)\n",
    "neighbors"
   ]
  },
  {
   "cell_type": "markdown",
   "metadata": {
    "id": "kjp04JByNncH"
   },
   "source": [
    "Chúng ta có thể thấy là bài viết về Tổng thống Obama tương tự nhất vớ bài viết về phó Tổng thống Biden và bài viết về các chính trị gia khác.  "
   ]
  },
  {
   "cell_type": "code",
   "execution_count": 35,
   "metadata": {
    "id": "pB3l5q2PNncH"
   },
   "outputs": [],
   "source": [
    "# Trích các hàng có tên cột là 'Taylor Swift' và tạo một vectơ TF-IDF cho swift\n",
    "# WRITE YOUR CODE HERE\n",
    "\n",
    "swift = people[people[\"name\"]=='Taylor Swift']\n",
    "switf_tfidf = tfidf_vectorizer.transform(swift['text'])[0]"
   ]
  },
  {
   "cell_type": "code",
   "execution_count": null,
   "metadata": {
    "id": "m8hdgAX_NncH",
    "outputId": "09b37c8f-ab56-41c8-913f-e59f0f89fe69"
   },
   "outputs": [
    {
     "data": {
      "text/html": [
       "<div>\n",
       "<style scoped>\n",
       "    .dataframe tbody tr th:only-of-type {\n",
       "        vertical-align: middle;\n",
       "    }\n",
       "\n",
       "    .dataframe tbody tr th {\n",
       "        vertical-align: top;\n",
       "    }\n",
       "\n",
       "    .dataframe thead th {\n",
       "        text-align: right;\n",
       "    }\n",
       "</style>\n",
       "<table border=\"1\" class=\"dataframe\">\n",
       "  <thead>\n",
       "    <tr style=\"text-align: right;\">\n",
       "      <th></th>\n",
       "      <th>distance</th>\n",
       "      <th>index</th>\n",
       "      <th>name</th>\n",
       "    </tr>\n",
       "  </thead>\n",
       "  <tbody>\n",
       "    <tr>\n",
       "      <th>54264</th>\n",
       "      <td>0.000000</td>\n",
       "      <td>54264</td>\n",
       "      <td>Taylor Swift</td>\n",
       "    </tr>\n",
       "    <tr>\n",
       "      <th>317</th>\n",
       "      <td>1.183004</td>\n",
       "      <td>317</td>\n",
       "      <td>Carrie Underwood</td>\n",
       "    </tr>\n",
       "    <tr>\n",
       "      <th>9379</th>\n",
       "      <td>1.187754</td>\n",
       "      <td>9379</td>\n",
       "      <td>Al Swift</td>\n",
       "    </tr>\n",
       "    <tr>\n",
       "      <th>25403</th>\n",
       "      <td>1.193938</td>\n",
       "      <td>25403</td>\n",
       "      <td>Ed Sheeran</td>\n",
       "    </tr>\n",
       "    <tr>\n",
       "      <th>19943</th>\n",
       "      <td>1.197285</td>\n",
       "      <td>19943</td>\n",
       "      <td>Tim McGraw</td>\n",
       "    </tr>\n",
       "  </tbody>\n",
       "</table>\n",
       "</div>"
      ],
      "text/plain": [
       "       distance  index              name\n",
       "54264  0.000000  54264      Taylor Swift\n",
       "317    1.183004    317  Carrie Underwood\n",
       "9379   1.187754   9379          Al Swift\n",
       "25403  1.193938  25403        Ed Sheeran\n",
       "19943  1.197285  19943        Tim McGraw"
      ]
     },
     "execution_count": 25,
     "metadata": {
      "tags": []
     },
     "output_type": "execute_result"
    }
   ],
   "source": [
    "n_dist, n_ids = knn_model.kneighbors(switf_tfidf, return_distance=True)\n",
    "n_ids, n_dist = n_ids[0], n_dist[0]\n",
    "#print(n_dist, n_ids)\n",
    "n_names = people['name'].iloc[n_ids]\n",
    "neighbors = pandas.DataFrame({\"name\":n_names, \"distance\": n_dist, \"index\": n_ids}).sort_values(\"distance\", ascending=True)\n",
    "neighbors"
   ]
  },
  {
   "cell_type": "code",
   "execution_count": 36,
   "metadata": {
    "id": "lrUlCcf5NncI"
   },
   "outputs": [],
   "source": [
    "# Trích các hàng có tên cột là 'Angelina Jolie' và tạo một vectơ TF-IDF cho jolie\n",
    "# WRITE YOUR CODE HERE\n",
    "\n",
    "jolie = people[people[\"name\"]=='Angelina Jolie']\n",
    "jolie_tfidf = tfidf_vectorizer.transform(jolie['text'])[0]"
   ]
  },
  {
   "cell_type": "code",
   "execution_count": 37,
   "metadata": {
    "id": "S1mn7mmuNncI",
    "outputId": "fb26df24-9cee-4644-d79e-45968974548e"
   },
   "outputs": [
    {
     "data": {
      "text/html": [
       "<div>\n",
       "<style scoped>\n",
       "    .dataframe tbody tr th:only-of-type {\n",
       "        vertical-align: middle;\n",
       "    }\n",
       "\n",
       "    .dataframe tbody tr th {\n",
       "        vertical-align: top;\n",
       "    }\n",
       "\n",
       "    .dataframe thead th {\n",
       "        text-align: right;\n",
       "    }\n",
       "</style>\n",
       "<table border=\"1\" class=\"dataframe\">\n",
       "  <thead>\n",
       "    <tr style=\"text-align: right;\">\n",
       "      <th></th>\n",
       "      <th>name</th>\n",
       "      <th>distance</th>\n",
       "      <th>index</th>\n",
       "    </tr>\n",
       "  </thead>\n",
       "  <tbody>\n",
       "    <tr>\n",
       "      <th>39521</th>\n",
       "      <td>Angelina Jolie</td>\n",
       "      <td>2.580957e-08</td>\n",
       "      <td>39521</td>\n",
       "    </tr>\n",
       "    <tr>\n",
       "      <th>24426</th>\n",
       "      <td>Brad Pitt</td>\n",
       "      <td>1.173973e+00</td>\n",
       "      <td>24426</td>\n",
       "    </tr>\n",
       "    <tr>\n",
       "      <th>16625</th>\n",
       "      <td>Keith Jolie</td>\n",
       "      <td>1.241878e+00</td>\n",
       "      <td>16625</td>\n",
       "    </tr>\n",
       "    <tr>\n",
       "      <th>21644</th>\n",
       "      <td>Jodie Foster</td>\n",
       "      <td>1.253190e+00</td>\n",
       "      <td>21644</td>\n",
       "    </tr>\n",
       "    <tr>\n",
       "      <th>34756</th>\n",
       "      <td>Maggie Smith</td>\n",
       "      <td>1.254573e+00</td>\n",
       "      <td>34756</td>\n",
       "    </tr>\n",
       "  </tbody>\n",
       "</table>\n",
       "</div>"
      ],
      "text/plain": [
       "                 name      distance  index\n",
       "39521  Angelina Jolie  2.580957e-08  39521\n",
       "24426       Brad Pitt  1.173973e+00  24426\n",
       "16625     Keith Jolie  1.241878e+00  16625\n",
       "21644    Jodie Foster  1.253190e+00  21644\n",
       "34756    Maggie Smith  1.254573e+00  34756"
      ]
     },
     "execution_count": 37,
     "metadata": {},
     "output_type": "execute_result"
    }
   ],
   "source": [
    "n_dist, n_ids = knn_model.kneighbors(jolie_tfidf, return_distance=True)\n",
    "n_ids, n_dist = n_ids[0], n_dist[0]\n",
    "#print(n_dist, n_ids)\n",
    "n_names = people['name'].iloc[n_ids]\n",
    "neighbors = pandas.DataFrame({\"name\":n_names, \"distance\": n_dist, \"index\": n_ids}).sort_values(\"distance\", ascending=True)\n",
    "neighbors"
   ]
  },
  {
   "cell_type": "code",
   "execution_count": 38,
   "metadata": {
    "id": "0vyC9mElNncI"
   },
   "outputs": [],
   "source": [
    "arnold = people[people['name'] == 'Arnold Schwarzenegger']\n",
    "arnold_tfidf = tfidf_vectorizer.transform(arnold['text'])[0]"
   ]
  },
  {
   "cell_type": "code",
   "execution_count": 39,
   "metadata": {
    "id": "Y70Z4ZIyNncI",
    "outputId": "78307ba9-4bc6-4f63-f239-c47a5f1b1752"
   },
   "outputs": [
    {
     "data": {
      "text/html": [
       "<div>\n",
       "<style scoped>\n",
       "    .dataframe tbody tr th:only-of-type {\n",
       "        vertical-align: middle;\n",
       "    }\n",
       "\n",
       "    .dataframe tbody tr th {\n",
       "        vertical-align: top;\n",
       "    }\n",
       "\n",
       "    .dataframe thead th {\n",
       "        text-align: right;\n",
       "    }\n",
       "</style>\n",
       "<table border=\"1\" class=\"dataframe\">\n",
       "  <thead>\n",
       "    <tr style=\"text-align: right;\">\n",
       "      <th></th>\n",
       "      <th>name</th>\n",
       "      <th>distance</th>\n",
       "      <th>index</th>\n",
       "    </tr>\n",
       "  </thead>\n",
       "  <tbody>\n",
       "    <tr>\n",
       "      <th>16018</th>\n",
       "      <td>Arnold Schwarzenegger</td>\n",
       "      <td>0.000000</td>\n",
       "      <td>16018</td>\n",
       "    </tr>\n",
       "    <tr>\n",
       "      <th>58965</th>\n",
       "      <td>Bonnie Garcia</td>\n",
       "      <td>1.259683</td>\n",
       "      <td>58965</td>\n",
       "    </tr>\n",
       "    <tr>\n",
       "      <th>35293</th>\n",
       "      <td>Paul Grant (bodybuilder)</td>\n",
       "      <td>1.263233</td>\n",
       "      <td>35293</td>\n",
       "    </tr>\n",
       "    <tr>\n",
       "      <th>47709</th>\n",
       "      <td>Gray Davis</td>\n",
       "      <td>1.283846</td>\n",
       "      <td>47709</td>\n",
       "    </tr>\n",
       "    <tr>\n",
       "      <th>8050</th>\n",
       "      <td>James Tramel</td>\n",
       "      <td>1.284463</td>\n",
       "      <td>8050</td>\n",
       "    </tr>\n",
       "  </tbody>\n",
       "</table>\n",
       "</div>"
      ],
      "text/plain": [
       "                           name  distance  index\n",
       "16018     Arnold Schwarzenegger  0.000000  16018\n",
       "58965             Bonnie Garcia  1.259683  58965\n",
       "35293  Paul Grant (bodybuilder)  1.263233  35293\n",
       "47709                Gray Davis  1.283846  47709\n",
       "8050               James Tramel  1.284463   8050"
      ]
     },
     "execution_count": 39,
     "metadata": {},
     "output_type": "execute_result"
    }
   ],
   "source": [
    "n_dist, n_ids = knn_model.kneighbors(arnold_tfidf, return_distance=True)\n",
    "n_ids, n_dist = n_ids[0], n_dist[0]\n",
    "#print(n_dist, n_ids)\n",
    "n_names = people['name'].iloc[n_ids]\n",
    "neighbors = pandas.DataFrame({\"name\":n_names, \"distance\": n_dist, \"index\": n_ids}).sort_values(\"distance\", ascending=True)\n",
    "neighbors"
   ]
  },
  {
   "cell_type": "code",
   "execution_count": null,
   "metadata": {
    "id": "qUVWjnx2NncJ"
   },
   "outputs": [],
   "source": []
  }
 ],
 "metadata": {
  "colab": {
   "collapsed_sections": [],
   "name": "[VN]Lab 12.2-Document retrieval.ipynb",
   "provenance": []
  },
  "kernelspec": {
   "display_name": "Python 3 (ipykernel)",
   "language": "python",
   "name": "python3"
  },
  "language_info": {
   "codemirror_mode": {
    "name": "ipython",
    "version": 3
   },
   "file_extension": ".py",
   "mimetype": "text/x-python",
   "name": "python",
   "nbconvert_exporter": "python",
   "pygments_lexer": "ipython3",
   "version": "3.9.5"
  }
 },
 "nbformat": 4,
 "nbformat_minor": 1
}
